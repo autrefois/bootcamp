{
 "cells": [
  {
   "cell_type": "code",
   "execution_count": 3,
   "metadata": {},
   "outputs": [],
   "source": [
    "a = 2"
   ]
  },
  {
   "cell_type": "code",
   "execution_count": 28,
   "metadata": {},
   "outputs": [],
   "source": [
    "if a == 1:\n",
    "    print(\"IF\") # identation\n",
    "else:\n",
    "    print(\"ELSE\")"
   ]
  },
  {
   "cell_type": "markdown",
   "metadata": {},
   "source": [
    "__Q: How can the above code be written in one line?__"
   ]
  },
  {
   "cell_type": "code",
   "execution_count": null,
   "metadata": {},
   "outputs": [],
   "source": []
  },
  {
   "cell_type": "code",
   "execution_count": null,
   "metadata": {},
   "outputs": [],
   "source": [
    "\"\"\"\n",
    "An if block can have:\n",
    "    - only 1 if clause\n",
    "    - 0 or more elifs clauses\n",
    "    - 0 or 1 else clause\n",
    "\"\"\"\n",
    "\n",
    "if a == 1:      # \n",
    "    print(\"IF\")\n",
    "elif a == 2:\n",
    "    print(\"ELIF\")\n",
    "else:\n",
    "    print(\"ELSE\")"
   ]
  },
  {
   "cell_type": "markdown",
   "metadata": {},
   "source": [
    "__Q: What is None in Python?__"
   ]
  },
  {
   "cell_type": "code",
   "execution_count": null,
   "metadata": {},
   "outputs": [],
   "source": [
    "if a is None:  # do not use == None\n",
    "    print(\"Var a is None\")\n",
    "    \n",
    "if a is not None:\n",
    "    print(\"Var a is not None\")"
   ]
  },
  {
   "cell_type": "markdown",
   "metadata": {},
   "source": [
    "__Q: What is the output of the below 2 cells? Why?__"
   ]
  },
  {
   "cell_type": "code",
   "execution_count": 18,
   "metadata": {},
   "outputs": [],
   "source": [
    "False == 0"
   ]
  },
  {
   "cell_type": "code",
   "execution_count": null,
   "metadata": {},
   "outputs": [],
   "source": [
    "a = 'a'\n",
    "if not a:\n",
    "    print(f\"a = {a}\")"
   ]
  },
  {
   "cell_type": "code",
   "execution_count": 24,
   "metadata": {},
   "outputs": [],
   "source": []
  },
  {
   "cell_type": "code",
   "execution_count": null,
   "metadata": {},
   "outputs": [],
   "source": [
    "idx = 0\n",
    "while idx < 3:\n",
    "    print(f\"idx in while: {idx}\")\n",
    "    idx += 1\n",
    "print(idx)"
   ]
  },
  {
   "cell_type": "code",
   "execution_count": null,
   "metadata": {},
   "outputs": [],
   "source": []
  },
  {
   "cell_type": "code",
   "execution_count": null,
   "metadata": {},
   "outputs": [],
   "source": [
    "my_list = [1, 2, 3]\n",
    "for el in my_list:\n",
    "    print(el)"
   ]
  },
  {
   "cell_type": "markdown",
   "metadata": {},
   "source": [
    "__Task: Rewrite the above WHILE loop using a FOR loop.__"
   ]
  },
  {
   "cell_type": "code",
   "execution_count": 30,
   "metadata": {},
   "outputs": [],
   "source": [
    "idx = 0\n",
    "for :\n",
    "    print(f\"idx in while: {idx}\")\n",
    "    idx += 1\n",
    "print(idx)"
   ]
  },
  {
   "cell_type": "markdown",
   "metadata": {},
   "source": [
    "__Q:What is the output of the below cell?__"
   ]
  },
  {
   "cell_type": "code",
   "execution_count": null,
   "metadata": {},
   "outputs": [],
   "source": [
    "for el in my_list:\n",
    "    if el == 2:\n",
    "        continue\n",
    "    print(el)\n",
    "print()\n",
    "for el in my_list:\n",
    "    if el == 2:\n",
    "        break\n",
    "    print(el)"
   ]
  },
  {
   "cell_type": "code",
   "execution_count": 44,
   "metadata": {},
   "outputs": [
    {
     "name": "stdout",
     "output_type": "stream",
     "text": [
      "1\n",
      "1\n"
     ]
    }
   ],
   "source": [
    "\"\"\"\n",
    "Both WHILE and FOR loops can have an else clause which is executed when the loop completes normally, i.e. break was executed\n",
    "\"\"\"\n",
    "my_list = [1, 1, 2, 3]\n",
    "# my_list = [1, 1, 3]\n",
    "for el in my_list:\n",
    "    if el == 2:\n",
    "        break\n",
    "    print(el)\n",
    "else:\n",
    "    print(\"ELSE\")"
   ]
  },
  {
   "cell_type": "markdown",
   "metadata": {},
   "source": [
    "__Task: Given the lists below, print the following output:<br>\n",
    "1,3<br>\n",
    "1,4<br>\n",
    "2,3<br>\n",
    "2,4__"
   ]
  },
  {
   "cell_type": "code",
   "execution_count": null,
   "metadata": {},
   "outputs": [],
   "source": [
    "l1 = [1,2]\n",
    "l2 = [3,4]\n"
   ]
  },
  {
   "cell_type": "markdown",
   "metadata": {},
   "source": [
    "__Task: Given the lists below, print the following output:<br>\n",
    "1,3<br>\n",
    "2,4__"
   ]
  },
  {
   "cell_type": "code",
   "execution_count": 38,
   "metadata": {},
   "outputs": [],
   "source": [
    "l1 = [1,2]\n",
    "l2 = [3,4]\n"
   ]
  },
  {
   "cell_type": "markdown",
   "metadata": {},
   "source": [
    "__Dictionary instead of if-else<br>\n",
    "Backwards compatible__"
   ]
  },
  {
   "cell_type": "code",
   "execution_count": 55,
   "metadata": {},
   "outputs": [
    {
     "name": "stdout",
     "output_type": "stream",
     "text": [
      "2\n",
      "2\n"
     ]
    }
   ],
   "source": [
    "country = 'Canada'\n",
    "\n",
    "if country == \"Russia\":\n",
    "    print(1)\n",
    "elif country == \"Canada\":\n",
    "    print(2)\n",
    "elif country == \"China\":\n",
    "    print(3)\n",
    "else:\n",
    "    print(\"Invalid country!\")\n",
    "\n",
    "# ---------------------------------------\n",
    "\n",
    "countries = {\n",
    "    \"Russia\": 1,\n",
    "    \"Canada\": 2,\n",
    "    \"China\": 3\n",
    "}\n",
    "\n",
    "print(countries[country])"
   ]
  },
  {
   "cell_type": "code",
   "execution_count": 73,
   "metadata": {},
   "outputs": [],
   "source": [
    "import module_1"
   ]
  },
  {
   "cell_type": "code",
   "execution_count": null,
   "metadata": {},
   "outputs": [],
   "source": []
  },
  {
   "cell_type": "code",
   "execution_count": null,
   "metadata": {},
   "outputs": [],
   "source": []
  },
  {
   "cell_type": "code",
   "execution_count": null,
   "metadata": {},
   "outputs": [],
   "source": []
  },
  {
   "cell_type": "code",
   "execution_count": null,
   "metadata": {},
   "outputs": [],
   "source": [
    "\"\"\"\n",
    "Ex1:\n",
    "Print odd numbers of the following list: [1,2,3,4,5] --> 1, 3, 5\n",
    "\n",
    "Ex2:\n",
    "Print string elems in reversed order: ['a', 'b', 2, 1, 'c'] --> 'c', 'b', 'a'\n",
    "\n",
    "Ex3:\n",
    "Print factorial of a given number.\n",
    " (4!) --> 24\n",
    " (0!) --> 1\n",
    " (1!) --> 1\n",
    "\n",
    "Ex4:\n",
    "Print the total number of digits in a number: 1111 --> 4\n",
    "\"\"\""
   ]
  },
  {
   "cell_type": "code",
   "execution_count": 57,
   "metadata": {},
   "outputs": [],
   "source": [
    "\"\"\"\n",
    "Ex5:\n",
    "Print the elements that satisfy the following criteria:\n",
    "a. number must be divisible by 9\n",
    "b. if it is equal to 81, do not print it, go to the next one \n",
    "c. if last element of the list is greater or equal to 100, end the loop\n",
    "c. if all elems are smaller that 100, print \"All good.\"\n",
    "\n",
    "Ex6:\n",
    "Print the following pattern:\n",
    "5 4 3 2 1 \n",
    "4 3 2 1 \n",
    "3 2 1 \n",
    "2 1 \n",
    "1\n",
    "\n",
    "Ex7:\n",
    "Given below input, write Python code to generate the below output:\n",
    "\n",
    "input = {\n",
    "        \"Prison\": \"NoName\",\n",
    "        \"Address\": \"Unknown\",\n",
    "        \"Inmates\": {\n",
    "            \"3242\": {\n",
    "                \"Name\": \"Chad\",\n",
    "                \"Age\": 29\n",
    "            },\n",
    "            \"435456\": {\n",
    "                \"Name\": \"Paul\",\n",
    "                \"Age\": 46\n",
    "            },\n",
    "            \"9865\": {\n",
    "                \"Name\": \"Jim\",\n",
    "                \"Age\": 43\n",
    "            }\n",
    "        }\n",
    "    }\n",
    "\n",
    "\n",
    "output = {\n",
    "        \"Prison\": \"NoName\",\n",
    "        \"Address\": \"Unknown\",\n",
    "        \"Inmates\": [\n",
    "            {\n",
    "                \"id\": \"3242\",\n",
    "                \"Name\": \"Chad\",\n",
    "                \"Age\": 29\n",
    "            },\n",
    "            {\n",
    "                \"id\": \"435456\",\n",
    "                \"Name\": \"Paul\",\n",
    "                \"Age\": 46\n",
    "            },\n",
    "            {\n",
    "                \"id\": \"9865\",\n",
    "                \"Name\": \"Jim\",\n",
    "                \"Age\": 43\n",
    "            }\n",
    "      ]\n",
    "}\n",
    "\"\"\""
   ]
  }
 ],
 "metadata": {
  "kernelspec": {
   "display_name": "Python 3",
   "language": "python",
   "name": "python3"
  },
  "language_info": {
   "codemirror_mode": {
    "name": "ipython",
    "version": 3
   },
   "file_extension": ".py",
   "mimetype": "text/x-python",
   "name": "python",
   "nbconvert_exporter": "python",
   "pygments_lexer": "ipython3",
   "version": "3.7.4"
  }
 },
 "nbformat": 4,
 "nbformat_minor": 4
}
