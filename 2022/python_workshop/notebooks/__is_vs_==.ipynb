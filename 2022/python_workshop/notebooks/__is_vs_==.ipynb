{
 "cells": [
  {
   "cell_type": "markdown",
   "metadata": {},
   "source": [
    "__IS__  and  __IS NOT__  are __identity operators__ which are used to compare objects based on __their memory address__. <br><br>\n",
    "__==__  and  __!=__      are __equality operators__ which are used to compare objects based on __their values__.<br><br>\n",
    "Therefore, *is* and *==* behave the same when both their values and addresses are equal.<br><br><br>\n",
    "\n",
    "We already know that some objects are mutable and others are immutable. Since lists are mutable, assigning a variable of type list to another variable it means that they point to the same address and have the same value. Let's see them in action :)  "
   ]
  },
  {
   "cell_type": "code",
   "execution_count": 1,
   "metadata": {},
   "outputs": [
    {
     "name": "stdout",
     "output_type": "stream",
     "text": [
      "list1:   location_in_memory = 2480267463304\n",
      "list2:   location_in_memory = 2480267463240\n",
      "\n",
      "list1:   value = [1]\n",
      "list2:   value = [2, 3]\n",
      "False\n"
     ]
    }
   ],
   "source": [
    "list1 = [1]\n",
    "list2 = [2,3]\n",
    "\n",
    "print(f\"list1:   location_in_memory = {id(list1)}\")\n",
    "print(f\"list2:   location_in_memory = {id(list2)}\")\n",
    "print()\n",
    "print(f\"list1:   value = {list1}\")\n",
    "print(f\"list2:   value = {list2}\")\n",
    "\n",
    "print(list1 is list2)"
   ]
  },
  {
   "cell_type": "code",
   "execution_count": 2,
   "metadata": {},
   "outputs": [
    {
     "name": "stdout",
     "output_type": "stream",
     "text": [
      "list3:   location_in_memory = 2480267469256\n",
      "list4:   location_in_memory = 2480267469256\n",
      "\n",
      "list3:   value = [1]\n",
      "list4:   value = [1]\n",
      "True\n"
     ]
    }
   ],
   "source": [
    "list3 = [1]\n",
    "list4 = list3\n",
    "\n",
    "print(f\"list3:   location_in_memory = {id(list3)}\")\n",
    "print(f\"list4:   location_in_memory = {id(list4)}\")\n",
    "print()\n",
    "print(f\"list3:   value = {list3}\")\n",
    "print(f\"list4:   value = {list4}\")\n",
    "\n",
    "print(list3 is list4)"
   ]
  },
  {
   "cell_type": "code",
   "execution_count": 3,
   "metadata": {},
   "outputs": [
    {
     "name": "stdout",
     "output_type": "stream",
     "text": [
      "list5:   location_in_memory = 2480267464392\n",
      "list6:   location_in_memory = 2480267469192\n",
      "\n",
      "list5:   value = [2, 3]\n",
      "list6:   value = [2, 3]\n",
      "False\n"
     ]
    }
   ],
   "source": [
    "list5 = [2,3]\n",
    "list6 = [2,3]\n",
    "\n",
    "print(f\"list5:   location_in_memory = {id(list5)}\")\n",
    "print(f\"list6:   location_in_memory = {id(list6)}\")\n",
    "print()\n",
    "print(f\"list5:   value = {list5}\")\n",
    "print(f\"list6:   value = {list6}\")\n",
    "\n",
    "print(list5 is list6)"
   ]
  },
  {
   "cell_type": "markdown",
   "metadata": {},
   "source": [
    "-----------------------------------------------------------------------------------------------------------------------\n",
    "__Now let's see the same use cases with int values which we know are immutable.__"
   ]
  },
  {
   "cell_type": "code",
   "execution_count": 4,
   "metadata": {},
   "outputs": [
    {
     "name": "stdout",
     "output_type": "stream",
     "text": [
      "a:   location_in_memory = 140704763650448\n",
      "b:   location_in_memory = 140704763650480\n",
      "\n",
      "a:   value = 1\n",
      "b:   value = 2\n",
      "False\n"
     ]
    }
   ],
   "source": [
    "a = 1\n",
    "b = 2\n",
    "\n",
    "print(f\"a:   location_in_memory = {id(a)}\")\n",
    "print(f\"b:   location_in_memory = {id(b)}\")\n",
    "print()\n",
    "print(f\"a:   value = {a}\")\n",
    "print(f\"b:   value = {b}\")\n",
    "\n",
    "print(a is b)"
   ]
  },
  {
   "cell_type": "code",
   "execution_count": 5,
   "metadata": {},
   "outputs": [
    {
     "name": "stdout",
     "output_type": "stream",
     "text": [
      "c:   location_in_memory = 140704763650448\n",
      "d:   location_in_memory = 140704763650448\n",
      "\n",
      "c:   value = 1\n",
      "d:   value = 1\n",
      "True\n"
     ]
    }
   ],
   "source": [
    "c = 1\n",
    "d = c\n",
    "\n",
    "print(f\"c:   location_in_memory = {id(c)}\")\n",
    "print(f\"d:   location_in_memory = {id(d)}\")\n",
    "print()\n",
    "print(f\"c:   value = {c}\")\n",
    "print(f\"d:   value = {d}\")\n",
    "\n",
    "print(c is d)"
   ]
  },
  {
   "cell_type": "code",
   "execution_count": 6,
   "metadata": {},
   "outputs": [
    {
     "name": "stdout",
     "output_type": "stream",
     "text": [
      "e:   location_in_memory = 140704763650448\n",
      "f:   location_in_memory = 140704763650448\n",
      "\n",
      "e:   value = 1\n",
      "f:   value = 1\n",
      "True\n"
     ]
    }
   ],
   "source": [
    "e = 1   # NOTE that when this line executes, Python stores value 1 in memory\n",
    "f = 1   # and when this line gets executed, Python does not create a new location, but increments the reference count \n",
    "#             (i.e. the number of variables with that value) of value 1 which was stored before\n",
    "\n",
    "print(f\"e:   location_in_memory = {id(e)}\")\n",
    "print(f\"f:   location_in_memory = {id(f)}\")\n",
    "print()\n",
    "print(f\"e:   value = {e}\")\n",
    "print(f\"f:   value = {f}\")\n",
    "\n",
    "print(e is f)"
   ]
  },
  {
   "cell_type": "markdown",
   "metadata": {},
   "source": [
    "----------------------------------------------------------------------------------------------------------------------\n",
    "__Now, the tricky thing comes in :D.__"
   ]
  },
  {
   "cell_type": "code",
   "execution_count": 7,
   "metadata": {},
   "outputs": [
    {
     "name": "stdout",
     "output_type": "stream",
     "text": [
      "False\n"
     ]
    }
   ],
   "source": [
    "aa = -10\n",
    "bb = -10\n",
    "\n",
    "print(aa is bb)"
   ]
  },
  {
   "cell_type": "markdown",
   "metadata": {},
   "source": [
    "__Ha?.. it doesn't make sense, right?__<br><br>\n",
    "\n",
    "The thing is:\n",
    "> The interpreter stores small numbers at fixed memory locations. \n",
    "> This means that the interpreter instantiates these values only once and looks for its memory address whenever it is used. \n",
    "> This is done because such values (small numbers) are quite frequently used. \n",
    "> Depending on your interpreter the range of such numbers might vary but it’s generally -5 to +256. Go ahead and try it on your own :)"
   ]
  },
  {
   "cell_type": "markdown",
   "metadata": {},
   "source": [
    "--------------------------------------------------------------------------------------------------------------------------\n",
    "__When should you use *is* operator?__ <br>\n",
    " - For example with singletons (values that are stored in memory only once), e.g. True, False, None <br><br>\n",
    "\n",
    "## __Conclusion:__\n",
    "*When you want to compare the values of 2 variables, use == or != operator. <br>\n",
    "Identity operators can be used to compare the addresses of 2 variables. In addition, they are to be used with True, False, None and a few other uses cases.*"
   ]
  },
  {
   "cell_type": "code",
   "execution_count": null,
   "metadata": {},
   "outputs": [],
   "source": []
  }
 ],
 "metadata": {
  "kernelspec": {
   "display_name": "Python 3",
   "language": "python",
   "name": "python3"
  },
  "language_info": {
   "codemirror_mode": {
    "name": "ipython",
    "version": 3
   },
   "file_extension": ".py",
   "mimetype": "text/x-python",
   "name": "python",
   "nbconvert_exporter": "python",
   "pygments_lexer": "ipython3",
   "version": "3.7.4"
  }
 },
 "nbformat": 4,
 "nbformat_minor": 2
}
