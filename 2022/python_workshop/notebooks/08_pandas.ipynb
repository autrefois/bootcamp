{
 "cells": [
  {
   "cell_type": "markdown",
   "metadata": {},
   "source": [
    "# Fun with Pandas\n",
    "\n",
    "We will use data from the [ergast API](https://ergast.com/mrd/) for the following examples.\n",
    "\n",
    "[Ergast Postman collection with documentation](https://documenter.getpostman.com/view/11586746/SztEa7bL)"
   ]
  },
  {
   "cell_type": "markdown",
   "metadata": {},
   "source": [
    "## What's a Dataframe again?\n",
    "A **DataFrame** is composed of one or more **Series**. \n",
    "The names of the **Series** form the column names, and the row labels form the **Index**.\n",
    "\n",
    "You may create a Dataframe in multiple ways, i.e.\n",
    "* data from a file - df.read_csv(...)\n",
    "* data from an API - df = pd.Dataframe(json_payload)\n",
    "* data from a db\n",
    "* ...\n",
    "\n"
   ]
  },
  {
   "cell_type": "code",
   "execution_count": null,
   "metadata": {},
   "outputs": [],
   "source": [
    "# first, install the requirements\n",
    "%pip install -r ../requirements.txt >> results/requirements_log.txt"
   ]
  },
  {
   "cell_type": "code",
   "execution_count": null,
   "metadata": {},
   "outputs": [],
   "source": [
    "# import the needed libraries\n",
    "import requests\n",
    "import pandas as pd\n",
    "import numpy as np"
   ]
  },
  {
   "cell_type": "code",
   "execution_count": null,
   "metadata": {},
   "outputs": [],
   "source": [
    "# analyse a sample\n",
    "\n",
    "url = 'https://ergast.com/api/f1/2022.json'\n",
    "r = requests.get(url)\n",
    "j = r.json()\n",
    "\n",
    "df = pd.DataFrame(j['MRData']['RaceTable']['Races'])\n",
    "\n",
    "df.head()\n"
   ]
  },
  {
   "cell_type": "code",
   "execution_count": null,
   "metadata": {},
   "outputs": [],
   "source": [
    "# pull the f1 2022 season races information from the ergast API\n",
    "\n",
    "f1_races_2022 = {\n",
    "    'season': [],\n",
    "    'round': [],\n",
    "    'circuit_id': [],\n",
    "    'raceName': [],\n",
    "    'url': [],\n",
    "    'LAT': [],\n",
    "    'LONG': [],\n",
    "    'locality': [],\n",
    "    'country': [],\n",
    "    'date': [],\n",
    "    'time': []\n",
    "}\n",
    "\n",
    "url = 'https://ergast.com/api/f1/2022.json'\n",
    "r = requests.get(url)\n",
    "print(r)\n",
    "j = r.json()\n",
    "\n",
    "for item in j['MRData']['RaceTable']['Races']:\n",
    "    try:\n",
    "        f1_races_2022['season'].append(int(item['season']))\n",
    "        f1_races_2022['round'].append(int(item['round']))\n",
    "        f1_races_2022['circuit_id'].append(item['Circuit']['circuitId'])\n",
    "        f1_races_2022['raceName'].append(item['raceName'])\n",
    "        f1_races_2022['url'].append(item['url'])\n",
    "        f1_races_2022['LAT'].append(float(item['Circuit']['Location']['lat']))\n",
    "        f1_races_2022['LONG'].append(float(item['Circuit']['Location']['long']))\n",
    "        f1_races_2022['locality'].append(item['Circuit']['Location']['locality'])\n",
    "        f1_races_2022['country'].append(item['Circuit']['Location']['country'])\n",
    "        f1_races_2022['date'].append(item['date'])\n",
    "        f1_races_2022['time'].append(item.get('time'))\n",
    "    except Exception as e:\n",
    "        print(f'Error adding item: {item}')\n",
    "        print(e)\n",
    "        raise\n",
    "\n",
    "f1_races_2022 = pd.DataFrame(f1_races_2022)\n",
    "f1_races_2022"
   ]
  },
  {
   "cell_type": "code",
   "execution_count": null,
   "metadata": {},
   "outputs": [],
   "source": [
    "# in order not to stress the API, use the backup file for the historical data\n",
    "f1_races = pd.read_csv('./resources/f1_races.csv', index_col=0)"
   ]
  },
  {
   "cell_type": "code",
   "execution_count": null,
   "metadata": {},
   "outputs": [],
   "source": [
    "f1_races.head()"
   ]
  },
  {
   "cell_type": "markdown",
   "metadata": {},
   "source": [
    "### Series"
   ]
  },
  {
   "cell_type": "code",
   "execution_count": null,
   "metadata": {},
   "outputs": [],
   "source": [
    "f1_races.circuit_id"
   ]
  },
  {
   "cell_type": "markdown",
   "metadata": {},
   "source": [
    "### Columns"
   ]
  },
  {
   "cell_type": "code",
   "execution_count": null,
   "metadata": {},
   "outputs": [],
   "source": [
    "f1_races.columns"
   ]
  },
  {
   "cell_type": "markdown",
   "metadata": {},
   "source": [
    "### Index"
   ]
  },
  {
   "cell_type": "code",
   "execution_count": null,
   "metadata": {},
   "outputs": [],
   "source": [
    "f1_races.index"
   ]
  },
  {
   "cell_type": "markdown",
   "metadata": {},
   "source": [
    "### Inspect the data"
   ]
  },
  {
   "cell_type": "code",
   "execution_count": null,
   "metadata": {},
   "outputs": [],
   "source": [
    "f1_races.shape"
   ]
  },
  {
   "cell_type": "markdown",
   "metadata": {},
   "source": [
    "### What are the column data types?"
   ]
  },
  {
   "cell_type": "code",
   "execution_count": null,
   "metadata": {},
   "outputs": [],
   "source": [
    "f1_races.dtypes"
   ]
  },
  {
   "cell_type": "markdown",
   "metadata": {},
   "source": [
    "### What does the data look like?"
   ]
  },
  {
   "cell_type": "code",
   "execution_count": null,
   "metadata": {},
   "outputs": [],
   "source": [
    "f1_races.head()"
   ]
  },
  {
   "cell_type": "code",
   "execution_count": null,
   "metadata": {},
   "outputs": [],
   "source": [
    "f1_races.tail()"
   ]
  },
  {
   "cell_type": "markdown",
   "metadata": {},
   "source": [
    "### Information on the Dataframe"
   ]
  },
  {
   "cell_type": "code",
   "execution_count": null,
   "metadata": {},
   "outputs": [],
   "source": [
    "f1_races.info()"
   ]
  },
  {
   "cell_type": "code",
   "execution_count": null,
   "metadata": {},
   "outputs": [],
   "source": [
    "f1_races[['season', 'date', 'country']].head()"
   ]
  },
  {
   "cell_type": "code",
   "execution_count": null,
   "metadata": {},
   "outputs": [],
   "source": [
    "f1_races[1068:1076]"
   ]
  },
  {
   "cell_type": "markdown",
   "metadata": {},
   "source": [
    "### Indexing\n",
    "Use `iloc[]` to select rows and columns by their positions:"
   ]
  },
  {
   "cell_type": "code",
   "execution_count": null,
   "metadata": {},
   "outputs": [],
   "source": [
    "f1_races.iloc[1068:1076, [0, 2, 5, 6]]"
   ]
  },
  {
   "cell_type": "markdown",
   "metadata": {},
   "source": [
    "Use `loc[]` to select by name:"
   ]
  },
  {
   "cell_type": "code",
   "execution_count": null,
   "metadata": {},
   "outputs": [],
   "source": [
    "f1_races.loc[1068:1076, 'season':'circuit_id']\n"
   ]
  },
  {
   "cell_type": "markdown",
   "metadata": {},
   "source": [
    "### Filtering\n",
    "A **Boolean mask** is a array-like structure of Boolean values – it's a way to specify which rows/columns we want to select (True) and which we don't (False)."
   ]
  },
  {
   "cell_type": "code",
   "execution_count": null,
   "metadata": {},
   "outputs": [],
   "source": [
    "f1_races[f1_races['season'] == 2022]"
   ]
  },
  {
   "cell_type": "code",
   "execution_count": null,
   "metadata": {},
   "outputs": [],
   "source": [
    "f1_races[(f1_races['season'] == 2022) & (f1_races['date'] < '2022-09-01')]"
   ]
  },
  {
   "cell_type": "markdown",
   "metadata": {},
   "source": [
    "We can also use query instead:"
   ]
  },
  {
   "cell_type": "code",
   "execution_count": null,
   "metadata": {},
   "outputs": [],
   "source": [
    "f1_races.query(\"`season` == 2022 and `date` < '2022-09-01'\")"
   ]
  },
  {
   "cell_type": "markdown",
   "metadata": {},
   "source": [
    "### Statistics"
   ]
  },
  {
   "cell_type": "code",
   "execution_count": null,
   "metadata": {},
   "outputs": [],
   "source": [
    "# how many races were held in each country throughout the years?\n",
    "f1_races.country.value_counts()"
   ]
  },
  {
   "cell_type": "code",
   "execution_count": null,
   "metadata": {},
   "outputs": [],
   "source": [
    "# how many circuits in each season?\n",
    "f1_races.season.value_counts()"
   ]
  },
  {
   "cell_type": "code",
   "execution_count": null,
   "metadata": {},
   "outputs": [],
   "source": [
    "# how many circuits between 1955 and 1975?"
   ]
  },
  {
   "cell_type": "markdown",
   "metadata": {},
   "source": [
    "### Continue with the race results"
   ]
  },
  {
   "cell_type": "code",
   "execution_count": null,
   "metadata": {},
   "outputs": [],
   "source": [
    "# analyse a sample\n",
    "url = 'https://ergast.com/api/f1/2022/12/results.json'\n",
    "r = requests.get(url)\n",
    "j = r.json()\n",
    "\n",
    "df = pd.DataFrame(j['MRData']['RaceTable']['Races'][0]['Results'])\n",
    "\n",
    "df.head()"
   ]
  },
  {
   "cell_type": "code",
   "execution_count": null,
   "metadata": {},
   "outputs": [],
   "source": [
    "# get the latest race's results\n",
    "\n",
    "f1_results_latest = {\n",
    "    'season': [],\n",
    "    'Round': [],\n",
    "    'date': [],\n",
    "    'circuit_id': [],\n",
    "    'driver': [],\n",
    "    'DATE_of_birth': [],\n",
    "    'nationality': [],\n",
    "    'constructor': [],\n",
    "    'GriD': [],\n",
    "    'tIME': [],\n",
    "    'Status': [],\n",
    "    'points': [],\n",
    "    'podium': []\n",
    "}\n",
    "\n",
    "url_latest = 'https://ergast.com/api/f1/current/last/results.json'\n",
    "r = requests.get(url_latest)\n",
    "print(r)\n",
    "j = r.json()\n",
    "\n",
    "try:\n",
    "    for item in j['MRData']['RaceTable']['Races'][0]['Results']:\n",
    "        try:\n",
    "            f1_results_latest['season'].append(int(j['MRData']['RaceTable']['Races'][0]['season']))\n",
    "            f1_results_latest['Round'].append(int(j['MRData']['RaceTable']['Races'][0]['round']))\n",
    "            f1_results_latest['date'].append(j['MRData']['RaceTable']['Races'][0]['date'])\n",
    "            f1_results_latest['circuit_id'].append(j['MRData']['RaceTable']['Races'][0]['Circuit']['circuitId'])\n",
    "            f1_results_latest['driver'].append(item['Driver']['driverId'])\n",
    "            f1_results_latest['DATE_of_birth'].append(item['Driver']['dateOfBirth'])\n",
    "            f1_results_latest['nationality'].append(item['Driver']['nationality'])\n",
    "            f1_results_latest['constructor'].append(item['Constructor']['constructorId'])\n",
    "            f1_results_latest['GriD'].append(int(item['grid']))\n",
    "            f1_results_latest['tIME'].append(int((item.get('Time') or {}).get('millis')) \n",
    "        if bool((item.get('Time') or {}).get('millis')) else None)\n",
    "            f1_results_latest['Status'].append(item['status'])\n",
    "            f1_results_latest['points'].append(item['points'])\n",
    "            f1_results_latest['podium'].append(int(item['position']))\n",
    "        except Exception as e:\n",
    "            print(f'Error adding item: {item}')\n",
    "            print(e)\n",
    "            raise\n",
    "except IndexError:\n",
    "    print(f'Race has not happened yet... ')\n",
    "\n",
    "\n",
    "f1_results_latest = pd.DataFrame(f1_results_latest)\n",
    "\n",
    "f1_results_latest.head()"
   ]
  },
  {
   "cell_type": "code",
   "execution_count": null,
   "metadata": {},
   "outputs": [],
   "source": [
    "# in order not to stress the API, use the backup file for the historical data\n",
    "\n",
    "f1_results = pd.read_csv('./resources/f1_results.csv', index_col=0)\n",
    "\n",
    "# the code that generated the backup files is available in the resouces section\n"
   ]
  },
  {
   "cell_type": "code",
   "execution_count": null,
   "metadata": {},
   "outputs": [],
   "source": [
    "f1_results.head()"
   ]
  },
  {
   "cell_type": "code",
   "execution_count": null,
   "metadata": {},
   "outputs": [],
   "source": [
    "# find the dimensions (number of rows, number of columns) in the data"
   ]
  },
  {
   "cell_type": "code",
   "execution_count": null,
   "metadata": {},
   "outputs": [],
   "source": [
    "# calculate summary statistics for nationality and points (median)"
   ]
  },
  {
   "cell_type": "code",
   "execution_count": null,
   "metadata": {},
   "outputs": [],
   "source": [
    "# isolate the date, race name, driver and constructor for the 1999 season"
   ]
  },
  {
   "cell_type": "code",
   "execution_count": null,
   "metadata": {},
   "outputs": [],
   "source": [
    "# how many wins for McLaren between 1975 and 1985?"
   ]
  },
  {
   "cell_type": "markdown",
   "metadata": {},
   "source": [
    "## Data cleaning\n",
    "\n",
    "We'll be looking at creating, renaming, and dropping columns, type conversion and sorting - which will make working with this data easier\n",
    "\n",
    "### Dropping columns\n",
    "Our dataset may contain information that is not of interest for our analysis."
   ]
  },
  {
   "cell_type": "code",
   "execution_count": null,
   "metadata": {},
   "outputs": [],
   "source": [
    "# from the f1_races df, let's remove the url column\n",
    "mask = f1_races.columns.str.contains('url$', regex=True)\n",
    "columns_to_drop = f1_races.columns[mask]\n",
    "columns_to_drop"
   ]
  },
  {
   "cell_type": "code",
   "execution_count": null,
   "metadata": {},
   "outputs": [],
   "source": [
    "f1_races = f1_races.drop(columns=columns_to_drop)\n",
    "f1_races.head()"
   ]
  },
  {
   "cell_type": "code",
   "execution_count": null,
   "metadata": {},
   "outputs": [],
   "source": [
    "# another way to do this is to select what we want to keep\n",
    "mask = f1_races.columns.str.contains('url$|round', regex=True)\n",
    "f1_races.loc[:,~mask]"
   ]
  },
  {
   "cell_type": "code",
   "execution_count": null,
   "metadata": {},
   "outputs": [],
   "source": [
    "# or simply\n",
    "f1_races.drop('time', axis=1, inplace=True)"
   ]
  },
  {
   "cell_type": "markdown",
   "metadata": {},
   "source": [
    "### Renaming columns\n",
    "Some of the columns have weird names. Let's fix that."
   ]
  },
  {
   "cell_type": "code",
   "execution_count": null,
   "metadata": {},
   "outputs": [],
   "source": [
    "f1_races.rename(\n",
    "    columns={\n",
    "        'raceName': 'race_name'\n",
    "    },\n",
    "    inplace=True # careful with this!\n",
    ")\n",
    "f1_races.columns"
   ]
  },
  {
   "cell_type": "markdown",
   "metadata": {},
   "source": [
    "### Type conversion\n",
    "Is there something weird about these columns?"
   ]
  },
  {
   "cell_type": "code",
   "execution_count": null,
   "metadata": {},
   "outputs": [],
   "source": [
    "f1_races.dtypes"
   ]
  },
  {
   "cell_type": "code",
   "execution_count": null,
   "metadata": {},
   "outputs": [],
   "source": [
    "# date should be stored as datetime!\n",
    "f1_races.loc[:, ['date']] = f1_races.loc[:, ['date']].apply(pd.to_datetime)\n",
    "f1_races.dtypes"
   ]
  },
  {
   "cell_type": "code",
   "execution_count": null,
   "metadata": {},
   "outputs": [],
   "source": [
    "# or\n",
    "f1_races.loc[:, ['date']].astype({'date': 'datetime64[ns]'}).dtypes"
   ]
  },
  {
   "cell_type": "markdown",
   "metadata": {},
   "source": [
    "### Creating new columns\n",
    "Let's create a 'race_month' column."
   ]
  },
  {
   "cell_type": "code",
   "execution_count": null,
   "metadata": {},
   "outputs": [],
   "source": [
    "f1_races = f1_races.assign(\n",
    "    race_month=lambda x: x.date.dt.month_name()\n",
    ")"
   ]
  },
  {
   "cell_type": "markdown",
   "metadata": {},
   "source": [
    "You can read more about Python lambda functions [here](https://realpython.com/python-lambda/)."
   ]
  },
  {
   "cell_type": "code",
   "execution_count": null,
   "metadata": {},
   "outputs": [],
   "source": [
    "f1_races.head()"
   ]
  },
  {
   "cell_type": "markdown",
   "metadata": {},
   "source": [
    "### Sorting"
   ]
  },
  {
   "cell_type": "code",
   "execution_count": null,
   "metadata": {},
   "outputs": [],
   "source": [
    "f1_races.sort_values(['race_name', 'date'], ascending=[False, True]).head()\n"
   ]
  },
  {
   "cell_type": "code",
   "execution_count": null,
   "metadata": {},
   "outputs": [],
   "source": [
    "f1_races.nlargest(3, 'date')"
   ]
  },
  {
   "cell_type": "code",
   "execution_count": null,
   "metadata": {},
   "outputs": [],
   "source": [
    "f1_races.nsmallest(3, 'date')\n"
   ]
  },
  {
   "cell_type": "markdown",
   "metadata": {},
   "source": [
    "## Working with the index\n",
    "We haven't really worked with the index because it's just been a row number; however, we can change the values we have in the index to access additional features of the pandas library.\n",
    "\n",
    "### Setting and sorting the index\n",
    "Currently, we have a RangeIndex, but we can switch to a DatetimeIndex by specifying a datetime column when calling set_index():"
   ]
  },
  {
   "cell_type": "code",
   "execution_count": null,
   "metadata": {},
   "outputs": [],
   "source": [
    "f1_races.set_index('date', inplace=True)\n",
    "f1_races.head(3)"
   ]
  },
  {
   "cell_type": "code",
   "execution_count": null,
   "metadata": {},
   "outputs": [],
   "source": [
    "f1_races.sort_index(inplace=True, ascending=False)\n",
    "f1_races.head()"
   ]
  },
  {
   "cell_type": "markdown",
   "metadata": {},
   "source": [
    "`f1_races.sort_index(axis=1)` will sort the columns by name. \n",
    "\n",
    "The axis parameter is present throughout the pandas library: axis=0 targets rows and axis=1 targets columns."
   ]
  },
  {
   "cell_type": "code",
   "execution_count": null,
   "metadata": {},
   "outputs": [],
   "source": [
    "f1_races['2022-10-23':'2022-11-20']\n"
   ]
  },
  {
   "cell_type": "code",
   "execution_count": null,
   "metadata": {},
   "outputs": [],
   "source": [
    "# when not specifying a range\n",
    "f1_races.loc['2022-10-30']"
   ]
  },
  {
   "cell_type": "code",
   "execution_count": null,
   "metadata": {},
   "outputs": [],
   "source": [
    "f1_races.sort_index(inplace=True, ascending=True)\n",
    "f1_races.head()"
   ]
  },
  {
   "cell_type": "markdown",
   "metadata": {},
   "source": [
    "### Resetting the index\n"
   ]
  },
  {
   "cell_type": "code",
   "execution_count": null,
   "metadata": {},
   "outputs": [],
   "source": [
    "f1_races.reset_index(inplace=True)\n",
    "f1_races.head()"
   ]
  },
  {
   "cell_type": "markdown",
   "metadata": {},
   "source": [
    "### Reshaping the data\n"
   ]
  },
  {
   "cell_type": "code",
   "execution_count": null,
   "metadata": {},
   "outputs": [],
   "source": [
    "# lowercase all column names so the dataset is easier to work with\n",
    "f1_races = f1_races.rename(columns=lambda x: x.lower())\n",
    "f1_races.head()"
   ]
  },
  {
   "cell_type": "markdown",
   "metadata": {},
   "source": [
    "## Data visualisation"
   ]
  },
  {
   "cell_type": "markdown",
   "metadata": {},
   "source": [
    "## Plotting with pandas\n",
    "\n",
    "To embed SVG-format plots in the notebook, we will also call the %config and %matplotlib `inline` magics:"
   ]
  },
  {
   "cell_type": "code",
   "execution_count": null,
   "metadata": {
    "vscode": {
     "languageId": "xml"
    }
   },
   "outputs": [],
   "source": [
    "%config InlineBackend.figure_formats = ['svg']"
   ]
  },
  {
   "cell_type": "markdown",
   "metadata": {},
   "source": [
    "You can read more about magics [here](https://ipython.readthedocs.io/en/stable/interactive/magics.html)."
   ]
  },
  {
   "cell_type": "code",
   "execution_count": null,
   "metadata": {},
   "outputs": [],
   "source": [
    "# the plot() method will generate line plots for all numeric columns by default\n",
    "f1_races.plot(title='not very helpful', ylabel='year', alpha=1)"
   ]
  },
  {
   "cell_type": "markdown",
   "metadata": {},
   "source": [
    "The `plot()` method returns an Axes object that can be modified further (e.g., to add reference lines, annotations, labels, etc.). Let's walk through an example."
   ]
  },
  {
   "cell_type": "code",
   "execution_count": null,
   "metadata": {},
   "outputs": [],
   "source": [
    "f1_races.head()"
   ]
  },
  {
   "cell_type": "code",
   "execution_count": null,
   "metadata": {},
   "outputs": [],
   "source": [
    "f1_races.tail(104)"
   ]
  },
  {
   "cell_type": "code",
   "execution_count": null,
   "metadata": {},
   "outputs": [],
   "source": [
    "# bar plots would be more useful for this dataset\n",
    "f1_races.set_index('date', inplace=True)\n",
    "plot_data = f1_races['2018-03-25':'2022-11-20']\\\n",
    "    .assign(race_month_order=lambda x: x.index.month)\\\n",
    "    .pivot_table(index='race_month_order', columns='season', values='round', aggfunc='count')\n",
    "\n",
    "f1_races.reset_index(inplace=True)\n",
    "plot_data.head(10)\n",
    "# plot_data.info()\n"
   ]
  },
  {
   "cell_type": "code",
   "execution_count": null,
   "metadata": {},
   "outputs": [],
   "source": [
    "ax = plot_data.plot(\n",
    "    kind='bar', rot=0, xlabel='', ylabel='rounds',\n",
    "    figsize=(8, 1.5), title='f1_races per month'\n",
    ")\n",
    "\n",
    "# customize the legend\n",
    "ax.legend(title='', loc='center', bbox_to_anchor=(-0.2, 0.5), ncol=1)"
   ]
  },
  {
   "cell_type": "markdown",
   "metadata": {},
   "source": [
    "# Let's find out some stuff\n",
    "Using the `f1_results` dataset."
   ]
  },
  {
   "cell_type": "code",
   "execution_count": null,
   "metadata": {},
   "outputs": [],
   "source": [
    "# first, clean up the data in the f1_results dataframe\n",
    "\n",
    "# lowercase all the columns so that they are easier to use"
   ]
  },
  {
   "cell_type": "code",
   "execution_count": null,
   "metadata": {},
   "outputs": [],
   "source": [
    "# what columns are in this dataset?"
   ]
  },
  {
   "cell_type": "code",
   "execution_count": null,
   "metadata": {},
   "outputs": [],
   "source": [
    "# how many distinct drivers are in the dataset?"
   ]
  },
  {
   "cell_type": "code",
   "execution_count": null,
   "metadata": {},
   "outputs": [],
   "source": [
    "# which of those drivers are Austrian?"
   ]
  },
  {
   "cell_type": "code",
   "execution_count": null,
   "metadata": {},
   "outputs": [],
   "source": [
    "# what are the results from the latest race?\n",
    "\n",
    "# hint: you may use the date column; convert it to datetime first!\n"
   ]
  },
  {
   "cell_type": "code",
   "execution_count": null,
   "metadata": {},
   "outputs": [],
   "source": [
    "# who won the race? how many races has this pilot won this year?\n",
    "\n",
    "# hints:\n",
    "# get the winner by filterinf f1_results on 'date' and 'podium';\n",
    "# then use iloc[i][j] to access the first (and only) row (i) of the dataframe and the 'driver' column (j)\n",
    "# winner = f1_results[ ... filters ... ].iloc[i][j]\n",
    "\n",
    "\n",
    "# use this ^ to filter f1_results on season, podium and driver\n",
    "# and then count\n"
   ]
  },
  {
   "cell_type": "code",
   "execution_count": null,
   "metadata": {},
   "outputs": [],
   "source": [
    "# on which circuit did Lewis Hamilton have the most wins?"
   ]
  },
  {
   "cell_type": "markdown",
   "metadata": {},
   "source": [
    "# Formula 1 Driver Career Analysis\n",
    "Let't analyse the career of one of the most succesful F1 drivers of all time.\n",
    "\n",
    "Pick a driver from the list in [this article](https://www.redbull.com/ca-en/best-f1-drivers-of-all-time) and analyse their career below.\n",
    "\n",
    "Or you can pick your favourite driver instead =)"
   ]
  },
  {
   "cell_type": "code",
   "execution_count": null,
   "metadata": {},
   "outputs": [],
   "source": [
    "# look for your driver's id in the list\n",
    "f1_results['driver'].unique()"
   ]
  },
  {
   "cell_type": "code",
   "execution_count": null,
   "metadata": {},
   "outputs": [],
   "source": [
    "# which driver have you chosen?\n",
    "driver = '...'\n",
    "\n",
    "# what nationality is this driver?\n",
    "nationality = ...\n",
    "print(f\"{driver}'s nationality is {nationality}\")\n"
   ]
  },
  {
   "cell_type": "code",
   "execution_count": null,
   "metadata": {},
   "outputs": [],
   "source": [
    "# when was his first race and for which constructor?\n",
    "races = ...\n",
    "first_race_date = ...\n",
    "first_race_constructor = ...\n",
    "print(f\"{driver}'s first race was on {first_race_date} with {first_race_constructor}\")"
   ]
  },
  {
   "cell_type": "code",
   "execution_count": null,
   "metadata": {},
   "outputs": [],
   "source": [
    "# when was his first podium + with which constructor?\n",
    "# keep in mind the driver may have been on the podium 0 times\n",
    "podiums = ...\n",
    "first_podium_date = ...\n",
    "first_podium_constructor = ...\n",
    "print(f\"{driver}'s first podium was on {first_podium_date} with {first_podium_constructor}\")"
   ]
  },
  {
   "cell_type": "code",
   "execution_count": null,
   "metadata": {},
   "outputs": [],
   "source": [
    "# what about his first win + with which constructor + which circuit?\n",
    "# keep in mind the driver may have won 0 races\n",
    "first_win = ...\n",
    "first_win_date = ...\n",
    "first_win_constructor = ...\n",
    "first_win_circuit = ...\n",
    "print(f\"{driver}'s first win was on {first_win_date} with {first_win_constructor} at {first_win_circuit}\")"
   ]
  },
  {
   "cell_type": "code",
   "execution_count": null,
   "metadata": {},
   "outputs": [],
   "source": [
    "# how many race starts?\n",
    "# hint: check the Status is NOT one of Did not qualify, Did not prequalify, Not classified\n",
    "race_starts = ...\n",
    "print(f\"{driver} has {race_starts} race starts\")"
   ]
  },
  {
   "cell_type": "code",
   "execution_count": null,
   "metadata": {},
   "outputs": [],
   "source": [
    "# how many of those races did he actually finished?\n",
    "# hint: look for Status Finished; for this exercise, we'll not consider other statuses as successful\n",
    "races_finished = ...\n",
    "print(f\"{driver} has finished {races_finished} races\")"
   ]
  },
  {
   "cell_type": "code",
   "execution_count": null,
   "metadata": {},
   "outputs": [],
   "source": [
    "# how many has he won?\n",
    "races_won = ...\n",
    "print(f\"{driver} has won {races_won} races\")"
   ]
  },
  {
   "cell_type": "code",
   "execution_count": null,
   "metadata": {},
   "outputs": [],
   "source": [
    "# create a dataframe that contains the follwing information:\n",
    "#\n",
    "# driver\n",
    "# nationality\n",
    "# season\n",
    "# circuit_id\n",
    "# race_started (Boolean)\n",
    "# race_finished (Boolean)\n",
    "# race_won (Boolean)\n",
    "# constructor\n",
    "\n",
    "f1_career = ...\n",
    "\n",
    "f1_career.head()"
   ]
  },
  {
   "cell_type": "markdown",
   "metadata": {},
   "source": [
    "## Plotting the results"
   ]
  },
  {
   "cell_type": "code",
   "execution_count": null,
   "metadata": {},
   "outputs": [],
   "source": [
    "# plot the race results per season\n",
    "\n",
    "# prep the data\n",
    "f1_career['race_started'] = f1_career['race_started'].astype(int)\n",
    "f1_career['race_finished'] = f1_career['race_finished'].astype(int)\n",
    "f1_career['race_won'] = f1_career['race_won'].astype(int)\n",
    "\n",
    "plot_data_wins = f1_career.pivot_table(index=\"season\", columns=\"driver\", values=\"race_won\", aggfunc=\"sum\")\n",
    "plot_data_start = f1_career.pivot_table(index=\"season\", columns=\"driver\", values=\"race_started\", aggfunc=\"sum\")\n"
   ]
  },
  {
   "cell_type": "code",
   "execution_count": null,
   "metadata": {},
   "outputs": [],
   "source": [
    "plot_data_wins.plot(title=f\"{driver}'s F1 Wins\", ylabel=\"races\")"
   ]
  },
  {
   "cell_type": "code",
   "execution_count": null,
   "metadata": {},
   "outputs": [],
   "source": [
    "plot_data_start.plot(title=f\"{driver}'s F1 Race Starts\", ylabel=\"races\")"
   ]
  },
  {
   "cell_type": "markdown",
   "metadata": {},
   "source": [
    "### Combine the plots"
   ]
  },
  {
   "cell_type": "code",
   "execution_count": null,
   "metadata": {},
   "outputs": [],
   "source": [
    "from functools import reduce\n",
    "\n",
    "plot_data = reduce(lambda  left,right: pd.merge(left,right,on=[\"season\"], how='inner'), [plot_data_start, plot_data_wins])\n",
    "plot_data.rename(\n",
    "    columns={\n",
    "        f\"{driver}_x\": \"starts\",\n",
    "        f\"{driver}_y\": \"wins\"\n",
    "    }, inplace=True)\n",
    "plot_data.head()"
   ]
  },
  {
   "cell_type": "code",
   "execution_count": null,
   "metadata": {},
   "outputs": [],
   "source": [
    "plot_data.plot(title=f\"{driver}'s F1 Career\", ylabel=\"races\")"
   ]
  },
  {
   "cell_type": "markdown",
   "metadata": {},
   "source": [
    "### Export the results"
   ]
  },
  {
   "cell_type": "code",
   "execution_count": null,
   "metadata": {},
   "outputs": [],
   "source": [
    "# explore more possibilities to store the results, e.g. to_sql()\n",
    "f1_career.to_csv(f\"./results/f1_career_{driver}.csv\", index=False)"
   ]
  },
  {
   "cell_type": "markdown",
   "metadata": {},
   "source": [
    "# Further reading\n",
    "* [Loading a Dataframe from a SQL database](https://pythonspeed.com/articles/pandas-sql-chunking/)\n",
    "* [Connecting to Redshift from Python](https://docs.aws.amazon.com/redshift/latest/mgmt/python-connect-examples.html)\n",
    "* [Pandas I/O](https://pandas.pydata.org/docs/reference/io.html)"
   ]
  }
 ],
 "metadata": {
  "kernelspec": {
   "display_name": "Python 3.10.5 64-bit",
   "language": "python",
   "name": "python3"
  },
  "language_info": {
   "codemirror_mode": {
    "name": "ipython",
    "version": 3
   },
   "file_extension": ".py",
   "mimetype": "text/x-python",
   "name": "python",
   "nbconvert_exporter": "python",
   "pygments_lexer": "ipython3",
   "version": "3.10.5"
  },
  "orig_nbformat": 4,
  "vscode": {
   "interpreter": {
    "hash": "aee8b7b246df8f9039afb4144a1f6fd8d2ca17a180786b69acc140d282b71a49"
   }
  }
 },
 "nbformat": 4,
 "nbformat_minor": 2
}
