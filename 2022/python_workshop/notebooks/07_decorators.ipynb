{
 "cells": [
  {
   "cell_type": "markdown",
   "metadata": {},
   "source": [
    "# Decorators\n",
    "\n",
    "By the end of this session, you will know what decorators are, how to create and use them.\n",
    "\n",
    "## So what is a decorator anyway?\n",
    "By definition, a decorator takes another function and *extends* its behaviour without explicitly modifying it.\n",
    "\n",
    "Although this may sounds confusing at first, it's really not - it will all make sense once you see some examples of how decorators work.\n",
    "\n",
    "## Functions\n",
    "**Recall**: a function returns a value based in the given parameters. \n",
    "\n",
    "Functions may also have side effects other than turning an input into an output. For example, the print() function returns None, while having the side effect of printing something to the console. \n",
    "\n",
    "In order to understand decorators, it's enough to think of functions as something that return a value.\n",
    "\n",
    "## First Class objects\n",
    "In Python, functions are first-class objects, meaning they can be passed as parameters. just like any other objects."
   ]
  },
  {
   "cell_type": "code",
   "execution_count": 2,
   "metadata": {},
   "outputs": [],
   "source": [
    "import random\n",
    "\n",
    "def greeter(name):\n",
    "    possible_greetings = (\"Hello\", \"Yo\", \"Whazzaaa\", \"'Sup\", \"Servus\", \"Cf\", \"Bună ziua\", \"Hello darkness\")\n",
    "    print(\"{}, {}\".format(random.choice(possible_greetings), name))\n",
    "\n",
    "def say_hello_to_my_little_friend(greeter_function):\n",
    "    return(greeter_function(\"my old friend\"))"
   ]
  },
  {
   "cell_type": "markdown",
   "metadata": {},
   "source": [
    "In the example above, the `greeter()` function is a regular function, that expects one argument.\n",
    "\n",
    "The `say_hello_to_my_little_friend()` function expects a function as an argument.\n",
    "\n",
    "Let's try passing the `greeter()` function as a parameter. What do you think will happen?"
   ]
  },
  {
   "cell_type": "code",
   "execution_count": 9,
   "metadata": {},
   "outputs": [
    {
     "name": "stdout",
     "output_type": "stream",
     "text": [
      "'Sup, my old friend\n"
     ]
    }
   ],
   "source": [
    "say_hello_to_my_little_friend(greeter)"
   ]
  },
  {
   "cell_type": "markdown",
   "metadata": {},
   "source": [
    "Note that `say_hello_to_my_little_friend(greeter)` refers to two functions, but in different ways:\n",
    "- `greeter` is named without parantheses, meaning that only a *reference* to the function is passed; the function is not executed\n",
    "- `say_hello_to_my_little_friend()` is written with parantheses, so it will be called as usual"
   ]
  },
  {
   "cell_type": "markdown",
   "metadata": {},
   "source": [
    "## Inner functions\n",
    "It is possible to define functions *inside other functions*."
   ]
  },
  {
   "cell_type": "code",
   "execution_count": 11,
   "metadata": {},
   "outputs": [
    {
     "name": "stdout",
     "output_type": "stream",
     "text": [
      "Verse: If I was an astronaut, I'd be floating in mid-air\n",
      "Verse: And a broken heart would just belong\n",
      "Bridge: Gravity keeps pulling me down\n",
      "Bridge: As long as you're on the ground, I'll stick around\n",
      "Chorus: I'm up in space, man\n",
      "Chorus: Up in space, man\n",
      "Outro: I've searched around the universe\n",
      "Outro: Been down some black holes\n"
     ]
    }
   ],
   "source": [
    "def song():\n",
    "    print(\"Verse: If I was an astronaut, I'd be floating in mid-air\")\n",
    "    print(\"Verse: And a broken heart would just belong\")\n",
    "\n",
    "    def chorus():\n",
    "        print(\"Chorus: I'm up in space, man\")\n",
    "        print(\"Chorus: Up in space, man\")\n",
    "\n",
    "    def bridge():\n",
    "        print(\"Bridge: Gravity keeps pulling me down\")\n",
    "        print(\"Bridge: As long as you're on the ground, I'll stick around\")\n",
    "\n",
    "    def outro():\n",
    "        print(\"Outro: I've searched around the universe\")\n",
    "        print(\"Outro: Been down some black holes\")\n",
    "\n",
    "    bridge()\n",
    "    chorus()\n",
    "    outro()\n",
    "song () \n",
    "# what happens when you call the song() function?\n",
    "# does the order in which the inner functions are defined matter?"
   ]
  },
  {
   "cell_type": "markdown",
   "metadata": {},
   "source": [
    "The inner functions do not exist until the parent function is called; they only exist in the scope of the parent function, as local variables.\n",
    "\n",
    "## Returning functions from functions\n",
    "Python allows you to use functions as return values. "
   ]
  },
  {
   "cell_type": "code",
   "execution_count": 19,
   "metadata": {},
   "outputs": [
    {
     "data": {
      "text/plain": [
       "<function __main__.song.<locals>.chorus()>"
      ]
     },
     "execution_count": 19,
     "metadata": {},
     "output_type": "execute_result"
    }
   ],
   "source": [
    "def song(part):\n",
    "\n",
    "    def chorus():\n",
    "        print(\"Chorus: I'm up in space, man\")\n",
    "        print(\"Chorus: Up in space, man\")\n",
    "\n",
    "    def bridge():\n",
    "        print(\"Bridge: Gravity keeps pulling me down\")\n",
    "        print(\"Bridge: As long as you're on the ground, I'll stick around\")\n",
    "\n",
    "    def outro():\n",
    "        print(\"Outro: I've searched around the universe\")\n",
    "        print(\"Outro: Been down some black holes\")\n",
    "\n",
    "    if part == \"bridge\":\n",
    "        return bridge\n",
    "    elif part == \"chorus\":\n",
    "        return chorus\n",
    "    elif part == \"outro\":\n",
    "        return outro\n",
    "    else:\n",
    "        return None\n",
    "song(\"chorus\")"
   ]
  },
  {
   "cell_type": "markdown",
   "metadata": {},
   "source": [
    "Note that the functions are returned without parantheses, meaning you are returning **a reference to the function**."
   ]
  },
  {
   "cell_type": "code",
   "execution_count": 22,
   "metadata": {},
   "outputs": [
    {
     "name": "stdout",
     "output_type": "stream",
     "text": [
      "<class 'function'>\n",
      "Bridge: Gravity keeps pulling me down\n",
      "Bridge: As long as you're on the ground, I'll stick around\n"
     ]
    }
   ],
   "source": [
    "bridge = song(\"bridge\")\n",
    "\n",
    "print(type(bridge))\n",
    "\n",
    "# as a reference to the inner function was passed, the bridge() function may be used outside of the song() function\n",
    "bridge()"
   ]
  },
  {
   "cell_type": "code",
   "execution_count": 23,
   "metadata": {},
   "outputs": [],
   "source": [
    "# destroy the song() function\n",
    "del song"
   ]
  },
  {
   "cell_type": "code",
   "execution_count": 25,
   "metadata": {},
   "outputs": [
    {
     "name": "stdout",
     "output_type": "stream",
     "text": [
      "Bridge: Gravity keeps pulling me down\n",
      "Bridge: As long as you're on the ground, I'll stick around\n",
      "<function song.<locals>.bridge at 0x0000015CFE046A60>\n"
     ]
    }
   ],
   "source": [
    "# does the bridge() function still work?\n",
    "bridge()"
   ]
  },
  {
   "cell_type": "markdown",
   "metadata": {},
   "source": [
    "## Simple decorators\n",
    "\n",
    "You have now seen that functions are just like any other object in Python.\n",
    "\n",
    "You are now ready to step into the magical realm of **PYTHON DECORATORS**.\n",
    "\n",
    "Let's start with a simple example to illustrate the typical decorator behaviour."
   ]
  },
  {
   "cell_type": "code",
   "execution_count": 32,
   "metadata": {},
   "outputs": [],
   "source": [
    "def anon_greeter():\n",
    "    possible_greetings = (\"Hello.\", \"Yo.\", \"Whazzaaa.\", \"'Sup.\", \"Servus.\", \"Cf.\", \"Bună ziua.\", \"Good day.\")\n",
    "    print(random.choice(possible_greetings))\n",
    "\n",
    "def greeter_decorator(func):\n",
    "    def wrapper():\n",
    "        print(\"Something happening before the greeting.\")\n",
    "        func()\n",
    "        print(\"Something happening after the greeting.\")\n",
    "    return wrapper\n",
    "\n",
    "\n",
    "decorated_greeter = greeter_decorator(anon_greeter)"
   ]
  },
  {
   "cell_type": "markdown",
   "metadata": {},
   "source": [
    "You may name the inner `wrapper()` function whatever you like, it is just an ordinary inner function.\n",
    "\n",
    "What do you think will happen whe you call the `decorated_greeter()` function?\n",
    "\n",
    "Let's try it out!"
   ]
  },
  {
   "cell_type": "code",
   "execution_count": 30,
   "metadata": {},
   "outputs": [
    {
     "name": "stdout",
     "output_type": "stream",
     "text": [
      "Something happening before the greeting.\n",
      "Yo.\n",
      "Something happening after the greeting.\n"
     ]
    }
   ],
   "source": [
    "decorated_greeter()"
   ]
  },
  {
   "cell_type": "markdown",
   "metadata": {},
   "source": [
    "What happened?!\n",
    "\n",
    "In a nutshell, **decorators wrap a function, modifying its behaviour**.\n",
    "\n",
    "`wrapper()` is a regular function, therefore the way a decorator modifies a function can change dynamically.\n",
    "\n",
    "Let's add a little complexity to the decorator - giving the greeter a lunch break;"
   ]
  },
  {
   "cell_type": "code",
   "execution_count": 37,
   "metadata": {},
   "outputs": [
    {
     "name": "stdout",
     "output_type": "stream",
     "text": [
      "Something happening before the greeting.\n",
      "on lunch break, bye\n",
      "Something happening after the greeting.\n"
     ]
    }
   ],
   "source": [
    "from datetime import datetime\n",
    "\n",
    "def greeter_decorator(func):\n",
    "    def wrapper():\n",
    "        print(\"Something happening before the greeting.\")\n",
    "        if datetime.now().hour == 12:\n",
    "            print(\"on lunch break, bye\")\n",
    "        else:\n",
    "            func()\n",
    "        print(\"Something happening after the greeting.\")\n",
    "    return wrapper\n",
    "\n",
    "decorated_greeter = greeter_decorator(anon_greeter)\n",
    "decorated_greeter()"
   ]
  },
  {
   "cell_type": "markdown",
   "metadata": {},
   "source": [
    "## Syntactic Sugar\n",
    "The way you decorated the greeter above is not the most aestetically pleasing, is it?\n",
    "\n",
    "```\n",
    "decorated_greeter = greeter_decorator(anon_greeter)\n",
    "decorated_greeter()\n",
    "```\n",
    "Could you **be** writing \"greeter\" more times?! So chunky.\n",
    "\n",
    "Luckily, there is a more aestethic way of decorating your functions: using **the @ symbol**, sometimes called the \"pie\" syntax."
   ]
  },
  {
   "cell_type": "code",
   "execution_count": 38,
   "metadata": {},
   "outputs": [],
   "source": [
    "# destroy the greeters\n",
    "del anon_greeter\n",
    "del decorated_greeter"
   ]
  },
  {
   "cell_type": "code",
   "execution_count": 39,
   "metadata": {},
   "outputs": [
    {
     "name": "stdout",
     "output_type": "stream",
     "text": [
      "Something happening before the greeting.\n",
      "on lunch break, bye\n",
      "Something happening after the greeting.\n"
     ]
    }
   ],
   "source": [
    "# recreate the anon_greeter(), this time decorated\n",
    "\n",
    "@greeter_decorator\n",
    "def anon_greeter():\n",
    "    possible_greetings = (\"Hello.\", \"Yo.\", \"Whazzaaa.\", \"'Sup.\", \"Servus.\", \"Cf.\", \"Bună ziua.\", \"Good day.\")\n",
    "    print(random.choice(possible_greetings))\n",
    "\n",
    "# this does the same thing as the previous example - the decorator is applied to the function\n",
    "\n",
    "anon_greeter()"
   ]
  },
  {
   "cell_type": "markdown",
   "metadata": {},
   "source": [
    "## Decorating functions with arguments\n",
    "But what if the function you want to decorate has arguments? Can you still decorate it?\n",
    "\n",
    "Let' see."
   ]
  },
  {
   "cell_type": "code",
   "execution_count": 40,
   "metadata": {},
   "outputs": [],
   "source": [
    "@greeter_decorator\n",
    "def greeter(name):\n",
    "    possible_greetings = (\"Hello\", \"Yo\", \"Whazzaaa\", \"'Sup\", \"Servus\", \"Cf\", \"Bună ziua\", \"Hello darkness\")\n",
    "    print(\"{}, {}\".format(random.choice(possible_greetings), name))"
   ]
  },
  {
   "cell_type": "code",
   "execution_count": 45,
   "metadata": {},
   "outputs": [
    {
     "ename": "TypeError",
     "evalue": "wrapper() takes 0 positional arguments but 1 was given",
     "output_type": "error",
     "traceback": [
      "\u001b[1;31m---------------------------------------------------------------------------\u001b[0m",
      "\u001b[1;31mTypeError\u001b[0m                                 Traceback (most recent call last)",
      "\u001b[1;32mc:\\Users\\Laptop 19\\Desktop\\UIFALEAN_EMANUEL_TUDOR\\PYTHON\\Github\\bootcamp\\2022\\python_workshop\\notebooks\\07_decorators.ipynb Cell 25\u001b[0m in \u001b[0;36m<cell line: 1>\u001b[1;34m()\u001b[0m\n\u001b[1;32m----> <a href='vscode-notebook-cell:/c%3A/Users/Laptop%2019/Desktop/UIFALEAN_EMANUEL_TUDOR/PYTHON/Github/bootcamp/2022/python_workshop/notebooks/07_decorators.ipynb#ch0000024?line=0'>1</a>\u001b[0m greeter(\u001b[39m\"\u001b[39;49m\u001b[39mmy old friend\u001b[39;49m\u001b[39m\"\u001b[39;49m)\n",
      "\u001b[1;31mTypeError\u001b[0m: wrapper() takes 0 positional arguments but 1 was given"
     ]
    }
   ],
   "source": [
    "greeter(\"my old friend\")"
   ]
  },
  {
   "cell_type": "markdown",
   "metadata": {},
   "source": [
    "Oh, no, we got an error... \n",
    "\n",
    "`TypeError: greeter_decorator.<locals>.wrapper() takes 0 positional arguments but 1 was given`\n",
    "\n",
    "The problem here is that the inner decorator function does not take arguments, but the `greeter()` function has one passed to it.\n",
    "You can fix this by letting the `wrapper()` function accept one argument, however, that would create a problem for the previously `anon_greeter()` decorated function.\n",
    "The solution is to use `*args, **kwargs` in the inner wrapper function; they will accept an arbitrary number of arguments.\n",
    "\n",
    "**Recall** the unpacking operators * and **."
   ]
  },
  {
   "cell_type": "code",
   "execution_count": 44,
   "metadata": {},
   "outputs": [],
   "source": [
    "def greeter_decorator(func):\n",
    "    def wrapper(*args, **kwargs):\n",
    "        print(\"Something happening before the greeting.\")\n",
    "        if datetime.now().hour == 13:\n",
    "            print(\"on lunch break, bye\")\n",
    "        else:\n",
    "            func(*args, **kwargs)\n",
    "        print(\"Something happening after the greeting.\")\n",
    "    return wrapper"
   ]
  },
  {
   "cell_type": "code",
   "execution_count": 46,
   "metadata": {},
   "outputs": [],
   "source": [
    "@greeter_decorator\n",
    "def greeter(name):\n",
    "    possible_greetings = (\"Hello\", \"Yo\", \"Whazzaaa\", \"'Sup\", \"Servus\", \"Cf\", \"Bună ziua\", \"Hello darkness\")\n",
    "    print(\"{}, {}\".format(random.choice(possible_greetings), name))"
   ]
  },
  {
   "cell_type": "code",
   "execution_count": 47,
   "metadata": {},
   "outputs": [
    {
     "name": "stdout",
     "output_type": "stream",
     "text": [
      "Something happening before the greeting.\n",
      "'Sup, my old friend\n",
      "Something happening after the greeting.\n"
     ]
    }
   ],
   "source": [
    "greeter(\"my old friend\")"
   ]
  },
  {
   "cell_type": "markdown",
   "metadata": {},
   "source": [
    "## Exercise\n",
    "\n",
    "Have a look at the decorators under resources/methods and update them. Once you do that, use them in the snippet below."
   ]
  },
  {
   "cell_type": "code",
   "execution_count": 1,
   "metadata": {},
   "outputs": [
    {
     "name": "stdout",
     "output_type": "stream",
     "text": [
      "I like repeating myself.\n",
      "I like repeating myself.\n",
      "None\n"
     ]
    }
   ],
   "source": [
    "## call the function twice\n",
    "from resources.methods.decorators import do_twice\n",
    "\n",
    "@do_twice\n",
    "def repeat_after_me():\n",
    "    print(\"I like repeating myself.\")\n",
    "\n",
    "\n",
    "print(repeat_after_me())"
   ]
  },
  {
   "cell_type": "code",
   "execution_count": 1,
   "metadata": {},
   "outputs": [
    {
     "name": "stdout",
     "output_type": "stream",
     "text": [
      "Finished 'waste_some_time' in 0.6609 seconds\n"
     ]
    }
   ],
   "source": [
    "## use a timer on this function\n",
    "from resources.methods.decorators import timer\n",
    "\n",
    "@timer\n",
    "def waste_some_time(num_times):\n",
    "    for _ in range(num_times):\n",
    "        sum([i**2 for i in range(10000)])\n",
    "\n",
    "waste_some_time(200)"
   ]
  },
  {
   "cell_type": "code",
   "execution_count": 5,
   "metadata": {},
   "outputs": [
    {
     "name": "stdout",
     "output_type": "stream",
     "text": [
      "Finished 'waste_some_time' in 10.6447 seconds\n"
     ]
    }
   ],
   "source": [
    "## use another decorator to slow down the above function\n",
    "## can you use multiple decorators on the same function?\n",
    "## does the order of the decorators matter?\n",
    "from resources.methods.decorators import slow_down_1sec,timer\n",
    "@timer\n",
    "@slow_down_1sec\n",
    "def waste_some_time(num_times):\n",
    "    for _ in range(num_times):\n",
    "        sum([i**2 for i in range(10000)])\n",
    "\n",
    "waste_some_time(200)"
   ]
  },
  {
   "cell_type": "markdown",
   "metadata": {},
   "source": [
    "## Further reading\n",
    "- [Python decorator wiki](https://wiki.python.org/moin/PythonDecorators)\n",
    "- [Python decorator library](https://wiki.python.org/moin/PythonDecoratorLibrary)"
   ]
  }
 ],
 "metadata": {
  "kernelspec": {
   "display_name": "Python 3.9.12 ('base')",
   "language": "python",
   "name": "python3"
  },
  "language_info": {
   "codemirror_mode": {
    "name": "ipython",
    "version": 3
   },
   "file_extension": ".py",
   "mimetype": "text/x-python",
   "name": "python",
   "nbconvert_exporter": "python",
   "pygments_lexer": "ipython3",
   "version": "3.9.12"
  },
  "orig_nbformat": 4,
  "vscode": {
   "interpreter": {
    "hash": "d31b83e9610685068a0fe73b54051d44dc1110027bef1c52e64b671e72faac45"
   }
  }
 },
 "nbformat": 4,
 "nbformat_minor": 2
}
