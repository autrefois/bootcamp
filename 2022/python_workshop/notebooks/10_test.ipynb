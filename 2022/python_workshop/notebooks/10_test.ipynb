{
 "cells": [
  {
   "cell_type": "markdown",
   "metadata": {},
   "source": [
    "# Practical exam"
   ]
  },
  {
   "cell_type": "code",
   "execution_count": null,
   "metadata": {},
   "outputs": [],
   "source": [
    "### Please state your name here:\n"
   ]
  },
  {
   "cell_type": "code",
   "execution_count": null,
   "metadata": {},
   "outputs": [],
   "source": [
    "# make sure requirements are up to date\n",
    "%pip install --upgrade pip >> results/requirements_log.txt\n",
    "%pip install -r ../requirements.txt >> results/requirements_log.txt"
   ]
  },
  {
   "cell_type": "markdown",
   "metadata": {},
   "source": [
    "### 1.\n",
    "\n",
    "Given the below snippet, add the necessary code lines in function f2 in order to obtain the expected output:"
   ]
  },
  {
   "cell_type": "code",
   "execution_count": null,
   "metadata": {},
   "outputs": [],
   "source": [
    "def f2(n):\n",
    "    for i in range(1, n):\n",
    "        print(f\"~~~ {i}\")\n",
    "\n",
    "\n",
    "\n",
    "\n",
    "n = 5\n",
    "for x in f2(n):\n",
    "    print(x)"
   ]
  },
  {
   "cell_type": "markdown",
   "metadata": {},
   "source": [
    "Expected output:\n",
    "\n",
    "```\n",
    "~~~ 1\n",
    "{'cubed': 1}\n",
    "{'squared': 1}\n",
    "@@@ 1\n",
    "~~~ 2\n",
    "{'cubed': 8}\n",
    "{'squared': 4}\n",
    "@@@ 2\n",
    "~~~ 3\n",
    "{'cubed': 27}\n",
    "{'squared': 9}\n",
    "@@@ 3\n",
    "~~~ 4\n",
    "{'cubed': 64}\n",
    "{'squared': 16}\n",
    "@@@ 4\n",
    "```"
   ]
  },
  {
   "cell_type": "markdown",
   "metadata": {},
   "source": [
    "### 2.\n",
    "\n",
    "Under **resources**, there are two input files, [input_file_1.csv](/2022/python_workshop/notebooks/resources/input_file_1.csv) and [input_file_2.csv](/2022/python_workshop/notebooks/resources/input_file_2.csv).\n",
    "\n",
    "Given the two input files, remove the duplicates.\n",
    "\n",
    "If rows in all files are combined, there must be NO duplicates. Solution should include 2 functions, one for reading data from files and one for writing data to files. A partial solution without functions is accepted.\n",
    "\n",
    "Expected output: two separate output files under results/expected, [output_file_1.csv](/2022/python_workshop/notebooks/results/expected/output_file_1.csv) and [output_file_2.csv](/2022/python_workshop/notebooks/results/expected/output_file_2.csv)."
   ]
  },
  {
   "cell_type": "code",
   "execution_count": null,
   "metadata": {},
   "outputs": [],
   "source": []
  },
  {
   "cell_type": "markdown",
   "metadata": {},
   "source": [
    "### 3.\n",
    "\n",
    "Using the [data.gov.ro](https://data.gov.ro/dataset/acreditarea-unitatilor-sanitare-2021) API, extract the \"accredited hospitals 2021\" data set (link available below).\n",
    "\n",
    "Alternatively, if the API is down, use the backup file **hospitals.csv** from the **resources** folder as a source."
   ]
  },
  {
   "cell_type": "code",
   "execution_count": null,
   "metadata": {},
   "outputs": [],
   "source": [
    "import requests\n",
    "import pandas as pd"
   ]
  },
  {
   "cell_type": "code",
   "execution_count": null,
   "metadata": {},
   "outputs": [],
   "source": [
    "url_hospitals = 'https://data.gov.ro/dataset/4197b53e-7c91-4fcc-be07-883076d40ffc/resource/7a343719-d625-4b5c-98b5-895a684d61c4/download/anmcs-acreditare-unitati-sanitare-dec2021.json'\n",
    "\n",
    "\n",
    "hospitals = ...\n",
    "\n",
    "hospitals.head()"
   ]
  },
  {
   "cell_type": "markdown",
   "metadata": {},
   "source": [
    "How many rows are in this dataset?"
   ]
  },
  {
   "cell_type": "code",
   "execution_count": null,
   "metadata": {},
   "outputs": [],
   "source": []
  },
  {
   "cell_type": "markdown",
   "metadata": {},
   "source": [
    "What are the columns in this dataset?"
   ]
  },
  {
   "cell_type": "code",
   "execution_count": null,
   "metadata": {},
   "outputs": [],
   "source": []
  },
  {
   "cell_type": "markdown",
   "metadata": {},
   "source": [
    "Drop the unnecessary columns:\n",
    "* Nr. Crt.\n",
    "* TIP USP (din punct de vedere al invatamantului si al cercetarii stiintifice medicale)\n",
    "* the last three columns"
   ]
  },
  {
   "cell_type": "code",
   "execution_count": null,
   "metadata": {},
   "outputs": [],
   "source": []
  },
  {
   "cell_type": "markdown",
   "metadata": {},
   "source": [
    "Apply the following transformations to the columns, so that they are easier to work with:\n",
    "* lowercase all columns\n",
    "* `TIP USP (in functie de specificul patologiei tratate)` rename to `tip_patologie`\n",
    "* `TIP USP (in functie de regimul proprietatii)` rename to `tip`\n",
    "* `Adresa completa a sediului principal` rename to `adresa`\n",
    "* `Adresa email oficiala` rename to `email`\n",
    "* `Autoritatea tutelara` rename to `autoritate_tutelara`\n",
    "* `Acreditare ciclul I` rename to `acreditare_i`\n",
    "* `Acreditare ciclul II` rename to `acreditare_ii`"
   ]
  },
  {
   "cell_type": "code",
   "execution_count": null,
   "metadata": {},
   "outputs": [],
   "source": []
  },
  {
   "cell_type": "markdown",
   "metadata": {},
   "source": [
    "The total number of hospitals in this dataset is 762, however the actual number of rows is greater than that.\n",
    "\n",
    "Identify and remove the empty (blank space) rows."
   ]
  },
  {
   "cell_type": "code",
   "execution_count": null,
   "metadata": {},
   "outputs": [],
   "source": []
  },
  {
   "cell_type": "markdown",
   "metadata": {},
   "source": [
    "How many public hospitals and how many private hospitals are in this dataset?"
   ]
  },
  {
   "cell_type": "code",
   "execution_count": null,
   "metadata": {},
   "outputs": [],
   "source": []
  },
  {
   "cell_type": "markdown",
   "metadata": {},
   "source": [
    "Inspect the values in the `acreditare_i` column + print them."
   ]
  },
  {
   "cell_type": "code",
   "execution_count": null,
   "metadata": {},
   "outputs": [],
   "source": []
  },
  {
   "cell_type": "markdown",
   "metadata": {},
   "source": [
    "Create a dataframe containing the hospitals that are *not* accredited."
   ]
  },
  {
   "cell_type": "code",
   "execution_count": null,
   "metadata": {},
   "outputs": [],
   "source": []
  },
  {
   "cell_type": "markdown",
   "metadata": {},
   "source": [
    "How many hospitals are *not* accredited?"
   ]
  },
  {
   "cell_type": "code",
   "execution_count": null,
   "metadata": {},
   "outputs": [],
   "source": []
  },
  {
   "cell_type": "markdown",
   "metadata": {},
   "source": [
    "Pick a county (judet) for a more in-depth analysis.\n",
    "(Bucuresti is also a county)"
   ]
  },
  {
   "cell_type": "code",
   "execution_count": null,
   "metadata": {},
   "outputs": [],
   "source": [
    "judet = ..."
   ]
  },
  {
   "cell_type": "markdown",
   "metadata": {},
   "source": [
    "According to this dataset, how many hospitals are in this county?"
   ]
  },
  {
   "cell_type": "code",
   "execution_count": null,
   "metadata": {},
   "outputs": [],
   "source": []
  },
  {
   "cell_type": "markdown",
   "metadata": {},
   "source": [
    "For the chosen county, create a Dataframe that contains the following information:\n",
    "* judet\n",
    "* tip (public, privat)\n",
    "* count of unaccredited hospitals\n",
    "* count of accredited hospitals"
   ]
  },
  {
   "cell_type": "code",
   "execution_count": null,
   "metadata": {},
   "outputs": [],
   "source": [
    "stat = ...\n",
    "stat.head()"
   ]
  },
  {
   "cell_type": "markdown",
   "metadata": {},
   "source": [
    "Create a plot that highlights\n",
    "* the number of accredited public hospitals\n",
    "* the number of accredited private hospitals\n",
    "* the number of unaccredited public hospitals\n",
    "* the number of unaccredited private hospitals\n",
    "\n",
    "The expected output for Bucuresti can be found  [here](/2022/python_workshop/notebooks/results/expected/output_test.png)."
   ]
  },
  {
   "cell_type": "code",
   "execution_count": null,
   "metadata": {},
   "outputs": [],
   "source": [
    "plot_acreditat = ..."
   ]
  },
  {
   "cell_type": "code",
   "execution_count": null,
   "metadata": {},
   "outputs": [],
   "source": []
  },
  {
   "cell_type": "code",
   "execution_count": null,
   "metadata": {},
   "outputs": [],
   "source": [
    "plot_neacreditat = ..."
   ]
  },
  {
   "cell_type": "code",
   "execution_count": null,
   "metadata": {},
   "outputs": [],
   "source": []
  },
  {
   "cell_type": "code",
   "execution_count": null,
   "metadata": {},
   "outputs": [],
   "source": [
    "plot_data = ...\n",
    "plot_data.head()"
   ]
  },
  {
   "cell_type": "code",
   "execution_count": null,
   "metadata": {},
   "outputs": [],
   "source": [
    "plot_data.plot(kind=\"bar\")"
   ]
  }
 ],
 "metadata": {
  "kernelspec": {
   "display_name": "Python 3.10.5",
   "language": "python",
   "name": "py10"
  },
  "language_info": {
   "codemirror_mode": {
    "name": "ipython",
    "version": 3
   },
   "file_extension": ".py",
   "mimetype": "text/x-python",
   "name": "python",
   "nbconvert_exporter": "python",
   "pygments_lexer": "ipython3",
   "version": "3.10.5"
  },
  "orig_nbformat": 4
 },
 "nbformat": 4,
 "nbformat_minor": 2
}
