{
 "cells": [
  {
   "cell_type": "markdown",
   "metadata": {},
   "source": [
    "# Practical exam"
   ]
  },
  {
   "cell_type": "code",
   "execution_count": 4,
   "metadata": {},
   "outputs": [],
   "source": [
    "### Please state your name here:\n",
    "# Nedelcu Mircea Alin"
   ]
  },
  {
   "cell_type": "code",
   "execution_count": 5,
   "metadata": {},
   "outputs": [
    {
     "name": "stdout",
     "output_type": "stream",
     "text": [
      "Note: you may need to restart the kernel to use updated packages.\n",
      "Note: you may need to restart the kernel to use updated packages.\n"
     ]
    }
   ],
   "source": [
    "# make sure requirements are up to date\n",
    "%pip install --upgrade pip >> results/requirements_log.txt\n",
    "%pip install -r ../requirements.txt >> results/requirements_log.txt"
   ]
  },
  {
   "cell_type": "markdown",
   "metadata": {},
   "source": [
    "### 1.\n",
    "\n",
    "Given the below snippet, add the necessary code lines in function f2 in order to obtain the expected output:"
   ]
  },
  {
   "cell_type": "code",
   "execution_count": 202,
   "metadata": {},
   "outputs": [
    {
     "name": "stdout",
     "output_type": "stream",
     "text": [
      "~~~ 1\n",
      "{'cubed': 1}\n",
      "{'squared': 1}\n",
      "@@@ 1\n",
      "~~~ 2\n",
      "{'cubed': 8}\n",
      "{'squared': 4}\n",
      "@@@ 2\n",
      "~~~ 3\n",
      "{'cubed': 27}\n",
      "{'squared': 9}\n",
      "@@@ 3\n",
      "~~~ 4\n",
      "{'cubed': 64}\n",
      "{'squared': 16}\n",
      "@@@ 4\n"
     ]
    },
    {
     "ename": "TypeError",
     "evalue": "'NoneType' object is not iterable",
     "output_type": "error",
     "traceback": [
      "\u001b[1;31m---------------------------------------------------------------------------\u001b[0m",
      "\u001b[1;31mTypeError\u001b[0m                                 Traceback (most recent call last)",
      "\u001b[1;32mc:\\Users\\Laptop 15\\Desktop\\test\\bootcamp\\2022\\python_workshop\\notebooks\\10_test.ipynb Cell 5\u001b[0m in \u001b[0;36m<cell line: 11>\u001b[1;34m()\u001b[0m\n\u001b[0;32m      <a href='vscode-notebook-cell:/c%3A/Users/Laptop%2015/Desktop/test/bootcamp/2022/python_workshop/notebooks/10_test.ipynb#ch0000004?line=7'>8</a>\u001b[0m         \u001b[39mprint\u001b[39m(\u001b[39m'\u001b[39m\u001b[39m@@@\u001b[39m\u001b[39m'\u001b[39m,i)\n\u001b[0;32m     <a href='vscode-notebook-cell:/c%3A/Users/Laptop%2015/Desktop/test/bootcamp/2022/python_workshop/notebooks/10_test.ipynb#ch0000004?line=9'>10</a>\u001b[0m n \u001b[39m=\u001b[39m \u001b[39m5\u001b[39m\n\u001b[1;32m---> <a href='vscode-notebook-cell:/c%3A/Users/Laptop%2015/Desktop/test/bootcamp/2022/python_workshop/notebooks/10_test.ipynb#ch0000004?line=10'>11</a>\u001b[0m \u001b[39mfor\u001b[39;00m x \u001b[39min\u001b[39;00m f2(n):\n\u001b[0;32m     <a href='vscode-notebook-cell:/c%3A/Users/Laptop%2015/Desktop/test/bootcamp/2022/python_workshop/notebooks/10_test.ipynb#ch0000004?line=11'>12</a>\u001b[0m     \u001b[39mprint\u001b[39m(x)\n",
      "\u001b[1;31mTypeError\u001b[0m: 'NoneType' object is not iterable"
     ]
    }
   ],
   "source": [
    "def f2(n):\n",
    "    for i in range(1, n):\n",
    "        a = {'cubed' : i*i*i}\n",
    "        b = {\"squared\" : i*i}\n",
    "        print(f\"~~~ {i}\")\n",
    "        print(a)\n",
    "        print(b)\n",
    "        print('@@@',i)\n",
    "        \n",
    "n = 5\n",
    "for x in f2(n):\n",
    "    print(x)\n"
   ]
  },
  {
   "cell_type": "markdown",
   "metadata": {},
   "source": [
    "Expected output:\n",
    "\n",
    "```\n",
    "~~~ 1\n",
    "{'cubed': 1}\n",
    "{'squared': 1}\n",
    "@@@ 1\n",
    "~~~ 2\n",
    "{'cubed': 8}\n",
    "{'squared': 4}\n",
    "@@@ 2\n",
    "~~~ 3\n",
    "{'cubed': 27}\n",
    "{'squared': 9}\n",
    "@@@ 3\n",
    "~~~ 4\n",
    "{'cubed': 64}\n",
    "{'squared': 16}\n",
    "@@@ 4\n",
    "```"
   ]
  },
  {
   "cell_type": "markdown",
   "metadata": {},
   "source": [
    "### 2.\n",
    "\n",
    "Under **resources**, there are two input files, [input_file_1.csv](/2022/python_workshop/notebooks/resources/input_file_1.csv) and [input_file_2.csv](/2022/python_workshop/notebooks/resources/input_file_2.csv).\n",
    "\n",
    "Given the two input files, remove the duplicates.\n",
    "\n",
    "If rows in all files are combined, there must be NO duplicates. Solution should include 2 functions, one for reading data from files and one for writing data to files. A partial solution without functions is accepted.\n",
    "\n",
    "Expected output: two separate output files under results/expected, [output_file_1.csv](/2022/python_workshop/notebooks/results/expected/output_file_1.csv) and [output_file_2.csv](/2022/python_workshop/notebooks/results/expected/output_file_2.csv)."
   ]
  },
  {
   "cell_type": "code",
   "execution_count": null,
   "metadata": {},
   "outputs": [],
   "source": []
  },
  {
   "cell_type": "markdown",
   "metadata": {},
   "source": [
    "### 3.\n",
    "\n",
    "Using the [data.gov.ro](https://data.gov.ro/dataset/acreditarea-unitatilor-sanitare-2021) API, extract the \"accredited hospitals 2021\" data set (link available below).\n",
    "\n",
    "Alternatively, if the API is down, use the backup file **hospitals.csv** from the **resources** folder as a source."
   ]
  },
  {
   "cell_type": "code",
   "execution_count": 86,
   "metadata": {},
   "outputs": [],
   "source": [
    "import requests\n",
    "import pandas as pd"
   ]
  },
  {
   "cell_type": "code",
   "execution_count": 133,
   "metadata": {},
   "outputs": [
    {
     "data": {
      "text/html": [
       "<div>\n",
       "<style scoped>\n",
       "    .dataframe tbody tr th:only-of-type {\n",
       "        vertical-align: middle;\n",
       "    }\n",
       "\n",
       "    .dataframe tbody tr th {\n",
       "        vertical-align: top;\n",
       "    }\n",
       "\n",
       "    .dataframe thead th {\n",
       "        text-align: right;\n",
       "    }\n",
       "</style>\n",
       "<table border=\"1\" class=\"dataframe\">\n",
       "  <thead>\n",
       "    <tr style=\"text-align: right;\">\n",
       "      <th></th>\n",
       "      <th>Nr. Crt.</th>\n",
       "      <th>Nume</th>\n",
       "      <th>Cod A.N.M.C.S.</th>\n",
       "      <th>Judet</th>\n",
       "      <th>Clasificare</th>\n",
       "      <th>TIP USP (in functie de specificul patologiei tratate)</th>\n",
       "      <th>TIP USP (in functie de regimul proprietatii)</th>\n",
       "      <th>TIP USP (din punct de vedere al invatamantului si al cercetarii stiintifice medicale)</th>\n",
       "      <th>Adresa completa a sediului principal</th>\n",
       "      <th>Adresa email oficiala</th>\n",
       "      <th>Website</th>\n",
       "      <th>Autoritatea tutelara</th>\n",
       "      <th>Acreditare ciclul I</th>\n",
       "      <th>Acreditare ciclul II</th>\n",
       "      <th></th>\n",
       "      <th>__1</th>\n",
       "      <th>__2</th>\n",
       "    </tr>\n",
       "  </thead>\n",
       "  <tbody>\n",
       "    <tr>\n",
       "      <th>0</th>\n",
       "      <td>1</td>\n",
       "      <td>SPITALUL MUNICIPAL CALAFAT</td>\n",
       "      <td>A001</td>\n",
       "      <td>Dolj</td>\n",
       "      <td>IV</td>\n",
       "      <td>general</td>\n",
       "      <td>public</td>\n",
       "      <td>fara invatamant</td>\n",
       "      <td>B-dul. T. Vladimirescu, Nr. 24, Calafat, cod 2...</td>\n",
       "      <td>spitalcalafat@gmail.com</td>\n",
       "      <td>spitalcalafat.ro</td>\n",
       "      <td>PRIMARIA MUNICIPIULUI CALAFAT</td>\n",
       "      <td>Acreditat</td>\n",
       "      <td>Categoria V Decizie de prelungire a procesului...</td>\n",
       "      <td></td>\n",
       "      <td></td>\n",
       "      <td></td>\n",
       "    </tr>\n",
       "    <tr>\n",
       "      <th>1</th>\n",
       "      <td>2</td>\n",
       "      <td>SPITALUL DE PSIHIATRIE CRONICI SCHITU GRECI</td>\n",
       "      <td>A002</td>\n",
       "      <td>Olt</td>\n",
       "      <td>V</td>\n",
       "      <td>afectiuni cronice</td>\n",
       "      <td>public</td>\n",
       "      <td>fara invatamant</td>\n",
       "      <td>SLATINA STR. A. I. CUZA NR. 14</td>\n",
       "      <td>spitalulschitu@gmail.com</td>\n",
       "      <td>www.spitalul-schitu.ro</td>\n",
       "      <td>CONSILIUL JUDETEAN OLT</td>\n",
       "      <td>Acreditat</td>\n",
       "      <td>Categoria V Decizie de prelungire a procesului...</td>\n",
       "      <td></td>\n",
       "      <td></td>\n",
       "      <td></td>\n",
       "    </tr>\n",
       "    <tr>\n",
       "      <th>2</th>\n",
       "      <td>3</td>\n",
       "      <td>SPITALUL CLINIC NICOLAE MALAXA</td>\n",
       "      <td>A003</td>\n",
       "      <td>Bucuresti</td>\n",
       "      <td>III</td>\n",
       "      <td>general</td>\n",
       "      <td>public</td>\n",
       "      <td>clinic cu sectii universitare</td>\n",
       "      <td>STR. DIMITRIE CANTEMIR, NR.1, PARTER, SECT.4, ...</td>\n",
       "      <td>secretariat@spitalmalaxa.ro</td>\n",
       "      <td>www.spitalmalaxa.ro</td>\n",
       "      <td>ASSMB</td>\n",
       "      <td>Acreditat</td>\n",
       "      <td>Categoria IV Acreditat cu incredere redusa</td>\n",
       "      <td></td>\n",
       "      <td></td>\n",
       "      <td></td>\n",
       "    </tr>\n",
       "    <tr>\n",
       "      <th>3</th>\n",
       "      <td>4</td>\n",
       "      <td>SPITALUL MILITAR DE URGENTA \"REGINA MARIA\" BRA?OV</td>\n",
       "      <td>A004</td>\n",
       "      <td>Brasov</td>\n",
       "      <td>III</td>\n",
       "      <td>urgenta</td>\n",
       "      <td>public</td>\n",
       "      <td>fara invatamant</td>\n",
       "      <td>Bucuresti, Str. Institutul Medico-Militar, Nr....</td>\n",
       "      <td>smureginamaria@rdsbv.ro</td>\n",
       "      <td>www.smubrasov.ro</td>\n",
       "      <td>DIRECtIA MEDICALa a Ministerului Apararii Nati...</td>\n",
       "      <td>Acreditat</td>\n",
       "      <td>Categoria II Acreditat cu recomandari</td>\n",
       "      <td></td>\n",
       "      <td></td>\n",
       "      <td></td>\n",
       "    </tr>\n",
       "    <tr>\n",
       "      <th>4</th>\n",
       "      <td>5</td>\n",
       "      <td>SPITALUL ORASENESC INEU</td>\n",
       "      <td>A005</td>\n",
       "      <td>Arad</td>\n",
       "      <td>IV</td>\n",
       "      <td>general</td>\n",
       "      <td>public</td>\n",
       "      <td>fara invatamant</td>\n",
       "      <td>Calea Republicii, nr. 5</td>\n",
       "      <td>spitalineu@yahoo.ro</td>\n",
       "      <td>http://www.spitalineu.ro</td>\n",
       "      <td>Primaria Orasului Ineu</td>\n",
       "      <td>Acreditat</td>\n",
       "      <td>Categoria V Decizie de prelungire a procesului...</td>\n",
       "      <td></td>\n",
       "      <td></td>\n",
       "      <td></td>\n",
       "    </tr>\n",
       "  </tbody>\n",
       "</table>\n",
       "</div>"
      ],
      "text/plain": [
       "  Nr. Crt.                                               Nume Cod A.N.M.C.S.  \\\n",
       "0        1                         SPITALUL MUNICIPAL CALAFAT           A001   \n",
       "1        2        SPITALUL DE PSIHIATRIE CRONICI SCHITU GRECI           A002   \n",
       "2        3                     SPITALUL CLINIC NICOLAE MALAXA           A003   \n",
       "3        4  SPITALUL MILITAR DE URGENTA \"REGINA MARIA\" BRA?OV           A004   \n",
       "4        5                            SPITALUL ORASENESC INEU           A005   \n",
       "\n",
       "       Judet Clasificare  \\\n",
       "0       Dolj          IV   \n",
       "1        Olt           V   \n",
       "2  Bucuresti         III   \n",
       "3     Brasov         III   \n",
       "4       Arad          IV   \n",
       "\n",
       "  TIP USP (in functie de specificul patologiei tratate)  \\\n",
       "0                                            general      \n",
       "1                                  afectiuni cronice      \n",
       "2                                            general      \n",
       "3                                            urgenta      \n",
       "4                                            general      \n",
       "\n",
       "  TIP USP (in functie de regimul proprietatii)  \\\n",
       "0                                       public   \n",
       "1                                       public   \n",
       "2                                       public   \n",
       "3                                       public   \n",
       "4                                       public   \n",
       "\n",
       "  TIP USP (din punct de vedere al invatamantului si al cercetarii stiintifice medicale)  \\\n",
       "0                                    fara invatamant                                      \n",
       "1                                    fara invatamant                                      \n",
       "2                      clinic cu sectii universitare                                      \n",
       "3                                    fara invatamant                                      \n",
       "4                                    fara invatamant                                      \n",
       "\n",
       "                Adresa completa a sediului principal  \\\n",
       "0  B-dul. T. Vladimirescu, Nr. 24, Calafat, cod 2...   \n",
       "1                     SLATINA STR. A. I. CUZA NR. 14   \n",
       "2  STR. DIMITRIE CANTEMIR, NR.1, PARTER, SECT.4, ...   \n",
       "3  Bucuresti, Str. Institutul Medico-Militar, Nr....   \n",
       "4                            Calea Republicii, nr. 5   \n",
       "\n",
       "         Adresa email oficiala                   Website  \\\n",
       "0      spitalcalafat@gmail.com          spitalcalafat.ro   \n",
       "1     spitalulschitu@gmail.com    www.spitalul-schitu.ro   \n",
       "2  secretariat@spitalmalaxa.ro       www.spitalmalaxa.ro   \n",
       "3      smureginamaria@rdsbv.ro          www.smubrasov.ro   \n",
       "4          spitalineu@yahoo.ro  http://www.spitalineu.ro   \n",
       "\n",
       "                                Autoritatea tutelara Acreditare ciclul I  \\\n",
       "0                      PRIMARIA MUNICIPIULUI CALAFAT           Acreditat   \n",
       "1                             CONSILIUL JUDETEAN OLT           Acreditat   \n",
       "2                                              ASSMB           Acreditat   \n",
       "3  DIRECtIA MEDICALa a Ministerului Apararii Nati...           Acreditat   \n",
       "4                             Primaria Orasului Ineu           Acreditat   \n",
       "\n",
       "                                Acreditare ciclul II   __1 __2  \n",
       "0  Categoria V Decizie de prelungire a procesului...            \n",
       "1  Categoria V Decizie de prelungire a procesului...            \n",
       "2         Categoria IV Acreditat cu incredere redusa            \n",
       "3              Categoria II Acreditat cu recomandari            \n",
       "4  Categoria V Decizie de prelungire a procesului...            "
      ]
     },
     "execution_count": 133,
     "metadata": {},
     "output_type": "execute_result"
    }
   ],
   "source": [
    "url_hospitals = 'https://data.gov.ro/dataset/4197b53e-7c91-4fcc-be07-883076d40ffc/resource/7a343719-d625-4b5c-98b5-895a684d61c4/download/anmcs-acreditare-unitati-sanitare-dec2021.json'\n",
    "hospitals = pd.read_json(url_hospitals)\n",
    "hospitals.head()"
   ]
  },
  {
   "cell_type": "markdown",
   "metadata": {},
   "source": [
    "How many rows are in this dataset?"
   ]
  },
  {
   "cell_type": "code",
   "execution_count": 134,
   "metadata": {},
   "outputs": [
    {
     "data": {
      "text/plain": [
       "1365"
      ]
     },
     "execution_count": 134,
     "metadata": {},
     "output_type": "execute_result"
    }
   ],
   "source": [
    "hospitals.shape[0]"
   ]
  },
  {
   "cell_type": "markdown",
   "metadata": {},
   "source": [
    "What are the columns in this dataset?"
   ]
  },
  {
   "cell_type": "code",
   "execution_count": 135,
   "metadata": {},
   "outputs": [
    {
     "data": {
      "text/plain": [
       "Index(['Nr. Crt.', 'Nume', 'Cod A.N.M.C.S.', 'Judet', 'Clasificare',\n",
       "       'TIP USP (in functie de specificul patologiei tratate)',\n",
       "       'TIP USP (in functie de regimul proprietatii)',\n",
       "       'TIP USP (din punct de vedere al invatamantului si al cercetarii stiintifice medicale)',\n",
       "       'Adresa completa a sediului principal', 'Adresa email oficiala',\n",
       "       'Website', 'Autoritatea tutelara', 'Acreditare ciclul I',\n",
       "       'Acreditare ciclul II', '', '__1', '__2'],\n",
       "      dtype='object')"
      ]
     },
     "execution_count": 135,
     "metadata": {},
     "output_type": "execute_result"
    }
   ],
   "source": [
    "hospitals.columns"
   ]
  },
  {
   "cell_type": "markdown",
   "metadata": {},
   "source": [
    "Drop the unnecessary columns:\n",
    "* Nr. Crt.\n",
    "* TIP USP (din punct de vedere al invatamantului si al cercetarii stiintifice medicale)\n",
    "* the last three columns"
   ]
  },
  {
   "cell_type": "code",
   "execution_count": 136,
   "metadata": {},
   "outputs": [],
   "source": [
    "hospitals = hospitals.drop('Nr. Crt.',axis=1)\n",
    "hospitals=hospitals.drop('TIP USP (din punct de vedere al invatamantului si al cercetarii stiintifice medicale)',axis=1)\n",
    "hospitals=hospitals.drop(hospitals.columns[12:15],axis = 1)\n"
   ]
  },
  {
   "cell_type": "code",
   "execution_count": 137,
   "metadata": {},
   "outputs": [
    {
     "data": {
      "text/plain": [
       "'TIP USP (in functie de specificul patologiei tratate)'"
      ]
     },
     "execution_count": 137,
     "metadata": {},
     "output_type": "execute_result"
    }
   ],
   "source": [
    "hospitals.columns[4]"
   ]
  },
  {
   "cell_type": "markdown",
   "metadata": {},
   "source": [
    "Apply the following transformations to the columns, so that they are easier to work with:\n",
    "* lowercase all columns\n",
    "* `TIP USP (in functie de specificul patologiei tratate)` rename to `tip_patologie`\n",
    "* `TIP USP (in functie de regimul proprietatii)` rename to `tip`\n",
    "* `Adresa completa a sediului principal` rename to `adresa`\n",
    "* `Adresa email oficiala` rename to `email`\n",
    "* `Autoritatea tutelara` rename to `autoritate_tutelara`\n",
    "* `Acreditare ciclul I` rename to `acreditare_i`\n",
    "* `Acreditare ciclul II` rename to `acreditare_ii`"
   ]
  },
  {
   "cell_type": "markdown",
   "metadata": {},
   "source": [
    "The total number of hospitals in this dataset is 762, however the actual number of rows is greater than that.\n",
    "\n",
    "Identify and remove the empty (blank space) rows."
   ]
  },
  {
   "cell_type": "code",
   "execution_count": 138,
   "metadata": {},
   "outputs": [],
   "source": [
    "\n",
    "hospitals.rename(columns={\n",
    "    \"TIP USP (in functie de specificul patologiei tratate)\": 'tip_patologie'\n",
    "},inplace = True)\n",
    "hospitals.rename(columns={\n",
    "    \"TIP USP (in functie de regimul proprietatii)\": 'tip'\n",
    "},inplace = True)\n",
    "hospitals.rename(columns={\n",
    "    \"Adresa completa a sediului principal\": 'adresa'\n",
    "},inplace = True)\n",
    "hospitals.rename(columns={\n",
    "    \"Adresa email oficiala\": 'email'\n",
    "},inplace = True)\n",
    "hospitals.rename(columns={\n",
    "    \"Autoritatea tutelara\": 'autoritate_tutelara'\n",
    "},inplace = True)\n",
    "hospitals.rename(columns={\n",
    "    \"Acreditare ciclul I\": 'acreditare_i'\n",
    "},inplace = True)\n",
    "hospitals.rename(columns={\n",
    "    \"Acreditare ciclul II\": 'acreditare_ii'\n",
    "},inplace = True)\n",
    "\n"
   ]
  },
  {
   "cell_type": "code",
   "execution_count": 203,
   "metadata": {},
   "outputs": [
    {
     "data": {
      "text/html": [
       "<div>\n",
       "<style scoped>\n",
       "    .dataframe tbody tr th:only-of-type {\n",
       "        vertical-align: middle;\n",
       "    }\n",
       "\n",
       "    .dataframe tbody tr th {\n",
       "        vertical-align: top;\n",
       "    }\n",
       "\n",
       "    .dataframe thead th {\n",
       "        text-align: right;\n",
       "    }\n",
       "</style>\n",
       "<table border=\"1\" class=\"dataframe\">\n",
       "  <thead>\n",
       "    <tr style=\"text-align: right;\">\n",
       "      <th></th>\n",
       "      <th>nume</th>\n",
       "      <th>cod a.n.m.c.s.</th>\n",
       "      <th>judet</th>\n",
       "      <th>clasificare</th>\n",
       "      <th>tip_patologie</th>\n",
       "      <th>tip</th>\n",
       "      <th>adresa</th>\n",
       "      <th>email</th>\n",
       "      <th>website</th>\n",
       "      <th>autoritate_tutelara</th>\n",
       "      <th>acreditare_i</th>\n",
       "      <th>acreditare_ii</th>\n",
       "    </tr>\n",
       "  </thead>\n",
       "  <tbody>\n",
       "  </tbody>\n",
       "</table>\n",
       "</div>"
      ],
      "text/plain": [
       "Empty DataFrame\n",
       "Columns: [nume, cod a.n.m.c.s., judet, clasificare, tip_patologie, tip, adresa, email, website, autoritate_tutelara, acreditare_i, acreditare_ii]\n",
       "Index: []"
      ]
     },
     "execution_count": 203,
     "metadata": {},
     "output_type": "execute_result"
    }
   ],
   "source": [
    "\n",
    "hospitals = hospitals.rename(columns=lambda x: x.lower())\n",
    "hospitals[hospitals.isnull().any(axis = 1)]\n"
   ]
  },
  {
   "cell_type": "markdown",
   "metadata": {},
   "source": [
    "How many public hospitals and how many private hospitals are in this dataset?"
   ]
  },
  {
   "cell_type": "markdown",
   "metadata": {},
   "source": [
    "Inspect the values in the `acreditare_i` column + print them."
   ]
  },
  {
   "cell_type": "code",
   "execution_count": 171,
   "metadata": {},
   "outputs": [
    {
     "name": "stdout",
     "output_type": "stream",
     "text": [
      "382 spitale private\n",
      "380 spitale publice\n"
     ]
    },
    {
     "data": {
      "text/plain": [
       "0       Acreditat\n",
       "1       Acreditat\n",
       "2       Acreditat\n",
       "3       Acreditat\n",
       "4       Acreditat\n",
       "          ...    \n",
       "1360             \n",
       "1361             \n",
       "1362             \n",
       "1363             \n",
       "1364             \n",
       "Name: acreditare_i, Length: 1365, dtype: object"
      ]
     },
     "execution_count": 171,
     "metadata": {},
     "output_type": "execute_result"
    }
   ],
   "source": [
    "x = len(hospitals[(hospitals['tip']== 'public')])\n",
    "y = len(hospitals[(hospitals['tip']== 'privat')])\n",
    "print(f'{y} spitale private')\n",
    "print(f'{x} spitale publice')\n",
    "\n",
    "hospitals['acreditare_i']"
   ]
  },
  {
   "cell_type": "markdown",
   "metadata": {},
   "source": [
    "Create a dataframe containing the hospitals that are *not* accredited."
   ]
  },
  {
   "cell_type": "code",
   "execution_count": 200,
   "metadata": {},
   "outputs": [
    {
     "name": "stderr",
     "output_type": "stream",
     "text": [
      "C:\\Users\\Laptop 15\\AppData\\Local\\Temp\\ipykernel_4760\\3415193687.py:1: FutureWarning: In a future version of pandas all arguments of DataFrame.dropna will be keyword-only.\n",
      "  hospitals.dropna(hospitals.tail(600))\n"
     ]
    },
    {
     "ename": "TypeError",
     "evalue": "unhashable type: 'DataFrame'",
     "output_type": "error",
     "traceback": [
      "\u001b[1;31m---------------------------------------------------------------------------\u001b[0m",
      "\u001b[1;31mTypeError\u001b[0m                                 Traceback (most recent call last)",
      "\u001b[1;32mc:\\Users\\Laptop 15\\Desktop\\test\\bootcamp\\2022\\python_workshop\\notebooks\\10_test.ipynb Cell 27\u001b[0m in \u001b[0;36m<cell line: 1>\u001b[1;34m()\u001b[0m\n\u001b[1;32m----> <a href='vscode-notebook-cell:/c%3A/Users/Laptop%2015/Desktop/test/bootcamp/2022/python_workshop/notebooks/10_test.ipynb#ch0000026?line=0'>1</a>\u001b[0m hospitals\u001b[39m.\u001b[39;49mdropna(hospitals\u001b[39m.\u001b[39;49mtail(\u001b[39m600\u001b[39;49m))\n",
      "File \u001b[1;32mc:\\programs\\miniconda3\\lib\\site-packages\\pandas\\util\\_decorators.py:311\u001b[0m, in \u001b[0;36mdeprecate_nonkeyword_arguments.<locals>.decorate.<locals>.wrapper\u001b[1;34m(*args, **kwargs)\u001b[0m\n\u001b[0;32m    305\u001b[0m \u001b[39mif\u001b[39;00m \u001b[39mlen\u001b[39m(args) \u001b[39m>\u001b[39m num_allow_args:\n\u001b[0;32m    306\u001b[0m     warnings\u001b[39m.\u001b[39mwarn(\n\u001b[0;32m    307\u001b[0m         msg\u001b[39m.\u001b[39mformat(arguments\u001b[39m=\u001b[39marguments),\n\u001b[0;32m    308\u001b[0m         \u001b[39mFutureWarning\u001b[39;00m,\n\u001b[0;32m    309\u001b[0m         stacklevel\u001b[39m=\u001b[39mstacklevel,\n\u001b[0;32m    310\u001b[0m     )\n\u001b[1;32m--> 311\u001b[0m \u001b[39mreturn\u001b[39;00m func(\u001b[39m*\u001b[39margs, \u001b[39m*\u001b[39m\u001b[39m*\u001b[39mkwargs)\n",
      "File \u001b[1;32mc:\\programs\\miniconda3\\lib\\site-packages\\pandas\\core\\frame.py:5996\u001b[0m, in \u001b[0;36mDataFrame.dropna\u001b[1;34m(self, axis, how, thresh, subset, inplace)\u001b[0m\n\u001b[0;32m   5992\u001b[0m \u001b[39mif\u001b[39;00m \u001b[39misinstance\u001b[39m(axis, (\u001b[39mtuple\u001b[39m, \u001b[39mlist\u001b[39m)):\n\u001b[0;32m   5993\u001b[0m     \u001b[39m# GH20987\u001b[39;00m\n\u001b[0;32m   5994\u001b[0m     \u001b[39mraise\u001b[39;00m \u001b[39mTypeError\u001b[39;00m(\u001b[39m\"\u001b[39m\u001b[39msupplying multiple axes to axis is no longer supported.\u001b[39m\u001b[39m\"\u001b[39m)\n\u001b[1;32m-> 5996\u001b[0m axis \u001b[39m=\u001b[39m \u001b[39mself\u001b[39;49m\u001b[39m.\u001b[39;49m_get_axis_number(axis)\n\u001b[0;32m   5997\u001b[0m agg_axis \u001b[39m=\u001b[39m \u001b[39m1\u001b[39m \u001b[39m-\u001b[39m axis\n\u001b[0;32m   5999\u001b[0m agg_obj \u001b[39m=\u001b[39m \u001b[39mself\u001b[39m\n",
      "File \u001b[1;32mc:\\programs\\miniconda3\\lib\\site-packages\\pandas\\core\\generic.py:550\u001b[0m, in \u001b[0;36mNDFrame._get_axis_number\u001b[1;34m(cls, axis)\u001b[0m\n\u001b[0;32m    546\u001b[0m \u001b[39m@final\u001b[39m\n\u001b[0;32m    547\u001b[0m \u001b[39m@classmethod\u001b[39m\n\u001b[0;32m    548\u001b[0m \u001b[39mdef\u001b[39;00m \u001b[39m_get_axis_number\u001b[39m(\u001b[39mcls\u001b[39m, axis: Axis) \u001b[39m-\u001b[39m\u001b[39m>\u001b[39m \u001b[39mint\u001b[39m:\n\u001b[0;32m    549\u001b[0m     \u001b[39mtry\u001b[39;00m:\n\u001b[1;32m--> 550\u001b[0m         \u001b[39mreturn\u001b[39;00m \u001b[39mcls\u001b[39;49m\u001b[39m.\u001b[39;49m_AXIS_TO_AXIS_NUMBER[axis]\n\u001b[0;32m    551\u001b[0m     \u001b[39mexcept\u001b[39;00m \u001b[39mKeyError\u001b[39;00m:\n\u001b[0;32m    552\u001b[0m         \u001b[39mraise\u001b[39;00m \u001b[39mValueError\u001b[39;00m(\u001b[39mf\u001b[39m\u001b[39m\"\u001b[39m\u001b[39mNo axis named \u001b[39m\u001b[39m{\u001b[39;00maxis\u001b[39m}\u001b[39;00m\u001b[39m for object type \u001b[39m\u001b[39m{\u001b[39;00m\u001b[39mcls\u001b[39m\u001b[39m.\u001b[39m\u001b[39m__name__\u001b[39m\u001b[39m}\u001b[39;00m\u001b[39m\"\u001b[39m)\n",
      "\u001b[1;31mTypeError\u001b[0m: unhashable type: 'DataFrame'"
     ]
    }
   ],
   "source": []
  },
  {
   "cell_type": "markdown",
   "metadata": {},
   "source": [
    "How many hospitals are *not* accredited?"
   ]
  },
  {
   "cell_type": "code",
   "execution_count": 195,
   "metadata": {},
   "outputs": [
    {
     "data": {
      "text/plain": [
       "2"
      ]
     },
     "execution_count": 195,
     "metadata": {},
     "output_type": "execute_result"
    }
   ],
   "source": [
    "\n",
    "nuacr = len(hospitals[(hospitals['acreditare_i']== 'Neacreditat')])\n",
    "nuacr"
   ]
  },
  {
   "cell_type": "markdown",
   "metadata": {},
   "source": [
    "Pick a county (judet) for a more in-depth analysis.\n",
    "(Bucuresti is also a county)"
   ]
  },
  {
   "cell_type": "code",
   "execution_count": 185,
   "metadata": {},
   "outputs": [
    {
     "data": {
      "text/plain": [
       "'Cluj'"
      ]
     },
     "execution_count": 185,
     "metadata": {},
     "output_type": "execute_result"
    }
   ],
   "source": [
    "judet = hospitals[['judet']][hospitals['judet']=='Cluj'].iloc[0][0]"
   ]
  },
  {
   "cell_type": "markdown",
   "metadata": {},
   "source": [
    "According to this dataset, how many hospitals are in this county?"
   ]
  },
  {
   "cell_type": "code",
   "execution_count": 190,
   "metadata": {},
   "outputs": [
    {
     "data": {
      "text/plain": [
       "36"
      ]
     },
     "execution_count": 190,
     "metadata": {},
     "output_type": "execute_result"
    }
   ],
   "source": [
    "len(hospitals[['nume']][hospitals['judet']=='Cluj'])"
   ]
  },
  {
   "cell_type": "markdown",
   "metadata": {},
   "source": [
    "For the chosen county, create a Dataframe that contains the following information:\n",
    "* judet\n",
    "* tip (public, privat)\n",
    "* count of unaccredited hospitals\n",
    "* count of accredited hospitals"
   ]
  },
  {
   "cell_type": "code",
   "execution_count": 197,
   "metadata": {},
   "outputs": [
    {
     "name": "stdout",
     "output_type": "stream",
     "text": [
      "          judet     tip\n",
      "0          Dolj  public\n",
      "1           Olt  public\n",
      "2     Bucuresti  public\n",
      "3        Brasov  public\n",
      "4          Arad  public\n",
      "...         ...     ...\n",
      "1360                   \n",
      "1361                   \n",
      "1362                   \n",
      "1363                   \n",
      "1364                   \n",
      "\n",
      "[1365 rows x 2 columns]\n"
     ]
    }
   ],
   "source": [
    "df = hospitals[['judet','tip']].copy()\n",
    "print(df)\n",
    "#stat = ...\n",
    "#stat.head()"
   ]
  },
  {
   "cell_type": "markdown",
   "metadata": {},
   "source": [
    "Create a plot that highlights\n",
    "* the number of accredited public hospitals\n",
    "* the number of accredited private hospitals\n",
    "* the number of unaccredited public hospitals\n",
    "* the number of unaccredited private hospitals\n",
    "\n",
    "The expected output for Bucuresti can be found  [here](/2022/python_workshop/notebooks/results/expected/output_test.png)."
   ]
  },
  {
   "cell_type": "code",
   "execution_count": null,
   "metadata": {},
   "outputs": [],
   "source": [
    "plot_acreditat = ..."
   ]
  },
  {
   "cell_type": "code",
   "execution_count": null,
   "metadata": {},
   "outputs": [],
   "source": []
  },
  {
   "cell_type": "code",
   "execution_count": null,
   "metadata": {},
   "outputs": [],
   "source": [
    "plot_neacreditat = ..."
   ]
  },
  {
   "cell_type": "code",
   "execution_count": null,
   "metadata": {},
   "outputs": [],
   "source": []
  },
  {
   "cell_type": "code",
   "execution_count": null,
   "metadata": {},
   "outputs": [],
   "source": [
    "plot_data = ...\n",
    "plot_data.head()"
   ]
  },
  {
   "cell_type": "code",
   "execution_count": null,
   "metadata": {},
   "outputs": [],
   "source": [
    "plot_data.plot(kind=\"bar\")"
   ]
  }
 ],
 "metadata": {
  "kernelspec": {
   "display_name": "Python 3.9.12 ('base')",
   "language": "python",
   "name": "python3"
  },
  "language_info": {
   "codemirror_mode": {
    "name": "ipython",
    "version": 3
   },
   "file_extension": ".py",
   "mimetype": "text/x-python",
   "name": "python",
   "nbconvert_exporter": "python",
   "pygments_lexer": "ipython3",
   "version": "3.9.12"
  },
  "orig_nbformat": 4,
  "vscode": {
   "interpreter": {
    "hash": "d31b83e9610685068a0fe73b54051d44dc1110027bef1c52e64b671e72faac45"
   }
  }
 },
 "nbformat": 4,
 "nbformat_minor": 2
}
