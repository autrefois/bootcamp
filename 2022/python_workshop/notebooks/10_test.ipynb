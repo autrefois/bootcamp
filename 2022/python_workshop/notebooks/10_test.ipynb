{
 "cells": [
  {
   "cell_type": "markdown",
   "metadata": {},
   "source": [
    "# Practical exam"
   ]
  },
  {
   "cell_type": "code",
   "execution_count": null,
   "metadata": {},
   "outputs": [],
   "source": [
    "### Please state your name here:\n",
    "\n",
    "UIFALEAN EMANUEL TUDOR "
   ]
  },
  {
   "cell_type": "code",
   "execution_count": 1,
   "metadata": {},
   "outputs": [
    {
     "name": "stdout",
     "output_type": "stream",
     "text": [
      "Note: you may need to restart the kernel to use updated packages.\n",
      "Note: you may need to restart the kernel to use updated packages.\n"
     ]
    }
   ],
   "source": [
    "# make sure requirements are up to date\n",
    "%pip install --upgrade pip >> results/requirements_log.txt\n",
    "%pip install -r ../requirements.txt >> results/requirements_log.txt"
   ]
  },
  {
   "cell_type": "markdown",
   "metadata": {},
   "source": [
    "### 1.\n",
    "\n",
    "Given the below snippet, add the necessary code lines in function f2 in order to obtain the expected output:"
   ]
  },
  {
   "cell_type": "code",
   "execution_count": 123,
   "metadata": {},
   "outputs": [
    {
     "name": "stdout",
     "output_type": "stream",
     "text": [
      "```\n",
      "~~~ 1 \n",
      "'cubbed':1\n",
      "'cubbed':1\n",
      "@@@ 1\n",
      "~~~ 2 \n",
      "'cubbed':8\n",
      "'cubbed':4\n",
      "@@@ 2\n",
      "~~~ 3 \n",
      "'cubbed':27\n",
      "'cubbed':9\n",
      "@@@ 3\n",
      "~~~ 4 \n",
      "'cubbed':64\n",
      "'cubbed':16\n",
      "@@@ 4\n",
      "`\n",
      "`\n",
      "`\n"
     ]
    }
   ],
   "source": [
    "def f2(n):\n",
    "    print(\"```\")\n",
    "    for i in range(1, n):\n",
    "        print(f\"~~~ {i} \")\n",
    "        print(f\"'cubbed':{i** 3}\")\n",
    "        print(f\"'cubbed':{i** 2}\")\n",
    "        print(f\"@@@ {i}\")\n",
    "    return \"```\"\n",
    "\n",
    "\n",
    "\n",
    "n = 5\n",
    "for x in f2(n):\n",
    "    print(x)\n"
   ]
  },
  {
   "cell_type": "markdown",
   "metadata": {},
   "source": [
    "Expected output:\n",
    "\n",
    "```\n",
    "~~~ 1\n",
    "{'cubed': 1}\n",
    "{'squared': 1}\n",
    "@@@ 1\n",
    "~~~ 2\n",
    "{'cubed': 8}\n",
    "{'squared': 4}\n",
    "@@@ 2\n",
    "~~~ 3\n",
    "{'cubed': 27}\n",
    "{'squared': 9}\n",
    "@@@ 3\n",
    "~~~ 4\n",
    "{'cubed': 64}\n",
    "{'squared': 16}\n",
    "@@@ 4\n",
    "```"
   ]
  },
  {
   "cell_type": "markdown",
   "metadata": {},
   "source": [
    "### 2.\n",
    "\n",
    "Under **resources**, there are two input files, [input_file_1.csv](/2022/python_workshop/notebooks/resources/input_file_1.csv) and [input_file_2.csv](/2022/python_workshop/notebooks/resources/input_file_2.csv).\n",
    "\n",
    "Given the two input files, remove the duplicates.\n",
    "\n",
    "If rows in all files are combined, there must be NO duplicates. Solution should include 2 functions, one for reading data from files and one for writing data to files. A partial solution without functions is accepted.\n",
    "\n",
    "Expected output: two separate output files under results/expected, [output_file_1.csv](/2022/python_workshop/notebooks/results/expected/output_file_1.csv) and [output_file_2.csv](/2022/python_workshop/notebooks/results/expected/output_file_2.csv)."
   ]
  },
  {
   "cell_type": "code",
   "execution_count": 102,
   "metadata": {},
   "outputs": [],
   "source": [
    "import pandas as pd\n",
    "df = pd.read_csv('./resources/input_file_1.csv').drop_duplicates(keep='first').reset_index()\n",
    "file_name = \"./resources/test.csv\"\n",
    "df.to_csv(file_name, index=False)\n",
    "df2 = pd.read_csv('./resources/input_file_2.csv').drop_duplicates(keep='first').reset_index()\n",
    "file_name2 = \"./resources/test2.csv\"\n",
    "df2.to_csv(file_name2, index=False)\n",
    "df3 = pd.concat([df, df2]).drop_duplicates().reset_index(drop=True)\n",
    "file_name3 = \"./resources/test3.csv\"\n",
    "df3.to_csv(file_name3, index=False)\n"
   ]
  },
  {
   "cell_type": "markdown",
   "metadata": {},
   "source": [
    "### 3.\n",
    "\n",
    "Using the [data.gov.ro](https://data.gov.ro/dataset/acreditarea-unitatilor-sanitare-2021) API, extract the \"accredited hospitals 2021\" data set (link available below).\n",
    "\n",
    "Alternatively, if the API is down, use the backup file **hospitals.csv** from the **resources** folder as a source."
   ]
  },
  {
   "cell_type": "code",
   "execution_count": 2,
   "metadata": {},
   "outputs": [],
   "source": [
    "import requests\n",
    "import pandas as pd"
   ]
  },
  {
   "cell_type": "code",
   "execution_count": 3,
   "metadata": {},
   "outputs": [
    {
     "data": {
      "text/html": [
       "<div>\n",
       "<style scoped>\n",
       "    .dataframe tbody tr th:only-of-type {\n",
       "        vertical-align: middle;\n",
       "    }\n",
       "\n",
       "    .dataframe tbody tr th {\n",
       "        vertical-align: top;\n",
       "    }\n",
       "\n",
       "    .dataframe thead th {\n",
       "        text-align: right;\n",
       "    }\n",
       "</style>\n",
       "<table border=\"1\" class=\"dataframe\">\n",
       "  <thead>\n",
       "    <tr style=\"text-align: right;\">\n",
       "      <th></th>\n",
       "      <th>Nr. Crt.</th>\n",
       "      <th>Nume</th>\n",
       "      <th>Cod A.N.M.C.S.</th>\n",
       "      <th>Judet</th>\n",
       "      <th>Clasificare</th>\n",
       "      <th>TIP USP (in functie de specificul patologiei tratate)</th>\n",
       "      <th>TIP USP (in functie de regimul proprietatii)</th>\n",
       "      <th>TIP USP (din punct de vedere al invatamantului si al cercetarii stiintifice medicale)</th>\n",
       "      <th>Adresa completa a sediului principal</th>\n",
       "      <th>Adresa email oficiala</th>\n",
       "      <th>Website</th>\n",
       "      <th>Autoritatea tutelara</th>\n",
       "      <th>Acreditare ciclul I</th>\n",
       "      <th>Acreditare ciclul II</th>\n",
       "      <th>Unnamed: 15</th>\n",
       "      <th>__1</th>\n",
       "      <th>__2</th>\n",
       "    </tr>\n",
       "  </thead>\n",
       "  <tbody>\n",
       "    <tr>\n",
       "      <th>0</th>\n",
       "      <td>1.0</td>\n",
       "      <td>SPITALUL MUNICIPAL CALAFAT</td>\n",
       "      <td>A001</td>\n",
       "      <td>Dolj</td>\n",
       "      <td>IV</td>\n",
       "      <td>general</td>\n",
       "      <td>public</td>\n",
       "      <td>fara invatamant</td>\n",
       "      <td>B-dul. T. Vladimirescu, Nr. 24, Calafat, cod 2...</td>\n",
       "      <td>spitalcalafat@gmail.com</td>\n",
       "      <td>spitalcalafat.ro</td>\n",
       "      <td>PRIMARIA MUNICIPIULUI CALAFAT</td>\n",
       "      <td>Acreditat</td>\n",
       "      <td>Categoria V Decizie de prelungire a procesului...</td>\n",
       "      <td>NaN</td>\n",
       "      <td>NaN</td>\n",
       "      <td>NaN</td>\n",
       "    </tr>\n",
       "    <tr>\n",
       "      <th>1</th>\n",
       "      <td>2.0</td>\n",
       "      <td>SPITALUL DE PSIHIATRIE CRONICI SCHITU GRECI</td>\n",
       "      <td>A002</td>\n",
       "      <td>Olt</td>\n",
       "      <td>V</td>\n",
       "      <td>afectiuni cronice</td>\n",
       "      <td>public</td>\n",
       "      <td>fara invatamant</td>\n",
       "      <td>SLATINA STR. A. I. CUZA NR. 14</td>\n",
       "      <td>spitalulschitu@gmail.com</td>\n",
       "      <td>www.spitalul-schitu.ro</td>\n",
       "      <td>CONSILIUL JUDETEAN OLT</td>\n",
       "      <td>Acreditat</td>\n",
       "      <td>Categoria V Decizie de prelungire a procesului...</td>\n",
       "      <td>NaN</td>\n",
       "      <td>NaN</td>\n",
       "      <td>NaN</td>\n",
       "    </tr>\n",
       "    <tr>\n",
       "      <th>2</th>\n",
       "      <td>3.0</td>\n",
       "      <td>SPITALUL CLINIC NICOLAE MALAXA</td>\n",
       "      <td>A003</td>\n",
       "      <td>Bucuresti</td>\n",
       "      <td>III</td>\n",
       "      <td>general</td>\n",
       "      <td>public</td>\n",
       "      <td>clinic cu sectii universitare</td>\n",
       "      <td>STR. DIMITRIE CANTEMIR, NR.1, PARTER, SECT.4, ...</td>\n",
       "      <td>secretariat@spitalmalaxa.ro</td>\n",
       "      <td>www.spitalmalaxa.ro</td>\n",
       "      <td>ASSMB</td>\n",
       "      <td>Acreditat</td>\n",
       "      <td>Categoria IV Acreditat cu incredere redusa</td>\n",
       "      <td>NaN</td>\n",
       "      <td>NaN</td>\n",
       "      <td>NaN</td>\n",
       "    </tr>\n",
       "    <tr>\n",
       "      <th>3</th>\n",
       "      <td>4.0</td>\n",
       "      <td>SPITALUL MILITAR DE URGENTA \"REGINA MARIA\" BRA?OV</td>\n",
       "      <td>A004</td>\n",
       "      <td>Brasov</td>\n",
       "      <td>III</td>\n",
       "      <td>urgenta</td>\n",
       "      <td>public</td>\n",
       "      <td>fara invatamant</td>\n",
       "      <td>Bucuresti, Str. Institutul Medico-Militar, Nr....</td>\n",
       "      <td>smureginamaria@rdsbv.ro</td>\n",
       "      <td>www.smubrasov.ro</td>\n",
       "      <td>DIRECtIA MEDICALa a Ministerului Apararii Nati...</td>\n",
       "      <td>Acreditat</td>\n",
       "      <td>Categoria II Acreditat cu recomandari</td>\n",
       "      <td>NaN</td>\n",
       "      <td>NaN</td>\n",
       "      <td>NaN</td>\n",
       "    </tr>\n",
       "    <tr>\n",
       "      <th>4</th>\n",
       "      <td>5.0</td>\n",
       "      <td>SPITALUL ORASENESC INEU</td>\n",
       "      <td>A005</td>\n",
       "      <td>Arad</td>\n",
       "      <td>IV</td>\n",
       "      <td>general</td>\n",
       "      <td>public</td>\n",
       "      <td>fara invatamant</td>\n",
       "      <td>Calea Republicii, nr. 5</td>\n",
       "      <td>spitalineu@yahoo.ro</td>\n",
       "      <td>http://www.spitalineu.ro</td>\n",
       "      <td>Primaria Orasului Ineu</td>\n",
       "      <td>Acreditat</td>\n",
       "      <td>Categoria V Decizie de prelungire a procesului...</td>\n",
       "      <td>NaN</td>\n",
       "      <td>NaN</td>\n",
       "      <td>NaN</td>\n",
       "    </tr>\n",
       "  </tbody>\n",
       "</table>\n",
       "</div>"
      ],
      "text/plain": [
       "   Nr. Crt.                                               Nume Cod A.N.M.C.S.  \\\n",
       "0       1.0                         SPITALUL MUNICIPAL CALAFAT           A001   \n",
       "1       2.0        SPITALUL DE PSIHIATRIE CRONICI SCHITU GRECI           A002   \n",
       "2       3.0                     SPITALUL CLINIC NICOLAE MALAXA           A003   \n",
       "3       4.0  SPITALUL MILITAR DE URGENTA \"REGINA MARIA\" BRA?OV           A004   \n",
       "4       5.0                            SPITALUL ORASENESC INEU           A005   \n",
       "\n",
       "       Judet Clasificare  \\\n",
       "0       Dolj          IV   \n",
       "1        Olt           V   \n",
       "2  Bucuresti         III   \n",
       "3     Brasov         III   \n",
       "4       Arad          IV   \n",
       "\n",
       "  TIP USP (in functie de specificul patologiei tratate)  \\\n",
       "0                                            general      \n",
       "1                                  afectiuni cronice      \n",
       "2                                            general      \n",
       "3                                            urgenta      \n",
       "4                                            general      \n",
       "\n",
       "  TIP USP (in functie de regimul proprietatii)  \\\n",
       "0                                       public   \n",
       "1                                       public   \n",
       "2                                       public   \n",
       "3                                       public   \n",
       "4                                       public   \n",
       "\n",
       "  TIP USP (din punct de vedere al invatamantului si al cercetarii stiintifice medicale)  \\\n",
       "0                                    fara invatamant                                      \n",
       "1                                    fara invatamant                                      \n",
       "2                      clinic cu sectii universitare                                      \n",
       "3                                    fara invatamant                                      \n",
       "4                                    fara invatamant                                      \n",
       "\n",
       "                Adresa completa a sediului principal  \\\n",
       "0  B-dul. T. Vladimirescu, Nr. 24, Calafat, cod 2...   \n",
       "1                     SLATINA STR. A. I. CUZA NR. 14   \n",
       "2  STR. DIMITRIE CANTEMIR, NR.1, PARTER, SECT.4, ...   \n",
       "3  Bucuresti, Str. Institutul Medico-Militar, Nr....   \n",
       "4                            Calea Republicii, nr. 5   \n",
       "\n",
       "         Adresa email oficiala                   Website  \\\n",
       "0      spitalcalafat@gmail.com          spitalcalafat.ro   \n",
       "1     spitalulschitu@gmail.com    www.spitalul-schitu.ro   \n",
       "2  secretariat@spitalmalaxa.ro       www.spitalmalaxa.ro   \n",
       "3      smureginamaria@rdsbv.ro          www.smubrasov.ro   \n",
       "4          spitalineu@yahoo.ro  http://www.spitalineu.ro   \n",
       "\n",
       "                                Autoritatea tutelara Acreditare ciclul I  \\\n",
       "0                      PRIMARIA MUNICIPIULUI CALAFAT           Acreditat   \n",
       "1                             CONSILIUL JUDETEAN OLT           Acreditat   \n",
       "2                                              ASSMB           Acreditat   \n",
       "3  DIRECtIA MEDICALa a Ministerului Apararii Nati...           Acreditat   \n",
       "4                             Primaria Orasului Ineu           Acreditat   \n",
       "\n",
       "                                Acreditare ciclul II  Unnamed: 15  __1  __2  \n",
       "0  Categoria V Decizie de prelungire a procesului...          NaN  NaN  NaN  \n",
       "1  Categoria V Decizie de prelungire a procesului...          NaN  NaN  NaN  \n",
       "2         Categoria IV Acreditat cu incredere redusa          NaN  NaN  NaN  \n",
       "3              Categoria II Acreditat cu recomandari          NaN  NaN  NaN  \n",
       "4  Categoria V Decizie de prelungire a procesului...          NaN  NaN  NaN  "
      ]
     },
     "execution_count": 3,
     "metadata": {},
     "output_type": "execute_result"
    }
   ],
   "source": [
    "url_hospitals = 'https://data.gov.ro/dataset/4197b53e-7c91-4fcc-be07-883076d40ffc/resource/7a343719-d625-4b5c-98b5-895a684d61c4/download/anmcs-acreditare-unitati-sanitare-dec2021.json'\n",
    "\n",
    "\n",
    "hospitals = pd.read_csv('./resources/hospital.csv', index_col=0)\n",
    "\n",
    "hospitals.head()"
   ]
  },
  {
   "cell_type": "markdown",
   "metadata": {},
   "source": [
    "How many rows are in this dataset?"
   ]
  },
  {
   "cell_type": "code",
   "execution_count": 4,
   "metadata": {},
   "outputs": [
    {
     "name": "stdout",
     "output_type": "stream",
     "text": [
      "randuri -> 1365\n"
     ]
    }
   ],
   "source": [
    "print(\"randuri ->\",hospitals.shape[0])"
   ]
  },
  {
   "cell_type": "markdown",
   "metadata": {},
   "source": [
    "What are the columns in this dataset?"
   ]
  },
  {
   "cell_type": "code",
   "execution_count": 5,
   "metadata": {},
   "outputs": [
    {
     "name": "stdout",
     "output_type": "stream",
     "text": [
      "coloane -> 17\n"
     ]
    }
   ],
   "source": [
    "print(\"coloane ->\",hospitals.shape[1])"
   ]
  },
  {
   "cell_type": "markdown",
   "metadata": {},
   "source": [
    "Drop the unnecessary columns:\n",
    "* Nr. Crt.\n",
    "* TIP USP (din punct de vedere al invatamantului si al cercetarii stiintifice medicale)\n",
    "* the last three columns"
   ]
  },
  {
   "cell_type": "code",
   "execution_count": 6,
   "metadata": {},
   "outputs": [
    {
     "data": {
      "text/html": [
       "<div>\n",
       "<style scoped>\n",
       "    .dataframe tbody tr th:only-of-type {\n",
       "        vertical-align: middle;\n",
       "    }\n",
       "\n",
       "    .dataframe tbody tr th {\n",
       "        vertical-align: top;\n",
       "    }\n",
       "\n",
       "    .dataframe thead th {\n",
       "        text-align: right;\n",
       "    }\n",
       "</style>\n",
       "<table border=\"1\" class=\"dataframe\">\n",
       "  <thead>\n",
       "    <tr style=\"text-align: right;\">\n",
       "      <th></th>\n",
       "      <th>Nume</th>\n",
       "      <th>Cod A.N.M.C.S.</th>\n",
       "      <th>Judet</th>\n",
       "      <th>Clasificare</th>\n",
       "      <th>TIP USP (in functie de specificul patologiei tratate)</th>\n",
       "      <th>TIP USP (in functie de regimul proprietatii)</th>\n",
       "      <th>Adresa completa a sediului principal</th>\n",
       "      <th>Adresa email oficiala</th>\n",
       "      <th>Website</th>\n",
       "      <th>Autoritatea tutelara</th>\n",
       "      <th>Acreditare ciclul I</th>\n",
       "      <th>Acreditare ciclul II</th>\n",
       "    </tr>\n",
       "  </thead>\n",
       "  <tbody>\n",
       "    <tr>\n",
       "      <th>0</th>\n",
       "      <td>SPITALUL MUNICIPAL CALAFAT</td>\n",
       "      <td>A001</td>\n",
       "      <td>Dolj</td>\n",
       "      <td>IV</td>\n",
       "      <td>general</td>\n",
       "      <td>public</td>\n",
       "      <td>B-dul. T. Vladimirescu, Nr. 24, Calafat, cod 2...</td>\n",
       "      <td>spitalcalafat@gmail.com</td>\n",
       "      <td>spitalcalafat.ro</td>\n",
       "      <td>PRIMARIA MUNICIPIULUI CALAFAT</td>\n",
       "      <td>Acreditat</td>\n",
       "      <td>Categoria V Decizie de prelungire a procesului...</td>\n",
       "    </tr>\n",
       "    <tr>\n",
       "      <th>1</th>\n",
       "      <td>SPITALUL DE PSIHIATRIE CRONICI SCHITU GRECI</td>\n",
       "      <td>A002</td>\n",
       "      <td>Olt</td>\n",
       "      <td>V</td>\n",
       "      <td>afectiuni cronice</td>\n",
       "      <td>public</td>\n",
       "      <td>SLATINA STR. A. I. CUZA NR. 14</td>\n",
       "      <td>spitalulschitu@gmail.com</td>\n",
       "      <td>www.spitalul-schitu.ro</td>\n",
       "      <td>CONSILIUL JUDETEAN OLT</td>\n",
       "      <td>Acreditat</td>\n",
       "      <td>Categoria V Decizie de prelungire a procesului...</td>\n",
       "    </tr>\n",
       "    <tr>\n",
       "      <th>2</th>\n",
       "      <td>SPITALUL CLINIC NICOLAE MALAXA</td>\n",
       "      <td>A003</td>\n",
       "      <td>Bucuresti</td>\n",
       "      <td>III</td>\n",
       "      <td>general</td>\n",
       "      <td>public</td>\n",
       "      <td>STR. DIMITRIE CANTEMIR, NR.1, PARTER, SECT.4, ...</td>\n",
       "      <td>secretariat@spitalmalaxa.ro</td>\n",
       "      <td>www.spitalmalaxa.ro</td>\n",
       "      <td>ASSMB</td>\n",
       "      <td>Acreditat</td>\n",
       "      <td>Categoria IV Acreditat cu incredere redusa</td>\n",
       "    </tr>\n",
       "    <tr>\n",
       "      <th>3</th>\n",
       "      <td>SPITALUL MILITAR DE URGENTA \"REGINA MARIA\" BRA?OV</td>\n",
       "      <td>A004</td>\n",
       "      <td>Brasov</td>\n",
       "      <td>III</td>\n",
       "      <td>urgenta</td>\n",
       "      <td>public</td>\n",
       "      <td>Bucuresti, Str. Institutul Medico-Militar, Nr....</td>\n",
       "      <td>smureginamaria@rdsbv.ro</td>\n",
       "      <td>www.smubrasov.ro</td>\n",
       "      <td>DIRECtIA MEDICALa a Ministerului Apararii Nati...</td>\n",
       "      <td>Acreditat</td>\n",
       "      <td>Categoria II Acreditat cu recomandari</td>\n",
       "    </tr>\n",
       "    <tr>\n",
       "      <th>4</th>\n",
       "      <td>SPITALUL ORASENESC INEU</td>\n",
       "      <td>A005</td>\n",
       "      <td>Arad</td>\n",
       "      <td>IV</td>\n",
       "      <td>general</td>\n",
       "      <td>public</td>\n",
       "      <td>Calea Republicii, nr. 5</td>\n",
       "      <td>spitalineu@yahoo.ro</td>\n",
       "      <td>http://www.spitalineu.ro</td>\n",
       "      <td>Primaria Orasului Ineu</td>\n",
       "      <td>Acreditat</td>\n",
       "      <td>Categoria V Decizie de prelungire a procesului...</td>\n",
       "    </tr>\n",
       "  </tbody>\n",
       "</table>\n",
       "</div>"
      ],
      "text/plain": [
       "                                                Nume Cod A.N.M.C.S.  \\\n",
       "0                         SPITALUL MUNICIPAL CALAFAT           A001   \n",
       "1        SPITALUL DE PSIHIATRIE CRONICI SCHITU GRECI           A002   \n",
       "2                     SPITALUL CLINIC NICOLAE MALAXA           A003   \n",
       "3  SPITALUL MILITAR DE URGENTA \"REGINA MARIA\" BRA?OV           A004   \n",
       "4                            SPITALUL ORASENESC INEU           A005   \n",
       "\n",
       "       Judet Clasificare  \\\n",
       "0       Dolj          IV   \n",
       "1        Olt           V   \n",
       "2  Bucuresti         III   \n",
       "3     Brasov         III   \n",
       "4       Arad          IV   \n",
       "\n",
       "  TIP USP (in functie de specificul patologiei tratate)  \\\n",
       "0                                            general      \n",
       "1                                  afectiuni cronice      \n",
       "2                                            general      \n",
       "3                                            urgenta      \n",
       "4                                            general      \n",
       "\n",
       "  TIP USP (in functie de regimul proprietatii)  \\\n",
       "0                                       public   \n",
       "1                                       public   \n",
       "2                                       public   \n",
       "3                                       public   \n",
       "4                                       public   \n",
       "\n",
       "                Adresa completa a sediului principal  \\\n",
       "0  B-dul. T. Vladimirescu, Nr. 24, Calafat, cod 2...   \n",
       "1                     SLATINA STR. A. I. CUZA NR. 14   \n",
       "2  STR. DIMITRIE CANTEMIR, NR.1, PARTER, SECT.4, ...   \n",
       "3  Bucuresti, Str. Institutul Medico-Militar, Nr....   \n",
       "4                            Calea Republicii, nr. 5   \n",
       "\n",
       "         Adresa email oficiala                   Website  \\\n",
       "0      spitalcalafat@gmail.com          spitalcalafat.ro   \n",
       "1     spitalulschitu@gmail.com    www.spitalul-schitu.ro   \n",
       "2  secretariat@spitalmalaxa.ro       www.spitalmalaxa.ro   \n",
       "3      smureginamaria@rdsbv.ro          www.smubrasov.ro   \n",
       "4          spitalineu@yahoo.ro  http://www.spitalineu.ro   \n",
       "\n",
       "                                Autoritatea tutelara Acreditare ciclul I  \\\n",
       "0                      PRIMARIA MUNICIPIULUI CALAFAT           Acreditat   \n",
       "1                             CONSILIUL JUDETEAN OLT           Acreditat   \n",
       "2                                              ASSMB           Acreditat   \n",
       "3  DIRECtIA MEDICALa a Ministerului Apararii Nati...           Acreditat   \n",
       "4                             Primaria Orasului Ineu           Acreditat   \n",
       "\n",
       "                                Acreditare ciclul II  \n",
       "0  Categoria V Decizie de prelungire a procesului...  \n",
       "1  Categoria V Decizie de prelungire a procesului...  \n",
       "2         Categoria IV Acreditat cu incredere redusa  \n",
       "3              Categoria II Acreditat cu recomandari  \n",
       "4  Categoria V Decizie de prelungire a procesului...  "
      ]
     },
     "execution_count": 6,
     "metadata": {},
     "output_type": "execute_result"
    }
   ],
   "source": [
    "hospitals.drop('Nr. Crt.', axis=1, inplace=True)\n",
    "hospitals.drop('TIP USP (din punct de vedere al invatamantului si al cercetarii stiintifice medicale)', axis=1, inplace=True)\n",
    "hospitals.drop(columns=hospitals.columns[-3:], axis=1,  inplace=True)\n",
    "\n",
    "hospitals.head()"
   ]
  },
  {
   "cell_type": "markdown",
   "metadata": {},
   "source": [
    "Apply the following transformations to the columns, so that they are easier to work with:\n",
    "* lowercase all columns\n",
    "* `TIP USP (in functie de specificul patologiei tratate)` rename to `tip_patologie`\n",
    "* `TIP USP (in functie de regimul proprietatii)` rename to `tip`\n",
    "* `Adresa completa a sediului principal` rename to `adresa`\n",
    "* `Adresa email oficiala` rename to `email`\n",
    "* `Autoritatea tutelara` rename to `autoritate_tutelara`\n",
    "* `Acreditare ciclul I` rename to `acreditare_i`\n",
    "* `Acreditare ciclul II` rename to `acreditare_ii`"
   ]
  },
  {
   "cell_type": "code",
   "execution_count": 7,
   "metadata": {},
   "outputs": [
    {
     "data": {
      "text/plain": [
       "Index(['nume', 'cod a.n.m.c.s.', 'judet', 'clasificare', 'tip_patologie',\n",
       "       'tip', 'adresa', 'email', 'website', 'autoritate_tutelara',\n",
       "       'acreditare_i', 'acreditare_ii'],\n",
       "      dtype='object')"
      ]
     },
     "execution_count": 7,
     "metadata": {},
     "output_type": "execute_result"
    }
   ],
   "source": [
    "\n",
    "\n",
    "hospitals.rename(\n",
    "    columns={\n",
    "        'TIP USP (in functie de specificul patologiei tratate)': 'tip_patologie',\n",
    "        'TIP USP (in functie de regimul proprietatii)': 'tip',\n",
    "        'Adresa completa a sediului principal': 'adresa',\n",
    "        'Adresa email oficiala': 'email',\n",
    "        'Autoritatea tutelara': 'autoritate_tutelara',\n",
    "        'Acreditare ciclul I': 'acreditare_i',\n",
    "        'Acreditare ciclul II': 'acreditare_ii'\n",
    "    },\n",
    "    inplace=True # careful with this!\n",
    ")\n",
    "hospitals = hospitals.rename(columns=lambda x: x.lower())\n",
    "hospitals.columns\n",
    "\n"
   ]
  },
  {
   "cell_type": "markdown",
   "metadata": {},
   "source": [
    "The total number of hospitals in this dataset is 762, however the actual number of rows is greater than that.\n",
    "\n",
    "Identify and remove the empty (blank space) rows."
   ]
  },
  {
   "cell_type": "code",
   "execution_count": 8,
   "metadata": {},
   "outputs": [
    {
     "data": {
      "text/plain": [
       "nume                   603\n",
       "cod a.n.m.c.s.         603\n",
       "judet                  603\n",
       "clasificare            605\n",
       "tip_patologie          604\n",
       "tip                    603\n",
       "adresa                 608\n",
       "email                  603\n",
       "website                603\n",
       "autoritate_tutelara    603\n",
       "acreditare_i           603\n",
       "acreditare_ii          603\n",
       "dtype: int64"
      ]
     },
     "execution_count": 8,
     "metadata": {},
     "output_type": "execute_result"
    }
   ],
   "source": [
    "hospitals.isnull().sum()"
   ]
  },
  {
   "cell_type": "code",
   "execution_count": 9,
   "metadata": {},
   "outputs": [],
   "source": [
    "hospitals.dropna(how='all', inplace = True) \n"
   ]
  },
  {
   "cell_type": "markdown",
   "metadata": {},
   "source": [
    "How many public hospitals and how many private hospitals are in this dataset?"
   ]
  },
  {
   "cell_type": "code",
   "execution_count": 14,
   "metadata": {},
   "outputs": [
    {
     "name": "stdout",
     "output_type": "stream",
     "text": [
      "Spitale publice -> 380\n",
      "Spitale private -> 382\n"
     ]
    }
   ],
   "source": [
    "# hospitals[\"tip\"]\n",
    "publice = hospitals[(hospitals[\"tip\"] == \"public\")].count().iloc[0]\n",
    "print(f\"Spitale publice -> {publice}\")\n",
    "private = hospitals[(hospitals[\"tip\"] == \"privat\")].count().iloc[0]\n",
    "print(f\"Spitale private -> {private}\")"
   ]
  },
  {
   "cell_type": "markdown",
   "metadata": {},
   "source": [
    "Inspect the values in the `acreditare_i` column + print them."
   ]
  },
  {
   "cell_type": "code",
   "execution_count": 106,
   "metadata": {},
   "outputs": [
    {
     "name": "stdout",
     "output_type": "stream",
     "text": [
      "Numarul tipurilor de valori distincte: 3\n"
     ]
    }
   ],
   "source": [
    "hospitals[\"acreditare_i\"]\n",
    "print(f\"Numarul tipurilor de valori distincte: {len(hospitals.groupby(['acreditare_i']))}\")\n"
   ]
  },
  {
   "cell_type": "markdown",
   "metadata": {},
   "source": [
    "Create a dataframe containing the hospitals that are *not* accredited."
   ]
  },
  {
   "cell_type": "code",
   "execution_count": 17,
   "metadata": {},
   "outputs": [
    {
     "data": {
      "text/html": [
       "<div>\n",
       "<style scoped>\n",
       "    .dataframe tbody tr th:only-of-type {\n",
       "        vertical-align: middle;\n",
       "    }\n",
       "\n",
       "    .dataframe tbody tr th {\n",
       "        vertical-align: top;\n",
       "    }\n",
       "\n",
       "    .dataframe thead th {\n",
       "        text-align: right;\n",
       "    }\n",
       "</style>\n",
       "<table border=\"1\" class=\"dataframe\">\n",
       "  <thead>\n",
       "    <tr style=\"text-align: right;\">\n",
       "      <th></th>\n",
       "      <th>nume</th>\n",
       "      <th>cod a.n.m.c.s.</th>\n",
       "      <th>judet</th>\n",
       "      <th>clasificare</th>\n",
       "      <th>tip_patologie</th>\n",
       "      <th>tip</th>\n",
       "      <th>adresa</th>\n",
       "      <th>email</th>\n",
       "      <th>website</th>\n",
       "      <th>autoritate_tutelara</th>\n",
       "      <th>acreditare_i</th>\n",
       "      <th>acreditare_ii</th>\n",
       "    </tr>\n",
       "  </thead>\n",
       "  <tbody>\n",
       "    <tr>\n",
       "      <th>188</th>\n",
       "      <td>SOCIETATEA DR IRIMIA SRL</td>\n",
       "      <td>A50009</td>\n",
       "      <td>Arges</td>\n",
       "      <td>Neclasificat</td>\n",
       "      <td>general</td>\n",
       "      <td>privat</td>\n",
       "      <td>PITESTI, str.Negru Voda, nr.3-5</td>\n",
       "      <td>infodririmia@yahoo.ro</td>\n",
       "      <td>www.dririmia.ro</td>\n",
       "      <td>SC DR.IRIMIA SRL</td>\n",
       "      <td>Neacreditat</td>\n",
       "      <td>Unitate aflata in proces de acreditare</td>\n",
       "    </tr>\n",
       "    <tr>\n",
       "      <th>214</th>\n",
       "      <td>SPITALUL ORASENESC FAUREI</td>\n",
       "      <td>A50035</td>\n",
       "      <td>Braila</td>\n",
       "      <td>V</td>\n",
       "      <td>general</td>\n",
       "      <td>public</td>\n",
       "      <td>STR.REPUBLICII,NR.46</td>\n",
       "      <td>spit_or_faurei@yahoo.com</td>\n",
       "      <td>www.spitalfaurei.ro</td>\n",
       "      <td>CONSILIUL LOCAL FAUREI</td>\n",
       "      <td>Neacreditat</td>\n",
       "      <td>Categoria VI Neacreditat</td>\n",
       "    </tr>\n",
       "    <tr>\n",
       "      <th>424</th>\n",
       "      <td>S.C. MUNTENIA MEDICAL COMPETENCES S.A</td>\n",
       "      <td>B001</td>\n",
       "      <td>Arges</td>\n",
       "      <td>V</td>\n",
       "      <td>general</td>\n",
       "      <td>privat</td>\n",
       "      <td>Arges, Pitesti, Str. Pictor N Grigorescu nr. 2 A</td>\n",
       "      <td>office@munteniahospital.ro</td>\n",
       "      <td>www.munteniahospital.ro</td>\n",
       "      <td>Muntenia Medical Competences S.A</td>\n",
       "      <td>-</td>\n",
       "      <td>Categoria II Acreditat cu recomandari</td>\n",
       "    </tr>\n",
       "    <tr>\n",
       "      <th>425</th>\n",
       "      <td>SPITALUL MUNICIPAL CODLEA</td>\n",
       "      <td>B002</td>\n",
       "      <td>Brasov</td>\n",
       "      <td>V</td>\n",
       "      <td>general</td>\n",
       "      <td>public</td>\n",
       "      <td>CODLEA, STR. LUNGA NR. 33</td>\n",
       "      <td>spitalulcodlea@yahoo.com</td>\n",
       "      <td>www.spitalulcodlea.ro</td>\n",
       "      <td>CONSILIUL LOCAL CODLEA</td>\n",
       "      <td>-</td>\n",
       "      <td>Categoria III Acreditat cu rezerve</td>\n",
       "    </tr>\n",
       "    <tr>\n",
       "      <th>426</th>\n",
       "      <td>SOCIETATEA CENTRUL MEDICAL POLICLINICO DI MONZ...</td>\n",
       "      <td>B004</td>\n",
       "      <td>Bucuresti</td>\n",
       "      <td>V</td>\n",
       "      <td>general</td>\n",
       "      <td>privat</td>\n",
       "      <td>str. Tony Bulandra nr.27</td>\n",
       "      <td>secretariat@spitalulmonza.ro</td>\n",
       "      <td>www.spitalulmonza.ro</td>\n",
       "      <td>SC CENTRUL MEDICAL POLICLINICO DI MONZA SRL</td>\n",
       "      <td>-</td>\n",
       "      <td>Categoria II Acreditat cu recomandari</td>\n",
       "    </tr>\n",
       "    <tr>\n",
       "      <th>...</th>\n",
       "      <td>...</td>\n",
       "      <td>...</td>\n",
       "      <td>...</td>\n",
       "      <td>...</td>\n",
       "      <td>...</td>\n",
       "      <td>...</td>\n",
       "      <td>...</td>\n",
       "      <td>...</td>\n",
       "      <td>...</td>\n",
       "      <td>...</td>\n",
       "      <td>...</td>\n",
       "      <td>...</td>\n",
       "    </tr>\n",
       "    <tr>\n",
       "      <th>757</th>\n",
       "      <td>CENTRUL MEDICAL ONCOHELP SRL</td>\n",
       "      <td>B399</td>\n",
       "      <td>Arad</td>\n",
       "      <td>V</td>\n",
       "      <td>specialitate</td>\n",
       "      <td>privat</td>\n",
       "      <td>Arad, str. Andrei Saguna nr.12</td>\n",
       "      <td>oncohelparad@gmail.com</td>\n",
       "      <td>oncohelparad.ro</td>\n",
       "      <td>privat</td>\n",
       "      <td>-</td>\n",
       "      <td>Unitate aflata in proces de acreditare</td>\n",
       "    </tr>\n",
       "    <tr>\n",
       "      <th>758</th>\n",
       "      <td>SC MATER ANIMA SRL</td>\n",
       "      <td>B400</td>\n",
       "      <td>Suceava</td>\n",
       "      <td>Neclasificat</td>\n",
       "      <td>specialitate</td>\n",
       "      <td>privat</td>\n",
       "      <td>Ipotesti, str. Stefan cel Mare 1079, jud Suceava</td>\n",
       "      <td>office@clinica-heredita.ro</td>\n",
       "      <td>www.clinica-hereditas.ro</td>\n",
       "      <td>privat</td>\n",
       "      <td>-</td>\n",
       "      <td>Unitate aflata in proces de acreditare</td>\n",
       "    </tr>\n",
       "    <tr>\n",
       "      <th>759</th>\n",
       "      <td>POPMED SERV SRL</td>\n",
       "      <td>B401</td>\n",
       "      <td>Mures</td>\n",
       "      <td>Neclasificat</td>\n",
       "      <td>pentru bolnavi cu afectiuni cronice</td>\n",
       "      <td>privat</td>\n",
       "      <td>REGHIN, STR. STEJARULUI, NR.3, JUD. MURES</td>\n",
       "      <td>popmedserv@yahoo.com</td>\n",
       "      <td>www.popmedserv.ro</td>\n",
       "      <td>SC POPMED SERV SRL</td>\n",
       "      <td>-</td>\n",
       "      <td>Unitate aflata in proces de acreditare</td>\n",
       "    </tr>\n",
       "    <tr>\n",
       "      <th>760</th>\n",
       "      <td>SPITALUL ORASENESC VICTORIA</td>\n",
       "      <td>B403</td>\n",
       "      <td>Brasov</td>\n",
       "      <td>Neclasificat</td>\n",
       "      <td>general</td>\n",
       "      <td>public</td>\n",
       "      <td>Str.Baii nr.2, orasul Victoria, jud.Brasov</td>\n",
       "      <td>spitalulorasenescvictoria@yahoo.com</td>\n",
       "      <td>www.spitalulorasenescvictoria.ro</td>\n",
       "      <td>UNITATEA ADMINISTRATIV TERITORIALA VICTORIA</td>\n",
       "      <td>-</td>\n",
       "      <td>Unitate aflata in proces de acreditare</td>\n",
       "    </tr>\n",
       "    <tr>\n",
       "      <th>761</th>\n",
       "      <td>CENTRUL MEDICAL DOROBANTI</td>\n",
       "      <td>B405</td>\n",
       "      <td>Constanta</td>\n",
       "      <td>Neclasificat</td>\n",
       "      <td>general</td>\n",
       "      <td>privat</td>\n",
       "      <td>Str. Dreptatii, nr 10</td>\n",
       "      <td>info@centrulmedicaldorobanti.ro</td>\n",
       "      <td>https://centrulmedicaldorobanti.ro/</td>\n",
       "      <td>Centrul Medical Dorobanti</td>\n",
       "      <td>-</td>\n",
       "      <td>Unitate aflata in proces de acreditare</td>\n",
       "    </tr>\n",
       "  </tbody>\n",
       "</table>\n",
       "<p>340 rows × 12 columns</p>\n",
       "</div>"
      ],
      "text/plain": [
       "                                                  nume cod a.n.m.c.s.  \\\n",
       "188                           SOCIETATEA DR IRIMIA SRL         A50009   \n",
       "214                          SPITALUL ORASENESC FAUREI         A50035   \n",
       "424              S.C. MUNTENIA MEDICAL COMPETENCES S.A           B001   \n",
       "425                          SPITALUL MUNICIPAL CODLEA           B002   \n",
       "426  SOCIETATEA CENTRUL MEDICAL POLICLINICO DI MONZ...           B004   \n",
       "..                                                 ...            ...   \n",
       "757                       CENTRUL MEDICAL ONCOHELP SRL           B399   \n",
       "758                                 SC MATER ANIMA SRL           B400   \n",
       "759                                    POPMED SERV SRL           B401   \n",
       "760                        SPITALUL ORASENESC VICTORIA           B403   \n",
       "761                          CENTRUL MEDICAL DOROBANTI           B405   \n",
       "\n",
       "         judet   clasificare                        tip_patologie     tip  \\\n",
       "188      Arges  Neclasificat                              general  privat   \n",
       "214     Braila             V                              general  public   \n",
       "424      Arges             V                              general  privat   \n",
       "425     Brasov             V                              general  public   \n",
       "426  Bucuresti             V                              general  privat   \n",
       "..         ...           ...                                  ...     ...   \n",
       "757       Arad             V                         specialitate  privat   \n",
       "758    Suceava  Neclasificat                         specialitate  privat   \n",
       "759      Mures  Neclasificat  pentru bolnavi cu afectiuni cronice  privat   \n",
       "760     Brasov  Neclasificat                              general  public   \n",
       "761  Constanta  Neclasificat                              general  privat   \n",
       "\n",
       "                                               adresa  \\\n",
       "188                   PITESTI, str.Negru Voda, nr.3-5   \n",
       "214                              STR.REPUBLICII,NR.46   \n",
       "424  Arges, Pitesti, Str. Pictor N Grigorescu nr. 2 A   \n",
       "425                         CODLEA, STR. LUNGA NR. 33   \n",
       "426                          str. Tony Bulandra nr.27   \n",
       "..                                                ...   \n",
       "757                    Arad, str. Andrei Saguna nr.12   \n",
       "758  Ipotesti, str. Stefan cel Mare 1079, jud Suceava   \n",
       "759         REGHIN, STR. STEJARULUI, NR.3, JUD. MURES   \n",
       "760        Str.Baii nr.2, orasul Victoria, jud.Brasov   \n",
       "761                             Str. Dreptatii, nr 10   \n",
       "\n",
       "                                   email                              website  \\\n",
       "188                infodririmia@yahoo.ro                      www.dririmia.ro   \n",
       "214             spit_or_faurei@yahoo.com                  www.spitalfaurei.ro   \n",
       "424           office@munteniahospital.ro              www.munteniahospital.ro   \n",
       "425             spitalulcodlea@yahoo.com                www.spitalulcodlea.ro   \n",
       "426         secretariat@spitalulmonza.ro                 www.spitalulmonza.ro   \n",
       "..                                   ...                                  ...   \n",
       "757               oncohelparad@gmail.com                      oncohelparad.ro   \n",
       "758           office@clinica-heredita.ro             www.clinica-hereditas.ro   \n",
       "759                 popmedserv@yahoo.com                    www.popmedserv.ro   \n",
       "760  spitalulorasenescvictoria@yahoo.com     www.spitalulorasenescvictoria.ro   \n",
       "761      info@centrulmedicaldorobanti.ro  https://centrulmedicaldorobanti.ro/   \n",
       "\n",
       "                             autoritate_tutelara acreditare_i  \\\n",
       "188                             SC DR.IRIMIA SRL  Neacreditat   \n",
       "214                       CONSILIUL LOCAL FAUREI  Neacreditat   \n",
       "424             Muntenia Medical Competences S.A            -   \n",
       "425                       CONSILIUL LOCAL CODLEA            -   \n",
       "426  SC CENTRUL MEDICAL POLICLINICO DI MONZA SRL            -   \n",
       "..                                           ...          ...   \n",
       "757                                       privat            -   \n",
       "758                                       privat            -   \n",
       "759                           SC POPMED SERV SRL            -   \n",
       "760  UNITATEA ADMINISTRATIV TERITORIALA VICTORIA            -   \n",
       "761                    Centrul Medical Dorobanti            -   \n",
       "\n",
       "                              acreditare_ii  \n",
       "188  Unitate aflata in proces de acreditare  \n",
       "214                Categoria VI Neacreditat  \n",
       "424   Categoria II Acreditat cu recomandari  \n",
       "425      Categoria III Acreditat cu rezerve  \n",
       "426   Categoria II Acreditat cu recomandari  \n",
       "..                                      ...  \n",
       "757  Unitate aflata in proces de acreditare  \n",
       "758  Unitate aflata in proces de acreditare  \n",
       "759  Unitate aflata in proces de acreditare  \n",
       "760  Unitate aflata in proces de acreditare  \n",
       "761  Unitate aflata in proces de acreditare  \n",
       "\n",
       "[340 rows x 12 columns]"
      ]
     },
     "execution_count": 17,
     "metadata": {},
     "output_type": "execute_result"
    }
   ],
   "source": [
    "not_accredited = hospitals[(hospitals[\"acreditare_i\"] != \"Acreditat\")]\n",
    "\n",
    "not_accredited"
   ]
  },
  {
   "cell_type": "markdown",
   "metadata": {},
   "source": [
    "How many hospitals are *not* accredited?"
   ]
  },
  {
   "cell_type": "code",
   "execution_count": 19,
   "metadata": {},
   "outputs": [
    {
     "data": {
      "text/plain": [
       "340"
      ]
     },
     "execution_count": 19,
     "metadata": {},
     "output_type": "execute_result"
    }
   ],
   "source": [
    "not_accredited.count().iloc[0]"
   ]
  },
  {
   "cell_type": "markdown",
   "metadata": {},
   "source": [
    "Pick a county (judet) for a more in-depth analysis.\n",
    "(Bucuresti is also a county)"
   ]
  },
  {
   "cell_type": "code",
   "execution_count": 83,
   "metadata": {},
   "outputs": [],
   "source": [
    "judet = 'Bucuresti'"
   ]
  },
  {
   "cell_type": "markdown",
   "metadata": {},
   "source": [
    "According to this dataset, how many hospitals are in this county?"
   ]
  },
  {
   "cell_type": "code",
   "execution_count": 84,
   "metadata": {},
   "outputs": [
    {
     "data": {
      "text/plain": [
       "106"
      ]
     },
     "execution_count": 84,
     "metadata": {},
     "output_type": "execute_result"
    }
   ],
   "source": [
    "hospitals[(hospitals[\"judet\"] == judet)].count().iloc[0]"
   ]
  },
  {
   "cell_type": "markdown",
   "metadata": {},
   "source": [
    "For the chosen county, create a Dataframe that contains the following information:\n",
    "* judet\n",
    "* tip (public, privat)\n",
    "* count of unaccredited hospitals\n",
    "* count of accredited hospitals"
   ]
  },
  {
   "cell_type": "code",
   "execution_count": 85,
   "metadata": {},
   "outputs": [
    {
     "data": {
      "text/html": [
       "<div>\n",
       "<style scoped>\n",
       "    .dataframe tbody tr th:only-of-type {\n",
       "        vertical-align: middle;\n",
       "    }\n",
       "\n",
       "    .dataframe tbody tr th {\n",
       "        vertical-align: top;\n",
       "    }\n",
       "\n",
       "    .dataframe thead th {\n",
       "        text-align: right;\n",
       "    }\n",
       "</style>\n",
       "<table border=\"1\" class=\"dataframe\">\n",
       "  <thead>\n",
       "    <tr style=\"text-align: right;\">\n",
       "      <th></th>\n",
       "      <th>nume</th>\n",
       "      <th>cod a.n.m.c.s.</th>\n",
       "      <th>judet</th>\n",
       "      <th>clasificare</th>\n",
       "      <th>tip_patologie</th>\n",
       "      <th>tip</th>\n",
       "      <th>adresa</th>\n",
       "      <th>email</th>\n",
       "      <th>website</th>\n",
       "      <th>autoritate_tutelara</th>\n",
       "      <th>acreditare_i</th>\n",
       "      <th>acreditare_ii</th>\n",
       "    </tr>\n",
       "  </thead>\n",
       "  <tbody>\n",
       "    <tr>\n",
       "      <th>2</th>\n",
       "      <td>SPITALUL CLINIC NICOLAE MALAXA</td>\n",
       "      <td>A003</td>\n",
       "      <td>Bucuresti</td>\n",
       "      <td>III</td>\n",
       "      <td>general</td>\n",
       "      <td>public</td>\n",
       "      <td>STR. DIMITRIE CANTEMIR, NR.1, PARTER, SECT.4, ...</td>\n",
       "      <td>secretariat@spitalmalaxa.ro</td>\n",
       "      <td>www.spitalmalaxa.ro</td>\n",
       "      <td>ASSMB</td>\n",
       "      <td>Acreditat</td>\n",
       "      <td>Categoria IV Acreditat cu incredere redusa</td>\n",
       "    </tr>\n",
       "    <tr>\n",
       "      <th>16</th>\n",
       "      <td>SPITALUL CLINIC DE PSIHIATRIE �PROF. DR. ALEXA...</td>\n",
       "      <td>A017</td>\n",
       "      <td>Bucuresti</td>\n",
       "      <td>I M</td>\n",
       "      <td>specialitate</td>\n",
       "      <td>public</td>\n",
       "      <td>Str. Sf. Ecaterina, Nr. 3, Sect. 4, Bucure?ti</td>\n",
       "      <td>secretariat@spital-obregia.ro</td>\n",
       "      <td>spital-obregia.ro</td>\n",
       "      <td>AdministraTia Spitalelor ?i Serviciilor Medica...</td>\n",
       "      <td>Acreditat</td>\n",
       "      <td>Unitate aflata in proces de acreditare</td>\n",
       "    </tr>\n",
       "    <tr>\n",
       "      <th>18</th>\n",
       "      <td>S.C. CENTRUL MEDICAL UNIREA SRL</td>\n",
       "      <td>A019</td>\n",
       "      <td>Bucuresti</td>\n",
       "      <td>Neclasificat</td>\n",
       "      <td>specialitate</td>\n",
       "      <td>privat</td>\n",
       "      <td>str. Guillaume Kroll nr. 5, L-1882 Luxembourg,...</td>\n",
       "      <td>office@reginamaria.ro</td>\n",
       "      <td>https://www.reginamaria.ro/spitale/spitalul-ba...</td>\n",
       "      <td>Royal Capital Investments S.a.r.l., a o societ...</td>\n",
       "      <td>Acreditat</td>\n",
       "      <td>Categoria II Acreditat cu recomandari</td>\n",
       "    </tr>\n",
       "    <tr>\n",
       "      <th>21</th>\n",
       "      <td>SPITALUL DE BOLI CRONICE \"SF.LUCA</td>\n",
       "      <td>A022</td>\n",
       "      <td>Bucuresti</td>\n",
       "      <td>II M</td>\n",
       "      <td>pentru bolnavi cu afectiuni cronice</td>\n",
       "      <td>public</td>\n",
       "      <td>STR. SF ECATERINA , NR 3 , SECT 4 , BUCURESTI</td>\n",
       "      <td>spitalul.sf.luca@gmail.com</td>\n",
       "      <td>http://website.spitalulsfluca.ro</td>\n",
       "      <td>ASSMB</td>\n",
       "      <td>Acreditat</td>\n",
       "      <td>Unitate aflata in proces de acreditare</td>\n",
       "    </tr>\n",
       "    <tr>\n",
       "      <th>22</th>\n",
       "      <td>CENTRUL DE EVALUARE ?I TRATAMENT A TOXICODEPEN...</td>\n",
       "      <td>A023</td>\n",
       "      <td>Bucuresti</td>\n",
       "      <td>V</td>\n",
       "      <td>specialitate</td>\n",
       "      <td>public</td>\n",
       "      <td>STRADA SFANTA ECATERINA NR.3, SECTOR 4</td>\n",
       "      <td>cettt_sf.stelian@yahoo.com</td>\n",
       "      <td>www.cetttsfantulstelian.ro</td>\n",
       "      <td>ADMINISTRATIA SPITALELOR SI SERVICIILOR MEDICA...</td>\n",
       "      <td>Acreditat</td>\n",
       "      <td>Categoria II Acreditat cu recomandari</td>\n",
       "    </tr>\n",
       "  </tbody>\n",
       "</table>\n",
       "</div>"
      ],
      "text/plain": [
       "                                                 nume cod a.n.m.c.s.  \\\n",
       "2                      SPITALUL CLINIC NICOLAE MALAXA           A003   \n",
       "16  SPITALUL CLINIC DE PSIHIATRIE �PROF. DR. ALEXA...           A017   \n",
       "18                    S.C. CENTRUL MEDICAL UNIREA SRL           A019   \n",
       "21                  SPITALUL DE BOLI CRONICE \"SF.LUCA           A022   \n",
       "22  CENTRUL DE EVALUARE ?I TRATAMENT A TOXICODEPEN...           A023   \n",
       "\n",
       "        judet   clasificare                        tip_patologie     tip  \\\n",
       "2   Bucuresti           III                              general  public   \n",
       "16  Bucuresti           I M                         specialitate  public   \n",
       "18  Bucuresti  Neclasificat                         specialitate  privat   \n",
       "21  Bucuresti          II M  pentru bolnavi cu afectiuni cronice  public   \n",
       "22  Bucuresti             V                         specialitate  public   \n",
       "\n",
       "                                               adresa  \\\n",
       "2   STR. DIMITRIE CANTEMIR, NR.1, PARTER, SECT.4, ...   \n",
       "16      Str. Sf. Ecaterina, Nr. 3, Sect. 4, Bucure?ti   \n",
       "18  str. Guillaume Kroll nr. 5, L-1882 Luxembourg,...   \n",
       "21      STR. SF ECATERINA , NR 3 , SECT 4 , BUCURESTI   \n",
       "22             STRADA SFANTA ECATERINA NR.3, SECTOR 4   \n",
       "\n",
       "                            email  \\\n",
       "2     secretariat@spitalmalaxa.ro   \n",
       "16  secretariat@spital-obregia.ro   \n",
       "18          office@reginamaria.ro   \n",
       "21     spitalul.sf.luca@gmail.com   \n",
       "22     cettt_sf.stelian@yahoo.com   \n",
       "\n",
       "                                              website  \\\n",
       "2                                 www.spitalmalaxa.ro   \n",
       "16                                  spital-obregia.ro   \n",
       "18  https://www.reginamaria.ro/spitale/spitalul-ba...   \n",
       "21                   http://website.spitalulsfluca.ro   \n",
       "22                         www.cetttsfantulstelian.ro   \n",
       "\n",
       "                                  autoritate_tutelara acreditare_i  \\\n",
       "2                                               ASSMB    Acreditat   \n",
       "16  AdministraTia Spitalelor ?i Serviciilor Medica...    Acreditat   \n",
       "18  Royal Capital Investments S.a.r.l., a o societ...    Acreditat   \n",
       "21                                              ASSMB    Acreditat   \n",
       "22  ADMINISTRATIA SPITALELOR SI SERVICIILOR MEDICA...    Acreditat   \n",
       "\n",
       "                                 acreditare_ii  \n",
       "2   Categoria IV Acreditat cu incredere redusa  \n",
       "16      Unitate aflata in proces de acreditare  \n",
       "18       Categoria II Acreditat cu recomandari  \n",
       "21      Unitate aflata in proces de acreditare  \n",
       "22       Categoria II Acreditat cu recomandari  "
      ]
     },
     "execution_count": 85,
     "metadata": {},
     "output_type": "execute_result"
    }
   ],
   "source": [
    "stat = hospitals[(hospitals[\"judet\"]==judet)]\n",
    "\n",
    "stat.head()"
   ]
  },
  {
   "cell_type": "code",
   "execution_count": 98,
   "metadata": {},
   "outputs": [
    {
     "name": "stdout",
     "output_type": "stream",
     "text": [
      "45\n",
      "61\n"
     ]
    }
   ],
   "source": [
    "hospitals_buc = stat[['judet','tip','acreditare_i',]].copy()\n",
    "\n",
    "t=hospitals_buc.count().iloc[0]\n",
    "# print(t)\n",
    "not_accredited_buc = hospitals_buc[(hospitals_buc[\"acreditare_i\"] != \"Acreditat\")]\n",
    "accredited_buc = hospitals_buc[(hospitals_buc[\"acreditare_i\"] == \"Acreditat\")]\n",
    "# hospitals_cluj\n",
    "aa=accredited_buc.count().iloc[0]\n",
    "n_a=not_accredited_buc.count().iloc[0]\n",
    "print(n_a)\n",
    "print(aa)\n",
    "\n",
    "# print(\"Total Null values count: \",\n",
    "#       accredited_cluj.isnull().sum().sum())\n",
    "# print(\"Total Null values count: \",\n",
    "#       not_accredited_cluj.isnull().sum().sum())"
   ]
  },
  {
   "cell_type": "markdown",
   "metadata": {},
   "source": [
    "Create a plot that highlights\n",
    "* the number of accredited public hospitals\n",
    "* the number of accredited private hospitals\n",
    "* the number of unaccredited public hospitals\n",
    "* the number of unaccredited private hospitals\n",
    "\n",
    "The expected output for Bucuresti can be found  [here](/2022/python_workshop/notebooks/results/expected/output_test.png)."
   ]
  },
  {
   "cell_type": "code",
   "execution_count": 93,
   "metadata": {},
   "outputs": [
    {
     "data": {
      "text/plain": [
       "judet           106\n",
       "tip             106\n",
       "acreditare_i    106\n",
       "dtype: int64"
      ]
     },
     "execution_count": 93,
     "metadata": {},
     "output_type": "execute_result"
    }
   ],
   "source": [
    "hospitals_buc.count()"
   ]
  },
  {
   "cell_type": "code",
   "execution_count": 94,
   "metadata": {},
   "outputs": [
    {
     "data": {
      "text/plain": [
       "49"
      ]
     },
     "execution_count": 94,
     "metadata": {},
     "output_type": "execute_result"
    }
   ],
   "source": [
    "acreditate_publice = hospitals_buc[(hospitals_buc[\"tip\"] ==\"public\") & (hospitals_buc[\"acreditare_i\"] ==\"Acreditat\") ].count().iloc[0]\n",
    "acreditate_publice"
   ]
  },
  {
   "cell_type": "code",
   "execution_count": 95,
   "metadata": {},
   "outputs": [
    {
     "data": {
      "text/plain": [
       "12"
      ]
     },
     "execution_count": 95,
     "metadata": {},
     "output_type": "execute_result"
    }
   ],
   "source": [
    "acreditate_privat = hospitals_buc[(hospitals_buc[\"tip\"] ==\"privat\") & (hospitals_buc[\"acreditare_i\"] ==\"Acreditat\") ].count().iloc[0]\n",
    "acreditate_privat"
   ]
  },
  {
   "cell_type": "code",
   "execution_count": 100,
   "metadata": {},
   "outputs": [
    {
     "data": {
      "text/plain": [
       "3"
      ]
     },
     "execution_count": 100,
     "metadata": {},
     "output_type": "execute_result"
    }
   ],
   "source": [
    "neacreditate_publice = hospitals_buc[(hospitals_buc[\"tip\"] ==\"public\") & (hospitals_buc[\"acreditare_i\"] !=\"Acreditat\") ].count().iloc[0]\n",
    "neacreditate_publice"
   ]
  },
  {
   "cell_type": "code",
   "execution_count": 97,
   "metadata": {},
   "outputs": [
    {
     "data": {
      "text/plain": [
       "42"
      ]
     },
     "execution_count": 97,
     "metadata": {},
     "output_type": "execute_result"
    }
   ],
   "source": [
    "neacreditate_privat = hospitals_buc[(hospitals_buc[\"tip\"] !=\"public\") & (hospitals_buc[\"acreditare_i\"] !=\"Acreditat\") ].count().iloc[0]\n",
    "neacreditate_privat"
   ]
  },
  {
   "cell_type": "code",
   "execution_count": null,
   "metadata": {},
   "outputs": [],
   "source": []
  },
  {
   "cell_type": "code",
   "execution_count": null,
   "metadata": {},
   "outputs": [],
   "source": [
    "plot_acreditat = ..."
   ]
  },
  {
   "cell_type": "code",
   "execution_count": null,
   "metadata": {},
   "outputs": [],
   "source": []
  },
  {
   "cell_type": "code",
   "execution_count": null,
   "metadata": {},
   "outputs": [],
   "source": [
    "plot_neacreditat = ..."
   ]
  },
  {
   "cell_type": "code",
   "execution_count": null,
   "metadata": {},
   "outputs": [],
   "source": []
  },
  {
   "cell_type": "code",
   "execution_count": 125,
   "metadata": {},
   "outputs": [
    {
     "ename": "KeyError",
     "evalue": "'n_a'",
     "output_type": "error",
     "traceback": [
      "\u001b[1;31m---------------------------------------------------------------------------\u001b[0m",
      "\u001b[1;31mKeyError\u001b[0m                                  Traceback (most recent call last)",
      "\u001b[1;32mc:\\Users\\Laptop 19\\Desktop\\UIFALEAN_EMANUEL_TUDOR\\PYTHON\\Github\\bootcamp\\2022\\python_workshop\\notebooks\\10_test.ipynb Cell 49\u001b[0m in \u001b[0;36m<cell line: 1>\u001b[1;34m()\u001b[0m\n\u001b[1;32m----> <a href='vscode-notebook-cell:/c%3A/Users/Laptop%2019/Desktop/UIFALEAN_EMANUEL_TUDOR/PYTHON/Github/bootcamp/2022/python_workshop/notebooks/10_test.ipynb#X55sZmlsZQ%3D%3D?line=0'>1</a>\u001b[0m plot_data \u001b[39m=\u001b[39m hospitals_buc\u001b[39m.\u001b[39;49mpivot_table(index\u001b[39m=\u001b[39;49m\u001b[39m\"\u001b[39;49m\u001b[39mtip\u001b[39;49m\u001b[39m\"\u001b[39;49m, columns\u001b[39m=\u001b[39;49m\u001b[39m\"\u001b[39;49m\u001b[39macreditare_i\u001b[39;49m\u001b[39m\"\u001b[39;49m, values\u001b[39m=\u001b[39;49m\u001b[39m\"\u001b[39;49m\u001b[39mn_a\u001b[39;49m\u001b[39m\"\u001b[39;49m, aggfunc\u001b[39m=\u001b[39;49m\u001b[39m\"\u001b[39;49m\u001b[39msum\u001b[39;49m\u001b[39m\"\u001b[39;49m)\n\u001b[0;32m      <a href='vscode-notebook-cell:/c%3A/Users/Laptop%2019/Desktop/UIFALEAN_EMANUEL_TUDOR/PYTHON/Github/bootcamp/2022/python_workshop/notebooks/10_test.ipynb#X55sZmlsZQ%3D%3D?line=1'>2</a>\u001b[0m plot_data\u001b[39m.\u001b[39mhead()\n",
      "File \u001b[1;32mc:\\programs\\miniconda3\\lib\\site-packages\\pandas\\core\\frame.py:8044\u001b[0m, in \u001b[0;36mDataFrame.pivot_table\u001b[1;34m(self, values, index, columns, aggfunc, fill_value, margins, dropna, margins_name, observed, sort)\u001b[0m\n\u001b[0;32m   8027\u001b[0m \u001b[39m@Substitution\u001b[39m(\u001b[39m\"\u001b[39m\u001b[39m\"\u001b[39m)\n\u001b[0;32m   8028\u001b[0m \u001b[39m@Appender\u001b[39m(_shared_docs[\u001b[39m\"\u001b[39m\u001b[39mpivot_table\u001b[39m\u001b[39m\"\u001b[39m])\n\u001b[0;32m   8029\u001b[0m \u001b[39mdef\u001b[39;00m \u001b[39mpivot_table\u001b[39m(\n\u001b[1;32m   (...)\u001b[0m\n\u001b[0;32m   8040\u001b[0m     sort\u001b[39m=\u001b[39m\u001b[39mTrue\u001b[39;00m,\n\u001b[0;32m   8041\u001b[0m ) \u001b[39m-\u001b[39m\u001b[39m>\u001b[39m DataFrame:\n\u001b[0;32m   8042\u001b[0m     \u001b[39mfrom\u001b[39;00m \u001b[39mpandas\u001b[39;00m\u001b[39m.\u001b[39;00m\u001b[39mcore\u001b[39;00m\u001b[39m.\u001b[39;00m\u001b[39mreshape\u001b[39;00m\u001b[39m.\u001b[39;00m\u001b[39mpivot\u001b[39;00m \u001b[39mimport\u001b[39;00m pivot_table\n\u001b[1;32m-> 8044\u001b[0m     \u001b[39mreturn\u001b[39;00m pivot_table(\n\u001b[0;32m   8045\u001b[0m         \u001b[39mself\u001b[39;49m,\n\u001b[0;32m   8046\u001b[0m         values\u001b[39m=\u001b[39;49mvalues,\n\u001b[0;32m   8047\u001b[0m         index\u001b[39m=\u001b[39;49mindex,\n\u001b[0;32m   8048\u001b[0m         columns\u001b[39m=\u001b[39;49mcolumns,\n\u001b[0;32m   8049\u001b[0m         aggfunc\u001b[39m=\u001b[39;49maggfunc,\n\u001b[0;32m   8050\u001b[0m         fill_value\u001b[39m=\u001b[39;49mfill_value,\n\u001b[0;32m   8051\u001b[0m         margins\u001b[39m=\u001b[39;49mmargins,\n\u001b[0;32m   8052\u001b[0m         dropna\u001b[39m=\u001b[39;49mdropna,\n\u001b[0;32m   8053\u001b[0m         margins_name\u001b[39m=\u001b[39;49mmargins_name,\n\u001b[0;32m   8054\u001b[0m         observed\u001b[39m=\u001b[39;49mobserved,\n\u001b[0;32m   8055\u001b[0m         sort\u001b[39m=\u001b[39;49msort,\n\u001b[0;32m   8056\u001b[0m     )\n",
      "File \u001b[1;32mc:\\programs\\miniconda3\\lib\\site-packages\\pandas\\core\\reshape\\pivot.py:95\u001b[0m, in \u001b[0;36mpivot_table\u001b[1;34m(data, values, index, columns, aggfunc, fill_value, margins, dropna, margins_name, observed, sort)\u001b[0m\n\u001b[0;32m     92\u001b[0m     table \u001b[39m=\u001b[39m concat(pieces, keys\u001b[39m=\u001b[39mkeys, axis\u001b[39m=\u001b[39m\u001b[39m1\u001b[39m)\n\u001b[0;32m     93\u001b[0m     \u001b[39mreturn\u001b[39;00m table\u001b[39m.\u001b[39m__finalize__(data, method\u001b[39m=\u001b[39m\u001b[39m\"\u001b[39m\u001b[39mpivot_table\u001b[39m\u001b[39m\"\u001b[39m)\n\u001b[1;32m---> 95\u001b[0m table \u001b[39m=\u001b[39m __internal_pivot_table(\n\u001b[0;32m     96\u001b[0m     data,\n\u001b[0;32m     97\u001b[0m     values,\n\u001b[0;32m     98\u001b[0m     index,\n\u001b[0;32m     99\u001b[0m     columns,\n\u001b[0;32m    100\u001b[0m     aggfunc,\n\u001b[0;32m    101\u001b[0m     fill_value,\n\u001b[0;32m    102\u001b[0m     margins,\n\u001b[0;32m    103\u001b[0m     dropna,\n\u001b[0;32m    104\u001b[0m     margins_name,\n\u001b[0;32m    105\u001b[0m     observed,\n\u001b[0;32m    106\u001b[0m     sort,\n\u001b[0;32m    107\u001b[0m )\n\u001b[0;32m    108\u001b[0m \u001b[39mreturn\u001b[39;00m table\u001b[39m.\u001b[39m__finalize__(data, method\u001b[39m=\u001b[39m\u001b[39m\"\u001b[39m\u001b[39mpivot_table\u001b[39m\u001b[39m\"\u001b[39m)\n",
      "File \u001b[1;32mc:\\programs\\miniconda3\\lib\\site-packages\\pandas\\core\\reshape\\pivot.py:141\u001b[0m, in \u001b[0;36m__internal_pivot_table\u001b[1;34m(data, values, index, columns, aggfunc, fill_value, margins, dropna, margins_name, observed, sort)\u001b[0m\n\u001b[0;32m    139\u001b[0m \u001b[39mfor\u001b[39;00m i \u001b[39min\u001b[39;00m values:\n\u001b[0;32m    140\u001b[0m     \u001b[39mif\u001b[39;00m i \u001b[39mnot\u001b[39;00m \u001b[39min\u001b[39;00m data:\n\u001b[1;32m--> 141\u001b[0m         \u001b[39mraise\u001b[39;00m \u001b[39mKeyError\u001b[39;00m(i)\n\u001b[0;32m    143\u001b[0m to_filter \u001b[39m=\u001b[39m []\n\u001b[0;32m    144\u001b[0m \u001b[39mfor\u001b[39;00m x \u001b[39min\u001b[39;00m keys \u001b[39m+\u001b[39m values:\n",
      "\u001b[1;31mKeyError\u001b[0m: 'n_a'"
     ]
    }
   ],
   "source": [
    "plot_data = hospitals_buc.pivot_table(index=\"tip\", columns=\"acreditare_i\", values=\"n_a\", aggfunc=\"sum\")\n",
    "plot_data.head()"
   ]
  },
  {
   "cell_type": "code",
   "execution_count": null,
   "metadata": {},
   "outputs": [],
   "source": [
    "plot_data.plot(kind=\"bar\")"
   ]
  }
 ],
 "metadata": {
  "kernelspec": {
   "display_name": "Python 3.9.12 ('base')",
   "language": "python",
   "name": "python3"
  },
  "language_info": {
   "codemirror_mode": {
    "name": "ipython",
    "version": 3
   },
   "file_extension": ".py",
   "mimetype": "text/x-python",
   "name": "python",
   "nbconvert_exporter": "python",
   "pygments_lexer": "ipython3",
   "version": "3.9.12"
  },
  "orig_nbformat": 4,
  "vscode": {
   "interpreter": {
    "hash": "d31b83e9610685068a0fe73b54051d44dc1110027bef1c52e64b671e72faac45"
   }
  }
 },
 "nbformat": 4,
 "nbformat_minor": 2
}
