{
 "cells": [
  {
   "cell_type": "markdown",
   "metadata": {},
   "source": [
    "# Practical exam"
   ]
  },
  {
   "cell_type": "code",
   "execution_count": null,
   "metadata": {},
   "outputs": [],
   "source": [
    "### Please state your name here:\n",
    "'Vivien Datz'"
   ]
  },
  {
   "cell_type": "code",
   "execution_count": 1,
   "metadata": {},
   "outputs": [
    {
     "name": "stdout",
     "output_type": "stream",
     "text": [
      "Note: you may need to restart the kernel to use updated packages.\n",
      "Note: you may need to restart the kernel to use updated packages.\n"
     ]
    }
   ],
   "source": [
    "# make sure requirements are up to date\n",
    "%pip install --upgrade pip >> results/requirements_log.txt\n",
    "%pip install -r ../requirements.txt >> results/requirements_log.txt"
   ]
  },
  {
   "cell_type": "markdown",
   "metadata": {},
   "source": [
    "### 1.\n",
    "\n",
    "Given the below snippet, add the necessary code lines in function f2 in order to obtain the expected output:"
   ]
  },
  {
   "cell_type": "code",
   "execution_count": 94,
   "metadata": {},
   "outputs": [
    {
     "name": "stdout",
     "output_type": "stream",
     "text": [
      "~~~ 1\n",
      "[\"{'cubed': \", {1}, '}']\n",
      "[\"{'squared': \", {1}, '}']\n",
      "@@@ 1\n",
      "~~~ 2\n",
      "[\"{'cubed': \", {8}, '}']\n",
      "[\"{'squared': \", {4}, '}']\n",
      "@@@ 2\n",
      "~~~ 3\n",
      "[\"{'cubed': \", {27}, '}']\n",
      "[\"{'squared': \", {9}, '}']\n",
      "@@@ 3\n",
      "~~~ 4\n",
      "[\"{'cubed': \", {64}, '}']\n",
      "[\"{'squared': \", {16}, '}']\n",
      "@@@ 4\n",
      "'NoneType' object is not iterable\n"
     ]
    }
   ],
   "source": [
    "\n",
    "try:\n",
    "    def f2(n):\n",
    "     for i in range(1, n):\n",
    "        print(f\"~~~ {i}\")\n",
    "        t3 = [\"{'cubed': \",{i*i*i},\"}\"]\n",
    "        print(t3)\n",
    "        t2 = [\"{'squared': \",{i*i},\"}\"]\n",
    "        print(t2)\n",
    "        print(f\"@@@ {i}\")\n",
    "\n",
    "\n",
    "    n = 5\n",
    "\n",
    "    for x in f2(n):\n",
    "        print(x)\n",
    "except TypeError:\n",
    "    print(\"'NoneType' object is not iterable\")"
   ]
  },
  {
   "cell_type": "markdown",
   "metadata": {},
   "source": [
    "Expected output:\n",
    "\n",
    "```\n",
    "~~~ 1\n",
    "{'cubed': 1}\n",
    "{'squared': 1}\n",
    "@@@ 1\n",
    "~~~ 2\n",
    "{'cubed': 8}\n",
    "{'squared': 4}\n",
    "@@@ 2\n",
    "~~~ 3\n",
    "{'cubed': 27}\n",
    "{'squared': 9}\n",
    "@@@ 3\n",
    "~~~ 4\n",
    "{'cubed': 64}\n",
    "{'squared': 16}\n",
    "@@@ 4\n",
    "```"
   ]
  },
  {
   "cell_type": "markdown",
   "metadata": {},
   "source": [
    "### 2.\n",
    "\n",
    "Under **resources**, there are two input files, [input_file_1.csv](/2022/python_workshop/notebooks/resources/input_file_1.csv) and [input_file_2.csv](/2022/python_workshop/notebooks/resources/input_file_2.csv).\n",
    "\n",
    "Given the two input files, remove the duplicates.\n",
    "\n",
    "If rows in all files are combined, there must be NO duplicates. Solution should include 2 functions, one for reading data from files and one for writing data to files. A partial solution without functions is accepted.\n",
    "\n",
    "Expected output: two separate output files under results/expected, [output_file_1.csv](/2022/python_workshop/notebooks/results/expected/output_file_1.csv) and [output_file_2.csv](/2022/python_workshop/notebooks/results/expected/output_file_2.csv)."
   ]
  },
  {
   "cell_type": "code",
   "execution_count": 65,
   "metadata": {},
   "outputs": [
    {
     "name": "stdout",
     "output_type": "stream",
     "text": [
      "<module 'unittest.result' from 'c:\\\\programs\\\\miniconda3\\\\lib\\\\unittest\\\\result.py'>\n"
     ]
    }
   ],
   "source": [
    "from unittest import result\n",
    "\n",
    "\n",
    "def csv_reader(input_file_1):\n",
    "    file = open(input_file_1)\n",
    "    result = input_file_1.read().split(\"\\n\")\n",
    "    return result\n"
   ]
  },
  {
   "cell_type": "markdown",
   "metadata": {},
   "source": [
    "### 3.\n",
    "\n",
    "Using the [data.gov.ro](https://data.gov.ro/dataset/acreditarea-unitatilor-sanitare-2021) API, extract the \"accredited hospitals 2021\" data set (link available below).\n",
    "\n",
    "Alternatively, if the API is down, use the backup file **hospitals.csv** from the **resources** folder as a source."
   ]
  },
  {
   "cell_type": "code",
   "execution_count": 7,
   "metadata": {},
   "outputs": [],
   "source": [
    "import requests\n",
    "import pandas as pd"
   ]
  },
  {
   "cell_type": "code",
   "execution_count": 8,
   "metadata": {},
   "outputs": [
    {
     "data": {
      "text/html": [
       "<div>\n",
       "<style scoped>\n",
       "    .dataframe tbody tr th:only-of-type {\n",
       "        vertical-align: middle;\n",
       "    }\n",
       "\n",
       "    .dataframe tbody tr th {\n",
       "        vertical-align: top;\n",
       "    }\n",
       "\n",
       "    .dataframe thead th {\n",
       "        text-align: right;\n",
       "    }\n",
       "</style>\n",
       "<table border=\"1\" class=\"dataframe\">\n",
       "  <thead>\n",
       "    <tr style=\"text-align: right;\">\n",
       "      <th></th>\n",
       "      <th>Nr. Crt.</th>\n",
       "      <th>Nume</th>\n",
       "      <th>Cod A.N.M.C.S.</th>\n",
       "      <th>Judet</th>\n",
       "      <th>Clasificare</th>\n",
       "      <th>TIP USP (in functie de specificul patologiei tratate)</th>\n",
       "      <th>TIP USP (in functie de regimul proprietatii)</th>\n",
       "      <th>TIP USP (din punct de vedere al invatamantului si al cercetarii stiintifice medicale)</th>\n",
       "      <th>Adresa completa a sediului principal</th>\n",
       "      <th>Adresa email oficiala</th>\n",
       "      <th>Website</th>\n",
       "      <th>Autoritatea tutelara</th>\n",
       "      <th>Acreditare ciclul I</th>\n",
       "      <th>Acreditare ciclul II</th>\n",
       "      <th>Unnamed: 15</th>\n",
       "      <th>__1</th>\n",
       "      <th>__2</th>\n",
       "    </tr>\n",
       "  </thead>\n",
       "  <tbody>\n",
       "    <tr>\n",
       "      <th>0</th>\n",
       "      <td>1.0</td>\n",
       "      <td>SPITALUL MUNICIPAL CALAFAT</td>\n",
       "      <td>A001</td>\n",
       "      <td>Dolj</td>\n",
       "      <td>IV</td>\n",
       "      <td>general</td>\n",
       "      <td>public</td>\n",
       "      <td>fara invatamant</td>\n",
       "      <td>B-dul. T. Vladimirescu, Nr. 24, Calafat, cod 2...</td>\n",
       "      <td>spitalcalafat@gmail.com</td>\n",
       "      <td>spitalcalafat.ro</td>\n",
       "      <td>PRIMARIA MUNICIPIULUI CALAFAT</td>\n",
       "      <td>Acreditat</td>\n",
       "      <td>Categoria V Decizie de prelungire a procesului...</td>\n",
       "      <td>NaN</td>\n",
       "      <td>NaN</td>\n",
       "      <td>NaN</td>\n",
       "    </tr>\n",
       "    <tr>\n",
       "      <th>1</th>\n",
       "      <td>2.0</td>\n",
       "      <td>SPITALUL DE PSIHIATRIE CRONICI SCHITU GRECI</td>\n",
       "      <td>A002</td>\n",
       "      <td>Olt</td>\n",
       "      <td>V</td>\n",
       "      <td>afectiuni cronice</td>\n",
       "      <td>public</td>\n",
       "      <td>fara invatamant</td>\n",
       "      <td>SLATINA STR. A. I. CUZA NR. 14</td>\n",
       "      <td>spitalulschitu@gmail.com</td>\n",
       "      <td>www.spitalul-schitu.ro</td>\n",
       "      <td>CONSILIUL JUDETEAN OLT</td>\n",
       "      <td>Acreditat</td>\n",
       "      <td>Categoria V Decizie de prelungire a procesului...</td>\n",
       "      <td>NaN</td>\n",
       "      <td>NaN</td>\n",
       "      <td>NaN</td>\n",
       "    </tr>\n",
       "    <tr>\n",
       "      <th>2</th>\n",
       "      <td>3.0</td>\n",
       "      <td>SPITALUL CLINIC NICOLAE MALAXA</td>\n",
       "      <td>A003</td>\n",
       "      <td>Bucuresti</td>\n",
       "      <td>III</td>\n",
       "      <td>general</td>\n",
       "      <td>public</td>\n",
       "      <td>clinic cu sectii universitare</td>\n",
       "      <td>STR. DIMITRIE CANTEMIR, NR.1, PARTER, SECT.4, ...</td>\n",
       "      <td>secretariat@spitalmalaxa.ro</td>\n",
       "      <td>www.spitalmalaxa.ro</td>\n",
       "      <td>ASSMB</td>\n",
       "      <td>Acreditat</td>\n",
       "      <td>Categoria IV Acreditat cu incredere redusa</td>\n",
       "      <td>NaN</td>\n",
       "      <td>NaN</td>\n",
       "      <td>NaN</td>\n",
       "    </tr>\n",
       "    <tr>\n",
       "      <th>3</th>\n",
       "      <td>4.0</td>\n",
       "      <td>SPITALUL MILITAR DE URGENTA \"REGINA MARIA\" BRA?OV</td>\n",
       "      <td>A004</td>\n",
       "      <td>Brasov</td>\n",
       "      <td>III</td>\n",
       "      <td>urgenta</td>\n",
       "      <td>public</td>\n",
       "      <td>fara invatamant</td>\n",
       "      <td>Bucuresti, Str. Institutul Medico-Militar, Nr....</td>\n",
       "      <td>smureginamaria@rdsbv.ro</td>\n",
       "      <td>www.smubrasov.ro</td>\n",
       "      <td>DIRECtIA MEDICALa a Ministerului Apararii Nati...</td>\n",
       "      <td>Acreditat</td>\n",
       "      <td>Categoria II Acreditat cu recomandari</td>\n",
       "      <td>NaN</td>\n",
       "      <td>NaN</td>\n",
       "      <td>NaN</td>\n",
       "    </tr>\n",
       "    <tr>\n",
       "      <th>4</th>\n",
       "      <td>5.0</td>\n",
       "      <td>SPITALUL ORASENESC INEU</td>\n",
       "      <td>A005</td>\n",
       "      <td>Arad</td>\n",
       "      <td>IV</td>\n",
       "      <td>general</td>\n",
       "      <td>public</td>\n",
       "      <td>fara invatamant</td>\n",
       "      <td>Calea Republicii, nr. 5</td>\n",
       "      <td>spitalineu@yahoo.ro</td>\n",
       "      <td>http://www.spitalineu.ro</td>\n",
       "      <td>Primaria Orasului Ineu</td>\n",
       "      <td>Acreditat</td>\n",
       "      <td>Categoria V Decizie de prelungire a procesului...</td>\n",
       "      <td>NaN</td>\n",
       "      <td>NaN</td>\n",
       "      <td>NaN</td>\n",
       "    </tr>\n",
       "  </tbody>\n",
       "</table>\n",
       "</div>"
      ],
      "text/plain": [
       "   Nr. Crt.                                               Nume Cod A.N.M.C.S.  \\\n",
       "0       1.0                         SPITALUL MUNICIPAL CALAFAT           A001   \n",
       "1       2.0        SPITALUL DE PSIHIATRIE CRONICI SCHITU GRECI           A002   \n",
       "2       3.0                     SPITALUL CLINIC NICOLAE MALAXA           A003   \n",
       "3       4.0  SPITALUL MILITAR DE URGENTA \"REGINA MARIA\" BRA?OV           A004   \n",
       "4       5.0                            SPITALUL ORASENESC INEU           A005   \n",
       "\n",
       "       Judet Clasificare  \\\n",
       "0       Dolj          IV   \n",
       "1        Olt           V   \n",
       "2  Bucuresti         III   \n",
       "3     Brasov         III   \n",
       "4       Arad          IV   \n",
       "\n",
       "  TIP USP (in functie de specificul patologiei tratate)  \\\n",
       "0                                            general      \n",
       "1                                  afectiuni cronice      \n",
       "2                                            general      \n",
       "3                                            urgenta      \n",
       "4                                            general      \n",
       "\n",
       "  TIP USP (in functie de regimul proprietatii)  \\\n",
       "0                                       public   \n",
       "1                                       public   \n",
       "2                                       public   \n",
       "3                                       public   \n",
       "4                                       public   \n",
       "\n",
       "  TIP USP (din punct de vedere al invatamantului si al cercetarii stiintifice medicale)  \\\n",
       "0                                    fara invatamant                                      \n",
       "1                                    fara invatamant                                      \n",
       "2                      clinic cu sectii universitare                                      \n",
       "3                                    fara invatamant                                      \n",
       "4                                    fara invatamant                                      \n",
       "\n",
       "                Adresa completa a sediului principal  \\\n",
       "0  B-dul. T. Vladimirescu, Nr. 24, Calafat, cod 2...   \n",
       "1                     SLATINA STR. A. I. CUZA NR. 14   \n",
       "2  STR. DIMITRIE CANTEMIR, NR.1, PARTER, SECT.4, ...   \n",
       "3  Bucuresti, Str. Institutul Medico-Militar, Nr....   \n",
       "4                            Calea Republicii, nr. 5   \n",
       "\n",
       "         Adresa email oficiala                   Website  \\\n",
       "0      spitalcalafat@gmail.com          spitalcalafat.ro   \n",
       "1     spitalulschitu@gmail.com    www.spitalul-schitu.ro   \n",
       "2  secretariat@spitalmalaxa.ro       www.spitalmalaxa.ro   \n",
       "3      smureginamaria@rdsbv.ro          www.smubrasov.ro   \n",
       "4          spitalineu@yahoo.ro  http://www.spitalineu.ro   \n",
       "\n",
       "                                Autoritatea tutelara Acreditare ciclul I  \\\n",
       "0                      PRIMARIA MUNICIPIULUI CALAFAT           Acreditat   \n",
       "1                             CONSILIUL JUDETEAN OLT           Acreditat   \n",
       "2                                              ASSMB           Acreditat   \n",
       "3  DIRECtIA MEDICALa a Ministerului Apararii Nati...           Acreditat   \n",
       "4                             Primaria Orasului Ineu           Acreditat   \n",
       "\n",
       "                                Acreditare ciclul II  Unnamed: 15  __1  __2  \n",
       "0  Categoria V Decizie de prelungire a procesului...          NaN  NaN  NaN  \n",
       "1  Categoria V Decizie de prelungire a procesului...          NaN  NaN  NaN  \n",
       "2         Categoria IV Acreditat cu incredere redusa          NaN  NaN  NaN  \n",
       "3              Categoria II Acreditat cu recomandari          NaN  NaN  NaN  \n",
       "4  Categoria V Decizie de prelungire a procesului...          NaN  NaN  NaN  "
      ]
     },
     "execution_count": 8,
     "metadata": {},
     "output_type": "execute_result"
    }
   ],
   "source": [
    "url_hospitals = 'https://data.gov.ro/dataset/4197b53e-7c91-4fcc-be07-883076d40ffc/resource/7a343719-d625-4b5c-98b5-895a684d61c4/download/anmcs-acreditare-unitati-sanitare-dec2021.json'\n",
    "\n",
    "\n",
    "hospitals = pd.read_csv('./resources/hospital.csv', index_col=0)\n",
    "\n",
    "hospitals.head()"
   ]
  },
  {
   "cell_type": "markdown",
   "metadata": {},
   "source": [
    "How many rows are in this dataset?"
   ]
  },
  {
   "cell_type": "code",
   "execution_count": 12,
   "metadata": {},
   "outputs": [
    {
     "name": "stdout",
     "output_type": "stream",
     "text": [
      "1365\n"
     ]
    }
   ],
   "source": [
    "print(hospitals.shape[0])"
   ]
  },
  {
   "cell_type": "markdown",
   "metadata": {},
   "source": [
    "What are the columns in this dataset?"
   ]
  },
  {
   "cell_type": "code",
   "execution_count": 13,
   "metadata": {},
   "outputs": [
    {
     "name": "stdout",
     "output_type": "stream",
     "text": [
      "17\n"
     ]
    }
   ],
   "source": [
    "print(hospitals.shape[1])"
   ]
  },
  {
   "cell_type": "markdown",
   "metadata": {},
   "source": [
    "Drop the unnecessary columns:\n",
    "* Nr. Crt.\n",
    "* TIP USP (din punct de vedere al invatamantului si al cercetarii stiintifice medicale)\n",
    "* the last three columns"
   ]
  },
  {
   "cell_type": "code",
   "execution_count": 89,
   "metadata": {},
   "outputs": [],
   "source": [
    "#mask = hospitals.columns.str.contains('nr. crt.$', regex=True)\n",
    "#columns_to_drop = hospitals.columns[mask]\n",
    "#hospitals = hospitals.drop(columns=columns_to_drop)\n",
    "#hospitals.head()\n",
    "\n",
    "hospitals.drop('nr. crt.',axis=1,inplace=True)\n",
    "hospitals.drop('tip usp (din punct de vedere al invatamantului si al cercetarii stiintifice medicale)',axis=1,inplace=True)\n",
    "hospitals.drop(hospitals.columns[14],axis=1,inplace=True)\n",
    "hospitals.drop(hospitals.columns[13],axis=1,inplace=True)\n",
    "hospitals.drop(hospitals.columns[12],axis=1,inplace=True)"
   ]
  },
  {
   "cell_type": "markdown",
   "metadata": {},
   "source": [
    "Apply the following transformations to the columns, so that they are easier to work with:\n",
    "* lowercase all columns\n",
    "* `TIP USP (in functie de specificul patologiei tratate)` rename to `tip_patologie`\n",
    "* `TIP USP (in functie de regimul proprietatii)` rename to `tip`\n",
    "* `Adresa completa a sediului principal` rename to `adresa`\n",
    "* `Adresa email oficiala` rename to `email`\n",
    "* `Autoritatea tutelara` rename to `autoritate_tutelara`\n",
    "* `Acreditare ciclul I` rename to `acreditare_i`\n",
    "* `Acreditare ciclul II` rename to `acreditare_ii`"
   ]
  },
  {
   "cell_type": "code",
   "execution_count": 68,
   "metadata": {},
   "outputs": [
    {
     "data": {
      "text/html": [
       "<div>\n",
       "<style scoped>\n",
       "    .dataframe tbody tr th:only-of-type {\n",
       "        vertical-align: middle;\n",
       "    }\n",
       "\n",
       "    .dataframe tbody tr th {\n",
       "        vertical-align: top;\n",
       "    }\n",
       "\n",
       "    .dataframe thead th {\n",
       "        text-align: right;\n",
       "    }\n",
       "</style>\n",
       "<table border=\"1\" class=\"dataframe\">\n",
       "  <thead>\n",
       "    <tr style=\"text-align: right;\">\n",
       "      <th></th>\n",
       "      <th>nr. crt.</th>\n",
       "      <th>nume</th>\n",
       "      <th>cod a.n.m.c.s.</th>\n",
       "      <th>judet</th>\n",
       "      <th>clasificare</th>\n",
       "      <th>tip_patologie</th>\n",
       "      <th>tip</th>\n",
       "      <th>tip usp (din punct de vedere al invatamantului si al cercetarii stiintifice medicale)</th>\n",
       "      <th>adresa completa a sediului principal</th>\n",
       "      <th>email</th>\n",
       "      <th>website</th>\n",
       "      <th>autoritate_tutelara</th>\n",
       "      <th>acreditare_i</th>\n",
       "      <th>acreditare_ii</th>\n",
       "      <th>unnamed: 15</th>\n",
       "      <th>__1</th>\n",
       "      <th>__2</th>\n",
       "    </tr>\n",
       "  </thead>\n",
       "  <tbody>\n",
       "    <tr>\n",
       "      <th>0</th>\n",
       "      <td>1.0</td>\n",
       "      <td>SPITALUL MUNICIPAL CALAFAT</td>\n",
       "      <td>A001</td>\n",
       "      <td>Dolj</td>\n",
       "      <td>IV</td>\n",
       "      <td>general</td>\n",
       "      <td>public</td>\n",
       "      <td>fara invatamant</td>\n",
       "      <td>B-dul. T. Vladimirescu, Nr. 24, Calafat, cod 2...</td>\n",
       "      <td>spitalcalafat@gmail.com</td>\n",
       "      <td>spitalcalafat.ro</td>\n",
       "      <td>PRIMARIA MUNICIPIULUI CALAFAT</td>\n",
       "      <td>Acreditat</td>\n",
       "      <td>Categoria V Decizie de prelungire a procesului...</td>\n",
       "      <td>NaN</td>\n",
       "      <td>NaN</td>\n",
       "      <td>NaN</td>\n",
       "    </tr>\n",
       "    <tr>\n",
       "      <th>1</th>\n",
       "      <td>2.0</td>\n",
       "      <td>SPITALUL DE PSIHIATRIE CRONICI SCHITU GRECI</td>\n",
       "      <td>A002</td>\n",
       "      <td>Olt</td>\n",
       "      <td>V</td>\n",
       "      <td>afectiuni cronice</td>\n",
       "      <td>public</td>\n",
       "      <td>fara invatamant</td>\n",
       "      <td>SLATINA STR. A. I. CUZA NR. 14</td>\n",
       "      <td>spitalulschitu@gmail.com</td>\n",
       "      <td>www.spitalul-schitu.ro</td>\n",
       "      <td>CONSILIUL JUDETEAN OLT</td>\n",
       "      <td>Acreditat</td>\n",
       "      <td>Categoria V Decizie de prelungire a procesului...</td>\n",
       "      <td>NaN</td>\n",
       "      <td>NaN</td>\n",
       "      <td>NaN</td>\n",
       "    </tr>\n",
       "    <tr>\n",
       "      <th>2</th>\n",
       "      <td>3.0</td>\n",
       "      <td>SPITALUL CLINIC NICOLAE MALAXA</td>\n",
       "      <td>A003</td>\n",
       "      <td>Bucuresti</td>\n",
       "      <td>III</td>\n",
       "      <td>general</td>\n",
       "      <td>public</td>\n",
       "      <td>clinic cu sectii universitare</td>\n",
       "      <td>STR. DIMITRIE CANTEMIR, NR.1, PARTER, SECT.4, ...</td>\n",
       "      <td>secretariat@spitalmalaxa.ro</td>\n",
       "      <td>www.spitalmalaxa.ro</td>\n",
       "      <td>ASSMB</td>\n",
       "      <td>Acreditat</td>\n",
       "      <td>Categoria IV Acreditat cu incredere redusa</td>\n",
       "      <td>NaN</td>\n",
       "      <td>NaN</td>\n",
       "      <td>NaN</td>\n",
       "    </tr>\n",
       "    <tr>\n",
       "      <th>3</th>\n",
       "      <td>4.0</td>\n",
       "      <td>SPITALUL MILITAR DE URGENTA \"REGINA MARIA\" BRA?OV</td>\n",
       "      <td>A004</td>\n",
       "      <td>Brasov</td>\n",
       "      <td>III</td>\n",
       "      <td>urgenta</td>\n",
       "      <td>public</td>\n",
       "      <td>fara invatamant</td>\n",
       "      <td>Bucuresti, Str. Institutul Medico-Militar, Nr....</td>\n",
       "      <td>smureginamaria@rdsbv.ro</td>\n",
       "      <td>www.smubrasov.ro</td>\n",
       "      <td>DIRECtIA MEDICALa a Ministerului Apararii Nati...</td>\n",
       "      <td>Acreditat</td>\n",
       "      <td>Categoria II Acreditat cu recomandari</td>\n",
       "      <td>NaN</td>\n",
       "      <td>NaN</td>\n",
       "      <td>NaN</td>\n",
       "    </tr>\n",
       "    <tr>\n",
       "      <th>4</th>\n",
       "      <td>5.0</td>\n",
       "      <td>SPITALUL ORASENESC INEU</td>\n",
       "      <td>A005</td>\n",
       "      <td>Arad</td>\n",
       "      <td>IV</td>\n",
       "      <td>general</td>\n",
       "      <td>public</td>\n",
       "      <td>fara invatamant</td>\n",
       "      <td>Calea Republicii, nr. 5</td>\n",
       "      <td>spitalineu@yahoo.ro</td>\n",
       "      <td>http://www.spitalineu.ro</td>\n",
       "      <td>Primaria Orasului Ineu</td>\n",
       "      <td>Acreditat</td>\n",
       "      <td>Categoria V Decizie de prelungire a procesului...</td>\n",
       "      <td>NaN</td>\n",
       "      <td>NaN</td>\n",
       "      <td>NaN</td>\n",
       "    </tr>\n",
       "  </tbody>\n",
       "</table>\n",
       "</div>"
      ],
      "text/plain": [
       "   nr. crt.                                               nume cod a.n.m.c.s.  \\\n",
       "0       1.0                         SPITALUL MUNICIPAL CALAFAT           A001   \n",
       "1       2.0        SPITALUL DE PSIHIATRIE CRONICI SCHITU GRECI           A002   \n",
       "2       3.0                     SPITALUL CLINIC NICOLAE MALAXA           A003   \n",
       "3       4.0  SPITALUL MILITAR DE URGENTA \"REGINA MARIA\" BRA?OV           A004   \n",
       "4       5.0                            SPITALUL ORASENESC INEU           A005   \n",
       "\n",
       "       judet clasificare      tip_patologie     tip  \\\n",
       "0       Dolj          IV            general  public   \n",
       "1        Olt           V  afectiuni cronice  public   \n",
       "2  Bucuresti         III            general  public   \n",
       "3     Brasov         III            urgenta  public   \n",
       "4       Arad          IV            general  public   \n",
       "\n",
       "  tip usp (din punct de vedere al invatamantului si al cercetarii stiintifice medicale)  \\\n",
       "0                                    fara invatamant                                      \n",
       "1                                    fara invatamant                                      \n",
       "2                      clinic cu sectii universitare                                      \n",
       "3                                    fara invatamant                                      \n",
       "4                                    fara invatamant                                      \n",
       "\n",
       "                adresa completa a sediului principal  \\\n",
       "0  B-dul. T. Vladimirescu, Nr. 24, Calafat, cod 2...   \n",
       "1                     SLATINA STR. A. I. CUZA NR. 14   \n",
       "2  STR. DIMITRIE CANTEMIR, NR.1, PARTER, SECT.4, ...   \n",
       "3  Bucuresti, Str. Institutul Medico-Militar, Nr....   \n",
       "4                            Calea Republicii, nr. 5   \n",
       "\n",
       "                         email                   website  \\\n",
       "0      spitalcalafat@gmail.com          spitalcalafat.ro   \n",
       "1     spitalulschitu@gmail.com    www.spitalul-schitu.ro   \n",
       "2  secretariat@spitalmalaxa.ro       www.spitalmalaxa.ro   \n",
       "3      smureginamaria@rdsbv.ro          www.smubrasov.ro   \n",
       "4          spitalineu@yahoo.ro  http://www.spitalineu.ro   \n",
       "\n",
       "                                 autoritate_tutelara acreditare_i  \\\n",
       "0                      PRIMARIA MUNICIPIULUI CALAFAT    Acreditat   \n",
       "1                             CONSILIUL JUDETEAN OLT    Acreditat   \n",
       "2                                              ASSMB    Acreditat   \n",
       "3  DIRECtIA MEDICALa a Ministerului Apararii Nati...    Acreditat   \n",
       "4                             Primaria Orasului Ineu    Acreditat   \n",
       "\n",
       "                                       acreditare_ii  unnamed: 15  __1  __2  \n",
       "0  Categoria V Decizie de prelungire a procesului...          NaN  NaN  NaN  \n",
       "1  Categoria V Decizie de prelungire a procesului...          NaN  NaN  NaN  \n",
       "2         Categoria IV Acreditat cu incredere redusa          NaN  NaN  NaN  \n",
       "3              Categoria II Acreditat cu recomandari          NaN  NaN  NaN  \n",
       "4  Categoria V Decizie de prelungire a procesului...          NaN  NaN  NaN  "
      ]
     },
     "execution_count": 68,
     "metadata": {},
     "output_type": "execute_result"
    }
   ],
   "source": [
    "hospitals = hospitals.rename(columns=lambda x: x.lower())\n",
    "\n",
    "hospitals.rename(\n",
    "    columns={\n",
    "        'tip usp (in functie de specificul patologiei tratate)': 'tip_patologie'\n",
    "    },\n",
    "    inplace=True \n",
    ")\n",
    "\n",
    "hospitals.rename(\n",
    "    columns={\n",
    "        'tip usp (in functie de regimul proprietatii)': 'tip'\n",
    "    },\n",
    "    inplace=True \n",
    ")\n",
    "\n",
    "hospitals.rename(\n",
    "    columns={\n",
    "        'adresa completa a sediului principa': 'adresa'\n",
    "    },\n",
    "    inplace=True \n",
    ")\n",
    "hospitals.rename(\n",
    "    columns={\n",
    "        'adresa email oficiala': 'email'\n",
    "    },\n",
    "    inplace=True \n",
    ")\n",
    "hospitals.rename(\n",
    "    columns={\n",
    "        'autoritatea tutelara': 'autoritate_tutelara'\n",
    "    },\n",
    "    inplace=True \n",
    ")\n",
    "\n",
    "hospitals.rename(\n",
    "    columns={\n",
    "        'acreditare ciclul i': 'acreditare_i'\n",
    "    },\n",
    "    inplace=True \n",
    ")\n",
    "hospitals.rename(\n",
    "    columns={\n",
    "        'acreditare ciclul ii': 'acreditare_ii'\n",
    "    },\n",
    "    inplace=True \n",
    ")\n",
    "hospitals.head()\n",
    "\n"
   ]
  },
  {
   "cell_type": "markdown",
   "metadata": {},
   "source": [
    "The total number of hospitals in this dataset is 762, however the actual number of rows is greater than that.\n",
    "\n",
    "Identify and remove the empty (blank space) rows."
   ]
  },
  {
   "cell_type": "code",
   "execution_count": 39,
   "metadata": {},
   "outputs": [
    {
     "data": {
      "text/html": [
       "<div>\n",
       "<style scoped>\n",
       "    .dataframe tbody tr th:only-of-type {\n",
       "        vertical-align: middle;\n",
       "    }\n",
       "\n",
       "    .dataframe tbody tr th {\n",
       "        vertical-align: top;\n",
       "    }\n",
       "\n",
       "    .dataframe thead th {\n",
       "        text-align: right;\n",
       "    }\n",
       "</style>\n",
       "<table border=\"1\" class=\"dataframe\">\n",
       "  <thead>\n",
       "    <tr style=\"text-align: right;\">\n",
       "      <th></th>\n",
       "      <th>nr. crt.</th>\n",
       "      <th>nume</th>\n",
       "      <th>cod a.n.m.c.s.</th>\n",
       "      <th>judet</th>\n",
       "      <th>clasificare</th>\n",
       "      <th>tip_patologie</th>\n",
       "      <th>tip</th>\n",
       "      <th>tip usp (din punct de vedere al invatamantului si al cercetarii stiintifice medicale)</th>\n",
       "      <th>adresa completa a sediului principal</th>\n",
       "      <th>email</th>\n",
       "      <th>website</th>\n",
       "      <th>autoritate_tutelara</th>\n",
       "      <th>acreditare_i</th>\n",
       "      <th>acreditare_ii</th>\n",
       "      <th>unnamed: 15</th>\n",
       "      <th>__1</th>\n",
       "      <th>__2</th>\n",
       "    </tr>\n",
       "  </thead>\n",
       "  <tbody>\n",
       "  </tbody>\n",
       "</table>\n",
       "</div>"
      ],
      "text/plain": [
       "Empty DataFrame\n",
       "Columns: [nr. crt., nume, cod a.n.m.c.s., judet, clasificare, tip_patologie, tip, tip usp (din punct de vedere al invatamantului si al cercetarii stiintifice medicale), adresa completa a sediului principal, email, website, autoritate_tutelara, acreditare_i, acreditare_ii, unnamed: 15, __1, __2]\n",
       "Index: []"
      ]
     },
     "execution_count": 39,
     "metadata": {},
     "output_type": "execute_result"
    }
   ],
   "source": [
    "nan_rows  = hospitals.loc[hospitals.isna().any(axis=1)]\n",
    "#print(nan_rows)\n",
    "hospitals.dropna()"
   ]
  },
  {
   "cell_type": "markdown",
   "metadata": {},
   "source": [
    "How many public hospitals and how many private hospitals are in this dataset?"
   ]
  },
  {
   "cell_type": "code",
   "execution_count": 27,
   "metadata": {},
   "outputs": [
    {
     "name": "stdout",
     "output_type": "stream",
     "text": [
      "    nr. crt.                                               nume  \\\n",
      "8        9.0  S.C. COMPLEX BALNEAR SI DE RECUPERARE C.A.A. S...   \n",
      "15      16.0                            SPITALUL SF SAVA S.R.L.   \n",
      "18      19.0                    S.C. CENTRUL MEDICAL UNIREA SRL   \n",
      "36      37.0                      CARDIO MED S.R.L. TARGU MURES   \n",
      "37      38.0                    SPITAL - CENTRUL MEDICAL TOPMED   \n",
      "\n",
      "   cod a.n.m.c.s.      judet   clasificare  \\\n",
      "8            A009  Constanta             V   \n",
      "15           A016      Buzau             V   \n",
      "18           A019  Bucuresti  Neclasificat   \n",
      "36           A041      Mures             V   \n",
      "37           A042      Mures            IV   \n",
      "\n",
      "   tip usp (in functie de specificul patologiei tratate)  \\\n",
      "8                                        specialitate      \n",
      "15                pentru bolnavi cu afectiuni cronice      \n",
      "18                                       specialitate      \n",
      "36                                       specialitate      \n",
      "37                                       specialitate      \n",
      "\n",
      "   tip usp (in functie de regimul proprietatii)  \\\n",
      "8                                        privat   \n",
      "15                                       privat   \n",
      "18                                       privat   \n",
      "36                                       privat   \n",
      "37                                       privat   \n",
      "\n",
      "   tip usp (din punct de vedere al invatamantului si al cercetarii stiintifice medicale)  \\\n",
      "8                                     fara invatamant                                      \n",
      "15                                    fara invatamant                                      \n",
      "18                                    fara invatamant                                      \n",
      "36                                    fara invatamant                                      \n",
      "37                                    fara invatamant                                      \n",
      "\n",
      "                 adresa completa a sediului principal  \\\n",
      "8       Techirghiol, str. Dr. Victor Climescu, nr 40A   \n",
      "15         BUZAU, STR. CRIZANTEMELOR, NR.5, JUD.BUZAU   \n",
      "18  str. Guillaume Kroll nr. 5, L-1882 Luxembourg,...   \n",
      "36  MUN. TIRGU MURES, STR. 22 DECEMBRIE 1989, NR. ...   \n",
      "37                 STR. DOROBANTILOR, NR. 1, TG.MURES   \n",
      "\n",
      "                   adresa email oficiala  \\\n",
      "8   administrativ@balnear-corporesano.ro   \n",
      "15           sfantulsava.buzau@gmail.com   \n",
      "18                 office@reginamaria.ro   \n",
      "36               contact@cardiomedtgm.ro   \n",
      "37                      office@topmed.ro   \n",
      "\n",
      "                                              website  \\\n",
      "8                          www.balnear-corporesano.ro   \n",
      "15                        http//www.spitalulsfsava.ro   \n",
      "18  https://www.reginamaria.ro/spitale/spitalul-ba...   \n",
      "36                       https://www.cardiomedtgm.ro/   \n",
      "37                                      www.topmed.ro   \n",
      "\n",
      "                                 autoritatea tutelara acreditare ciclul i  \\\n",
      "8      Complex Balnear si de Recuperare C.A.A. S.R.L.           Acreditat   \n",
      "15                                   SPITALUL SF.SAVA           Acreditat   \n",
      "18  Royal Capital Investments S.a.r.l., a o societ...           Acreditat   \n",
      "36                                                AGA           Acreditat   \n",
      "37                      SC CENTRUL MEDICAL TOPMED SRL           Acreditat   \n",
      "\n",
      "                                 acreditare ciclul ii  unnamed: 15  __1  __2  \n",
      "8               Categoria II Acreditat cu recomandari          NaN  NaN  NaN  \n",
      "15             Unitate aflata in proces de acreditare          NaN  NaN  NaN  \n",
      "18              Categoria II Acreditat cu recomandari          NaN  NaN  NaN  \n",
      "36  Categoria V Decizie de prelungire a procesului...          NaN  NaN  NaN  \n",
      "37             Unitate aflata in proces de acreditare          NaN  NaN  NaN  \n"
     ]
    }
   ],
   "source": [
    "public_h = hospitals[hospitals['tip usp (in functie de regimul proprietatii)'] == 'public']\n",
    "print(public_h.head())\n",
    "\n",
    "privat_h = hospitals[hospitals['tip usp (in functie de regimul proprietatii)'] == 'privat']\n",
    "print(privat_h.head())"
   ]
  },
  {
   "cell_type": "markdown",
   "metadata": {},
   "source": [
    "Inspect the values in the `acreditare_i` column + print them."
   ]
  },
  {
   "cell_type": "code",
   "execution_count": 40,
   "metadata": {},
   "outputs": [
    {
     "name": "stdout",
     "output_type": "stream",
     "text": [
      "0       Acreditat\n",
      "1       Acreditat\n",
      "2       Acreditat\n",
      "3       Acreditat\n",
      "4       Acreditat\n",
      "          ...    \n",
      "1360          NaN\n",
      "1361          NaN\n",
      "1362          NaN\n",
      "1363          NaN\n",
      "1364          NaN\n",
      "Name: acreditare_i, Length: 1365, dtype: object\n"
     ]
    }
   ],
   "source": [
    "acreditare = hospitals['acreditare_i'] \n",
    "print(acreditare)\n"
   ]
  },
  {
   "cell_type": "markdown",
   "metadata": {},
   "source": [
    "Create a dataframe containing the hospitals that are *not* accredited."
   ]
  },
  {
   "cell_type": "code",
   "execution_count": 49,
   "metadata": {},
   "outputs": [
    {
     "name": "stdout",
     "output_type": "stream",
     "text": [
      "      nr. crt.                                               nume  \\\n",
      "188      189.0                           SOCIETATEA DR IRIMIA SRL   \n",
      "214      215.0                          SPITALUL ORASENESC FAUREI   \n",
      "424      425.0              S.C. MUNTENIA MEDICAL COMPETENCES S.A   \n",
      "425      426.0                          SPITALUL MUNICIPAL CODLEA   \n",
      "426      427.0  SOCIETATEA CENTRUL MEDICAL POLICLINICO DI MONZ...   \n",
      "...        ...                                                ...   \n",
      "1360       NaN                                                NaN   \n",
      "1361       NaN                                                NaN   \n",
      "1362       NaN                                                NaN   \n",
      "1363       NaN                                                NaN   \n",
      "1364       NaN                                                NaN   \n",
      "\n",
      "     cod a.n.m.c.s.      judet   clasificare tip_patologie     tip  \\\n",
      "188          A50009      Arges  Neclasificat       general  privat   \n",
      "214          A50035     Braila             V       general  public   \n",
      "424            B001      Arges             V       general  privat   \n",
      "425            B002     Brasov             V       general  public   \n",
      "426            B004  Bucuresti             V       general  privat   \n",
      "...             ...        ...           ...           ...     ...   \n",
      "1360            NaN        NaN           NaN           NaN     NaN   \n",
      "1361            NaN        NaN           NaN           NaN     NaN   \n",
      "1362            NaN        NaN           NaN           NaN     NaN   \n",
      "1363            NaN        NaN           NaN           NaN     NaN   \n",
      "1364            NaN        NaN           NaN           NaN     NaN   \n",
      "\n",
      "     tip usp (din punct de vedere al invatamantului si al cercetarii stiintifice medicale)  \\\n",
      "188                                     fara invatamant                                      \n",
      "214                                     fara invatamant                                      \n",
      "424                                     fara invatamant                                      \n",
      "425                                     fara invatamant                                      \n",
      "426                       clinic cu sectii universitare                                      \n",
      "...                                                 ...                                      \n",
      "1360                                                NaN                                      \n",
      "1361                                                NaN                                      \n",
      "1362                                                NaN                                      \n",
      "1363                                                NaN                                      \n",
      "1364                                                NaN                                      \n",
      "\n",
      "                  adresa completa a sediului principal  \\\n",
      "188                    PITESTI, str.Negru Voda, nr.3-5   \n",
      "214                               STR.REPUBLICII,NR.46   \n",
      "424   Arges, Pitesti, Str. Pictor N Grigorescu nr. 2 A   \n",
      "425                          CODLEA, STR. LUNGA NR. 33   \n",
      "426                           str. Tony Bulandra nr.27   \n",
      "...                                                ...   \n",
      "1360                                               NaN   \n",
      "1361                                               NaN   \n",
      "1362                                               NaN   \n",
      "1363                                               NaN   \n",
      "1364                                               NaN   \n",
      "\n",
      "                             email                  website  \\\n",
      "188          infodririmia@yahoo.ro          www.dririmia.ro   \n",
      "214       spit_or_faurei@yahoo.com      www.spitalfaurei.ro   \n",
      "424     office@munteniahospital.ro  www.munteniahospital.ro   \n",
      "425       spitalulcodlea@yahoo.com    www.spitalulcodlea.ro   \n",
      "426   secretariat@spitalulmonza.ro     www.spitalulmonza.ro   \n",
      "...                            ...                      ...   \n",
      "1360                           NaN                      NaN   \n",
      "1361                           NaN                      NaN   \n",
      "1362                           NaN                      NaN   \n",
      "1363                           NaN                      NaN   \n",
      "1364                           NaN                      NaN   \n",
      "\n",
      "                              autoritate_tutelara acreditare_i  \\\n",
      "188                              SC DR.IRIMIA SRL  Neacreditat   \n",
      "214                        CONSILIUL LOCAL FAUREI  Neacreditat   \n",
      "424              Muntenia Medical Competences S.A            -   \n",
      "425                        CONSILIUL LOCAL CODLEA            -   \n",
      "426   SC CENTRUL MEDICAL POLICLINICO DI MONZA SRL            -   \n",
      "...                                           ...          ...   \n",
      "1360                                          NaN          NaN   \n",
      "1361                                          NaN          NaN   \n",
      "1362                                          NaN          NaN   \n",
      "1363                                          NaN          NaN   \n",
      "1364                                          NaN          NaN   \n",
      "\n",
      "                               acreditare_ii  unnamed: 15  __1  __2  \n",
      "188   Unitate aflata in proces de acreditare          NaN  NaN  NaN  \n",
      "214                 Categoria VI Neacreditat          NaN  NaN  NaN  \n",
      "424    Categoria II Acreditat cu recomandari          NaN  NaN  NaN  \n",
      "425       Categoria III Acreditat cu rezerve          NaN  NaN  NaN  \n",
      "426    Categoria II Acreditat cu recomandari          NaN  NaN  NaN  \n",
      "...                                      ...          ...  ...  ...  \n",
      "1360                                     NaN          NaN  NaN  NaN  \n",
      "1361                                     NaN          NaN  NaN  NaN  \n",
      "1362                                     NaN          NaN  NaN  NaN  \n",
      "1363                                     NaN          NaN  NaN  NaN  \n",
      "1364                                     NaN          NaN  NaN  NaN  \n",
      "\n",
      "[943 rows x 17 columns]\n"
     ]
    }
   ],
   "source": [
    "\n",
    "not_accredited_h = hospitals.query(\"acreditare_i != 'Acreditat'\")\n",
    "print(not_accredited_h)\n",
    "\n"
   ]
  },
  {
   "cell_type": "markdown",
   "metadata": {},
   "source": [
    "How many hospitals are *not* accredited?"
   ]
  },
  {
   "cell_type": "code",
   "execution_count": 48,
   "metadata": {},
   "outputs": [
    {
     "name": "stdout",
     "output_type": "stream",
     "text": [
      "340\n"
     ]
    }
   ],
   "source": [
    "not_accr_h = hospitals.query(\"acreditare_i != 'Acreditat' \").count().iloc[0]\n",
    "print(not_accr_h)"
   ]
  },
  {
   "cell_type": "markdown",
   "metadata": {},
   "source": [
    "Pick a county (judet) for a more in-depth analysis.\n",
    "(Bucuresti is also a county)"
   ]
  },
  {
   "cell_type": "code",
   "execution_count": 50,
   "metadata": {},
   "outputs": [],
   "source": [
    "judet = hospitals[hospitals['judet'] == 'Salaj']"
   ]
  },
  {
   "cell_type": "markdown",
   "metadata": {},
   "source": [
    "According to this dataset, how many hospitals are in this county?"
   ]
  },
  {
   "cell_type": "code",
   "execution_count": 53,
   "metadata": {},
   "outputs": [
    {
     "name": "stdout",
     "output_type": "stream",
     "text": [
      "7\n"
     ]
    }
   ],
   "source": [
    "hos_nr = judet.count().iloc[0]\n",
    "print(hos_nr)"
   ]
  },
  {
   "cell_type": "markdown",
   "metadata": {},
   "source": [
    "For the chosen county, create a Dataframe that contains the following information:\n",
    "* judet\n",
    "* tip (public, privat)\n",
    "* count of unaccredited hospitals\n",
    "* count of accredited hospitals"
   ]
  },
  {
   "cell_type": "code",
   "execution_count": 90,
   "metadata": {},
   "outputs": [
    {
     "name": "stderr",
     "output_type": "stream",
     "text": [
      "C:\\Users\\Laptop 13\\AppData\\Local\\Temp\\ipykernel_8896\\3732079997.py:1: FutureWarning: Automatic reindexing on DataFrame vs Series comparisons is deprecated and will raise ValueError in a future version. Do `left, right = left.align(right, axis=1, copy=False)` before e.g. `left == right`\n",
      "  stat = hospitals[hospitals['judet']== judet]\n"
     ]
    },
    {
     "ename": "ValueError",
     "evalue": "Columns must be same length as key",
     "output_type": "error",
     "traceback": [
      "\u001b[1;31m---------------------------------------------------------------------------\u001b[0m",
      "\u001b[1;31mValueError\u001b[0m                                Traceback (most recent call last)",
      "\u001b[1;32mc:\\Users\\Laptop 13\\Desktop\\Vivien Datz\\bootcamp\\2022\\python_workshop\\notebooks\\10_test.ipynb Cell 35\u001b[0m in \u001b[0;36m<cell line: 2>\u001b[1;34m()\u001b[0m\n\u001b[0;32m      <a href='vscode-notebook-cell:/c%3A/Users/Laptop%2013/Desktop/Vivien%20Datz/bootcamp/2022/python_workshop/notebooks/10_test.ipynb#ch0000034?line=0'>1</a>\u001b[0m stat \u001b[39m=\u001b[39m hospitals[hospitals[\u001b[39m'\u001b[39m\u001b[39mjudet\u001b[39m\u001b[39m'\u001b[39m]\u001b[39m==\u001b[39m judet]\n\u001b[1;32m----> <a href='vscode-notebook-cell:/c%3A/Users/Laptop%2013/Desktop/Vivien%20Datz/bootcamp/2022/python_workshop/notebooks/10_test.ipynb#ch0000034?line=1'>2</a>\u001b[0m stat \u001b[39m=\u001b[39m stat\u001b[39m.\u001b[39;49massign(\n\u001b[0;32m      <a href='vscode-notebook-cell:/c%3A/Users/Laptop%2013/Desktop/Vivien%20Datz/bootcamp/2022/python_workshop/notebooks/10_test.ipynb#ch0000034?line=2'>3</a>\u001b[0m     judet \u001b[39m=\u001b[39;49m judet,\n\u001b[0;32m      <a href='vscode-notebook-cell:/c%3A/Users/Laptop%2013/Desktop/Vivien%20Datz/bootcamp/2022/python_workshop/notebooks/10_test.ipynb#ch0000034?line=3'>4</a>\u001b[0m     tip \u001b[39m=\u001b[39;49m \u001b[39mlambda\u001b[39;49;00m x: \u001b[39m~\u001b[39;49mx\u001b[39m.\u001b[39;49mtip\u001b[39m.\u001b[39;49misin([\u001b[39m'\u001b[39;49m\u001b[39mpublic\u001b[39;49m\u001b[39m'\u001b[39;49m,\u001b[39m'\u001b[39;49m\u001b[39mprivat\u001b[39;49m\u001b[39m'\u001b[39;49m]),\n\u001b[0;32m      <a href='vscode-notebook-cell:/c%3A/Users/Laptop%2013/Desktop/Vivien%20Datz/bootcamp/2022/python_workshop/notebooks/10_test.ipynb#ch0000034?line=4'>5</a>\u001b[0m     unaccredited_hospitals \u001b[39m=\u001b[39;49m \u001b[39mlambda\u001b[39;49;00m x: \u001b[39m~\u001b[39;49mx\u001b[39m.\u001b[39;49macreditare_i \u001b[39m!=\u001b[39;49m \u001b[39m'\u001b[39;49m\u001b[39mAcreditat\u001b[39;49m\u001b[39m'\u001b[39;49m,\n\u001b[0;32m      <a href='vscode-notebook-cell:/c%3A/Users/Laptop%2013/Desktop/Vivien%20Datz/bootcamp/2022/python_workshop/notebooks/10_test.ipynb#ch0000034?line=5'>6</a>\u001b[0m     accredited_hospitals \u001b[39m=\u001b[39;49m \u001b[39mlambda\u001b[39;49;00m x: \u001b[39m~\u001b[39;49mx\u001b[39m.\u001b[39;49macreditare_i \u001b[39m==\u001b[39;49m \u001b[39m'\u001b[39;49m\u001b[39mAcreditat\u001b[39;49m\u001b[39m'\u001b[39;49m\n\u001b[0;32m      <a href='vscode-notebook-cell:/c%3A/Users/Laptop%2013/Desktop/Vivien%20Datz/bootcamp/2022/python_workshop/notebooks/10_test.ipynb#ch0000034?line=6'>7</a>\u001b[0m )\n\u001b[0;32m      <a href='vscode-notebook-cell:/c%3A/Users/Laptop%2013/Desktop/Vivien%20Datz/bootcamp/2022/python_workshop/notebooks/10_test.ipynb#ch0000034?line=7'>8</a>\u001b[0m stat \u001b[39m=\u001b[39m stat[[\u001b[39m'\u001b[39m\u001b[39mnume\u001b[39m\u001b[39m'\u001b[39m,\u001b[39m'\u001b[39m\u001b[39mcod a.n.m.c.s.\u001b[39m\u001b[39m'\u001b[39m,\u001b[39m'\u001b[39m\u001b[39mjudet\u001b[39m\u001b[39m'\u001b[39m,\u001b[39m'\u001b[39m\u001b[39mclasificare\u001b[39m\u001b[39m'\u001b[39m,\u001b[39m'\u001b[39m\u001b[39mtip_patologie \u001b[39m\u001b[39m'\u001b[39m,\u001b[39m'\u001b[39m\u001b[39mtip\u001b[39m\u001b[39m'\u001b[39m,\u001b[39m'\u001b[39m\u001b[39munaccredited_hospitals\u001b[39m\u001b[39m'\u001b[39m,\u001b[39m'\u001b[39m\u001b[39maccredited_hospitals\u001b[39m\u001b[39m'\u001b[39m]]\n\u001b[0;32m      <a href='vscode-notebook-cell:/c%3A/Users/Laptop%2013/Desktop/Vivien%20Datz/bootcamp/2022/python_workshop/notebooks/10_test.ipynb#ch0000034?line=8'>9</a>\u001b[0m stat\u001b[39m.\u001b[39mhead()\n",
      "File \u001b[1;32mc:\\programs\\miniconda3\\lib\\site-packages\\pandas\\core\\frame.py:4512\u001b[0m, in \u001b[0;36mDataFrame.assign\u001b[1;34m(self, **kwargs)\u001b[0m\n\u001b[0;32m   4509\u001b[0m data \u001b[39m=\u001b[39m \u001b[39mself\u001b[39m\u001b[39m.\u001b[39mcopy()\n\u001b[0;32m   4511\u001b[0m \u001b[39mfor\u001b[39;00m k, v \u001b[39min\u001b[39;00m kwargs\u001b[39m.\u001b[39mitems():\n\u001b[1;32m-> 4512\u001b[0m     data[k] \u001b[39m=\u001b[39m com\u001b[39m.\u001b[39mapply_if_callable(v, data)\n\u001b[0;32m   4513\u001b[0m \u001b[39mreturn\u001b[39;00m data\n",
      "File \u001b[1;32mc:\\programs\\miniconda3\\lib\\site-packages\\pandas\\core\\frame.py:3645\u001b[0m, in \u001b[0;36mDataFrame.__setitem__\u001b[1;34m(self, key, value)\u001b[0m\n\u001b[0;32m   3643\u001b[0m     \u001b[39mself\u001b[39m\u001b[39m.\u001b[39m_setitem_array(key, value)\n\u001b[0;32m   3644\u001b[0m \u001b[39melif\u001b[39;00m \u001b[39misinstance\u001b[39m(value, DataFrame):\n\u001b[1;32m-> 3645\u001b[0m     \u001b[39mself\u001b[39;49m\u001b[39m.\u001b[39;49m_set_item_frame_value(key, value)\n\u001b[0;32m   3646\u001b[0m \u001b[39melif\u001b[39;00m (\n\u001b[0;32m   3647\u001b[0m     is_list_like(value)\n\u001b[0;32m   3648\u001b[0m     \u001b[39mand\u001b[39;00m \u001b[39mnot\u001b[39;00m \u001b[39mself\u001b[39m\u001b[39m.\u001b[39mcolumns\u001b[39m.\u001b[39mis_unique\n\u001b[0;32m   3649\u001b[0m     \u001b[39mand\u001b[39;00m \u001b[39m1\u001b[39m \u001b[39m<\u001b[39m \u001b[39mlen\u001b[39m(\u001b[39mself\u001b[39m\u001b[39m.\u001b[39mcolumns\u001b[39m.\u001b[39mget_indexer_for([key])) \u001b[39m==\u001b[39m \u001b[39mlen\u001b[39m(value)\n\u001b[0;32m   3650\u001b[0m ):\n\u001b[0;32m   3651\u001b[0m     \u001b[39m# Column to set is duplicated\u001b[39;00m\n\u001b[0;32m   3652\u001b[0m     \u001b[39mself\u001b[39m\u001b[39m.\u001b[39m_setitem_array([key], value)\n",
      "File \u001b[1;32mc:\\programs\\miniconda3\\lib\\site-packages\\pandas\\core\\frame.py:3775\u001b[0m, in \u001b[0;36mDataFrame._set_item_frame_value\u001b[1;34m(self, key, value)\u001b[0m\n\u001b[0;32m   3773\u001b[0m len_cols \u001b[39m=\u001b[39m \u001b[39m1\u001b[39m \u001b[39mif\u001b[39;00m is_scalar(cols) \u001b[39melse\u001b[39;00m \u001b[39mlen\u001b[39m(cols)\n\u001b[0;32m   3774\u001b[0m \u001b[39mif\u001b[39;00m len_cols \u001b[39m!=\u001b[39m \u001b[39mlen\u001b[39m(value\u001b[39m.\u001b[39mcolumns):\n\u001b[1;32m-> 3775\u001b[0m     \u001b[39mraise\u001b[39;00m \u001b[39mValueError\u001b[39;00m(\u001b[39m\"\u001b[39m\u001b[39mColumns must be same length as key\u001b[39m\u001b[39m\"\u001b[39m)\n\u001b[0;32m   3777\u001b[0m \u001b[39m# align right-hand-side columns if self.columns\u001b[39;00m\n\u001b[0;32m   3778\u001b[0m \u001b[39m# is multi-index and self[key] is a sub-frame\u001b[39;00m\n\u001b[0;32m   3779\u001b[0m \u001b[39mif\u001b[39;00m \u001b[39misinstance\u001b[39m(\u001b[39mself\u001b[39m\u001b[39m.\u001b[39mcolumns, MultiIndex) \u001b[39mand\u001b[39;00m \u001b[39misinstance\u001b[39m(\n\u001b[0;32m   3780\u001b[0m     loc, (\u001b[39mslice\u001b[39m, Series, np\u001b[39m.\u001b[39mndarray, Index)\n\u001b[0;32m   3781\u001b[0m ):\n",
      "\u001b[1;31mValueError\u001b[0m: Columns must be same length as key"
     ]
    }
   ],
   "source": [
    "stat = hospitals[hospitals['judet']== judet]\n",
    "stat = stat.assign(\n",
    "    judet = judet,\n",
    "    tip = lambda x: ~x.tip.isin(['public','privat']),\n",
    "    unaccredited_hospitals = lambda x: ~x.acreditare_i != 'Acreditat',\n",
    "    accredited_hospitals = lambda x: ~x.acreditare_i == 'Acreditat'\n",
    ")\n",
    "stat = stat[['nume','cod a.n.m.c.s.','judet','clasificare','tip_patologie ','tip','unaccredited_hospitals','accredited_hospitals']]\n",
    "stat.head()"
   ]
  },
  {
   "cell_type": "markdown",
   "metadata": {},
   "source": [
    "Create a plot that highlights\n",
    "* the number of accredited public hospitals\n",
    "* the number of accredited private hospitals\n",
    "* the number of unaccredited public hospitals\n",
    "* the number of unaccredited private hospitals\n",
    "\n",
    "The expected output for Bucuresti can be found  [here](/2022/python_workshop/notebooks/results/expected/output_test.png)."
   ]
  },
  {
   "cell_type": "code",
   "execution_count": null,
   "metadata": {},
   "outputs": [],
   "source": [
    "plot_acreditat = ..."
   ]
  },
  {
   "cell_type": "code",
   "execution_count": null,
   "metadata": {},
   "outputs": [],
   "source": []
  },
  {
   "cell_type": "code",
   "execution_count": null,
   "metadata": {},
   "outputs": [],
   "source": [
    "plot_neacreditat = ..."
   ]
  },
  {
   "cell_type": "code",
   "execution_count": null,
   "metadata": {},
   "outputs": [],
   "source": []
  },
  {
   "cell_type": "code",
   "execution_count": null,
   "metadata": {},
   "outputs": [],
   "source": [
    "plot_data = ...\n",
    "plot_data.head()"
   ]
  },
  {
   "cell_type": "code",
   "execution_count": null,
   "metadata": {},
   "outputs": [],
   "source": [
    "plot_data.plot(kind=\"bar\")"
   ]
  }
 ],
 "metadata": {
  "kernelspec": {
   "display_name": "Python 3.9.12 ('base')",
   "language": "python",
   "name": "python3"
  },
  "language_info": {
   "codemirror_mode": {
    "name": "ipython",
    "version": 3
   },
   "file_extension": ".py",
   "mimetype": "text/x-python",
   "name": "python",
   "nbconvert_exporter": "python",
   "pygments_lexer": "ipython3",
   "version": "3.9.12"
  },
  "orig_nbformat": 4,
  "vscode": {
   "interpreter": {
    "hash": "d31b83e9610685068a0fe73b54051d44dc1110027bef1c52e64b671e72faac45"
   }
  }
 },
 "nbformat": 4,
 "nbformat_minor": 2
}
