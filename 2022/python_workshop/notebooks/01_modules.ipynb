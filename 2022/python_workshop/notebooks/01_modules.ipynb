{
 "cells": [
  {
   "cell_type": "markdown",
   "metadata": {},
   "source": [
    "__PYTHON__ \n",
    "\n",
    "It is a scripting language. A script is a .py file that's meant to be run directly.\n",
    "\n",
    "Scripts are modules that act as the entry point of a Python program.\n",
    "\n",
    "__MODULES__\n",
    "\n",
    "A module is a file with .py extension which contains Python code.\n",
    "\n",
    "To be able to use code code from a module 1, in another module 2, module 1 must be imported in module 2.\n",
    "\n",
    "A module's code gets executed at module's initialization, either when\n",
    "        - is executed as a script or\n",
    "        - is imported, basically when you want to use code from module_1, in another module_2, module_1 must be imported in module_2."
   ]
  },
  {
   "cell_type": "code",
   "execution_count": 2,
   "metadata": {},
   "outputs": [],
   "source": [
    "#prerequisite\n",
    "# import sys\n",
    "# sys.path.append(\"path to folder where both modules are\")\n"
   ]
  },
  {
   "cell_type": "code",
   "execution_count": 3,
   "metadata": {},
   "outputs": [],
   "source": [
    " import module_1\n",
    "# print(a)  \n",
    "# \"a\" is a variable. Variable are used to store information. They have a name (i.e \"a\"), a value (i.e. 1) and an address in memory (i.e.id(module_1.a))"
   ]
  },
  {
   "cell_type": "code",
   "execution_count": 4,
   "metadata": {},
   "outputs": [],
   "source": [
    "print(module_1.a)"
   ]
  },
  {
   "cell_type": "markdown",
   "metadata": {},
   "source": [
    "---------------------------------------------------------------------------------------------------------------------------------------\n",
    "\"import\" statement imports everything that's in the imported module. <br> \n",
    "The import instruction may be located anywhere in your code, but it must be placed before the first use of any of the module's entities.\n",
    "\n",
    "If we want to import only some part of a module then a statement like \"from module_1 import what_you_want\" needs to be used"
   ]
  },
  {
   "cell_type": "code",
   "execution_count": 9,
   "metadata": {},
   "outputs": [],
   "source": [
    "from module_1 import a\n",
    "print(a)\n",
    "print(b)"
   ]
  },
  {
   "cell_type": "code",
   "execution_count": 10,
   "metadata": {},
   "outputs": [],
   "source": [
    "from module_1 import b\n",
    "b = 222\n",
    "print(b)"
   ]
  },
  {
   "cell_type": "markdown",
   "metadata": {},
   "source": [
    "\n",
    "---------------------------------------------------------------------------------------------------------------------------------------\n",
    "Everything that is imported can be given an alias"
   ]
  },
  {
   "cell_type": "code",
   "execution_count": 1,
   "metadata": {},
   "outputs": [
    {
     "name": "stdout",
     "output_type": "stream",
     "text": [
      "NAME from module_1.py: module_1\n",
      "FILE from module_1.py: c:\\Users\\Laptop 19\\Desktop\\UIFALEAN_EMANUEL_TUDOR\\PYTHON\\Github\\bootcamp\\2022\\python_workshop\\notebooks\\module_1.py\n",
      "module_1 -- a = 1\n",
      "222\n",
      "2\n"
     ]
    }
   ],
   "source": [
    "from module_1 import b as bb\n",
    "b = 222\n",
    "print(b)\n",
    "print(bb)"
   ]
  },
  {
   "cell_type": "markdown",
   "metadata": {},
   "source": [
    "---------------------------------------------------------------------------------------------------------------------------------------\n",
    "Python has a lot of built-in stuff. More on this we'll discover later on.<br>\n",
    "For now let's focus on dir() function. It returns a list with all properties and methods of the specified object, without the values.<br>\n",
    "We are interested in name (name of the module) and file (the path to the module). Note that the name of the module that is executed is main."
   ]
  },
  {
   "cell_type": "code",
   "execution_count": 5,
   "metadata": {},
   "outputs": [],
   "source": [
    "import module_1\n",
    "print(f\"dir()  --> {dir()}\")\n",
    "print(f\"dir(module_1)  --> {dir(module_1)}\")\n",
    "print(f\"NAME from module_2.py: {__name__}\")     "
   ]
  },
  {
   "cell_type": "markdown",
   "metadata": {},
   "source": [
    "---------------------------------------------------------------------------------------------------------------------------------------\n",
    "A Python __package__ is a folder that constains modules and/or other packages.\n",
    "\n",
    "Packages might contain an init file which tells Python that the folder is a Python package. It can be empty or it may contain code to be run when the package is initialized, i.e. executed when any of the package's modules is imported. However, the init file is not necessary if you are using Python 3.3+"
   ]
  },
  {
   "cell_type": "code",
   "execution_count": 6,
   "metadata": {},
   "outputs": [],
   "source": [
    "# package\n",
    "import sys\n",
    "# import module_3\n",
    "\n",
    "sys.path.append(\"c:\\\\Users\\\\besei\\\\Documents\\\\Bootcamp2022\\\\subfolder\") # change this to be acording to your path\n",
    "import module_3  # noqa"
   ]
  },
  {
   "cell_type": "markdown",
   "metadata": {},
   "source": [
    "---------------------------------------------------------------------------------------------------------------------------------------\n",
    "__pycache__ <br>\n",
    "    - contains  module.cpython-xy.pyc where x and y are digits derived from your version of Python (e.g., they will be 3 and 4 if you use Python 3.4) <br>\n",
    "    - these files are created when they are imported in other modules\n",
    "\n",
    "When Python imports a module for the first time, it translates its contents into a somewhat compiled shape. The file doesn't contain machine code - it's internal Python semi-compiled code, ready to be executed by Python's interpreter."
   ]
  },
  {
   "cell_type": "code",
   "execution_count": 4,
   "metadata": {},
   "outputs": [],
   "source": [
    "# __pycache__\n",
    "#   - delete it\n",
    "#   - import module_3\n",
    "#   - check last_modified_date, modify smth, restart kernel, import module_3, check last_modified_date again"
   ]
  },
  {
   "cell_type": "markdown",
   "metadata": {},
   "source": [
    "---------------------------------------------------------------------------------------------------------------------------------------\n",
    "__Built-in libraries__\n",
    "\n",
    "__sys__ \n",
    "- has several methods and variables that can alter various aspects of the Python runtime environment.\n",
    "- when a module is imported, the interpreter searches for:\n",
    "            1. a built-in module \n",
    "            2. a file in sys.path \n",
    "      \n",
    "\n",
    "__pandas__ \n",
    "- number 1 library for data scientists and not only. It enables us to work with data sets, i.e. analyzing cleaning, exploring and manipulating data.\n",
    "- can read/write data from/to various file types, e.g. csv, parquet, json\n",
    "- imagine that you have a file with some data and you want to filter/delete/update/get max/min/group by/etc. With pandas you can do that (and even more) similar to the way you do in SQL.\n",
    "- the files can be stored locally or in S3.\n",
    "- with Pandas we can also connect to a DB\n",
    "- soon, you'll learn about many data types and data structures. For now, let's see what Pandas comes with: DataFrames are two-dimensional size-mutable data structure, i.e. it's like an Excel table to which you can add/remove rows/columns\n",
    "- you can easily find out the data types of each column in a DataFrame and other stats\n",
    "- more to follow :)"
   ]
  },
  {
   "cell_type": "code",
   "execution_count": 7,
   "metadata": {},
   "outputs": [],
   "source": [
    "from sys import path  # strings that specifies the search path for modules\n",
    "print(f\"sys.path = {path}\")"
   ]
  },
  {
   "cell_type": "code",
   "execution_count": null,
   "metadata": {},
   "outputs": [],
   "source": []
  }
 ],
 "metadata": {
  "kernelspec": {
   "display_name": "Python 3.9.12 ('base')",
   "language": "python",
   "name": "python3"
  },
  "language_info": {
   "codemirror_mode": {
    "name": "ipython",
    "version": 3
   },
   "file_extension": ".py",
   "mimetype": "text/x-python",
   "name": "python",
   "nbconvert_exporter": "python",
   "pygments_lexer": "ipython3",
   "version": "3.9.12"
  },
  "vscode": {
   "interpreter": {
    "hash": "d31b83e9610685068a0fe73b54051d44dc1110027bef1c52e64b671e72faac45"
   }
  }
 },
 "nbformat": 4,
 "nbformat_minor": 4
}
