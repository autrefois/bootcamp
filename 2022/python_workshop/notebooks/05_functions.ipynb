{
 "cells": [
  {
   "cell_type": "markdown",
   "metadata": {},
   "source": [
    "## General considerations about functions\n",
    "A function is a block of organized, reusable code that is used to perform a single, related action.  \n",
    "Functions provide better modularity for your application and a high degree of code reusing.\n",
    "### Python user-defined function structure\n",
    "`def functionname( parameters ):\n",
    "   \"\"\"                             \n",
    "   function_docstring              \n",
    "   \"\"\"                             \n",
    "   function_suite                  \n",
    "   return [expression]             \n",
    "`\n",
    "* parameters: Any input parameters or arguments should be placed within these parentheses. You can also define parameters inside these parentheses. Default values can be indicated.\n",
    "* function_docstring: document the function: what is good for, parameters, return, ...\n",
    "* return: can have no expression (in this case it is None), or even can be absent (it is also None by default)"
   ]
  },
  {
   "cell_type": "code",
   "execution_count": 3,
   "metadata": {},
   "outputs": [
    {
     "name": "stdout",
     "output_type": "stream",
     "text": [
      "2022-07-29 12:22:05.086045: Test process started\n",
      "2022-07-29 12:22:05.086045: Test process ended\n",
      "test_file_20220729_122205.txt\n",
      "second_test_file_20220729_122205.txt\n",
      "test_file_20220729_122205.json\n"
     ]
    }
   ],
   "source": [
    "from datetime import datetime\n",
    "\n",
    "# function without return to log a provided text\n",
    "\n",
    "def log_txt(str):\n",
    "    if str:\n",
    "        print('{}: {}'.format(datetime.now(), str))\n",
    "\n",
    "# call log function\n",
    "log_txt(\"Test process started\")\n",
    "log_txt(\"Test process ended\")\n",
    "\n",
    "# function with return to create a dynamic file_name\n",
    "\n",
    "# indicate default value in parameter\n",
    "def get_file_name(fn_prefix = 'test_file', fn_suffix = '.txt'):\n",
    "    # generate and return the file_name using current timestamp formated as string\n",
    "    return fn_prefix + '_' + datetime.now().strftime(\"%Y%m%d_%H%M%S\") + fn_suffix\n",
    "\n",
    "# call function 1\n",
    "print(get_file_name())\n",
    "# call function 2\n",
    "file_name = get_file_name('second_test_file')\n",
    "print(file_name)\n",
    "file_name = get_file_name(fn_suffix ='.json')\n",
    "print(file_name)"
   ]
  },
  {
   "cell_type": "markdown",
   "metadata": {},
   "source": [
    "### Calling a function\n",
    "* A function is called from any Py code (another function) or from Python prompt\n",
    "* Parameters are by default positional, can be sent by name as well\n",
    "  \n",
    "### Variables visibility (scope)\n",
    "All variables in a program may not be accessible at all locations in that program. This depends on where you have declared a variable.  \n",
    "The scope of a variable determines the portion of the program where you can access a particular identifier. There are two basic scopes of variables in Python:\n",
    "* Global variables\n",
    "* Local variables\n",
    "  \n",
    "#### Global vs. Local variables\n",
    "Variables that are defined inside a function body have a local scope, and those defined outside have a global scope.  \n",
    "This means that local variables can be accessed only inside the function in which they are declared, whereas global variables can be accessed throughout the program body by all functions.  \n",
    "When you call a function, the variables declared inside it are brought into scope. If a variable name is used on different levels in a call chain, the inside, upper closest is used\n",
    "### Parameters passed by reference\n",
    "* All parameters (arguments) in the Python language are passed by reference. It means if you change what a parameter refers to within a function, the change also reflects back in the calling function\n",
    "* Still, a lot of attention must be paid to:\n",
    "  * using the same identity or create a new instance for that object\n",
    "  * variable type is mutable or immutable"
   ]
  },
  {
   "cell_type": "code",
   "execution_count": 4,
   "metadata": {},
   "outputs": [
    {
     "name": "stdout",
     "output_type": "stream",
     "text": [
      "Danger\n"
     ]
    }
   ],
   "source": [
    "flag = True # False\n",
    "\n",
    "# Note that var is not declared outside if. What will happen if Flag is True?\n",
    "\n",
    "if flag:\n",
    "    var = \"Danger\"\n",
    "print(var)"
   ]
  },
  {
   "cell_type": "code",
   "execution_count": 11,
   "metadata": {},
   "outputs": [
    {
     "name": "stdout",
     "output_type": "stream",
     "text": [
      "Lst inside function before change: ['M.Viteazu', 'Dorobanti']\n",
      "Lst inside function after change: ['M.Viteazu', 'Dorobanti', 'Micro1']\n",
      "Lst out of the function after change: ['M.Viteazu', 'Dorobanti', 'Micro1']\n"
     ]
    }
   ],
   "source": [
    "# test with immutable variable\n",
    "test_str = 'Locations in Cluj'\n",
    "\n",
    "# def change_function(str):\n",
    "#     global test_str\n",
    "#     print('str inside function before change: {}'.format(str))\n",
    "#     test_str = 'Locations in Turda' # inside function a new identity is created (another variable)\n",
    "#     print('str inside function after change: {}'.format(str))\n",
    "    \n",
    "# #     return val1, val2\n",
    "\n",
    "# a = change_function\n",
    "# print(f\"~~~~~~~~~~~~~~~~~ {a(test_str)}\")\n",
    "\n",
    "# print(a)\n",
    "\n",
    "# # execute the function\n",
    "# change_function(test_str)\n",
    "# print('str out of the function after change: {}'.format(test_str))\n",
    "\n",
    "# # test with mutable variable but still create a new identity\n",
    "# test_lst = ['M.Viteazu', 'Dorobanti']\n",
    "# def change_function(lst):\n",
    "#     print('Lst inside function before change: {}'.format(lst))\n",
    "#     lst = ['Micro3'] # inside function a new identity is created (another variable)\n",
    "#     print('Lst inside function after change: {}'.format(lst))\n",
    "# # execute the function\n",
    "# change_function(test_lst)\n",
    "# print('Lst out of the function after change: {}'.format(test_lst))\n",
    "\n",
    "# test with mutable variable changed inside\n",
    "test_lst = ['M.Viteazu', 'Dorobanti']\n",
    "def change_function(lst):\n",
    "    print('Lst inside function before change: {}'.format(lst))\n",
    "    lst.append('Micro1') # inside function same identity for a mutable variable is changed\n",
    "    print('Lst inside function after change: {}'.format(lst))\n",
    "# execute the function\n",
    "change_function(test_lst)\n",
    "print('Lst out of the function after change: {}'.format(test_lst))"
   ]
  },
  {
   "cell_type": "markdown",
   "metadata": {},
   "source": [
    "### Variable-length Arguments\n",
    "You may need to process a function for more arguments than you specified while defining the function. These arguments are called variable-length arguments and are not named in the function definition  \n",
    "There are 2 types:\n",
    "* only values; In general, they are indicated by `*args` inside parameter brackets\n",
    "* key-value pairs; In general, they are indicated by `**kwargs` inside parameter brackets\n",
    "  \n",
    "### Ordering Arguments\n",
    "Parameters should they are present in all types, then the mandatory order is:\n",
    "* Standard arguments\n",
    "* *args arguments\n",
    "* **kwargs arguments"
   ]
  },
  {
   "cell_type": "code",
   "execution_count": null,
   "metadata": {},
   "outputs": [],
   "source": [
    "# concatenate an unknown number of strings (simulate built-in function str.join(lst))\n",
    "txt_lst = ['this is row 1', 'this is row 2', 'this is row 3']\n",
    "\n",
    "def concatenate_str(*args):\n",
    "    out_txt = str()\n",
    "    # make a loop on all provided arguments\n",
    "    for txt in args:\n",
    "        out_txt = out_txt + '\\n' + txt\n",
    "    return out_txt\n",
    "\n",
    "# run the function\n",
    "out_txt = concatenate_str(txt_lst[0], txt_lst[1], txt_lst[2])\n",
    "print(out_txt)"
   ]
  },
  {
   "cell_type": "code",
   "execution_count": null,
   "metadata": {},
   "outputs": [],
   "source": [
    "newcastle_dic = {'horse': 'CHARLIE\"S BOY (IRE)', 'age': 2}\n",
    "stratford_on_avon_dic = {'horse': 'CAPTAIN MARMALADE (IRE)', 'age': 3}\n",
    "\n",
    "def print_winner_horse(**kwargs):\n",
    "    for source, horse_dic in kwargs.items():\n",
    "        print('Source: : {}'.format(source))\n",
    "        for k,v in horse_dic.items():\n",
    "            print('{}: {}'.format(k,v))\n",
    "#\n",
    "print_winner_horse(NEWCASTLE=newcastle_dic, STRATFORD_ON_AVON=stratford_on_avon_dic)\n"
   ]
  },
  {
   "cell_type": "code",
   "execution_count": null,
   "metadata": {},
   "outputs": [],
   "source": []
  },
  {
   "cell_type": "code",
   "execution_count": null,
   "metadata": {},
   "outputs": [],
   "source": []
  }
 ],
 "metadata": {
  "kernelspec": {
   "display_name": "Python 3",
   "language": "python",
   "name": "python3"
  },
  "language_info": {
   "codemirror_mode": {
    "name": "ipython",
    "version": 3
   },
   "file_extension": ".py",
   "mimetype": "text/x-python",
   "name": "python",
   "nbconvert_exporter": "python",
   "pygments_lexer": "ipython3",
   "version": "3.7.4"
  }
 },
 "nbformat": 4,
 "nbformat_minor": 4
}
