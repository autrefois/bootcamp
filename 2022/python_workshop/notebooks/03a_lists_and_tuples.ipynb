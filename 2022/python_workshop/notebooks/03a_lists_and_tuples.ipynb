{
 "cells": [
  {
   "cell_type": "markdown",
   "metadata": {},
   "source": [
    "# Lists\n",
    "\n",
    "A list in python is used to store multiple items in a single variable; these items may be of different data types.\n",
    "In Python, lists are ordered.\n",
    "\n",
    "`driver = \"Leclerc\"`\n",
    "\n",
    "In this example, we've assigned the name of a driver to the variable. Easy.\n",
    "\n",
    "But what if we want to store multiple drivers?\n",
    "\n",
    "```\n",
    "driver1 = \"Leclerc\"\n",
    "driver2 = \"Verstappen\"\n",
    "```\n",
    "\n",
    "To print out these drivers, we could do something like this:\n",
    "\n",
    "```\n",
    "print(driver1, driver2)\n",
    "```\n",
    "\n",
    "This would be easier if we used a list!\n",
    "\n",
    "```\n",
    "f1_drivers = [\"Leclerc\", \"Verstappen\"]\n",
    "```\n",
    "\n",
    "We can access the elements on the list based on the index. Remember, arrays always start at 0.\n",
    "\n",
    "What do you think the following code will print out?"
   ]
  },
  {
   "cell_type": "code",
   "execution_count": 7,
   "metadata": {},
   "outputs": [
    {
     "name": "stdout",
     "output_type": "stream",
     "text": [
      "Verstappen\n",
      "<class 'list'>\n"
     ]
    }
   ],
   "source": [
    "f1_drivers = [\"Leclerc\", \"Verstappen\"]\n",
    "print(f1_drivers[1])\n",
    "\n",
    "print(type(f1_drivers))"
   ]
  },
  {
   "cell_type": "markdown",
   "metadata": {},
   "source": [
    "Let's create add more drivers to this list."
   ]
  },
  {
   "cell_type": "code",
   "execution_count": 8,
   "metadata": {},
   "outputs": [
    {
     "name": "stdout",
     "output_type": "stream",
     "text": [
      "['Leclerc', 'Verstappen', 'Hamilton', 'Norris', 'Alonso', 'Bottas', 'Gasly', 'Vettel', 'Schumacher', 'Albon', 'Hulkenberg']\n"
     ]
    }
   ],
   "source": [
    "# using the append method - add one element\n",
    "f1_drivers.append(\"Hamilton\")\n",
    "f1_drivers.append(\"Norris\")\n",
    "\n",
    "# using the + operator - add multiple elements\n",
    "f1_drivers = f1_drivers + [\"Alonso\", \"Bottas\"]\n",
    "\n",
    "# using the extend method - add another list to the list\n",
    "f1_drivers.extend([\"Gasly\"])\n",
    "f1_drivers.extend([\"Vettel\", \"Schumacher\", \"Albon\", \"Hulkenberg\"])\n",
    "\n",
    "print(f1_drivers)"
   ]
  },
  {
   "cell_type": "code",
   "execution_count": 9,
   "metadata": {},
   "outputs": [
    {
     "name": "stdout",
     "output_type": "stream",
     "text": [
      "removed Hulkenberg.\n",
      "['Leclerc', 'Verstappen', 'Hamilton', 'Norris', 'Alonso', 'Bottas', 'Gasly', 'Vettel', 'Schumacher', 'Albon']\n",
      "added Hulkenberg.\n",
      "['Leclerc', 'Verstappen', 'Hamilton', 'Norris', 'Alonso', 'Bottas', 'Gasly', 'Vettel', 'Schumacher', 'Albon', 'Hulkenberg']\n",
      "removed Hulkenberg again. won't add Hulkenberg back.\n",
      "['Leclerc', 'Verstappen', 'Hamilton', 'Norris', 'Alonso', 'Bottas', 'Gasly', 'Vettel', 'Schumacher', 'Albon']\n"
     ]
    }
   ],
   "source": [
    "# we should probably remove Hulkenberg\n",
    "\n",
    "# remove the last entry\n",
    "last_entry = f1_drivers.pop()\n",
    "\n",
    "print(\"removed {}.\".format(last_entry))\n",
    "print(f1_drivers)\n",
    "\n",
    "# other ways to remove items from a list\n",
    "\n",
    "# add Hulkenberg back\n",
    "f1_drivers.append(\"Hulkenberg\")\n",
    "print(\"added {}.\".format(last_entry))\n",
    "print(f1_drivers)\n",
    "\n",
    "# so we can remove him again\n",
    "print(\"removed {0} again. won't add {0} back.\".format(last_entry))\n",
    "f1_drivers.remove(last_entry)\n",
    "\n",
    "print(f1_drivers)"
   ]
  },
  {
   "cell_type": "code",
   "execution_count": 10,
   "metadata": {},
   "outputs": [
    {
     "name": "stdout",
     "output_type": "stream",
     "text": [
      "['Leclerc', 'Verstappen', 'Hamilton', 'Norris', 'Alonso', 'Bottas', 'Gasly', 'Vettel', 'Schumacher', 'Albon']\n",
      "Result ['Hamilton', 'Alonso', 'Gasly', 'Schumacher']\n"
     ]
    }
   ],
   "source": [
    "# List slicing - similar to what we have seen for strings, as strings are lists of characters.\n",
    "# list[m:n:p], where p is an optional parameter for step.\n",
    "\n",
    "#print(\"Ignore the last five drivers {}\".format(f1_drivers[:-5]))\n",
    "#print(\"Revert the order {}\".format(f1_drivers[::-1]))\n",
    "#print(\"Print every other driver {}\".format(f1_drivers[::2]))\n",
    "\n",
    "print(f1_drivers)\n",
    "# Can you figure out the slicing used to get the following result?\n",
    "# Result ['Hamilton', 'Alonso', 'Gasly', 'Schumacher']\n",
    "# hint: use the step parameter\n",
    "\n",
    "print(\"Result {}\".format(f1_drivers[2:-1:2]))"
   ]
  },
  {
   "cell_type": "markdown",
   "metadata": {},
   "source": [
    "What if we want to map the drivers with their team?"
   ]
  },
  {
   "cell_type": "code",
   "execution_count": 11,
   "metadata": {},
   "outputs": [],
   "source": [
    "# create a list of teams\n",
    "f1_teams = ['Ferrari', 'Redbull', \"Mercedes\", 'McLaren', 'Alpine', 'Alfa Romeo', 'Alpha Tauri', 'Aston Martin', 'Haas', 'Williams'\n",
    "]\n",
    "\n",
    "# add all the teams to the list using the preferred method\n",
    "# the 2022 F1 teams are (for accurate results use this order!)\n",
    "# Ferrari, Redbull, Mercedes, McLaren, Alpine, Alfa Romeo, Alpha Tauri, Aston Martin, Haas, Williams\n",
    "#f1_teams.extend( 'Ferrari', 'Redbull', \"Mercedes\", 'McLaren', 'Alpine', 'Alfa Romeo', 'Alpha Tauri', 'Aston Martin', 'Haas', 'Williams'\n"
   ]
  },
  {
   "cell_type": "markdown",
   "metadata": {},
   "source": [
    "In order to map the two lists, we need to introduce the **pandas** framework.\n",
    "\n",
    "The pandas framework is used for data analysis and manipulation.\n"
   ]
  },
  {
   "cell_type": "code",
   "execution_count": 12,
   "metadata": {},
   "outputs": [],
   "source": [
    "# let's import the framework; using an alias\n",
    "import pandas as pd"
   ]
  },
  {
   "cell_type": "markdown",
   "metadata": {},
   "source": [
    "So far, so good. Now for the challenging part.\n",
    "\n",
    "We need to define a variable using the f1_drivers and f1_teams variables as columns using the Dataframe function."
   ]
  },
  {
   "cell_type": "code",
   "execution_count": 13,
   "metadata": {},
   "outputs": [
    {
     "name": "stdout",
     "output_type": "stream",
     "text": [
      "  TEAM_DRIVER     TEAM_NAME\n",
      "0     Leclerc       Ferrari\n",
      "1  Verstappen       Redbull\n",
      "2    Hamilton      Mercedes\n",
      "3      Norris       McLaren\n",
      "4      Alonso        Alpine\n",
      "5      Bottas    Alfa Romeo\n",
      "6       Gasly   Alpha Tauri\n",
      "7      Vettel  Aston Martin\n",
      "8  Schumacher          Haas\n",
      "9       Albon      Williams\n"
     ]
    }
   ],
   "source": [
    "# create an empty dataframe, with columns for driver and team\n",
    "df = pd.DataFrame(columns=['TEAM_DRIVER', 'TEAM_NAME'])\n",
    "\n",
    "# label the columns\n",
    "df['TEAM_DRIVER'], df['TEAM_NAME'] = f1_drivers, f1_teams\n",
    "\n",
    "# print the dataframe\n",
    "print(df)"
   ]
  },
  {
   "cell_type": "code",
   "execution_count": 14,
   "metadata": {},
   "outputs": [
    {
     "name": "stdout",
     "output_type": "stream",
     "text": [
      "[True, 1, 1.5, 'abc', [1, 2, 3]]\n"
     ]
    }
   ],
   "source": [
    "# lists also accept items of different data types\n",
    "\n",
    "various_types = []\n",
    "bool_value = True\n",
    "int_value = 1\n",
    "float_value = 1.5\n",
    "string_value = \"abc\"\n",
    "a_list = [1, 2, 3]\n",
    "\n",
    "various_types.extend([bool_value, int_value, float_value, string_value, a_list])\n",
    "\n",
    "print(various_types)"
   ]
  },
  {
   "cell_type": "markdown",
   "metadata": {},
   "source": [
    "### List methods and operations with list\n",
    "* __append()__: ads an element at the end of the list\n",
    "* __extend()__: add at the end of the list elements from another list\n",
    "* __insert()__: Aads an element at the specified position\n",
    "* __sort__: sorts the list\n",
    "* __count()__: returns the number of elements with the specified value\n",
    "* other methods allow removing elements from list, reverse the order of list, create copy of a list\n",
    "* __len(list)__: function returning number of elements in the list\n",
    "* __set(list)__: converts a list into a set\n",
    "* __enumerate(list)__: iterate through a list geting the index as well\n",
    "### List comprehension\n",
    "* List comprehensions provide a concise way to create lists.\n",
    "* It consists of brackets containing an expression followed by a for clause, then zero or more for or if clauses. The expressions can be anything, meaning you can put in all kinds of objects in lists.\n",
    "* The result will be a new list resulting from evaluating the expression in thecontext of the for and if clauses which follow it. __The list comprehension always returns a result list__:\n",
    "* `new_list = [expression(i) for i in <iterable> if filter(i)]`\n"
   ]
  },
  {
   "cell_type": "markdown",
   "metadata": {},
   "source": [
    "### Set\n",
    "* Very important, sets have only distinct values.\n",
    "* A set is a collection which is unordered and unindexed.\n",
    "* In Python sets are written with curly brackets {}.\n",
    "* This is the recomended solution if distict, intersect are the needed results\n",
    "### Set methods\n",
    "* __add()__: Adds an element to the set\n",
    "* __update()__: Update the set with the union of this set and others\n",
    "* __intersection_update__: Removes the items in this set that are not present in other, specified set(s)\n",
    "* __union()__: Return a set containing the union of sets\n",
    "* __intersection__: Returns a set, that is the intersection of two other sets\n",
    "* There are other methods to discard elements, create a copy, provide difference between sets, s.o"
   ]
  },
  {
   "cell_type": "code",
   "execution_count": 15,
   "metadata": {},
   "outputs": [
    {
     "name": "stdout",
     "output_type": "stream",
     "text": [
      "x1 !=  x2  --> {'abracadabra'} !=  {'b', 'a', 'r', 'c', 'd'}\n",
      "<class 'set'>\n",
      "<class 'set'>\n"
     ]
    }
   ],
   "source": [
    "x1 = {'abracadabra'}\n",
    "x2 = set('abracadabra')\n",
    "print(f\"x1 !=  x2  --> {x1} !=  {x2}\")\n",
    "print(type(x1))\n",
    "print(type(x2))"
   ]
  },
  {
   "cell_type": "markdown",
   "metadata": {},
   "source": [
    "# Tuples\n",
    "\n",
    "Tuples are identical to lists, except:\n",
    "- they are immutable\n",
    "- they are defined by enclosing the elements in parantheses instead of square brackets\n",
    "\n",
    "```\n",
    "a_tuple = ('Leclerc', 'Ferrari')\n",
    "```\n",
    "\n",
    "A few reasons you should use tuples instead of lists:\n",
    "- program execution is faster when using a tuple than it is for the equivalent list (as a tuple is immutable, therefore smaller)\n",
    "- you do not want data modified\n",
    "- a Python dictionary requires keys that are of immutable type"
   ]
  },
  {
   "cell_type": "code",
   "execution_count": 16,
   "metadata": {},
   "outputs": [
    {
     "name": "stdout",
     "output_type": "stream",
     "text": [
      "Ferrari\n",
      "<class 'tuple'>\n"
     ]
    }
   ],
   "source": [
    "a_tuple = ('Leclerc', 'Ferrari')\n",
    "print(a_tuple[1])\n",
    "\n",
    "print(type(a_tuple))"
   ]
  },
  {
   "cell_type": "code",
   "execution_count": 17,
   "metadata": {},
   "outputs": [
    {
     "name": "stdout",
     "output_type": "stream",
     "text": [
      "('Leclerc',)\n",
      "('Ferrari', 'Leclerc')\n"
     ]
    }
   ],
   "source": [
    "# similar with lists, you can slice tuples, too!\n",
    "print(a_tuple[:-1])\n",
    "\n",
    "# reverse the order\n",
    "print(a_tuple[::-1])"
   ]
  },
  {
   "cell_type": "code",
   "execution_count": 18,
   "metadata": {},
   "outputs": [
    {
     "ename": "TypeError",
     "evalue": "'tuple' object does not support item assignment",
     "output_type": "error",
     "traceback": [
      "\u001b[1;31m---------------------------------------------------------------------------\u001b[0m",
      "\u001b[1;31mTypeError\u001b[0m                                 Traceback (most recent call last)",
      "\u001b[1;32mc:\\Users\\Laptop 10\\Desktop\\bootcampGit\\bootcamp\\2022\\python_workshop\\notebooks\\03a_lists_and_tuples.ipynb Cell 20\u001b[0m in \u001b[0;36m<cell line: 2>\u001b[1;34m()\u001b[0m\n\u001b[0;32m      <a href='vscode-notebook-cell:/c%3A/Users/Laptop%2010/Desktop/bootcampGit/bootcamp/2022/python_workshop/notebooks/03a_lists_and_tuples.ipynb#ch0000019?line=0'>1</a>\u001b[0m \u001b[39m# but cannot assign new values to the items\u001b[39;00m\n\u001b[1;32m----> <a href='vscode-notebook-cell:/c%3A/Users/Laptop%2010/Desktop/bootcampGit/bootcamp/2022/python_workshop/notebooks/03a_lists_and_tuples.ipynb#ch0000019?line=1'>2</a>\u001b[0m a_tuple[\u001b[39m0\u001b[39m] \u001b[39m=\u001b[39m \u001b[39m'\u001b[39m\u001b[39mVerstappen\u001b[39m\u001b[39m'\u001b[39m\n",
      "\u001b[1;31mTypeError\u001b[0m: 'tuple' object does not support item assignment"
     ]
    }
   ],
   "source": [
    "# but cannot assign new values to the items\n",
    "a_tuple[0] = 'Verstappen'\n",
    "\n",
    "# can't transfer Verstappen to Ferrari like this!"
   ]
  },
  {
   "cell_type": "markdown",
   "metadata": {},
   "source": [
    "Let's try to get the tuples from the Dataframe we created."
   ]
  },
  {
   "cell_type": "code",
   "execution_count": 19,
   "metadata": {},
   "outputs": [
    {
     "name": "stdout",
     "output_type": "stream",
     "text": [
      "<class 'map'>\n",
      "<map object at 0x0000019D0B2B86A0>\n",
      "TEAM(TEAM_DRIVER='Leclerc', TEAM_NAME='Ferrari')\n",
      "TEAM(TEAM_DRIVER='Verstappen', TEAM_NAME='Redbull')\n",
      "TEAM(TEAM_DRIVER='Hamilton', TEAM_NAME='Mercedes')\n",
      "TEAM(TEAM_DRIVER='Norris', TEAM_NAME='McLaren')\n",
      "TEAM(TEAM_DRIVER='Alonso', TEAM_NAME='Alpine')\n",
      "TEAM(TEAM_DRIVER='Bottas', TEAM_NAME='Alfa Romeo')\n",
      "TEAM(TEAM_DRIVER='Gasly', TEAM_NAME='Alpha Tauri')\n",
      "TEAM(TEAM_DRIVER='Vettel', TEAM_NAME='Aston Martin')\n",
      "TEAM(TEAM_DRIVER='Schumacher', TEAM_NAME='Haas')\n",
      "TEAM(TEAM_DRIVER='Albon', TEAM_NAME='Williams')\n"
     ]
    }
   ],
   "source": [
    "f1_tuples = df.itertuples(index=False, name=\"TEAM\")\n",
    "\n",
    "print(type(f1_tuples)) # an iterator\n",
    "\n",
    "print(f1_tuples)\n",
    "\n",
    "# in order to get the values, we must call the next() method on the iterator\n",
    "while (t := next(f1_tuples, False)):\n",
    "    print(t)"
   ]
  },
  {
   "cell_type": "code",
   "execution_count": 20,
   "metadata": {},
   "outputs": [
    {
     "name": "stdout",
     "output_type": "stream",
     "text": [
      "[('Leclerc', 'Ferrari'), ('Verstappen', 'Redbull'), ('Hamilton', 'Mercedes'), ('Norris', 'McLaren'), ('Alonso', 'Alpine'), ('Bottas', 'Alfa Romeo'), ('Gasly', 'Alpha Tauri'), ('Vettel', 'Aston Martin'), ('Schumacher', 'Haas'), ('Albon', 'Williams')]\n"
     ]
    }
   ],
   "source": [
    "# what if I want to store these tuples somewhere?\n",
    "# typles no longer named for this example\n",
    "\n",
    "competition_teams = list(df.itertuples(index=False, name=None))\n",
    "print(competition_teams)"
   ]
  },
  {
   "cell_type": "code",
   "execution_count": 25,
   "metadata": {},
   "outputs": [
    {
     "ename": "TypeError",
     "evalue": "'ellipsis' object is not iterable",
     "output_type": "error",
     "traceback": [
      "\u001b[1;31m---------------------------------------------------------------------------\u001b[0m",
      "\u001b[1;31mTypeError\u001b[0m                                 Traceback (most recent call last)",
      "\u001b[1;32mc:\\Users\\Laptop 10\\Desktop\\bootcampGit\\bootcamp\\2022\\python_workshop\\notebooks\\03a_lists_and_tuples.ipynb Cell 24\u001b[0m in \u001b[0;36m<cell line: 8>\u001b[1;34m()\u001b[0m\n\u001b[0;32m      <a href='vscode-notebook-cell:/c%3A/Users/Laptop%2010/Desktop/bootcampGit/bootcamp/2022/python_workshop/notebooks/03a_lists_and_tuples.ipynb#ch0000023?line=5'>6</a>\u001b[0m driver_numbers \u001b[39m=\u001b[39m [\u001b[39m16\u001b[39m, \u001b[39m1\u001b[39m, \u001b[39m44\u001b[39m, \u001b[39m4\u001b[39m, \u001b[39m14\u001b[39m, \u001b[39m77\u001b[39m, \u001b[39m10\u001b[39m, \u001b[39m5\u001b[39m, \u001b[39m47\u001b[39m, \u001b[39m23\u001b[39m]\n\u001b[0;32m      <a href='vscode-notebook-cell:/c%3A/Users/Laptop%2010/Desktop/bootcampGit/bootcamp/2022/python_workshop/notebooks/03a_lists_and_tuples.ipynb#ch0000023?line=6'>7</a>\u001b[0m \u001b[39m# for each team in the list\u001b[39;00m\n\u001b[1;32m----> <a href='vscode-notebook-cell:/c%3A/Users/Laptop%2010/Desktop/bootcampGit/bootcamp/2022/python_workshop/notebooks/03a_lists_and_tuples.ipynb#ch0000023?line=7'>8</a>\u001b[0m \u001b[39mfor\u001b[39;00m team \u001b[39min\u001b[39;00m competition_teams:\n\u001b[0;32m      <a href='vscode-notebook-cell:/c%3A/Users/Laptop%2010/Desktop/bootcampGit/bootcamp/2022/python_workshop/notebooks/03a_lists_and_tuples.ipynb#ch0000023?line=8'>9</a>\u001b[0m     \u001b[39m# get the index of the tuple\u001b[39;00m\n\u001b[0;32m     <a href='vscode-notebook-cell:/c%3A/Users/Laptop%2010/Desktop/bootcampGit/bootcamp/2022/python_workshop/notebooks/03a_lists_and_tuples.ipynb#ch0000023?line=9'>10</a>\u001b[0m     index_in_list \u001b[39m=\u001b[39m competition_teams\u001b[39m.\u001b[39mindex(team)\n\u001b[0;32m     <a href='vscode-notebook-cell:/c%3A/Users/Laptop%2010/Desktop/bootcampGit/bootcamp/2022/python_workshop/notebooks/03a_lists_and_tuples.ipynb#ch0000023?line=10'>11</a>\u001b[0m     \u001b[39m# using the index, get the driver number\u001b[39;00m\n",
      "\u001b[1;31mTypeError\u001b[0m: 'ellipsis' object is not iterable"
     ]
    }
   ],
   "source": [
    "# let's try to add the driver number for each tuple, by unpacking\n",
    "\n",
    "# create empty list to store the new tuples\n",
    "updated_list = []\n",
    "# driver numbers are in the same order as the drivers\n",
    "driver_numbers = [16, 1, 44, 4, 14, 77, 10, 5, 47, 23]\n",
    "# for each team in the list\n",
    "for team in competition_teams:\n",
    "    # get the index of the tuple\n",
    "    index_in_list = competition_teams.index(team)\n",
    "    # using the index, get the driver number\n",
    "    driver_number = driver_numbers[index_in_list]\n",
    "    # create a new tuple by unpacking the team tuple and adding the driver number\n",
    "    new_tuple = (*team, driver_number)\n",
    "    # add the new tuple to the updated list\n",
    "    updated_list.append(new_tuple)\n",
    "\n",
    "# update the list\n",
    "competition_teams = updated_list\n",
    "print(competition_teams)"
   ]
  },
  {
   "cell_type": "markdown",
   "metadata": {},
   "source": [
    "### Notes on tuple packing and unpacking\n",
    "\n",
    "As you have seen, a tuple containing several items can be assigned to a single object.\n",
    "\n",
    "When that happens, it is as though the items of the tuple have been *packed* into a single object.\n",
    "\n",
    "If that *packed* object is subsequently assigned to a new tuple, the individual items are *unpacked* into the objects in the tuple.\n",
    "\n",
    "```\n",
    "(a_driver, a_team, a_driver_number) = competition_teams[0]\n",
    "```\n",
    "\n",
    "When unpacking, the number of the variables on the left must match the number of values in the tuple.\n",
    "\n",
    "Packing and unpacking can be combined into one statement to make a compund assignment:\n",
    "\n",
    "```\n",
    "(a_driver, a_team, a_driver_number) = (\"Sainz\", \"Ferrari\", 55)\n",
    "```\n",
    "\n",
    "In assignments like these ^ the parantheses can be left out.\n",
    "\n",
    "This also allows you for simple variable swapping:\n",
    "\n",
    "```\n",
    "a, b = b, a\n",
    "```\n",
    "\n",
    "(No need for a temp variable!)"
   ]
  },
  {
   "cell_type": "markdown",
   "metadata": {},
   "source": [
    "### Exercise"
   ]
  },
  {
   "cell_type": "code",
   "execution_count": null,
   "metadata": {},
   "outputs": [],
   "source": [
    "# lists are ordered\n",
    "# create the result list using tuple for driver-team_name, list comprehension and enumerate\n",
    "# using list comprehension, map the first 5 drivers to their respetive team; \n",
    "# hint: you may use using tuple for driver-team_name, list comprehension and enumerate;\n",
    "# expected output: [('Leclerc', 'Ferrari'), ('Verstappen', 'Redbull'), ('Hamilton', 'Mercedes'), ('Norris', 'McLaren'), ('Alonso', 'Alpine')]\n",
    "first_5 = ...\n",
    "print(first_5)"
   ]
  }
 ],
 "metadata": {
  "kernelspec": {
   "display_name": "Python 3.9.12 ('base')",
   "language": "python",
   "name": "python3"
  },
  "language_info": {
   "codemirror_mode": {
    "name": "ipython",
    "version": 3
   },
   "file_extension": ".py",
   "mimetype": "text/x-python",
   "name": "python",
   "nbconvert_exporter": "python",
   "pygments_lexer": "ipython3",
   "version": "3.9.12"
  },
  "orig_nbformat": 4,
  "vscode": {
   "interpreter": {
    "hash": "d31b83e9610685068a0fe73b54051d44dc1110027bef1c52e64b671e72faac45"
   }
  }
 },
 "nbformat": 4,
 "nbformat_minor": 2
}
