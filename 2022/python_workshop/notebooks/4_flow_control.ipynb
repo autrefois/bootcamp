{
 "cells": [
  {
   "cell_type": "code",
   "execution_count": 1,
   "metadata": {},
   "outputs": [],
   "source": [
    "a = 2"
   ]
  },
  {
   "cell_type": "code",
   "execution_count": 2,
   "metadata": {},
   "outputs": [
    {
     "name": "stdout",
     "output_type": "stream",
     "text": [
      "ELSE\n"
     ]
    }
   ],
   "source": [
    "if a == 1:\n",
    "    print(\"IF\") # identation\n",
    "else:\n",
    "    print(\"ELSE\")"
   ]
  },
  {
   "cell_type": "markdown",
   "metadata": {},
   "source": [
    "__Q: How can the above code be written in one line?__"
   ]
  },
  {
   "cell_type": "code",
   "execution_count": 3,
   "metadata": {},
   "outputs": [
    {
     "name": "stdout",
     "output_type": "stream",
     "text": [
      "else\n"
     ]
    }
   ],
   "source": [
    "print ('if') if a == 1 else print('else')"
   ]
  },
  {
   "cell_type": "code",
   "execution_count": 4,
   "metadata": {},
   "outputs": [
    {
     "name": "stdout",
     "output_type": "stream",
     "text": [
      "ELIF\n"
     ]
    }
   ],
   "source": [
    "\"\"\"\n",
    "An if block can have:\n",
    "    - only 1 if clause\n",
    "    - 0 or more elifs clauses\n",
    "    - 0 or 1 else clause\n",
    "\"\"\"\n",
    "\n",
    "if a == 1:      # \n",
    "    print(\"IF\")\n",
    "elif a == 2:\n",
    "    print(\"ELIF\")\n",
    "else:\n",
    "    print(\"ELSE\")"
   ]
  },
  {
   "cell_type": "markdown",
   "metadata": {},
   "source": [
    "__Q: What is None in Python?__"
   ]
  },
  {
   "cell_type": "code",
   "execution_count": null,
   "metadata": {},
   "outputs": [],
   "source": [
    "if a is None:  # do not use == None #none ii echivalentul lui null in sql\n",
    "    print(\"Var a is None\")\n",
    "    \n",
    "if a is not None:\n",
    "    print(\"Var a is not None\")"
   ]
  },
  {
   "cell_type": "markdown",
   "metadata": {},
   "source": [
    "__Q: What is the output of the below 2 cells? Why?__"
   ]
  },
  {
   "cell_type": "code",
   "execution_count": 5,
   "metadata": {},
   "outputs": [
    {
     "data": {
      "text/plain": [
       "True"
      ]
     },
     "execution_count": 5,
     "metadata": {},
     "output_type": "execute_result"
    }
   ],
   "source": [
    "False == 0"
   ]
  },
  {
   "cell_type": "code",
   "execution_count": 6,
   "metadata": {},
   "outputs": [],
   "source": [
    "a = 'a'\n",
    "if not a:\n",
    "    print(f\"a = {a}\")"
   ]
  },
  {
   "cell_type": "code",
   "execution_count": 24,
   "metadata": {},
   "outputs": [],
   "source": []
  },
  {
   "cell_type": "code",
   "execution_count": 7,
   "metadata": {},
   "outputs": [
    {
     "name": "stdout",
     "output_type": "stream",
     "text": [
      "idx in while: 0\n",
      "idx in while: 1\n",
      "idx in while: 2\n",
      "3\n"
     ]
    }
   ],
   "source": []
  },
  {
   "cell_type": "code",
   "execution_count": 14,
   "metadata": {},
   "outputs": [
    {
     "name": "stdout",
     "output_type": "stream",
     "text": [
      "idx in while: 0\n",
      "idx in while: 1\n",
      "idx in while: 2\n",
      "3\n"
     ]
    }
   ],
   "source": [
    "idx = 0\n",
    "for idx in range(3):\n",
    "    print(f\"idx in while: {idx}\")\n",
    "    idx = idx + 1\n",
    "print(idx)"
   ]
  },
  {
   "cell_type": "code",
   "execution_count": 20,
   "metadata": {},
   "outputs": [
    {
     "name": "stdout",
     "output_type": "stream",
     "text": [
      "1\n",
      "2\n",
      "3\n"
     ]
    }
   ],
   "source": [
    "my_list = [1, 2, 3]\n",
    "for el in my_list:\n",
    "    print(el)"
   ]
  },
  {
   "cell_type": "markdown",
   "metadata": {},
   "source": [
    "__Task: Rewrite the above WHILE loop using a FOR loop.__"
   ]
  },
  {
   "cell_type": "code",
   "execution_count": 17,
   "metadata": {},
   "outputs": [
    {
     "name": "stdout",
     "output_type": "stream",
     "text": [
      "idx in while: 0\n",
      "idx in while: 1\n",
      "idx in while: 2\n",
      "3\n"
     ]
    }
   ],
   "source": [
    "idx = 0\n",
    "while idx < 3:\n",
    "    print(f\"idx in while: {idx}\")\n",
    "    idx += 1\n",
    "print(idx)"
   ]
  },
  {
   "cell_type": "markdown",
   "metadata": {},
   "source": [
    "__Q:What is the output of the below cell?__"
   ]
  },
  {
   "cell_type": "code",
   "execution_count": 21,
   "metadata": {},
   "outputs": [
    {
     "name": "stdout",
     "output_type": "stream",
     "text": [
      "1\n",
      "3\n",
      "\n",
      "1\n"
     ]
    }
   ],
   "source": [
    "\n",
    "for el in my_list:\n",
    "    if el == 2:\n",
    "        continue\n",
    "    print(el)\n",
    "print()\n",
    "for el in my_list:\n",
    "    if el == 2:\n",
    "        break\n",
    "    print(el)"
   ]
  },
  {
   "cell_type": "code",
   "execution_count": 22,
   "metadata": {},
   "outputs": [
    {
     "name": "stdout",
     "output_type": "stream",
     "text": [
      "1\n",
      "1\n",
      "3\n",
      "ELSE\n"
     ]
    }
   ],
   "source": [
    "\"\"\"\n",
    "Both WHILE and FOR loops can have an else clause which is executed when the loop completes normally, i.e. break was executed\n",
    "\"\"\"\n",
    "#my_list = [1, 1, 2, 3]\n",
    "my_list = [1, 1, 3]\n",
    "for el in my_list:\n",
    "    if el == 2:\n",
    "        break\n",
    "    print(el)\n",
    "else:\n",
    "    print(\"ELSE\")"
   ]
  },
  {
   "cell_type": "markdown",
   "metadata": {},
   "source": [
    "__Task: Given the lists below, print the following output:<br>\n",
    "1,3<br>\n",
    "1,4<br>\n",
    "2,3<br>\n",
    "2,4__"
   ]
  },
  {
   "cell_type": "code",
   "execution_count": 23,
   "metadata": {},
   "outputs": [
    {
     "name": "stdout",
     "output_type": "stream",
     "text": [
      "1 , 3\n",
      "1 , 4\n",
      "2 , 3\n",
      "2 , 4\n"
     ]
    }
   ],
   "source": [
    "l1 = [1,2]\n",
    "l2 = [3,4]\n",
    "for i in l1:\n",
    "    for j in l2:\n",
    "        print(i,\",\",j)\n"
   ]
  },
  {
   "cell_type": "markdown",
   "metadata": {},
   "source": [
    "__Task: Given the lists below, print the following output:<br>\n",
    "1,3<br>\n",
    "2,4__"
   ]
  },
  {
   "cell_type": "code",
   "execution_count": 25,
   "metadata": {},
   "outputs": [
    {
     "name": "stdout",
     "output_type": "stream",
     "text": [
      "1 3\n",
      "2 4\n"
     ]
    }
   ],
   "source": [
    "l1 = [1,2]\n",
    "l2 = [3,4]\n",
    "for i in range (len(l1)):\n",
    "    print(l1[i], l2[i])"
   ]
  },
  {
   "cell_type": "markdown",
   "metadata": {},
   "source": [
    "__Dictionary instead of if-else<br>\n",
    "Backwards compatible__"
   ]
  },
  {
   "cell_type": "code",
   "execution_count": 55,
   "metadata": {},
   "outputs": [
    {
     "name": "stdout",
     "output_type": "stream",
     "text": [
      "2\n",
      "2\n"
     ]
    }
   ],
   "source": [
    "country = 'Canada'\n",
    "\n",
    "if country == \"Russia\":\n",
    "    print(1)\n",
    "elif country == \"Canada\":\n",
    "    print(2)\n",
    "elif country == \"China\":\n",
    "    print(3)\n",
    "else:\n",
    "    print(\"Invalid country!\")\n",
    "\n",
    "# ---------------------------------------\n",
    "\n",
    "countries = {\n",
    "    \"Russia\": 1,\n",
    "    \"Canada\": 2,\n",
    "    \"China\": 3\n",
    "}\n",
    "\n",
    "print(countries[country])"
   ]
  },
  {
   "cell_type": "code",
   "execution_count": 27,
   "metadata": {},
   "outputs": [
    {
     "ename": "ModuleNotFoundError",
     "evalue": "No module named 'module_1'",
     "output_type": "error",
     "traceback": [
      "\u001b[1;31m---------------------------------------------------------------------------\u001b[0m",
      "\u001b[1;31mModuleNotFoundError\u001b[0m                       Traceback (most recent call last)",
      "\u001b[1;32mc:\\Users\\Laptop 15\\Downloads\\4_flow_control.ipynb Cell 26\u001b[0m in \u001b[0;36m<cell line: 1>\u001b[1;34m()\u001b[0m\n\u001b[1;32m----> <a href='vscode-notebook-cell:/c%3A/Users/Laptop%2015/Downloads/4_flow_control.ipynb#ch0000025?line=0'>1</a>\u001b[0m \u001b[39mimport\u001b[39;00m \u001b[39mmodule_1\u001b[39;00m\n",
      "\u001b[1;31mModuleNotFoundError\u001b[0m: No module named 'module_1'"
     ]
    }
   ],
   "source": [
    "import module_1"
   ]
  },
  {
   "cell_type": "code",
   "execution_count": null,
   "metadata": {},
   "outputs": [],
   "source": [
    "\"\"\"\n",
    "Ex1:\n",
    "Print odd numbers of the following list: [1,2,3,4,5] --> 1, 3, 5\n",
    "\n",
    "Ex2:\n",
    "Print string elems in reversed order: ['a', 'b', 2, 1, 'c'] --> 'c', 'b', 'a'\n",
    "\n",
    "Ex3:\n",
    "Print factorial of a given number.\n",
    " (4!) --> 24\n",
    " (0!) --> 1\n",
    " (1!) --> 1\n",
    "\n",
    "Ex4:\n",
    "Print the total number of digits in a number: 1111 --> 4\n",
    "\"\"\""
   ]
  },
  {
   "cell_type": "code",
   "execution_count": 28,
   "metadata": {},
   "outputs": [
    {
     "name": "stdout",
     "output_type": "stream",
     "text": [
      "[1, 3, 5]\n"
     ]
    }
   ],
   "source": [
    "#ex 1\n",
    "li = [1,2,3,4,5]\n",
    "print(li[0::2])"
   ]
  },
  {
   "cell_type": "code",
   "execution_count": 2,
   "metadata": {},
   "outputs": [
    {
     "name": "stdout",
     "output_type": "stream",
     "text": [
      "['a', 'b', 2, 1, 'c'] --> ['c', 'b', 'a']\n"
     ]
    }
   ],
   "source": [
    "#Print string elems in reversed order: ['a', 'b', 2, 1, 'c'] --> 'c', 'b', 'a'\n",
    "lsi = ['a', 'b', 2, 1, 'c']\n",
    "a = lsi.copy()\n",
    "a.remove(2)\n",
    "a.remove(1)\n",
    "a.reverse()\n",
    "print(lsi,'-->',a)\n"
   ]
  },
  {
   "cell_type": "code",
   "execution_count": null,
   "metadata": {},
   "outputs": [],
   "source": [
    "''' ex3: Print factorial of a given number.\n",
    " (4!) --> 24\n",
    " (0!) --> 1\n",
    " (1!) --> 1\n",
    "'''\n",
    "\n"
   ]
  },
  {
   "cell_type": "code",
   "execution_count": 18,
   "metadata": {},
   "outputs": [
    {
     "name": "stdout",
     "output_type": "stream",
     "text": [
      "4\n"
     ]
    }
   ],
   "source": [
    "#print the total number of digits in a int\n",
    "import math\n",
    "x = 1111\n",
    "x = int(math.log10(x)) + 1\n",
    "print(x)"
   ]
  },
  {
   "cell_type": "code",
   "execution_count": 57,
   "metadata": {},
   "outputs": [],
   "source": [
    "\"\"\"\n",
    "Ex5:\n",
    "Print the elements that satisfy the following criteria:\n",
    "a. number must be divisible by 9\n",
    "b. if it is equal to 81, do not print it, go to the next one \n",
    "c. if last element of the list is greater or equal to 100, end the loop\n",
    "c. if all elems are smaller that 100, print \"All good.\"\n",
    "\n",
    "Ex6:\n",
    "Print the following pattern:\n",
    "5 4 3 2 1 \n",
    "4 3 2 1 \n",
    "3 2 1 \n",
    "2 1 \n",
    "1\n",
    "\n",
    "Ex7:\n",
    "Given below input, write Python code to generate the below output:\n",
    "\n",
    "input = {\n",
    "        \"Prison\": \"NoName\",\n",
    "        \"Address\": \"Unknown\",\n",
    "        \"Inmates\": {\n",
    "            \"3242\": {\n",
    "                \"Name\": \"Chad\",\n",
    "                \"Age\": 29\n",
    "            },\n",
    "            \"435456\": {\n",
    "                \"Name\": \"Paul\",\n",
    "                \"Age\": 46\n",
    "            },\n",
    "            \"9865\": {\n",
    "                \"Name\": \"Jim\",\n",
    "                \"Age\": 43\n",
    "            }\n",
    "        }\n",
    "    }\n",
    "\n",
    "\n",
    "output = {\n",
    "        \"Prison\": \"NoName\",\n",
    "        \"Address\": \"Unknown\",\n",
    "        \"Inmates\": [\n",
    "            {\n",
    "                \"id\": \"3242\",\n",
    "                \"Name\": \"Chad\",\n",
    "                \"Age\": 29\n",
    "            },\n",
    "            {\n",
    "                \"id\": \"435456\",\n",
    "                \"Name\": \"Paul\",\n",
    "                \"Age\": 46\n",
    "            },\n",
    "            {\n",
    "                \"id\": \"9865\",\n",
    "                \"Name\": \"Jim\",\n",
    "                \"Age\": 43\n",
    "            }\n",
    "      ]\n",
    "}\n",
    "\"\"\""
   ]
  },
  {
   "cell_type": "code",
   "execution_count": null,
   "metadata": {},
   "outputs": [],
   "source": [
    "'''\n",
    "Ex5:\n",
    "Print the elements that satisfy the following criteria:\n",
    "a. number must be divisible by 9\n",
    "b. if it is equal to 81, do not print it, go to the next one \n",
    "c. if last element of the list is greater or equal to 100, end the loop\n",
    "c. if all elems are smaller that 100, print \"All good.\"\n",
    "'''\n",
    "\n"
   ]
  },
  {
   "cell_type": "code",
   "execution_count": 19,
   "metadata": {},
   "outputs": [],
   "source": [
    "'''\n",
    "Ex6:\n",
    "Print the following pattern:\n",
    "5 4 3 2 1 \n",
    "4 3 2 1 \n",
    "3 2 1 \n",
    "2 1 \n",
    "1\n",
    "'''\n",
    "x= input('test: ')\n",
    "print(x)\n",
    "\n"
   ]
  },
  {
   "cell_type": "code",
   "execution_count": null,
   "metadata": {},
   "outputs": [],
   "source": []
  },
  {
   "cell_type": "code",
   "execution_count": null,
   "metadata": {},
   "outputs": [],
   "source": []
  },
  {
   "cell_type": "code",
   "execution_count": null,
   "metadata": {},
   "outputs": [],
   "source": []
  },
  {
   "cell_type": "code",
   "execution_count": null,
   "metadata": {},
   "outputs": [],
   "source": []
  },
  {
   "cell_type": "code",
   "execution_count": null,
   "metadata": {},
   "outputs": [],
   "source": []
  }
 ],
 "metadata": {
  "kernelspec": {
   "display_name": "Python 3.9.12 ('base')",
   "language": "python",
   "name": "python3"
  },
  "language_info": {
   "codemirror_mode": {
    "name": "ipython",
    "version": 3
   },
   "file_extension": ".py",
   "mimetype": "text/x-python",
   "name": "python",
   "nbconvert_exporter": "python",
   "pygments_lexer": "ipython3",
   "version": "3.9.12"
  },
  "vscode": {
   "interpreter": {
    "hash": "d31b83e9610685068a0fe73b54051d44dc1110027bef1c52e64b671e72faac45"
   }
  }
 },
 "nbformat": 4,
 "nbformat_minor": 4
}
