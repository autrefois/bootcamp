{
 "cells": [
  {
   "cell_type": "code",
   "execution_count": null,
   "metadata": {},
   "outputs": [],
   "source": [
    "a = 2"
   ]
  },
  {
   "cell_type": "code",
   "execution_count": 4,
   "metadata": {},
   "outputs": [
    {
     "name": "stdout",
     "output_type": "stream",
     "text": [
      "ELSE\n"
     ]
    }
   ],
   "source": [
    "a = 2\n",
    "if a == 1:\n",
    "    print(\"IF\") # identation\n",
    "else:\n",
    "    print(\"ELSE\")"
   ]
  },
  {
   "cell_type": "markdown",
   "metadata": {},
   "source": [
    "__Q: How can the above code be written in one line?__"
   ]
  },
  {
   "cell_type": "code",
   "execution_count": 7,
   "metadata": {},
   "outputs": [
    {
     "name": "stdout",
     "output_type": "stream",
     "text": [
      "ELSE\n"
     ]
    }
   ],
   "source": [
    "print(\"IF\")  if a ==1 else print(\"ELSE\")"
   ]
  },
  {
   "cell_type": "code",
   "execution_count": 9,
   "metadata": {},
   "outputs": [
    {
     "name": "stdout",
     "output_type": "stream",
     "text": [
      "ELIF\n"
     ]
    }
   ],
   "source": [
    "\"\"\"\n",
    "An if block can have:\n",
    "    - only 1 if clause\n",
    "    - 0 or more elifs clauses\n",
    "    - 0 or 1 else clause\n",
    "\"\"\"\n",
    "\n",
    "if a == 1:      # \n",
    "    print(\"IF\")\n",
    "elif a == 2:\n",
    "    print(\"ELIF\")\n",
    "else:\n",
    "    print(\"ELSE\")"
   ]
  },
  {
   "cell_type": "markdown",
   "metadata": {},
   "source": [
    "__Q: What is None in Python?__"
   ]
  },
  {
   "cell_type": "code",
   "execution_count": 10,
   "metadata": {},
   "outputs": [
    {
     "name": "stdout",
     "output_type": "stream",
     "text": [
      "Var a is not None\n"
     ]
    }
   ],
   "source": [
    "if a is None:  # do not use == None\n",
    "    print(\"Var a is None\")\n",
    "    \n",
    "if a is not None:\n",
    "    print(\"Var a is not None\")"
   ]
  },
  {
   "cell_type": "markdown",
   "metadata": {},
   "source": [
    "__Q: What is the output of the below 2 cells? Why?__"
   ]
  },
  {
   "cell_type": "code",
   "execution_count": 14,
   "metadata": {},
   "outputs": [
    {
     "data": {
      "text/plain": [
       "True"
      ]
     },
     "execution_count": 14,
     "metadata": {},
     "output_type": "execute_result"
    }
   ],
   "source": [
    "False == 0"
   ]
  },
  {
   "cell_type": "code",
   "execution_count": 15,
   "metadata": {},
   "outputs": [],
   "source": [
    "a = 'a'\n",
    "if not a: \n",
    "    # no value  \n",
    "    print(f\"a = {a}\")"
   ]
  },
  {
   "cell_type": "code",
   "execution_count": null,
   "metadata": {},
   "outputs": [],
   "source": []
  },
  {
   "cell_type": "code",
   "execution_count": 16,
   "metadata": {},
   "outputs": [
    {
     "name": "stdout",
     "output_type": "stream",
     "text": [
      "idx in while: 0\n",
      "idx in while: 1\n",
      "idx in while: 2\n",
      "3\n"
     ]
    }
   ],
   "source": [
    "idx = 0\n",
    "while idx < 3:\n",
    "    print(f\"idx in while: {idx}\")\n",
    "    idx += 1\n",
    "print(idx)"
   ]
  },
  {
   "cell_type": "code",
   "execution_count": null,
   "metadata": {},
   "outputs": [],
   "source": []
  },
  {
   "cell_type": "code",
   "execution_count": 17,
   "metadata": {},
   "outputs": [
    {
     "name": "stdout",
     "output_type": "stream",
     "text": [
      "1\n",
      "2\n",
      "3\n"
     ]
    }
   ],
   "source": [
    "my_list = [1, 2, 3]\n",
    "for el in my_list:\n",
    "    print(el)"
   ]
  },
  {
   "cell_type": "markdown",
   "metadata": {},
   "source": [
    "__Task: Rewrite the above WHILE loop using a FOR loop.__"
   ]
  },
  {
   "cell_type": "code",
   "execution_count": 21,
   "metadata": {},
   "outputs": [
    {
     "name": "stdout",
     "output_type": "stream",
     "text": [
      "idx in while: 0\n",
      "idx in while: 1\n",
      "idx in while: 2\n",
      "3\n"
     ]
    }
   ],
   "source": [
    "idx = 0\n",
    "for i in range (3):\n",
    "    print(f\"idx in while: {idx}\")\n",
    "    idx += 1\n",
    "print(idx)"
   ]
  },
  {
   "cell_type": "markdown",
   "metadata": {},
   "source": [
    "__Q:What is the output of the below cell?__"
   ]
  },
  {
   "cell_type": "code",
   "execution_count": 22,
   "metadata": {},
   "outputs": [
    {
     "name": "stdout",
     "output_type": "stream",
     "text": [
      "1\n",
      "3\n",
      "\n",
      "1\n"
     ]
    }
   ],
   "source": [
    "for el in my_list:\n",
    "    if el == 2:\n",
    "        continue\n",
    "    print(el)\n",
    "print()\n",
    "for el in my_list:\n",
    "    if el == 2:\n",
    "        break\n",
    "    print(el)"
   ]
  },
  {
   "cell_type": "code",
   "execution_count": 24,
   "metadata": {},
   "outputs": [
    {
     "name": "stdout",
     "output_type": "stream",
     "text": [
      "1\n",
      "1\n",
      "3\n",
      "ELSE\n"
     ]
    }
   ],
   "source": [
    "\"\"\"\n",
    "Both WHILE and FOR loops can have an else clause which is executed when the loop completes normally, i.e. break was executed\n",
    "\"\"\"\n",
    "# my_list = [1, 1, 2, 3]\n",
    "my_list = [1, 1, 3]\n",
    "for el in my_list:\n",
    "    if el == 2:\n",
    "        break\n",
    "    print(el)\n",
    "else:\n",
    "    print(\"ELSE\")"
   ]
  },
  {
   "cell_type": "markdown",
   "metadata": {},
   "source": [
    "__Task: Given the lists below, print the following output:<br>\n",
    "1,3<br>\n",
    "1,4<br>\n",
    "2,3<br>\n",
    "2,4__"
   ]
  },
  {
   "cell_type": "code",
   "execution_count": 26,
   "metadata": {},
   "outputs": [
    {
     "name": "stdout",
     "output_type": "stream",
     "text": [
      "1 ,  3\n",
      "1 ,  4\n",
      "2 ,  3\n",
      "2 ,  4\n"
     ]
    }
   ],
   "source": [
    "l1 = [1,2]\n",
    "l2 = [3,4]\n",
    "for i in l1 :\n",
    "    for j in l2 : \n",
    "        print(i, \", \", j)"
   ]
  },
  {
   "cell_type": "markdown",
   "metadata": {},
   "source": [
    "__Task: Given the lists below, print the following output:<br>\n",
    "1,3<br>\n",
    "2,4__"
   ]
  },
  {
   "cell_type": "code",
   "execution_count": 33,
   "metadata": {},
   "outputs": [
    {
     "name": "stdout",
     "output_type": "stream",
     "text": [
      "1 3\n",
      "2 4\n"
     ]
    }
   ],
   "source": [
    "l1 = [1,2]\n",
    "l2 = [3,4]\n",
    "\n",
    "for i in range(len(l1)):\n",
    "    print (l1[i], l2[i])"
   ]
  },
  {
   "cell_type": "markdown",
   "metadata": {},
   "source": [
    "__Dictionary instead of if-else<br>\n",
    "Backwards compatible__"
   ]
  },
  {
   "cell_type": "code",
   "execution_count": 35,
   "metadata": {},
   "outputs": [
    {
     "name": "stdout",
     "output_type": "stream",
     "text": [
      "2\n",
      "2\n"
     ]
    }
   ],
   "source": [
    "country = 'Canada'\n",
    "\n",
    "if country == \"Russia\":\n",
    "    print(1)\n",
    "elif country == \"Canada\":\n",
    "    print(2)\n",
    "elif country == \"China\":\n",
    "    print(3)\n",
    "else:\n",
    "    print(\"Invalid country!\")\n",
    "\n",
    "# ---------------------------------------\n",
    "\n",
    "countries = {\n",
    "    \"Russia\": 1,\n",
    "    \"Canada\": 2,\n",
    "    \"China\": 3,\n",
    "    \"US\":4\n",
    "}\n",
    "\n",
    "print(countries[country])"
   ]
  },
  {
   "cell_type": "code",
   "execution_count": 39,
   "metadata": {},
   "outputs": [],
   "source": [
    "import module_1"
   ]
  },
  {
   "cell_type": "code",
   "execution_count": 41,
   "metadata": {},
   "outputs": [
    {
     "name": "stdout",
     "output_type": "stream",
     "text": [
      "Don't do that \n"
     ]
    }
   ],
   "source": [
    "if __name__ == \"__main__\":\n",
    "    print(\"Don't do that \")\n",
    "    raise"
   ]
  },
  {
   "cell_type": "code",
   "execution_count": null,
   "metadata": {},
   "outputs": [],
   "source": []
  },
  {
   "cell_type": "code",
   "execution_count": null,
   "metadata": {},
   "outputs": [],
   "source": []
  },
  {
   "cell_type": "code",
   "execution_count": null,
   "metadata": {},
   "outputs": [],
   "source": [
    "\"\"\"\n",
    "Ex1:\n",
    "Print odd numbers of the following list: [1,2,3,4,5] --> 1, 3, 5\n",
    "\n",
    "Ex2:\n",
    "Print string elems in reversed order: ['a', 'b', 2, 1, 'c'] --> 'c', 'b', 'a'\n",
    "\n",
    "Ex3:\n",
    "Print factorial of a given number.\n",
    " (4!) --> 24\n",
    " (0!) --> 1\n",
    " (1!) --> 1\n",
    "\n",
    "Ex4:\n",
    "Print the total number of digits in a number: 1111 --> 4\n",
    "\"\"\""
   ]
  },
  {
   "cell_type": "code",
   "execution_count": null,
   "metadata": {},
   "outputs": [],
   "source": [
    "\"\"\"\n",
    "Ex5:\n",
    "Print the elements that satisfy the following criteria:\n",
    "a. number must be divisible by 9\n",
    "b. if it is equal to 81, do not print it, go to the next one \n",
    "c. if last element of the list is greater or equal to 100, end the loop\n",
    "c. if all elems are smaller that 100, print \"All good.\"\n",
    "\n",
    "Ex6:\n",
    "Print the following pattern:\n",
    "5 4 3 2 1 \n",
    "4 3 2 1 \n",
    "3 2 1 \n",
    "2 1 \n",
    "1\n",
    "\n",
    "Ex7:\n",
    "Given below input, write Python code to generate the below output:\n",
    "\n",
    "input = {\n",
    "        \"Prison\": \"NoName\",\n",
    "        \"Address\": \"Unknown\",\n",
    "        \"Inmates\": {\n",
    "            \"3242\": {\n",
    "                \"Name\": \"Chad\",\n",
    "                \"Age\": 29\n",
    "            },\n",
    "            \"435456\": {\n",
    "                \"Name\": \"Paul\",\n",
    "                \"Age\": 46\n",
    "            },\n",
    "            \"9865\": {\n",
    "                \"Name\": \"Jim\",\n",
    "                \"Age\": 43\n",
    "            }\n",
    "        }\n",
    "    }\n",
    "\n",
    "\n",
    "output = {\n",
    "        \"Prison\": \"NoName\",\n",
    "        \"Address\": \"Unknown\",\n",
    "        \"Inmates\": [\n",
    "            {\n",
    "                \"id\": \"3242\",\n",
    "                \"Name\": \"Chad\",\n",
    "                \"Age\": 29\n",
    "            },\n",
    "            {\n",
    "                \"id\": \"435456\",\n",
    "                \"Name\": \"Paul\",\n",
    "                \"Age\": 46\n",
    "            },\n",
    "            {\n",
    "                \"id\": \"9865\",\n",
    "                \"Name\": \"Jim\",\n",
    "                \"Age\": 43\n",
    "            }\n",
    "      ]\n",
    "}\n",
    "\"\"\""
   ]
  },
  {
   "cell_type": "code",
   "execution_count": 81,
   "metadata": {},
   "outputs": [
    {
     "name": "stdout",
     "output_type": "stream",
     "text": [
      "5\n",
      "1\n",
      "3\n",
      "5\n"
     ]
    }
   ],
   "source": [
    "\"\"\"\n",
    "Ex1:\n",
    "Print odd numbers of the following list: [1,2,3,4,5] --> 1, 3, 5\n",
    "\"\"\"\n",
    "list = [1,2,3,4,5]\n",
    "listLength = len(list)\n",
    "# print(listLength)\n",
    "for ceva in range(list[0],listLength+1,2):       \n",
    "    print(ceva);"
   ]
  },
  {
   "cell_type": "code",
   "execution_count": 159,
   "metadata": {},
   "outputs": [
    {
     "name": "stdout",
     "output_type": "stream",
     "text": [
      "False\n",
      "False\n",
      "True\n",
      "True\n",
      "False\n"
     ]
    }
   ],
   "source": [
    "\"\"\"\n",
    "Ex2:\n",
    "Print string elems in reversed order: ['a', 'b', 2, 1, 'c'] --> 'c', 'b', 'a'\n",
    "\"\"\"\n",
    "myList = ['a', 'b', 2, 1, 'c']\n",
    "\n",
    "for i in myList:\n",
    "    a=(isinstance(i,int))\n",
    "    print(a)\n",
    "\n",
    "\n",
    "\n"
   ]
  },
  {
   "cell_type": "code",
   "execution_count": 100,
   "metadata": {},
   "outputs": [
    {
     "name": "stdout",
     "output_type": "stream",
     "text": [
      "Factorial de  4 e 24\n",
      "Factorial de  0 e 1\n",
      "Factorial de  1 e 1\n"
     ]
    }
   ],
   "source": [
    "\"\"\"\n",
    "Ex3:\n",
    "Print factorial of a given number.\n",
    " (4!) --> 24\n",
    " (0!) --> 1\n",
    " (1!) --> 1\n",
    "\"\"\"\n",
    "def factorial(a):\n",
    "    if a < 0:\n",
    "        return 0\n",
    "    elif a == 0 or a == 1:\n",
    "        return 1\n",
    "    else:\n",
    "        fact = 1\n",
    "        while(a > 1):\n",
    "            fact *= a\n",
    "            a -= 1\n",
    "        return fact\n",
    "exp=4\n",
    "print(\"Factorial de \",exp,\"e\",\n",
    "factorial(exp))\n",
    "exp=0\n",
    "print(\"Factorial de \",exp,\"e\",\n",
    "factorial(exp))\n",
    "exp=1\n",
    "print(\"Factorial de \",exp,\"e\",\n",
    "factorial(exp))"
   ]
  },
  {
   "cell_type": "code",
   "execution_count": null,
   "metadata": {},
   "outputs": [],
   "source": [
    "\"\"\"\n",
    "Ex4:\n",
    "Print the total number of digits in a number: 1111 --> 4\n",
    "\"\"\"\n",
    "\n"
   ]
  },
  {
   "cell_type": "code",
   "execution_count": null,
   "metadata": {},
   "outputs": [],
   "source": [
    "\"\"\"\n",
    "Ex5:\n",
    "Print the elements that satisfy the following criteria:\n",
    "a. number must be divisible by 9\n",
    "b. if it is equal to 81, do not print it, go to the next one \n",
    "c. if last element of the list is greater or equal to 100, end the loop\n",
    "c. if all elems are smaller that 100, print \"All good.\"\n",
    "\"\"\"\n"
   ]
  },
  {
   "cell_type": "code",
   "execution_count": 154,
   "metadata": {},
   "outputs": [
    {
     "name": "stdout",
     "output_type": "stream",
     "text": [
      "5 4 3 2 1 \n",
      "4 3 2 1 \n",
      "3 2 1 \n",
      "2 1 \n",
      "1 \n",
      "\n"
     ]
    }
   ],
   "source": [
    "\"\"\"\n",
    "Ex6:\n",
    "Print the following pattern:\n",
    "5 4 3 2 1 \n",
    "4 3 2 1 \n",
    "3 2 1 \n",
    "2 1 \n",
    "1\n",
    "\"\"\"\n",
    "numar = 5\n",
    "for i in range(0, numar + 1):\n",
    "    for j in range(numar - i, 0, -1):\n",
    "        print(j, end=' ')\n",
    "    print()"
   ]
  },
  {
   "cell_type": "code",
   "execution_count": null,
   "metadata": {},
   "outputs": [],
   "source": [
    "\"\"\"\n",
    "Ex7:\n",
    "Given below input, write Python code to generate the below output:\n",
    "\n",
    "input = {\n",
    "        \"Prison\": \"NoName\",\n",
    "        \"Address\": \"Unknown\",\n",
    "        \"Inmates\": {\n",
    "            \"3242\": {\n",
    "                \"Name\": \"Chad\",\n",
    "                \"Age\": 29\n",
    "            },\n",
    "            \"435456\": {\n",
    "                \"Name\": \"Paul\",\n",
    "                \"Age\": 46\n",
    "            },\n",
    "            \"9865\": {\n",
    "                \"Name\": \"Jim\",\n",
    "                \"Age\": 43\n",
    "            }\n",
    "        }\n",
    "    }\n",
    "\n",
    "\n",
    "output = {\n",
    "        \"Prison\": \"NoName\",\n",
    "        \"Address\": \"Unknown\",\n",
    "        \"Inmates\": [\n",
    "            {\n",
    "                \"id\": \"3242\",\n",
    "                \"Name\": \"Chad\",\n",
    "                \"Age\": 29\n",
    "            },\n",
    "            {\n",
    "                \"id\": \"435456\",\n",
    "                \"Name\": \"Paul\",\n",
    "                \"Age\": 46\n",
    "            },\n",
    "            {\n",
    "                \"id\": \"9865\",\n",
    "                \"Name\": \"Jim\",\n",
    "                \"Age\": 43\n",
    "            }\n",
    "      ]\n",
    "}\n",
    "\"\"\""
   ]
  }
 ],
 "metadata": {
  "kernelspec": {
   "display_name": "Python 3.9.12 ('base')",
   "language": "python",
   "name": "python3"
  },
  "language_info": {
   "codemirror_mode": {
    "name": "ipython",
    "version": 3
   },
   "file_extension": ".py",
   "mimetype": "text/x-python",
   "name": "python",
   "nbconvert_exporter": "python",
   "pygments_lexer": "ipython3",
   "version": "3.9.12"
  },
  "vscode": {
   "interpreter": {
    "hash": "d31b83e9610685068a0fe73b54051d44dc1110027bef1c52e64b671e72faac45"
   }
  }
 },
 "nbformat": 4,
 "nbformat_minor": 4
}
