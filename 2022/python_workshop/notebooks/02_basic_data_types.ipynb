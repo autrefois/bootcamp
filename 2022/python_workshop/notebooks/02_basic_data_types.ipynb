{
 "cells": [
  {
   "cell_type": "markdown",
   "metadata": {},
   "source": [
    "# Basic data types\n",
    "\n",
    "In this session we will cover:\n",
    "- Numbers\n",
    "- Strings\n",
    "- Boolean\n",
    "- Built-in Functions"
   ]
  },
  {
   "cell_type": "markdown",
   "metadata": {},
   "source": [
    "## Data Types and Variables\n",
    "\n",
    "In Python, variables and data types are a little different than in other programming languages.\n",
    "\n",
    "For instance, in Python you do not need to declare the variables.\n",
    "\n",
    "### Python Variables\n",
    "\n",
    "A variable can change over time. \n",
    "\n",
    "A computer program, which could be anything, including text, number or more complex types, uses a memory location for storage.\n",
    "This physical memory location is refered to as a variable. \n",
    "\n",
    "While the program is running, a variable can be accessed and assigned a new value at any point.\n",
    "\n",
    "A variable is not just a name - it has a scope, a type and a value associated with it.\n",
    "\n",
    "If you want to use a variable for the rest of the program, you will use a **global** variable. If you want to use a variable in a specific function or method, you will use a **local** variable. (scope)\n",
    "\n",
    "In Python, a variable may change its data type while running.\n",
    "\n",
    "### Variables and object instance\n",
    "\n",
    "In Python, everything is an object; therefore variables are object instances.\n",
    "- **id()** - returns the identity of an object as an integer; the integer usually corresponds to the memory location, although this is specific to the Python implementation and the platform being used\n",
    "- **is** - this operator compares the identity of two objects\n",
    "- **type()** - returns the type of a variable\n",
    "\n",
    "### Mutable data types vs Immutable data types\n",
    "\n",
    "A mutable object can be changed after it is created, while an immutabke object cannot.\n",
    "\n",
    "Mutable types include:\n",
    "- list\n",
    "- set\n",
    "- dict\n",
    "\n",
    "Immutable types include:\n",
    "- boolean\n",
    "- numeric\n",
    "- string\n",
    "- tuple\n",
    "- frozenset (immutable version of set)\n",
    "\n",
    "This means that assigning a new value to an immutable type variable will create a new object.\n",
    "\n",
    "- Mutable and immutable objects are handled differently\n",
    "- Immutable objects are quicker to access\n",
    "- Mutable objects are great to use when you need to change the size of the object (e.g. adding an item to a list)\n",
    "- Immutable objects are used when you need to ensure that the object will always stay teh same (e.g. passing parameters to a function)"
   ]
  },
  {
   "cell_type": "markdown",
   "metadata": {},
   "source": [
    "## Example 1\n",
    "\n",
    "Let's compare two variables."
   ]
  },
  {
   "cell_type": "code",
   "execution_count": 1,
   "metadata": {},
   "outputs": [
    {
     "name": "stdout",
     "output_type": "stream",
     "text": [
      "x_int = 10, y_int = 10\n",
      "type of x_int: <class 'int'>\n",
      "type of y_int: <class 'int'>\n",
      "x_initial_identity = 2582554569296\n",
      "y_initial_identity = 2582554569296\n",
      "are they the same? True\n",
      "x_int is y_int? True\n",
      "does x_int have the same value as y_int? True\n",
      "assigning new value to x\n",
      "x_int = 11, y_int = 10\n",
      "does x_int have the same value as y_int? False\n",
      "x_initial_identity; 2582554569296\n",
      "x_final_identity: 2582554569328\n"
     ]
    }
   ],
   "source": [
    "# assign x a value and then assign x to y\n",
    "x_int = 10\n",
    "y_int = x_int\n",
    "x_initial_identity = id(x_int)\n",
    "y_initial_identity = id(y_int)\n",
    "\n",
    "# let's have a look at the value and type\n",
    "print(\"x_int = {}, y_int = {}\".format(x_int, y_int))\n",
    "print(\"type of x_int: {}\".format(type(x_int)))\n",
    "print(\"type of y_int: {}\".format(type(y_int)))\n",
    "\n",
    "# let's check the identity\n",
    "print(\"x_initial_identity = {}\".format(x_initial_identity))\n",
    "print(\"y_initial_identity = {}\".format(y_initial_identity))\n",
    "print(\"are they the same? {}\".format(x_initial_identity == y_initial_identity))\n",
    "\n",
    "# let's see what is the relation between x and y\n",
    "print(\"x_int is y_int? {}\".format(x_int is y_int))\n",
    "print(\"does x_int have the same value as y_int? {}\".format(x_int == y_int))\n",
    "\n",
    "# what happens when we change the value of x?\n",
    "print(\"assigning new value to x\")\n",
    "x_int = 11\n",
    "x_final_identity = id(x_int)\n",
    "print(\"x_int = {}, y_int = {}\".format(x_int, y_int))\n",
    "print(\"does x_int have the same value as y_int? {}\".format(x_int == y_int))\n",
    "print(\"x_initial_identity; {}\\nx_final_identity: {}\".format(x_initial_identity, x_final_identity))\n"
   ]
  },
  {
   "cell_type": "markdown",
   "metadata": {},
   "source": [
    "## Numbers\n",
    "\n",
    "### Integer\n",
    "- calling the **int()** method on any float or string returns an int; the base is an optional argument\n",
    "- can be of any length; limited by the memory available on the machine\n",
    "\n",
    "### Float\n",
    "- real numbers that shown with a decimal point that separates the fractional and the integers parts\n",
    "- a floating-point number precision depends on the machine (**sys.float_info**)\n",
    "\n",
    "\n",
    "### Complex\n",
    "- (a + ib) - consisting of real (a) and imaginary (b) parts\n",
    "\n",
    "### Finding the float precision"
   ]
  },
  {
   "cell_type": "code",
   "execution_count": 2,
   "metadata": {},
   "outputs": [
    {
     "name": "stdout",
     "output_type": "stream",
     "text": [
      "sys.float_info(max=1.7976931348623157e+308, max_exp=1024, max_10_exp=308, min=2.2250738585072014e-308, min_exp=-1021, min_10_exp=-307, dig=15, mant_dig=53, epsilon=2.220446049250313e-16, radix=2, rounds=1)\n"
     ]
    }
   ],
   "source": [
    "import sys\n",
    "print(sys.float_info)"
   ]
  },
  {
   "cell_type": "markdown",
   "metadata": {},
   "source": [
    "## Example 1\n",
    "Using operations"
   ]
  },
  {
   "cell_type": "code",
   "execution_count": 16,
   "metadata": {},
   "outputs": [
    {
     "name": "stdout",
     "output_type": "stream",
     "text": [
      "Totul este ok\n",
      "blablabla\n"
     ]
    }
   ],
   "source": [
    "# let's try to divide by 0\n",
    "# we will use a try-except block\n",
    "\n",
    "try:\n",
    "    # x = 1 / 0\n",
    "    x = 1\n",
    "except ZeroDivisionError:\n",
    "    print(\"you can't divide by zero!\")\n",
    "    raise ZeroDivisionError\n",
    "else:\n",
    "    print(\"Totul este ok\")\n",
    "finally:\n",
    "    print(\"blablabla\")"
   ]
  },
  {
   "cell_type": "code",
   "execution_count": 4,
   "metadata": {},
   "outputs": [
    {
     "name": "stdout",
     "output_type": "stream",
     "text": [
      "2\n",
      "2\n",
      "result: 1.4; integer part: 1.0\n"
     ]
    }
   ],
   "source": [
    "import math\n",
    "# let's try an integer division - when the result is always an integer\n",
    "# there are several ways to do this\n",
    "\n",
    "x = 2.8\n",
    "print(int(x))\n",
    "print(math.floor(x))\n",
    "print(\"result: {}; integer part: {}\".format((x / 2), (x // 2)))\n"
   ]
  },
  {
   "cell_type": "code",
   "execution_count": null,
   "metadata": {},
   "outputs": [],
   "source": [
    "# powers of x\n",
    "print(0**0)\n",
    "print(x**2)"
   ]
  },
  {
   "cell_type": "code",
   "execution_count": null,
   "metadata": {},
   "outputs": [],
   "source": [
    "# type default conversion\n",
    "print(type(2*2))\n",
    "print(type(2*2.2))"
   ]
  },
  {
   "cell_type": "markdown",
   "metadata": {},
   "source": [
    "## String\n",
    "- sequences (arrays) of characters\n",
    "- can be of any length; limited by the memory available on the machine\n",
    "- the delimiter is either **'** or **\"**\n",
    "\n",
    "### Extracting part of a string\n",
    "- you can extract a substring from a string but specifying the start and stop position(**a_string[m:n]**)\n",
    "- arrays start at 0, therefore the first position in a string is 0\n",
    "- last position in a string is len(string) - 1\n",
    "- a_string[m:n]:\n",
    "  - by default, m is the start of the string; if you do not specify it, you will get the substring from start to index n (`a_string[:n]`)\n",
    "  - same applies for the end of the string (`a_string[m:]`)\n",
    "  - if you want to omit the last n carachters in a string, simply use a negative number for the end position (`a_string[:-n]`)\n",
    "  - if you want to get the last n characters in a string, simply use a negative number for the start position (`a_string[-n:]`)\n",
    "\n",
    "### Joining two strings\n",
    "- you may join multiple strings together, using an optional separator.\n",
    "```\n",
    "separator = \"-\"\n",
    "str_seq = (\"a\", \"b\", \"c\")\n",
    "print(separator.join(str_seq))\n",
    "```\n",
    "\n",
    "### Escape characters\n",
    "- the backslash character (\"\\\") suppresses the special interpretation that certain characters ar given within a string (\"escape the double \\\" quote in this string\") \n",
    "- it may also give special meaning to characters (e.g. \\n is a new line, \\t is a tab)\n",
    "\n",
    "### Raw strings\n",
    "A raw string literal is precedded by r or R (r\"this is a raw string\") and it specifies that escape sequences in the associated string are not translated (i.e. the backslash character is left in the raw string)\n",
    "\n",
    "### Multiline strings\n",
    "You can specify multiline strings using triple-quotes.\n",
    "\n",
    "```\n",
    "\"\"\" this is\n",
    "a multiline string\n",
    "\"\"\"\n",
    "```\n",
    "\n",
    "### String methods\n",
    "- these are functions applied on a string value\n",
    "- some methods require no argument, like `.strip()` or `.lower()`\n",
    "- some require arguments, mandatory or optional, like `.split()`\n",
    "- commonly used string methods are listed [here](https://www.w3schools.com/python/python_ref_string.asp)"
   ]
  },
  {
   "cell_type": "markdown",
   "metadata": {},
   "source": [
    "## Exercise\n",
    "Given a string, apply various string methods and explore their effects."
   ]
  },
  {
   "cell_type": "code",
   "execution_count": 23,
   "metadata": {},
   "outputs": [
    {
     "name": "stdout",
     "output_type": "stream",
     "text": [
      "Peter Pan is a terrible boxer.\n",
      "Whenever he throws a punch, it Neverlands\n",
      "\n",
      "I was wondering why the frisbee kept getting bigger and bigger.\n",
      "But then it hit me.\n",
      "                Ba-dum tss.\n",
      "\n"
     ]
    }
   ],
   "source": [
    "one_liner = \"Peter Pan is a terrible boxer.\\nWhenever he throws a punch, it Neverlands\"\n",
    "print(one_liner)\n",
    "\n",
    "multi_liner = \"\"\"\n",
    "I was wondering why the frisbee kept getting bigger and bigger.\n",
    "But then it hit me.\n",
    "                Ba-dum tss.\n",
    "\"\"\"\n",
    "print(multi_liner)\n"
   ]
  },
  {
   "cell_type": "code",
   "execution_count": 26,
   "metadata": {},
   "outputs": [
    {
     "name": "stdout",
     "output_type": "stream",
     "text": [
      "['Neverlands']\n"
     ]
    }
   ],
   "source": [
    "# get the last word of that one-liner\n",
    "one_liner = \"Peter Pan is a terrible boxer.\\nWhenever he throws a punch, it Neverlands\"\n",
    "# hint: look for the last space position\n",
    "last_space_at = one_liner.split(\" \")[-1:]\n",
    "print(last_space_at)\n",
    "\n",
    "# if last_space_at != -1:\n",
    "#     # if there is a last space, get to the next character - that's where the last word starts\n",
    "#     last_word_starts_at = ...\n",
    "#     last_word = ...\n",
    "#     print(last_word)\n",
    "# # but what of there is no space in this one_liner??\n",
    "# else:\n",
    "#     # what would that mean?\n",
    "#     print(...)\n",
    "\n",
    "# # what if this one-liner was empty?\n",
    "# one_liner = \"\""
   ]
  },
  {
   "cell_type": "code",
   "execution_count": 31,
   "metadata": {},
   "outputs": [
    {
     "ename": "NameError",
     "evalue": "name 'replace' is not defined",
     "output_type": "error",
     "traceback": [
      "\u001b[1;31m---------------------------------------------------------------------------\u001b[0m",
      "\u001b[1;31mNameError\u001b[0m                                 Traceback (most recent call last)",
      "\u001b[1;32mc:\\Users\\Laptop 13\\module\\bootcamp\\2022\\python_workshop\\notebooks\\02_basic_data_types.ipynb Cell 16'\u001b[0m in \u001b[0;36m<cell line: 7>\u001b[1;34m()\u001b[0m\n\u001b[0;32m      <a href='vscode-notebook-cell:/c%3A/Users/Laptop%2013/module/bootcamp/2022/python_workshop/notebooks/02_basic_data_types.ipynb#ch0000015?line=4'>5</a>\u001b[0m start_date \u001b[39m=\u001b[39m \u001b[39m\"\u001b[39m\u001b[39m'\u001b[39m\u001b[39m2022-07-01 20:22:07\u001b[39m\u001b[39m'\u001b[39m\u001b[39m\"\u001b[39m\n\u001b[0;32m      <a href='vscode-notebook-cell:/c%3A/Users/Laptop%2013/module/bootcamp/2022/python_workshop/notebooks/02_basic_data_types.ipynb#ch0000015?line=5'>6</a>\u001b[0m \u001b[39m# replaced_statement = f\"Select * FROM my_table where date >= {start_date};\"\u001b[39;00m\n\u001b[1;32m----> <a href='vscode-notebook-cell:/c%3A/Users/Laptop%2013/module/bootcamp/2022/python_workshop/notebooks/02_basic_data_types.ipynb#ch0000015?line=6'>7</a>\u001b[0m replaced_statement \u001b[39m=\u001b[39m replace(statement,\u001b[39m\"\u001b[39m\u001b[39m$$start_date$$\u001b[39m\u001b[39m\"\u001b[39m, \u001b[39m\"\u001b[39m\u001b[39mstart_date\u001b[39m\u001b[39m\"\u001b[39m)\n\u001b[0;32m      <a href='vscode-notebook-cell:/c%3A/Users/Laptop%2013/module/bootcamp/2022/python_workshop/notebooks/02_basic_data_types.ipynb#ch0000015?line=7'>8</a>\u001b[0m \u001b[39mprint\u001b[39m(replaced_statement)\n",
      "\u001b[1;31mNameError\u001b[0m: name 'replace' is not defined"
     ]
    }
   ],
   "source": [
    "# replace the wildcard in the string with a value\n",
    "statement = \"\"\"\n",
    "SELECT * FROM my_table WHERE date >= $$start_date$$;\n",
    "\"\"\"\n",
    "start_date = \"'2022-07-01 20:22:07'\"\n",
    "# replaced_statement = f\"Select * FROM my_table where date >= {start_date};\"\n",
    "# replaced_statement = replace(statement,\"$$start_date$$\", \"start_date\")\n",
    "print(replaced_statement)"
   ]
  },
  {
   "cell_type": "code",
   "execution_count": null,
   "metadata": {},
   "outputs": [],
   "source": [
    "# split the following string based on the comma\n",
    "s = \"\"\"\n",
    "This is a string that needs to be split,\n",
    "based in the comma character,\n",
    "so it should result in three strings.\n",
    "\"\"\"\n",
    "\n",
    "split_strings = ...\n",
    "print(split_strings)"
   ]
  },
  {
   "cell_type": "markdown",
   "metadata": {},
   "source": [
    "## Boolean\n",
    "- Boolean values are **True** and **False**\n",
    "- Boolean operators are OR, AND, NOT\n",
    "- Comparison operators\n",
    "  - <, <=, >, >=, ==, !=\n",
    "  - IS, IS NOT"
   ]
  },
  {
   "cell_type": "markdown",
   "metadata": {},
   "source": [
    "## Exercise\n",
    "Evaluate the boolean value of variables of different types"
   ]
  },
  {
   "cell_type": "code",
   "execution_count": 32,
   "metadata": {},
   "outputs": [
    {
     "name": "stdout",
     "output_type": "stream",
     "text": [
      "0\n",
      "x evaluated to False\n"
     ]
    }
   ],
   "source": [
    "# an empty (None) variable evaluates to False\n",
    "x = int()\n",
    "print(x)\n",
    "if not x:\n",
    "    print('x evaluated to False')\n",
    "\n",
    "# what does 0 evaluate to?\n",
    "\n",
    "# what does 1 evaluate to?\n",
    "\n",
    "# what does a random string evaluate to?\n",
    "\n",
    "# what does an empty string evaluate to?\n",
    "\n"
   ]
  }
 ],
 "metadata": {
  "kernelspec": {
   "display_name": "Python 3.9.12 ('base')",
   "language": "python",
   "name": "python3"
  },
  "language_info": {
   "codemirror_mode": {
    "name": "ipython",
    "version": 3
   },
   "file_extension": ".py",
   "mimetype": "text/x-python",
   "name": "python",
   "nbconvert_exporter": "python",
   "pygments_lexer": "ipython3",
   "version": "3.9.12"
  },
  "orig_nbformat": 4,
  "vscode": {
   "interpreter": {
    "hash": "d31b83e9610685068a0fe73b54051d44dc1110027bef1c52e64b671e72faac45"
   }
  }
 },
 "nbformat": 4,
 "nbformat_minor": 2
}
