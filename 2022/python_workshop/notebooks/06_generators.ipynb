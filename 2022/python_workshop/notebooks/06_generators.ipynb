{
 "cells": [
  {
   "cell_type": "markdown",
   "metadata": {},
   "source": [
    "# Generators\n",
    "\n",
    "This session covers the following topics:\n",
    "- what are generators and how to use them\n",
    "- generator functions and expressions\n",
    "- the **yield** statement\n",
    "- advanced generator methods\n",
    "- building data pipelines with multiple generators"
   ]
  },
  {
   "cell_type": "markdown",
   "metadata": {},
   "source": [
    "## Using generators\n",
    "\n",
    "Generator functions are a special kind of function that return a lazy iterator; a lazy iterator gives a value only when asked for it.\n",
    "Iterators are objects that you can loop over, similar to a list.\n",
    "However, unlike lists, **a lazy iterator does not store its contents in memory**.\n",
    "\n",
    "### Example 1\n",
    "\n",
    "Let's try to use a generator in a simple example; a common use case for generators is working with data streams or csv files.\n",
    "Given a large csv file, let's say we need to count the number of rows.\n",
    "\n",
    "The snippet below is one way of doing so. Can you figure out what should go on the commented line?"
   ]
  },
  {
   "cell_type": "code",
   "execution_count": null,
   "metadata": {},
   "outputs": [],
   "source": [
    "def csv_reader(file_name):\n",
    "    file = open(file_name)\n",
    "    result = file.read().split(\"\\n\")\n",
    "    return result\n",
    "\n",
    "\n",
    "csv_content = csv_reader(\"./resources/airport_log.csv\")\n",
    "row_count = 0\n",
    "\n",
    "# hint: we need to iterate through csv_content and increment the row count; how can we do that?\n",
    "# ...\n",
    "\n",
    "print(f\"Row count is {row_count}\")\n"
   ]
  },
  {
   "cell_type": "markdown",
   "metadata": {},
   "source": [
    "In this example, you might expect csv_content to be a list. In order to populate this list, the csv_reader() opens a file and loads its contents in csv_content. Then, the program iterates through the list and increments the row count.\n",
    "\n",
    "Pretty reasonable, right? But how would this design work for very large files? What if the file is larger than the avalable memory?\n",
    "\n",
    "The answer is, most probably you will get a `MemoryError` or your machine will be very very slow.\n",
    "\n",
    "So, how could we handle these very large files? Using generator functions!\n",
    "We will redefine the csv_reader() as a generator function by using the **yield** keyword instead of **return**."
   ]
  },
  {
   "cell_type": "code",
   "execution_count": null,
   "metadata": {},
   "outputs": [],
   "source": [
    "def csv_reader(file_name):\n",
    "    for row in open(file_name, \"r\"):\n",
    "        yield row\n",
    "\n",
    "csv_content = csv_reader(\"./resources/airport_log.csv\")\n",
    "row_count = 0\n",
    "\n",
    "# hint: we need to iterate through csv_content and increment the row count; how can we do that?\n",
    "# ...\n",
    "\n",
    "print(f\"Row count is {row_count}\")"
   ]
  },
  {
   "cell_type": "markdown",
   "metadata": {},
   "source": [
    "In this version, you open the file, loop through each line, and yield each row, instead of returning it.\n",
    "You can also define a **generator expression** which is very similar to list comprehension, so you can use the generator without callong the function:\n",
    "\n",
    "`csv_gen = (row for row in open(file_name))`\n",
    "\n",
    "Remember, the key difference between yield and return:\n",
    "- using `yield` will result in a generator object\n",
    "- using `return` will result in the first line of the file *only*."
   ]
  },
  {
   "cell_type": "markdown",
   "metadata": {},
   "source": [
    "### Example 2\n",
    "Another use case for generators is generating an infinite sequence.\n",
    "In order to get a finite sequence, you would call range() and evaluate in a list context:"
   ]
  },
  {
   "cell_type": "code",
   "execution_count": 1,
   "metadata": {},
   "outputs": [
    {
     "data": {
      "text/plain": [
       "[0, 1, 2, 3, 4]"
      ]
     },
     "execution_count": 1,
     "metadata": {},
     "output_type": "execute_result"
    }
   ],
   "source": [
    "a = range(5)\n",
    "list(a)"
   ]
  },
  {
   "cell_type": "markdown",
   "metadata": {},
   "source": [
    "Generating an **infinite** sequence would require a generator, since your computer's memory is finite."
   ]
  },
  {
   "cell_type": "code",
   "execution_count": null,
   "metadata": {},
   "outputs": [],
   "source": [
    "def infinite_sequence():\n",
    "    num = 0\n",
    "    while True:\n",
    "        yield num\n",
    "        num += 1"
   ]
  },
  {
   "cell_type": "markdown",
   "metadata": {},
   "source": [
    "In this method, you first initialize the variable `num` and start an infinite loop.\n",
    "Then, you immediately `yield num` so that you can capture the initial state. This mimics the action of `range()`.\n",
    "After `yield`, you increment the `num`.\n",
    "\n",
    "If you call this method in a for loop, it will run forever! (or until you stop the program manually :) )\n",
    "\n",
    "You can also call next() on the generator object directly. This is especially useful for testing a generator in the console:"
   ]
  },
  {
   "cell_type": "code",
   "execution_count": null,
   "metadata": {},
   "outputs": [],
   "source": [
    "gen = infinite_sequence()\n",
    "\n",
    "print(next(gen))\n",
    "print(next(gen))\n",
    "print(next(gen))"
   ]
  },
  {
   "cell_type": "markdown",
   "metadata": {},
   "source": [
    "## So what are generators really?\n",
    "\n",
    "Generator functions look and act just like regular functions, but with one defining characteristic: they use the Python `yield` keyword instead of `return`.\n",
    "\n",
    "Looking at the `infinite_sequence()` definition, `yield` indicates where a value is sent back to the caller, without exiting the function afterward, unlike `return`.\n",
    "\n",
    "Instead, the **state** of the function is remembered. That way, when `next()` is called on a generator object, either explicitly or implicitly within a loop, the `num` variable is incremented and then yielded again.\n",
    "\n",
    "Generator expressions are very similar to other comprehentions in Python.\n",
    "\n",
    "## Building generators with generator expressions\n",
    "Generator expressions, just like list comprehentions, allow you to create a generator object with just a few lines of code.\n",
    "\n",
    "They are also useful in the same cases list comprehensions are used, without building and holding the object in memory before iteration.\n",
    "\n",
    "That means you have no memory penalty when using generator expressions, unlike list comprehensions."
   ]
  },
  {
   "cell_type": "code",
   "execution_count": null,
   "metadata": {},
   "outputs": [],
   "source": [
    "list_comprehension = [num**2 for num in range(5)]\n",
    "generator_expression = (num**2 for num in range(5))\n",
    "\n",
    "print(list_comprehension)\n",
    "print(generator_expression)"
   ]
  },
  {
   "cell_type": "markdown",
   "metadata": {},
   "source": [
    "In this example, the expressions look very similar; can you spot the difference between them?\n",
    "Hint: check the output for confirmation."
   ]
  },
  {
   "cell_type": "markdown",
   "metadata": {},
   "source": [
    "## But what about the `yield` statement?\n",
    "\n",
    "The main job of the `yield` statement is to control the flow of a generator function, similar to `return` with a few extra benefits.\n",
    "\n",
    "When you call a generator function or use a generator expression, it returns an iterator. When you call special methods on the resulted iterator, such as `next()`, the function is executed up to `yield`.\n",
    "\n",
    "When the `yield` statement is hit, the function execution is suspended (not stopped completely, which happens when using `return`) and the yielded value is given to the called. When a function execution is suspended, its state is preserved (variable bindings local to the generator, internal stack, instruction pointer etc).\n",
    "\n",
    "This allwos you to resume the function whenever you call one of the generator's methods - all function evaluation resumes right after `yield`.\n",
    "\n",
    "Let's see what happens when using multiple `yields`."
   ]
  },
  {
   "cell_type": "code",
   "execution_count": null,
   "metadata": {},
   "outputs": [],
   "source": [
    "def many_yields():\n",
    "    yield \"I remember when\"\n",
    "    yield \"I remember, I remember when I lost my mind\"\n",
    "    yield \"There was something so pleasant about that place\"\n",
    "    yield \"Even your emotions have an echo in so much space\"\n",
    "    yield \"Can't remember the rest so I'll stop here.\"\n",
    "\n",
    "iter = many_yields()\n",
    "print(next(iter))\n",
    "print(next(iter))\n",
    "print(next(iter))\n",
    "print(next(iter))\n",
    "print(next(iter))\n",
    "# iterator exaushted. let's call next() one more time.\n",
    "print(next(iter))"
   ]
  },
  {
   "cell_type": "markdown",
   "metadata": {},
   "source": [
    "Because we called `next()` after the generator was exhausted - unless your generator is infinite, you can only iterate through it one time only we got a `StopIteration` exception.\n",
    "This exception is merely a signal the end of an iterator."
   ]
  },
  {
   "cell_type": "markdown",
   "metadata": {},
   "source": [
    "## Exercise: create a data pipeline using generators\n",
    "\n",
    "Data pipelines allow you to process large volumes of data without maxing out your machine's memory.\n",
    "You may use the provided sample dataset, or you can find a different dataset on one of the public sets available online.\n",
    "\n",
    "For the given dataset, let's say you are interested in going to Amsterdam from Cluj-Napoca and you want to know the average ticket price.\n",
    "We assume all ticket prices are integers.\n",
    "\n",
    "You will analyse this file and get a total average of the ticket prices.\n",
    "\n",
    "### Strategy\n",
    "- read every line of the file\n",
    "- split each line into a list of values\n",
    "- extract the column names\n",
    "- create a dictionary with the column names (key) and lists (value)\n",
    "- filter out the rows you are not interested in\n",
    "- calculate the average ticket price for the records you are interested in\n",
    "\n",
    "Normally, you can do this using a package like `pandas`, but for this case, a few generators should do the trick.\n",
    "\n",
    "Start from the code snippet below."
   ]
  },
  {
   "cell_type": "code",
   "execution_count": null,
   "metadata": {},
   "outputs": [],
   "source": [
    "# we will use mean on order to get the average price\n",
    "from statistics import mean\n",
    "\n",
    "# generate an iterator for the lines in the file\n",
    "lines = ...\n",
    "\n",
    "# split each line into a list and put the values into an iteratos\n",
    "list_line = ...\n",
    "\n",
    "# use the next() to store the column names into a list\n",
    "cols = ...\n",
    "\n",
    "# create dictionaries and unite them with zip()\n",
    "# the keys are the column names stored in cols\n",
    "# the values are the rows is list form, list_line\n",
    "airport_logs_dicts = ...\n",
    "\n",
    "# filter the rows\n",
    "# we are interested in tickets from CLJ to AMS\n",
    "clj_ams_prices = (\n",
    "    int(airport_logs_dict[\"ticket_price\"])\n",
    "    for airport_logs_dict in airport_logs_dicts\n",
    "    if ( ... )\n",
    ")\n",
    "\n",
    "# for testing purposes - check all the prices - comment this after testing\n",
    "while (i := next(clj_ams_prices, False)):\n",
    "    print(i)\n",
    "\n",
    "# uncomment this after checking all the prices\n",
    "# avg_ticket_price = mean(clj_ams_prices)\n",
    "# print(f\"The average ticket price: ${avg_ticket_price}\")\n"
   ]
  },
  {
   "cell_type": "markdown",
   "metadata": {},
   "source": [
    "### Generator vs List vs Tuple"
   ]
  },
  {
   "cell_type": "code",
   "execution_count": 7,
   "metadata": {},
   "outputs": [
    {
     "name": "stdout",
     "output_type": "stream",
     "text": [
      "<class 'list'>\n",
      "<class 'tuple'>\n",
      "<class 'generator'>\n",
      "size of list is 85176\n",
      "size of tup is 80032\n",
      "size of gen is 112\n"
     ]
    }
   ],
   "source": [
    "import sys\n",
    "\n",
    "a_list = []\n",
    "for i in range(1, 10000):\n",
    "    a_list.append(i)\n",
    "\n",
    "tup = tuple(a_list)\n",
    "gen = (x for x in a_list)\n",
    "\n",
    "print(type(a_list))\n",
    "print(type(tup))\n",
    "print(type(gen))\n",
    "\n",
    "print('size of list is', sys.getsizeof(a_list))\n",
    "print('size of tup is', sys.getsizeof(tup))\n",
    "print('size of gen is', sys.getsizeof(gen))"
   ]
  },
  {
   "cell_type": "code",
   "execution_count": 8,
   "metadata": {},
   "outputs": [
    {
     "name": "stdout",
     "output_type": "stream",
     "text": [
      "gen\n",
      "1\n",
      "2\n",
      "tup\n",
      "1\n",
      "2\n",
      "list\n",
      "1\n",
      "2\n",
      "gen\n",
      "tup\n",
      "1\n",
      "2\n",
      "list\n",
      "1\n",
      "2\n"
     ]
    }
   ],
   "source": [
    "a_list = []\n",
    "for i in range(1, 3):\n",
    "    a_list.append(i)\n",
    "\n",
    "tup = tuple(a_list)\n",
    "gen = (x for x in a_list)\n",
    "\n",
    "print('gen')\n",
    "for x in gen:\n",
    "    print(x)\n",
    "\n",
    "print('tup')\n",
    "for x in tup:\n",
    "    print(x)\n",
    "\n",
    "print('list')\n",
    "for x in a_list:\n",
    "    print(x)\n",
    "\n",
    "print('gen')\n",
    "for x in gen:\n",
    "    print(x)\n",
    "\n",
    "print('tup')\n",
    "for x in tup:\n",
    "    print(x)\n",
    "\n",
    "print('list')\n",
    "for x in a_list:\n",
    "    print(x)"
   ]
  }
 ],
 "metadata": {
  "kernelspec": {
   "display_name": "Python 3.9.12 ('base')",
   "language": "python",
   "name": "python3"
  },
  "language_info": {
   "codemirror_mode": {
    "name": "ipython",
    "version": 3
   },
   "file_extension": ".py",
   "mimetype": "text/x-python",
   "name": "python",
   "nbconvert_exporter": "python",
   "pygments_lexer": "ipython3",
   "version": "3.9.12"
  },
  "orig_nbformat": 4,
  "vscode": {
   "interpreter": {
    "hash": "d31b83e9610685068a0fe73b54051d44dc1110027bef1c52e64b671e72faac45"
   }
  }
 },
 "nbformat": 4,
 "nbformat_minor": 2
}
