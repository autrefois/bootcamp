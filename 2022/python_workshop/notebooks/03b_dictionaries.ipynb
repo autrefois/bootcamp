{
 "cells": [
  {
   "cell_type": "markdown",
   "metadata": {},
   "source": [
    "# Dictionaries\n",
    "A dictionary is another composite type, similar to a list in that it is a collection of objects.\n",
    "\n",
    "Dictionaries and lists have these attributes in common:\n",
    "- mutable\n",
    "- dynamic (grow and shrink as needed)\n",
    "- can be nested\n",
    "\n",
    "The difference between lists and dictionaries is on how the objects are accessed,\n",
    "- list elements are accessed by index\n",
    "- dictionary elements are accessed by key\n",
    "\n",
    "## How do you define a dictionary?\n",
    "Dictionaries in Python is an implementation of a data structure more generally known as associative array. It consists of a collection of key-value pairs - each pair maps a key to an associated value.\n",
    "\n",
    "```\n",
    "d = {\n",
    "    k1: v1,\n",
    "    k2: v2\n",
    "}\n",
    "```"
   ]
  },
  {
   "cell_type": "code",
   "execution_count": 60,
   "metadata": {},
   "outputs": [],
   "source": [
    "f1_teams = {\n",
    "    \"Leclerc\": \"Ferrari\",\n",
    "    \"Sainz\": \"Ferrari\",\n",
    "    \"Verstappen\": \"Redbull\",\n",
    "    \"Perez\": \"Redbull\",\n",
    "    \"Hamilton\": \"Mercedes\",\n",
    "    \"Russel\": \"Mercedes\",\n",
    "    \"Norris\": \"McLaren\",\n",
    "    \"Ricciardo\": \"McLaren\"\n",
    "}\n",
    "\n",
    "f1_more_teams = {\n",
    "    \"Alonso\": \"Alpine\",\n",
    "    \"Ocon\": \"Alpine\",\n",
    "    \"Zhou\": \"Alfa Romeo\",\n",
    "    \"Bottas\": \"Alfa Romeo\",\n",
    "    \"Schumacher\": \"Haas\",\n",
    "    \"Magnussen\": \"Haas\",\n",
    "    \"Tsunoda\": \"AlphaTauri\",\n",
    "    \"Gasly\": \"AlphaTauri\",\n",
    "    \"Vettel\": \"Aston Martin\",\n",
    "    \"Stroll\": \"Aston Martin\",\n",
    "    \"Albon\": \"Williams\",\n",
    "    \"Latifi\": \"Williams\"\n",
    "}"
   ]
  },
  {
   "cell_type": "markdown",
   "metadata": {},
   "source": [
    "You can also define a dictionary by using the `dict` command.\n",
    "```\n",
    "d = dict([\n",
    "  (k1, v1),\n",
    "  (k2, v2)\n",
    "])\n",
    "```\n",
    "If the key values are simple strings, they can be specified as simple arguments.\n",
    "```\n",
    "d = dict(\n",
    "  k1=v1,\n",
    "  k2=v2\n",
    ")\n",
    "```"
   ]
  },
  {
   "cell_type": "code",
   "execution_count": 2,
   "metadata": {},
   "outputs": [
    {
     "data": {
      "text/plain": [
       "dict"
      ]
     },
     "execution_count": 2,
     "metadata": {},
     "output_type": "execute_result"
    }
   ],
   "source": [
    "type(f1_teams)"
   ]
  },
  {
   "cell_type": "markdown",
   "metadata": {},
   "source": [
    "## Accessing dictionary values\n",
    "```\n",
    "dict.get('k1')\n",
    "dict['k1']\n",
    "```\n",
    "What is the difference between the two?\n"
   ]
  },
  {
   "cell_type": "code",
   "execution_count": 10,
   "metadata": {},
   "outputs": [
    {
     "name": "stdout",
     "output_type": "stream",
     "text": [
      "retired\n"
     ]
    }
   ],
   "source": [
    "print(f1_teams.get('Raikkonen', 'retired'))"
   ]
  },
  {
   "cell_type": "code",
   "execution_count": 58,
   "metadata": {},
   "outputs": [
    {
     "name": "stdout",
     "output_type": "stream",
     "text": [
      "Added Kimi! {'Leclerc': 'Ferrari', 'Sainz': 'Ferrari', 'Verstappen': 'Redbull', 'Perez': 'Redbull', 'Hamilton': 'Mercedes', 'Russel': 'Mercedes', 'Norris': 'McLaren', 'Ricciardo': 'McLaren', 'Raikkonen': 'Ferrari'} \n",
      "\n",
      "Kimi has moved! {'Leclerc': 'Ferrari', 'Sainz': 'Ferrari', 'Verstappen': 'Redbull', 'Perez': 'Redbull', 'Hamilton': 'Mercedes', 'Russel': 'Mercedes', 'Norris': 'McLaren', 'Ricciardo': 'McLaren', 'Raikkonen': 'Alfa Romeo'} \n",
      "\n",
      "Kimi has retired! {'Leclerc': 'Ferrari', 'Sainz': 'Ferrari', 'Verstappen': 'Redbull', 'Perez': 'Redbull', 'Hamilton': 'Mercedes', 'Russel': 'Mercedes', 'Norris': 'McLaren', 'Ricciardo': 'McLaren'} \n",
      "\n",
      "Different kind of retirement {'Norris': 'McLaren', 'Sainz': 'Ferrari', 'Russel': 'Mercedes', 'Ricciardo': 'McLaren', 'Perez': 'Redbull', 'Hamilton': 'Mercedes', 'Verstappen': 'Redbull', 'Leclerc': 'Ferrari'}\n"
     ]
    }
   ],
   "source": [
    "# add a new entry\n",
    "f1_teams['Raikkonen'] = 'Ferrari'\n",
    "print(\"Added Kimi!\", f1_teams, \"\\n\")\n",
    "\n",
    "# update and entry\n",
    "f1_teams['Raikkonen'] = 'Alfa Romeo'\n",
    "print(\"Kimi has moved!\", f1_teams, \"\\n\")\n",
    "\n",
    "# remove an entry\n",
    "del f1_teams['Raikkonen']\n",
    "print(\"Kimi has retired!\", f1_teams, \"\\n\")\n",
    "\n",
    "# add Kimi back\n",
    "f1_teams['Raikkonen'] = 'Alfa Romeo'\n",
    "\n",
    "# to remove him again\n",
    "f1_teams = {\n",
    "    k: f1_teams[k] for k in f1_teams.keys() - {'Raikkonen'}\n",
    "}\n",
    "print(\"Different kind of retirement\", f1_teams)\n"
   ]
  },
  {
   "cell_type": "markdown",
   "metadata": {},
   "source": [
    "### Restrictions on Keys\n",
    "Almost any type of value can be used as a dictionary key in Python, even built-in objects like types and functions"
   ]
  },
  {
   "cell_type": "code",
   "execution_count": 12,
   "metadata": {},
   "outputs": [
    {
     "name": "stdout",
     "output_type": "stream",
     "text": [
      "{<class 'int'>: 1, <class 'float'>: 2, <class 'bool'>: 3}\n"
     ]
    },
    {
     "data": {
      "text/plain": [
       "1"
      ]
     },
     "execution_count": 12,
     "metadata": {},
     "output_type": "execute_result"
    }
   ],
   "source": [
    "d = {int: 1, float: 2, bool: 3}\n",
    "print(d)\n",
    "d = {bin: 1, hex: 2, oct: 3}\n",
    "d[bin]"
   ]
  },
  {
   "cell_type": "markdown",
   "metadata": {},
   "source": [
    "There are a couple of restrictions when it comes to dictionary keys.\n",
    "\n",
    "* keys must be unique\n",
    "* keys must be immutable\n",
    "\n",
    "What do you think will happen if we will use a list as a dictionary key?"
   ]
  },
  {
   "cell_type": "code",
   "execution_count": 13,
   "metadata": {},
   "outputs": [
    {
     "ename": "TypeError",
     "evalue": "unhashable type: 'list'",
     "output_type": "error",
     "traceback": [
      "\u001b[1;31m---------------------------------------------------------------------------\u001b[0m",
      "\u001b[1;31mTypeError\u001b[0m                                 Traceback (most recent call last)",
      "\u001b[1;32mc:\\Users\\Laptop 17\\Desktop\\bootcamp\\bootcamp\\2022\\python_workshop\\notebooks\\03b_dictionaries.ipynb Cell 11\u001b[0m in \u001b[0;36m<cell line: 3>\u001b[1;34m()\u001b[0m\n\u001b[0;32m      <a href='vscode-notebook-cell:/c%3A/Users/Laptop%2017/Desktop/bootcamp/bootcamp/2022/python_workshop/notebooks/03b_dictionaries.ipynb#ch0000010?line=0'>1</a>\u001b[0m \u001b[39m# let's find out!\u001b[39;00m\n\u001b[1;32m----> <a href='vscode-notebook-cell:/c%3A/Users/Laptop%2017/Desktop/bootcamp/bootcamp/2022/python_workshop/notebooks/03b_dictionaries.ipynb#ch0000010?line=1'>2</a>\u001b[0m d \u001b[39m=\u001b[39m {\n\u001b[0;32m      <a href='vscode-notebook-cell:/c%3A/Users/Laptop%2017/Desktop/bootcamp/bootcamp/2022/python_workshop/notebooks/03b_dictionaries.ipynb#ch0000010?line=2'>3</a>\u001b[0m     [\u001b[39m1\u001b[39m, \u001b[39m1\u001b[39m]: \u001b[39m'\u001b[39m\u001b[39ma\u001b[39m\u001b[39m'\u001b[39m\n\u001b[0;32m      <a href='vscode-notebook-cell:/c%3A/Users/Laptop%2017/Desktop/bootcamp/bootcamp/2022/python_workshop/notebooks/03b_dictionaries.ipynb#ch0000010?line=3'>4</a>\u001b[0m }\n",
      "\u001b[1;31mTypeError\u001b[0m: unhashable type: 'list'"
     ]
    }
   ],
   "source": [
    "# let's find out!\n",
    "d = {\n",
    "    [1, 1]: 'a'\n",
    "}"
   ]
  },
  {
   "cell_type": "markdown",
   "metadata": {},
   "source": [
    "Why does the error message say “unhashable”?\n",
    "\n",
    "Technically, it is not quite correct to say an object must be immutable to be used as a dictionary key. \n",
    "\n",
    "More precisely, an object must be **hashable**, which means it can be passed to a hash function.\n",
    "\n",
    "A hash function takes data of arbitrary size and maps it to a relatively simpler fixed-size value called a hash value (or simply hash), which is used for table lookup and comparison - very important for high-performance algorithms and data structures, as the look up is done in constant-time (O(1)). This process is called **hashing**.\n",
    "\n",
    "Python’s built-in hash() function returns the hash value for an object which is hashable, and raises an exception for an object which isn’t."
   ]
  },
  {
   "cell_type": "code",
   "execution_count": 14,
   "metadata": {},
   "outputs": [
    {
     "name": "stdout",
     "output_type": "stream",
     "text": [
      "7816889664739055130\n"
     ]
    },
    {
     "ename": "TypeError",
     "evalue": "unhashable type: 'list'",
     "output_type": "error",
     "traceback": [
      "\u001b[1;31m---------------------------------------------------------------------------\u001b[0m",
      "\u001b[1;31mTypeError\u001b[0m                                 Traceback (most recent call last)",
      "\u001b[1;32mc:\\Users\\Laptop 17\\Desktop\\bootcamp\\bootcamp\\2022\\python_workshop\\notebooks\\03b_dictionaries.ipynb Cell 13\u001b[0m in \u001b[0;36m<cell line: 2>\u001b[1;34m()\u001b[0m\n\u001b[0;32m      <a href='vscode-notebook-cell:/c%3A/Users/Laptop%2017/Desktop/bootcamp/bootcamp/2022/python_workshop/notebooks/03b_dictionaries.ipynb#ch0000012?line=0'>1</a>\u001b[0m \u001b[39mprint\u001b[39m(\u001b[39mhash\u001b[39m(\u001b[39m\"\u001b[39m\u001b[39mhello\u001b[39m\u001b[39m\"\u001b[39m))\n\u001b[1;32m----> <a href='vscode-notebook-cell:/c%3A/Users/Laptop%2017/Desktop/bootcamp/bootcamp/2022/python_workshop/notebooks/03b_dictionaries.ipynb#ch0000012?line=1'>2</a>\u001b[0m \u001b[39mprint\u001b[39m(\u001b[39mhash\u001b[39;49m([\u001b[39m1\u001b[39;49m, \u001b[39m2\u001b[39;49m]))\n",
      "\u001b[1;31mTypeError\u001b[0m: unhashable type: 'list'"
     ]
    }
   ],
   "source": [
    "print(hash(\"hello\"))\n",
    "print(hash([1, 2]))"
   ]
  },
  {
   "cell_type": "markdown",
   "metadata": {},
   "source": [
    "All of the built-in immutable types you have learned about so far are hashable, and the mutable container types (lists and dictionaries) are not. \n",
    "\n",
    "**Hashable Types**\n",
    "\n",
    "* The atomic immutable types are all hashable, such as string, bytes, numeric types\n",
    "* A frozen set is always hashable (its elements must be hashable by definition)\n",
    "* A tuple is hashable only if all its elements are hashable\n",
    "* User-defined types are hashable by default because their hash value is their id()\n"
   ]
  },
  {
   "cell_type": "markdown",
   "metadata": {},
   "source": [
    "### Restrictions on dictionary values\n",
    "There are none. Literally.\n",
    "\n",
    "### Operators and built-in functions\n",
    "* __dict()__: function to create an empty dictionary\n",
    "* __keys()__: return a list containing the dictionary's keys\n",
    "* __items()__: Returns a list containing a tuple for each key value pair\n",
    "* __get(*`key`*)__: Returns the value of the specified key\n",
    "* __fromkeys(*`iterable`*)__: Returns a dictionary with the specified keys from iterable and corresponding values\n",
    "* __copy()__: Returns a dictionary as a copy from current\n",
    "* __pop(*`key`*)__: Removes the element with the specified key\n",
    "* __popitem()__: Removes the last inserted key-value pair\n",
    "\n",
    "* loop in dictionary elements: use items(): *`for key, val in dict.items():`*\n",
    "\n",
    "* `in, not in`\n",
    "\n",
    "* `clear()`\n",
    "* `get(<key>[, <default>])()`\n",
    "* `items()`\n",
    "* `keys()`\n",
    "* `values()`\n",
    "* `pop(<key>[, <default>])`\n",
    "* `popitem()`\n",
    "* `update(<obj>) `- merges a dictionary with another dictionary or with an iterable of key-value pairs\n",
    "\n",
    "### zip - converting lists to a dictionary"
   ]
  },
  {
   "cell_type": "code",
   "execution_count": 15,
   "metadata": {},
   "outputs": [
    {
     "name": "stdout",
     "output_type": "stream",
     "text": [
      "{'Leclerc': 'Ferrari', 'Verstappen': 'Redbull', 'Hamilton': 'Mercedes', 'Norris': 'McLaren', 'Alonso': 'Alpine', 'Bottas': 'Alfa Romeo', 'Gasly': 'AlphaTauri', 'Vettel': 'Aston Martin', 'Schumacher': 'Haas', 'Albon': 'Williams'}\n"
     ]
    }
   ],
   "source": [
    "drivers = ['Leclerc', 'Verstappen', 'Hamilton', 'Norris', 'Alonso', 'Bottas', 'Gasly', 'Vettel', 'Schumacher', 'Albon']\n",
    "teams = ['Ferrari', 'Redbull', 'Mercedes', 'McLaren', 'Alpine', 'Alfa Romeo', 'AlphaTauri', 'Aston Martin', 'Haas', 'Williams']\n",
    "\n",
    "f1_dict = dict(zip(drivers, teams))\n",
    "\n",
    "print(f1_dict)"
   ]
  },
  {
   "cell_type": "markdown",
   "metadata": {},
   "source": [
    "### Dictionary comprehension"
   ]
  },
  {
   "cell_type": "code",
   "execution_count": 16,
   "metadata": {},
   "outputs": [
    {
     "name": "stdout",
     "output_type": "stream",
     "text": [
      "{'Leclerc': 'Ferrari', 'Verstappen': 'Redbull', 'Hamilton': 'Mercedes', 'Norris': 'McLaren', 'Alonso': 'Alpine', 'Bottas': 'Alfa Romeo', 'Gasly': 'AlphaTauri', 'Vettel': 'Aston Martin', 'Schumacher': 'Haas', 'Albon': 'Williams'}\n"
     ]
    }
   ],
   "source": [
    "new_dict = {\n",
    "    driver: team for driver, team in zip(drivers, teams)\n",
    "}\n",
    "print(new_dict)"
   ]
  },
  {
   "cell_type": "markdown",
   "metadata": {},
   "source": [
    "### Exercises"
   ]
  },
  {
   "cell_type": "code",
   "execution_count": 61,
   "metadata": {},
   "outputs": [
    {
     "name": "stdout",
     "output_type": "stream",
     "text": [
      "{'Leclerc': 'Ferrari', 'Sainz': 'Ferrari', 'Verstappen': 'Redbull', 'Perez': 'Redbull', 'Hamilton': 'Mercedes', 'Russel': 'Mercedes', 'Norris': 'McLaren', 'Ricciardo': 'McLaren', 'Alonso': 'Alpine', 'Ocon': 'Alpine', 'Zhou': 'Alfa Romeo', 'Bottas': 'Alfa Romeo', 'Schumacher': 'Haas', 'Magnussen': 'Haas', 'Tsunoda': 'AlphaTauri', 'Gasly': 'AlphaTauri', 'Vettel': 'Aston Martin', 'Stroll': 'Aston Martin', 'Albon': 'Williams', 'Latifi': 'Williams'}\n"
     ]
    }
   ],
   "source": [
    "# combine the two dictionaries f1_teams and f1_more_teams\n",
    "f1_teams.update(f1_more_teams)\n",
    "# f1_teams |= f1_more_teams\n",
    "print(f1_teams)"
   ]
  },
  {
   "cell_type": "code",
   "execution_count": 69,
   "metadata": {},
   "outputs": [
    {
     "name": "stdout",
     "output_type": "stream",
     "text": [
      "Norris\n",
      "Ricciardo\n",
      "['Norris', 'Ricciardo']\n"
     ]
    }
   ],
   "source": [
    "# iterate through f1_teams and print only the McLaren drivers (just the drivers)\n",
    "for k, v in f1_teams.items():\n",
    "    if v == 'McLaren':\n",
    "        print(k)\n",
    "\n",
    "print([k for k in f1_teams.keys() if f1_teams[k] == 'McLaren'])"
   ]
  },
  {
   "cell_type": "code",
   "execution_count": 73,
   "metadata": {},
   "outputs": [
    {
     "ename": "ValueError",
     "evalue": "dictionary update sequence element #0 has length 3; 2 is required",
     "output_type": "error",
     "traceback": [
      "\u001b[1;31m---------------------------------------------------------------------------\u001b[0m",
      "\u001b[1;31mValueError\u001b[0m                                Traceback (most recent call last)",
      "\u001b[1;32mc:\\Users\\Laptop 17\\Desktop\\bootcamp\\bootcamp\\2022\\python_workshop\\notebooks\\03b_dictionaries.ipynb Cell 22\u001b[0m in \u001b[0;36m<cell line: 10>\u001b[1;34m()\u001b[0m\n\u001b[0;32m      <a href='vscode-notebook-cell:/c%3A/Users/Laptop%2017/Desktop/bootcamp/bootcamp/2022/python_workshop/notebooks/03b_dictionaries.ipynb#ch0000021?line=3'>4</a>\u001b[0m output \u001b[39m=\u001b[39m \u001b[39mdict\u001b[39m(\u001b[39mzip\u001b[39m(f1_driver_numbers, f1_teams\u001b[39m.\u001b[39mitems()))\n\u001b[0;32m      <a href='vscode-notebook-cell:/c%3A/Users/Laptop%2017/Desktop/bootcamp/bootcamp/2022/python_workshop/notebooks/03b_dictionaries.ipynb#ch0000021?line=5'>6</a>\u001b[0m f1_new \u001b[39m=\u001b[39m {\n\u001b[0;32m      <a href='vscode-notebook-cell:/c%3A/Users/Laptop%2017/Desktop/bootcamp/bootcamp/2022/python_workshop/notebooks/03b_dictionaries.ipynb#ch0000021?line=6'>7</a>\u001b[0m     number : f1 \u001b[39mfor\u001b[39;00m number, f1 \u001b[39min\u001b[39;00m \u001b[39mzip\u001b[39m(f1_driver_numbers, f1_teams\u001b[39m.\u001b[39mitems())\n\u001b[0;32m      <a href='vscode-notebook-cell:/c%3A/Users/Laptop%2017/Desktop/bootcamp/bootcamp/2022/python_workshop/notebooks/03b_dictionaries.ipynb#ch0000021?line=7'>8</a>\u001b[0m }\n\u001b[1;32m---> <a href='vscode-notebook-cell:/c%3A/Users/Laptop%2017/Desktop/bootcamp/bootcamp/2022/python_workshop/notebooks/03b_dictionaries.ipynb#ch0000021?line=9'>10</a>\u001b[0m \u001b[39mprint\u001b[39m(\u001b[39mdict\u001b[39;49m(\u001b[39mzip\u001b[39;49m(f1_teams\u001b[39m.\u001b[39;49mkeys(), f1_teams\u001b[39m.\u001b[39;49mvalues(), f1_driver_numbers)))\n\u001b[0;32m     <a href='vscode-notebook-cell:/c%3A/Users/Laptop%2017/Desktop/bootcamp/bootcamp/2022/python_workshop/notebooks/03b_dictionaries.ipynb#ch0000021?line=10'>11</a>\u001b[0m \u001b[39mprint\u001b[39m(output)\n\u001b[0;32m     <a href='vscode-notebook-cell:/c%3A/Users/Laptop%2017/Desktop/bootcamp/bootcamp/2022/python_workshop/notebooks/03b_dictionaries.ipynb#ch0000021?line=11'>12</a>\u001b[0m \u001b[39mprint\u001b[39m(f1_new)\n",
      "\u001b[1;31mValueError\u001b[0m: dictionary update sequence element #0 has length 3; 2 is required"
     ]
    }
   ],
   "source": [
    "# given the list of driver numbers, assign each driver their corresponding number\n",
    "f1_driver_numbers = [16, 55, 1, 11, 44, 63, 4, 3, 14, 31, 24, 77, 47, 20, 22, 10, 5, 18, 23, 6]\n",
    "\n",
    "output = dict(zip(f1_driver_numbers, f1_teams.items()))\n",
    "\n",
    "f1_new = {\n",
    "    number : f1 for number, f1 in zip(f1_driver_numbers, f1_teams.items())\n",
    "}\n",
    "\n",
    "print(output)\n",
    "print(f1_new)\n",
    "\n",
    "# expected result:\n",
    "# {16: ('Leclerc', 'Ferrari'),\n",
    "#  55: ('Sainz', 'Ferrari'),\n",
    "#  1: ('Verstappen', 'Redbull'),\n",
    "#  11: ('Perez', 'Redbull'),\n",
    "#  44: ('Hamilton', 'Mercedes'),\n",
    "#  63: ('Russel', 'Mercedes'),\n",
    "#  4: ('Norris', 'McLaren'),\n",
    "#  3: ('Ricciardo', 'McLaren'),\n",
    "#  14: ('Alonso', 'Alpine'),\n",
    "#  31: ('Ocon', 'Alpine'),\n",
    "#  24: ('Zhou', 'Alfa Romeo'),\n",
    "#  77: ('Bottas', 'Alfa Romeo'),\n",
    "#  47: ('Schumacher', 'Haas'),\n",
    "#  20: ('Magnussen', 'Haas'),\n",
    "#  22: ('Tsunoda', 'AlphaTauri'),\n",
    "#  10: ('Gasly', 'AlphaTauri'),\n",
    "#  5: ('Vettel', 'Aston Martin'),\n",
    "#  18: ('Stroll', 'Aston Martin'),\n",
    "#  23: ('Albon', 'Williams'),\n",
    "#  6: ('Latifi', 'Williams')}\n",
    "\n"
   ]
  },
  {
   "cell_type": "markdown",
   "metadata": {},
   "source": [
    "### Deep copy vs shallow copy\n",
    "\n",
    "* shallow copy - the *content* of the dictionary is not copied by value, but just creating a new reference\n",
    "* deep copy - copy all contents by *value*"
   ]
  },
  {
   "cell_type": "code",
   "execution_count": null,
   "metadata": {},
   "outputs": [],
   "source": [
    "# shallow copy\n",
    "a = {0: [1, 2, 3]}\n",
    "b = a.copy()\n",
    "a[0].append([4])\n",
    "\n",
    "print(\"a:\", a, \"\\nb:\", b)"
   ]
  },
  {
   "cell_type": "code",
   "execution_count": null,
   "metadata": {},
   "outputs": [],
   "source": [
    "# deep copy\n",
    "import copy\n",
    "c = copy.deepcopy(a)\n",
    "\n",
    "# ???\n",
    "d = dict(a)\n",
    "\n",
    "print(\"a:\", a, \"\\nc:\", c, \"\\nd:\", d)"
   ]
  },
  {
   "cell_type": "code",
   "execution_count": null,
   "metadata": {},
   "outputs": [],
   "source": [
    "a[0].append(5)\n",
    "print(\"a:\", a, \"\\nc:\", c, \"\\nd:\", d)"
   ]
  },
  {
   "cell_type": "markdown",
   "metadata": {},
   "source": [
    "### Unpacking a dictionary\n",
    "* using the unpacking operator **"
   ]
  },
  {
   "cell_type": "code",
   "execution_count": null,
   "metadata": {},
   "outputs": [],
   "source": [
    "fruit_prices = {'apple': 0.40, 'orange': 0.35}\n",
    "vegetable_prices = {'pepper': 0.20, 'onion': 0.55}\n",
    "aprozar = {**vegetable_prices, **fruit_prices}\n",
    "print(aprozar)\n",
    "\n",
    "# iterate through multiple dictionaries\n",
    "for k, v in {**vegetable_prices, **fruit_prices}.items():\n",
    "    print(k, '->', v)"
   ]
  },
  {
   "cell_type": "markdown",
   "metadata": {},
   "source": [
    "### Chained iteration"
   ]
  },
  {
   "cell_type": "code",
   "execution_count": null,
   "metadata": {},
   "outputs": [],
   "source": [
    "from itertools import chain\n",
    "\n",
    "fruit_prices = {'apple': 0.40, 'orange': 0.35, 'banana': 0.25}\n",
    "vegetable_prices = {'pepper': 0.20, 'onion': 0.55, 'tomato': 0.42}\n",
    "for item in chain(fruit_prices.items(), vegetable_prices.items()):\n",
    "    print(item)\n"
   ]
  }
 ],
 "metadata": {
  "kernelspec": {
   "display_name": "Python 3.8.0 64-bit",
   "language": "python",
   "name": "python3"
  },
  "language_info": {
   "codemirror_mode": {
    "name": "ipython",
    "version": 3
   },
   "file_extension": ".py",
   "mimetype": "text/x-python",
   "name": "python",
   "nbconvert_exporter": "python",
   "pygments_lexer": "ipython3",
   "version": "3.8.0"
  },
  "orig_nbformat": 4,
  "vscode": {
   "interpreter": {
    "hash": "83bca74902d8d95dc0f4d5ef6f135f4aa78da41c0c8e870768b6659e568e6a46"
   }
  }
 },
 "nbformat": 4,
 "nbformat_minor": 2
}
