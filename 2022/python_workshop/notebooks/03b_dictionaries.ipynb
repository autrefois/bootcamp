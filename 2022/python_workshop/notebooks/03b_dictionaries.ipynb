{
 "cells": [
  {
   "cell_type": "markdown",
   "metadata": {},
   "source": [
    "# Dictionaries\n",
    "A dictionary is another composite type, similar to a list in that it is a collection of objects.\n",
    "\n",
    "Dictionaries and lists have these attributes in common:\n",
    "- mutable\n",
    "- dynamic (grow and shrink as needed)\n",
    "- can be nested\n",
    "\n",
    "The difference between lists and dictionaries is on how the objects are accessed,\n",
    "- list elements are accessed by index\n",
    "- dictionary elements are accessed by key\n",
    "\n",
    "## How do you define a dictionary?\n",
    "Dictionaries in Python is an implementation of a data structure more generally known as associative array. It consists of a collection of key-value pairs - each pair maps a key to an associated value.\n",
    "\n",
    "```\n",
    "d = {\n",
    "    k1: v1,\n",
    "    k2: v2\n",
    "}\n",
    "```"
   ]
  },
  {
   "cell_type": "code",
   "execution_count": 33,
   "metadata": {},
   "outputs": [],
   "source": [
    "f1_teams = {\n",
    "    \"Leclerc\": \"Ferrari\",\n",
    "    \"Sainz\": \"Ferrari\",\n",
    "    \"Verstappen\": \"Redbull\",\n",
    "    \"Perez\": \"Redbull\",\n",
    "    \"Hamilton\": \"Mercedes\",\n",
    "    \"Russel\": \"Mercedes\",\n",
    "    \"Norris\": \"McLaren\",\n",
    "    \"Ricciardo\": \"McLaren\"\n",
    "}\n",
    "\n",
    "f1_more_teams = {\n",
    "    \"Alonso\": \"Alpine\",\n",
    "    \"Ocon\": \"Alpine\",\n",
    "    \"Zhou\": \"Alfa Romeo\",\n",
    "    \"Bottas\": \"Alfa Romeo\",\n",
    "    \"Schumacher\": \"Haas\",\n",
    "    \"Magnussen\": \"Haas\",\n",
    "    \"Tsunoda\": \"AlphaTauri\",\n",
    "    \"Gasly\": \"AlphaTauri\",\n",
    "    \"Vettel\": \"Aston Martin\",\n",
    "    \"Stroll\": \"Aston Martin\",\n",
    "    \"Albon\": \"Williams\",\n",
    "    \"Latifi\": \"Williams\"\n",
    "}"
   ]
  },
  {
   "cell_type": "markdown",
   "metadata": {},
   "source": [
    "You can also define a dictionary by using the `dict` command.\n",
    "```\n",
    "d = dict([\n",
    "  (k1, v1),\n",
    "  (k2, v2)\n",
    "])\n",
    "```\n",
    "If the key values are simple strings, they can be specified as simple arguments.\n",
    "```\n",
    "d = dict(\n",
    "  k1=v1,\n",
    "  k2=v2\n",
    ")\n",
    "```"
   ]
  },
  {
   "cell_type": "code",
   "execution_count": 2,
   "metadata": {},
   "outputs": [
    {
     "data": {
      "text/plain": [
       "dict"
      ]
     },
     "execution_count": 2,
     "metadata": {},
     "output_type": "execute_result"
    }
   ],
   "source": [
    "type(f1_teams)"
   ]
  },
  {
   "cell_type": "markdown",
   "metadata": {},
   "source": [
    "## Accessing dictionary values\n",
    "```\n",
    "dict.get('k1')\n",
    "dict['k1']\n",
    "```\n",
    "What is the difference between the two?\n"
   ]
  },
  {
   "cell_type": "code",
   "execution_count": 5,
   "metadata": {},
   "outputs": [
    {
     "data": {
      "text/plain": [
       "'retired'"
      ]
     },
     "execution_count": 5,
     "metadata": {},
     "output_type": "execute_result"
    }
   ],
   "source": [
    "#f1_teams['Raikkonen']\n",
    "f1_teams.get(\"Raikkonen\", \"retired\")"
   ]
  },
  {
   "cell_type": "code",
   "execution_count": 6,
   "metadata": {},
   "outputs": [
    {
     "name": "stdout",
     "output_type": "stream",
     "text": [
      "Added Kimi! {'Leclerc': 'Ferrari', 'Sainz': 'Ferrari', 'Verstappen': 'Redbull', 'Perez': 'Redbull', 'Hamilton': 'Mercedes', 'Russel': 'Mercedes', 'Norris': 'McLaren', 'Ricciardo': 'McLaren', 'Raikkonen': 'Ferrari'} \n",
      "\n",
      "Kimi has moved! {'Leclerc': 'Ferrari', 'Sainz': 'Ferrari', 'Verstappen': 'Redbull', 'Perez': 'Redbull', 'Hamilton': 'Mercedes', 'Russel': 'Mercedes', 'Norris': 'McLaren', 'Ricciardo': 'McLaren', 'Raikkonen': 'Alfa Romeo'} \n",
      "\n",
      "Kimi has retired! {'Leclerc': 'Ferrari', 'Sainz': 'Ferrari', 'Verstappen': 'Redbull', 'Perez': 'Redbull', 'Hamilton': 'Mercedes', 'Russel': 'Mercedes', 'Norris': 'McLaren', 'Ricciardo': 'McLaren'} \n",
      "\n",
      "Different kind of retirement {'Leclerc': 'Ferrari', 'Hamilton': 'Mercedes', 'Sainz': 'Ferrari', 'Norris': 'McLaren', 'Verstappen': 'Redbull', 'Ricciardo': 'McLaren', 'Russel': 'Mercedes', 'Perez': 'Redbull'}\n"
     ]
    }
   ],
   "source": [
    "# add a new entry\n",
    "f1_teams['Raikkonen'] = 'Ferrari'\n",
    "print(\"Added Kimi!\", f1_teams, \"\\n\")\n",
    "\n",
    "# update and entry\n",
    "f1_teams['Raikkonen'] = 'Alfa Romeo'\n",
    "print(\"Kimi has moved!\", f1_teams, \"\\n\")\n",
    "\n",
    "# remove an entry\n",
    "del f1_teams['Raikkonen']\n",
    "print(\"Kimi has retired!\", f1_teams, \"\\n\")\n",
    "\n",
    "# add Kimi back\n",
    "f1_teams['Raikkonen'] = 'Alfa Romeo'\n",
    "\n",
    "# to remove him again\n",
    "f1_teams = {\n",
    "    k: f1_teams[k] for k in f1_teams.keys() - {'Raikkonen'}\n",
    "}\n",
    "print(\"Different kind of retirement\", f1_teams)\n"
   ]
  },
  {
   "cell_type": "markdown",
   "metadata": {},
   "source": [
    "### Restrictions on Keys\n",
    "Almost any type of value can be used as a dictionary key in Python, even built-in objects like types and functions"
   ]
  },
  {
   "cell_type": "code",
   "execution_count": 7,
   "metadata": {},
   "outputs": [
    {
     "name": "stdout",
     "output_type": "stream",
     "text": [
      "{<class 'int'>: 1, <class 'float'>: 2, <class 'bool'>: 3}\n"
     ]
    },
    {
     "data": {
      "text/plain": [
       "1"
      ]
     },
     "execution_count": 7,
     "metadata": {},
     "output_type": "execute_result"
    }
   ],
   "source": [
    "d = {int: 1, float: 2, bool: 3}\n",
    "print(d)\n",
    "d = {bin: 1, hex: 2, oct: 3}\n",
    "d[bin]"
   ]
  },
  {
   "cell_type": "markdown",
   "metadata": {},
   "source": [
    "There are a couple of restrictions when it comes to dictionary keys.\n",
    "\n",
    "* keys must be unique\n",
    "* keys must be immutable\n",
    "\n",
    "What do you think will happen if we will use a list as a dictionary key?"
   ]
  },
  {
   "cell_type": "code",
   "execution_count": 8,
   "metadata": {},
   "outputs": [
    {
     "ename": "TypeError",
     "evalue": "unhashable type: 'list'",
     "output_type": "error",
     "traceback": [
      "\u001b[1;31m---------------------------------------------------------------------------\u001b[0m",
      "\u001b[1;31mTypeError\u001b[0m                                 Traceback (most recent call last)",
      "\u001b[1;32mc:\\Users\\Laptop 10\\Desktop\\bootcampGit\\bootcamp\\2022\\python_workshop\\notebooks\\03b_dictionaries.ipynb Cell 11\u001b[0m in \u001b[0;36m<cell line: 3>\u001b[1;34m()\u001b[0m\n\u001b[0;32m      <a href='vscode-notebook-cell:/c%3A/Users/Laptop%2010/Desktop/bootcampGit/bootcamp/2022/python_workshop/notebooks/03b_dictionaries.ipynb#ch0000010?line=0'>1</a>\u001b[0m \u001b[39m# let's find out!\u001b[39;00m\n\u001b[1;32m----> <a href='vscode-notebook-cell:/c%3A/Users/Laptop%2010/Desktop/bootcampGit/bootcamp/2022/python_workshop/notebooks/03b_dictionaries.ipynb#ch0000010?line=1'>2</a>\u001b[0m d \u001b[39m=\u001b[39m {\n\u001b[0;32m      <a href='vscode-notebook-cell:/c%3A/Users/Laptop%2010/Desktop/bootcampGit/bootcamp/2022/python_workshop/notebooks/03b_dictionaries.ipynb#ch0000010?line=2'>3</a>\u001b[0m     [\u001b[39m1\u001b[39m, \u001b[39m1\u001b[39m]: \u001b[39m'\u001b[39m\u001b[39ma\u001b[39m\u001b[39m'\u001b[39m\n\u001b[0;32m      <a href='vscode-notebook-cell:/c%3A/Users/Laptop%2010/Desktop/bootcampGit/bootcamp/2022/python_workshop/notebooks/03b_dictionaries.ipynb#ch0000010?line=3'>4</a>\u001b[0m }\n",
      "\u001b[1;31mTypeError\u001b[0m: unhashable type: 'list'"
     ]
    }
   ],
   "source": [
    "# let's find out!\n",
    "d = {\n",
    "    [1, 1]: 'a'\n",
    "}"
   ]
  },
  {
   "cell_type": "markdown",
   "metadata": {},
   "source": [
    "Why does the error message say “unhashable”?\n",
    "\n",
    "Technically, it is not quite correct to say an object must be immutable to be used as a dictionary key. \n",
    "\n",
    "More precisely, an object must be **hashable**, which means it can be passed to a hash function.\n",
    "\n",
    "A hash function takes data of arbitrary size and maps it to a relatively simpler fixed-size value called a hash value (or simply hash), which is used for table lookup and comparison - very important for high-performance algorithms and data structures, as the look up is done in constant-time (O(1)). This process is called **hashing**.\n",
    "\n",
    "Python’s built-in hash() function returns the hash value for an object which is hashable, and raises an exception for an object which isn’t."
   ]
  },
  {
   "cell_type": "code",
   "execution_count": 10,
   "metadata": {},
   "outputs": [
    {
     "name": "stdout",
     "output_type": "stream",
     "text": [
      "6171687069103778234\n"
     ]
    }
   ],
   "source": [
    "print(hash(\"hello\"))\n",
    "#print(hash([1, 2]))"
   ]
  },
  {
   "cell_type": "markdown",
   "metadata": {},
   "source": [
    "All of the built-in immutable types you have learned about so far are hashable, and the mutable container types (lists and dictionaries) are not. \n",
    "\n",
    "**Hashable Types**\n",
    "\n",
    "* The atomic immutable types are all hashable, such as string, bytes, numeric types\n",
    "* A frozen set is always hashable (its elements must be hashable by definition)\n",
    "* A tuple is hashable only if all its elements are hashable\n",
    "* User-defined types are hashable by default because their hash value is their id()\n"
   ]
  },
  {
   "cell_type": "markdown",
   "metadata": {},
   "source": [
    "### Restrictions on dictionary values\n",
    "There are none. Literally.\n",
    "\n",
    "### Operators and built-in functions\n",
    "* __dict()__: function to create an empty dictionary\n",
    "* __keys()__: return a list containing the dictionary's keys\n",
    "* __items()__: Returns a list containing a tuple for each key value pair\n",
    "* __get(*`key`*)__: Returns the value of the specified key\n",
    "* __fromkeys(*`iterable`*)__: Returns a dictionary with the specified keys from iterable and corresponding values\n",
    "* __copy()__: Returns a dictionary as a copy from current\n",
    "* __pop(*`key`*)__: Removes the element with the specified key\n",
    "* __popitem()__: Removes the last inserted key-value pair\n",
    "\n",
    "* loop in dictionary elements: use items(): *`for key, val in dict.items():`*\n",
    "\n",
    "* `in, not in`\n",
    "\n",
    "* `clear()`\n",
    "* `get(<key>[, <default>])()`\n",
    "* `items()`\n",
    "* `keys()`\n",
    "* `values()`\n",
    "* `pop(<key>[, <default>])`\n",
    "* `popitem()`\n",
    "* `update(<obj>) `- merges a dictionary with another dictionary or with an iterable of key-value pairs\n",
    "\n",
    "### zip - converting lists to a dictionary"
   ]
  },
  {
   "cell_type": "code",
   "execution_count": 11,
   "metadata": {},
   "outputs": [
    {
     "name": "stdout",
     "output_type": "stream",
     "text": [
      "{'Leclerc': 'Ferrari', 'Verstappen': 'Redbull', 'Hamilton': 'Mercedes', 'Norris': 'McLaren', 'Alonso': 'Alpine', 'Bottas': 'Alfa Romeo', 'Gasly': 'AlphaTauri', 'Vettel': 'Aston Martin', 'Schumacher': 'Haas', 'Albon': 'Williams'}\n"
     ]
    }
   ],
   "source": [
    "drivers = ['Leclerc', 'Verstappen', 'Hamilton', 'Norris', 'Alonso', 'Bottas', 'Gasly', 'Vettel', 'Schumacher', 'Albon']\n",
    "teams = ['Ferrari', 'Redbull', 'Mercedes', 'McLaren', 'Alpine', 'Alfa Romeo', 'AlphaTauri', 'Aston Martin', 'Haas', 'Williams']\n",
    "\n",
    "f1_dict = dict(zip(drivers, teams))\n",
    "\n",
    "print(f1_dict)"
   ]
  },
  {
   "cell_type": "markdown",
   "metadata": {},
   "source": [
    "### Dictionary comprehension"
   ]
  },
  {
   "cell_type": "code",
   "execution_count": 12,
   "metadata": {},
   "outputs": [
    {
     "name": "stdout",
     "output_type": "stream",
     "text": [
      "{'Leclerc': 'Ferrari', 'Verstappen': 'Redbull', 'Hamilton': 'Mercedes', 'Norris': 'McLaren', 'Alonso': 'Alpine', 'Bottas': 'Alfa Romeo', 'Gasly': 'AlphaTauri', 'Vettel': 'Aston Martin', 'Schumacher': 'Haas', 'Albon': 'Williams'}\n"
     ]
    }
   ],
   "source": [
    "new_dict = {\n",
    "    driver: team for driver, team in zip(drivers, teams)\n",
    "}\n",
    "print(new_dict)"
   ]
  },
  {
   "cell_type": "markdown",
   "metadata": {},
   "source": [
    "### Exercises"
   ]
  },
  {
   "cell_type": "code",
   "execution_count": 34,
   "metadata": {},
   "outputs": [
    {
     "name": "stdout",
     "output_type": "stream",
     "text": [
      "{'Leclerc': 'Ferrari', 'Sainz': 'Ferrari', 'Verstappen': 'Redbull', 'Perez': 'Redbull', 'Hamilton': 'Mercedes', 'Russel': 'Mercedes', 'Norris': 'McLaren', 'Ricciardo': 'McLaren', 'Alonso': 'Alpine', 'Ocon': 'Alpine', 'Zhou': 'Alfa Romeo', 'Bottas': 'Alfa Romeo', 'Schumacher': 'Haas', 'Magnussen': 'Haas', 'Tsunoda': 'AlphaTauri', 'Gasly': 'AlphaTauri', 'Vettel': 'Aston Martin', 'Stroll': 'Aston Martin', 'Albon': 'Williams', 'Latifi': 'Williams'}\n"
     ]
    }
   ],
   "source": [
    "# combine the two dictionaries f1_teams and f1_more_teams\n",
    "f1_teams.update(f1_more_teams)\n",
    "print(f1_teams)"
   ]
  },
  {
   "cell_type": "code",
   "execution_count": 35,
   "metadata": {},
   "outputs": [
    {
     "name": "stdout",
     "output_type": "stream",
     "text": [
      "Norris\n",
      "Ricciardo\n"
     ]
    }
   ],
   "source": [
    "# iterate through f1_teams and print only the McLaren drivers (just the drivers)\n",
    "for drivers, teams in f1_teams.items(): \n",
    "    if teams == \"McLaren\" :\n",
    "        print(drivers)"
   ]
  },
  {
   "cell_type": "code",
   "execution_count": 44,
   "metadata": {},
   "outputs": [
    {
     "name": "stdout",
     "output_type": "stream",
     "text": [
      "{16: ('Leclerc', 'Ferrari'), 55: ('Sainz', 'Ferrari'), 1: ('Verstappen', 'Redbull'), 11: ('Perez', 'Redbull'), 44: ('Hamilton', 'Mercedes'), 63: ('Russel', 'Mercedes'), 4: ('Norris', 'McLaren'), 3: ('Ricciardo', 'McLaren'), 14: ('Alonso', 'Alpine'), 31: ('Ocon', 'Alpine'), 24: ('Zhou', 'Alfa Romeo'), 77: ('Bottas', 'Alfa Romeo'), 47: ('Schumacher', 'Haas'), 20: ('Magnussen', 'Haas'), 22: ('Tsunoda', 'AlphaTauri'), 10: ('Gasly', 'AlphaTauri'), 5: ('Vettel', 'Aston Martin'), 18: ('Stroll', 'Aston Martin'), 23: ('Albon', 'Williams'), 6: ('Latifi', 'Williams')} \n",
      "\n"
     ]
    }
   ],
   "source": [
    "# given the list of driver numbers, assign each driver their corresponding number\n",
    "from ast import keyword\n",
    "\n",
    "\n",
    "f1_driver_numbers = [16, 55, 1, 11, 44, 63, 4, 3, 14, 31, 24, 77, 47, 20, 22, 10, 5, 18, 23, 6]\n",
    "\n",
    "# expected result:\n",
    "# {16: ('Leclerc', 'Ferrari'),\n",
    "#  55: ('Sainz', 'Ferrari'),\n",
    "#  1: ('Verstappen', 'Redbull'),\n",
    "#  11: ('Perez', 'Redbull'),\n",
    "#  44: ('Hamilton', 'Mercedes'),\n",
    "#  63: ('Russel', 'Mercedes'),\n",
    "#  4: ('Norris', 'McLaren'),\n",
    "#  3: ('Ricciardo', 'McLaren'),\n",
    "#  14: ('Alonso', 'Alpine'),\n",
    "#  31: ('Ocon', 'Alpine'),\n",
    "#  24: ('Zhou', 'Alfa Romeo'),\n",
    "#  77: ('Bottas', 'Alfa Romeo'),\n",
    "#  47: ('Schumacher', 'Haas'),\n",
    "#  20: ('Magnussen', 'Haas'),\n",
    "#  22: ('Tsunoda', 'AlphaTauri'),\n",
    "#  10: ('Gasly', 'AlphaTauri'),\n",
    "#  5: ('Vettel', 'Aston Martin'),\n",
    "#  18: ('Stroll', 'Aston Martin'),\n",
    "#  23: ('Albon', 'Williams'),\n",
    "#  6: ('Latifi', 'Williams')}\n",
    "\n",
    "res = []\n",
    "# for key, drivers, teams in zip(f1_driver_numbers, f1_teams.items()):\n",
    "#     drivers[teams] = key\n",
    "#     res.append(drivers)\n",
    "\n",
    "res = dict(zip(f1_driver_numbers, f1_teams.items()))\n",
    "print(res,\"\\n\")\n",
    "\n",
    "\n"
   ]
  },
  {
   "cell_type": "markdown",
   "metadata": {},
   "source": [
    "### Deep copy vs shallow copy\n",
    "\n",
    "* shallow copy - the *content* of the dictionary is not copied by value, but just creating a new reference\n",
    "* deep copy - copy all contents by *value*"
   ]
  },
  {
   "cell_type": "code",
   "execution_count": 45,
   "metadata": {},
   "outputs": [
    {
     "name": "stdout",
     "output_type": "stream",
     "text": [
      "a: {0: [1, 2, 3, [4]]} \n",
      "b: {0: [1, 2, 3, [4]]}\n"
     ]
    }
   ],
   "source": [
    "# shallow copy\n",
    "a = {0: [1, 2, 3]}\n",
    "b = a.copy()\n",
    "a[0].append([4])\n",
    "\n",
    "print(\"a:\", a, \"\\nb:\", b)"
   ]
  },
  {
   "cell_type": "code",
   "execution_count": 46,
   "metadata": {},
   "outputs": [
    {
     "name": "stdout",
     "output_type": "stream",
     "text": [
      "a: {0: [1, 2, 3, [4]]} \n",
      "c: {0: [1, 2, 3, [4]]} \n",
      "d: {0: [1, 2, 3, [4]]}\n"
     ]
    }
   ],
   "source": [
    "# deep copy\n",
    "import copy\n",
    "c = copy.deepcopy(a)\n",
    "\n",
    "# ???\n",
    "d = dict(a)\n",
    "\n",
    "print(\"a:\", a, \"\\nc:\", c, \"\\nd:\", d)"
   ]
  },
  {
   "cell_type": "code",
   "execution_count": 47,
   "metadata": {},
   "outputs": [
    {
     "name": "stdout",
     "output_type": "stream",
     "text": [
      "a: {0: [1, 2, 3, [4], 5]} \n",
      "c: {0: [1, 2, 3, [4]]} \n",
      "d: {0: [1, 2, 3, [4], 5]}\n"
     ]
    }
   ],
   "source": [
    "a[0].append(5)\n",
    "print(\"a:\", a, \"\\nc:\", c, \"\\nd:\", d)"
   ]
  },
  {
   "cell_type": "markdown",
   "metadata": {},
   "source": [
    "### Unpacking a dictionary\n",
    "* using the unpacking operator **"
   ]
  },
  {
   "cell_type": "code",
   "execution_count": 48,
   "metadata": {},
   "outputs": [
    {
     "name": "stdout",
     "output_type": "stream",
     "text": [
      "{'pepper': 0.2, 'onion': 0.55, 'apple': 0.4, 'orange': 0.35}\n",
      "pepper -> 0.2\n",
      "onion -> 0.55\n",
      "apple -> 0.4\n",
      "orange -> 0.35\n"
     ]
    }
   ],
   "source": [
    "fruit_prices = {'apple': 0.40, 'orange': 0.35}\n",
    "vegetable_prices = {'pepper': 0.20, 'onion': 0.55}\n",
    "aprozar = {**vegetable_prices, **fruit_prices}\n",
    "print(aprozar)\n",
    "\n",
    "# iterate through multiple dictionaries\n",
    "for k, v in {**vegetable_prices, **fruit_prices}.items():\n",
    "    print(k, '->', v)"
   ]
  },
  {
   "cell_type": "markdown",
   "metadata": {},
   "source": [
    "### Chained iteration"
   ]
  },
  {
   "cell_type": "code",
   "execution_count": 49,
   "metadata": {},
   "outputs": [
    {
     "name": "stdout",
     "output_type": "stream",
     "text": [
      "('apple', 0.4)\n",
      "('orange', 0.35)\n",
      "('banana', 0.25)\n",
      "('pepper', 0.2)\n",
      "('onion', 0.55)\n",
      "('tomato', 0.42)\n"
     ]
    }
   ],
   "source": [
    "from itertools import chain\n",
    "\n",
    "fruit_prices = {'apple': 0.40, 'orange': 0.35, 'banana': 0.25}\n",
    "vegetable_prices = {'pepper': 0.20, 'onion': 0.55, 'tomato': 0.42}\n",
    "for item in chain(fruit_prices.items(), vegetable_prices.items()):\n",
    "    print(item)\n"
   ]
  }
 ],
 "metadata": {
  "kernelspec": {
   "display_name": "Python 3.9.12 ('base')",
   "language": "python",
   "name": "python3"
  },
  "language_info": {
   "codemirror_mode": {
    "name": "ipython",
    "version": 3
   },
   "file_extension": ".py",
   "mimetype": "text/x-python",
   "name": "python",
   "nbconvert_exporter": "python",
   "pygments_lexer": "ipython3",
   "version": "3.9.12"
  },
  "orig_nbformat": 4,
  "vscode": {
   "interpreter": {
    "hash": "d31b83e9610685068a0fe73b54051d44dc1110027bef1c52e64b671e72faac45"
   }
  }
 },
 "nbformat": 4,
 "nbformat_minor": 2
}
